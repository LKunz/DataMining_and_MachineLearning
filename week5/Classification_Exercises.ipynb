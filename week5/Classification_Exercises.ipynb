{
  "nbformat": 4,
  "nbformat_minor": 0,
  "metadata": {
    "colab": {
      "name": "Classification_Exercises",
      "provenance": [],
      "collapsed_sections": [],
      "include_colab_link": true
    },
    "kernelspec": {
      "display_name": "Python 3",
      "language": "python",
      "name": "python3"
    },
    "language_info": {
      "codemirror_mode": {
        "name": "ipython",
        "version": 3
      },
      "file_extension": ".py",
      "mimetype": "text/x-python",
      "name": "python",
      "nbconvert_exporter": "python",
      "pygments_lexer": "ipython3",
      "version": "3.6.9"
    }
  },
  "cells": [
    {
      "cell_type": "markdown",
      "metadata": {
        "id": "view-in-github",
        "colab_type": "text"
      },
      "source": [
        "<a href=\"https://colab.research.google.com/github/michalis0/DataMining_and_MachineLearning/blob/master/week5/Classification_Exercises.ipynb\" target=\"_parent\"><img src=\"https://colab.research.google.com/assets/colab-badge.svg\" alt=\"Open In Colab\"/></a>"
      ]
    },
    {
      "cell_type": "markdown",
      "metadata": {
        "id": "R1BSf8GX2sQd"
      },
      "source": [
        "# Data Mining and Machine Learning - Week 5\n",
        "# Classification - Exercises\n",
        "\n",
        "Classification is part of **supervised learning**. The objective is to correctly assign objects to different, predifined categories or labels. An easy to understand example is classifying emails as “spam” or “not spam.”"
      ]
    },
    {
      "cell_type": "code",
      "metadata": {
        "id": "2D9mQhcj2sQe"
      },
      "source": [
        "# Import required packages\n",
        "import  numpy as np\n",
        "import pandas as pd\n",
        "import matplotlib.pyplot as plt\n",
        "from sklearn.preprocessing import LabelEncoder, OneHotEncoder\n",
        "from sklearn.linear_model import LogisticRegression, LogisticRegressionCV\n",
        "from sklearn.model_selection import train_test_split\n",
        "from sklearn.metrics import confusion_matrix, accuracy_score, precision_score, recall_score, f1_score\n",
        "\n",
        "%matplotlib inline"
      ],
      "execution_count": 1,
      "outputs": []
    },
    {
      "cell_type": "markdown",
      "metadata": {
        "id": "KDiVdtK2hPaQ"
      },
      "source": [
        "### Load Data"
      ]
    },
    {
      "cell_type": "code",
      "metadata": {
        "id": "Q1CKWYwc2sQh",
        "outputId": "10425559-eb7e-449d-b49c-f0210b7bd39a",
        "colab": {
          "base_uri": "https://localhost:8080/",
          "height": 204
        }
      },
      "source": [
        "data = pd.read_csv(\"https://raw.githubusercontent.com/michalis0/DataMining_and_MachineLearning/master/week5/data/Sample-Data-Titanic-Survival.csv\")\n",
        "data.head()"
      ],
      "execution_count": 2,
      "outputs": [
        {
          "output_type": "execute_result",
          "data": {
            "text/html": [
              "<div>\n",
              "<style scoped>\n",
              "    .dataframe tbody tr th:only-of-type {\n",
              "        vertical-align: middle;\n",
              "    }\n",
              "\n",
              "    .dataframe tbody tr th {\n",
              "        vertical-align: top;\n",
              "    }\n",
              "\n",
              "    .dataframe thead th {\n",
              "        text-align: right;\n",
              "    }\n",
              "</style>\n",
              "<table border=\"1\" class=\"dataframe\">\n",
              "  <thead>\n",
              "    <tr style=\"text-align: right;\">\n",
              "      <th></th>\n",
              "      <th>Class</th>\n",
              "      <th>Age</th>\n",
              "      <th>Sex</th>\n",
              "      <th>SurvivalStatus</th>\n",
              "    </tr>\n",
              "  </thead>\n",
              "  <tbody>\n",
              "    <tr>\n",
              "      <th>0</th>\n",
              "      <td>1st</td>\n",
              "      <td>Quantity[29., \"Years\"]</td>\n",
              "      <td>female</td>\n",
              "      <td>survived</td>\n",
              "    </tr>\n",
              "    <tr>\n",
              "      <th>1</th>\n",
              "      <td>1st</td>\n",
              "      <td>Quantity[0.9167, \"Years\"]</td>\n",
              "      <td>male</td>\n",
              "      <td>survived</td>\n",
              "    </tr>\n",
              "    <tr>\n",
              "      <th>2</th>\n",
              "      <td>1st</td>\n",
              "      <td>Quantity[2., \"Years\"]</td>\n",
              "      <td>female</td>\n",
              "      <td>died</td>\n",
              "    </tr>\n",
              "    <tr>\n",
              "      <th>3</th>\n",
              "      <td>1st</td>\n",
              "      <td>Quantity[30., \"Years\"]</td>\n",
              "      <td>male</td>\n",
              "      <td>died</td>\n",
              "    </tr>\n",
              "    <tr>\n",
              "      <th>4</th>\n",
              "      <td>1st</td>\n",
              "      <td>Quantity[25., \"Years\"]</td>\n",
              "      <td>female</td>\n",
              "      <td>died</td>\n",
              "    </tr>\n",
              "  </tbody>\n",
              "</table>\n",
              "</div>"
            ],
            "text/plain": [
              "  Class                        Age     Sex SurvivalStatus\n",
              "0   1st     Quantity[29., \"Years\"]  female       survived\n",
              "1   1st  Quantity[0.9167, \"Years\"]    male       survived\n",
              "2   1st      Quantity[2., \"Years\"]  female           died\n",
              "3   1st     Quantity[30., \"Years\"]    male           died\n",
              "4   1st     Quantity[25., \"Years\"]  female           died"
            ]
          },
          "metadata": {
            "tags": []
          },
          "execution_count": 2
        }
      ]
    },
    {
      "cell_type": "code",
      "metadata": {
        "id": "YHybnOddh1bf",
        "outputId": "65306f4a-b241-456c-a6ed-7396f6950e78",
        "colab": {
          "base_uri": "https://localhost:8080/",
          "height": 204
        }
      },
      "source": [
        "# Clean data\n",
        "data[\"Age\"] = data[\"Age\"].map(lambda x: float(x.strip('Quantity[').split(\",\")[0].replace('Missing[\"Not Available\"]', \"-1.\")))\n",
        "data = data.replace(-1.0, np.nan)\n",
        "data.head()"
      ],
      "execution_count": 3,
      "outputs": [
        {
          "output_type": "execute_result",
          "data": {
            "text/html": [
              "<div>\n",
              "<style scoped>\n",
              "    .dataframe tbody tr th:only-of-type {\n",
              "        vertical-align: middle;\n",
              "    }\n",
              "\n",
              "    .dataframe tbody tr th {\n",
              "        vertical-align: top;\n",
              "    }\n",
              "\n",
              "    .dataframe thead th {\n",
              "        text-align: right;\n",
              "    }\n",
              "</style>\n",
              "<table border=\"1\" class=\"dataframe\">\n",
              "  <thead>\n",
              "    <tr style=\"text-align: right;\">\n",
              "      <th></th>\n",
              "      <th>Class</th>\n",
              "      <th>Age</th>\n",
              "      <th>Sex</th>\n",
              "      <th>SurvivalStatus</th>\n",
              "    </tr>\n",
              "  </thead>\n",
              "  <tbody>\n",
              "    <tr>\n",
              "      <th>0</th>\n",
              "      <td>1st</td>\n",
              "      <td>29.0000</td>\n",
              "      <td>female</td>\n",
              "      <td>survived</td>\n",
              "    </tr>\n",
              "    <tr>\n",
              "      <th>1</th>\n",
              "      <td>1st</td>\n",
              "      <td>0.9167</td>\n",
              "      <td>male</td>\n",
              "      <td>survived</td>\n",
              "    </tr>\n",
              "    <tr>\n",
              "      <th>2</th>\n",
              "      <td>1st</td>\n",
              "      <td>2.0000</td>\n",
              "      <td>female</td>\n",
              "      <td>died</td>\n",
              "    </tr>\n",
              "    <tr>\n",
              "      <th>3</th>\n",
              "      <td>1st</td>\n",
              "      <td>30.0000</td>\n",
              "      <td>male</td>\n",
              "      <td>died</td>\n",
              "    </tr>\n",
              "    <tr>\n",
              "      <th>4</th>\n",
              "      <td>1st</td>\n",
              "      <td>25.0000</td>\n",
              "      <td>female</td>\n",
              "      <td>died</td>\n",
              "    </tr>\n",
              "  </tbody>\n",
              "</table>\n",
              "</div>"
            ],
            "text/plain": [
              "  Class      Age     Sex SurvivalStatus\n",
              "0   1st  29.0000  female       survived\n",
              "1   1st   0.9167    male       survived\n",
              "2   1st   2.0000  female           died\n",
              "3   1st  30.0000    male           died\n",
              "4   1st  25.0000  female           died"
            ]
          },
          "metadata": {
            "tags": []
          },
          "execution_count": 3
        }
      ]
    },
    {
      "cell_type": "code",
      "metadata": {
        "id": "VCrCRiEnjwow",
        "outputId": "ae2e2fbc-a58e-4931-e7fa-4f5d6e4c5c33",
        "colab": {
          "base_uri": "https://localhost:8080/",
          "height": 204
        }
      },
      "source": [
        "data.info()"
      ],
      "execution_count": 4,
      "outputs": [
        {
          "output_type": "stream",
          "text": [
            "<class 'pandas.core.frame.DataFrame'>\n",
            "RangeIndex: 1309 entries, 0 to 1308\n",
            "Data columns (total 4 columns):\n",
            " #   Column          Non-Null Count  Dtype  \n",
            "---  ------          --------------  -----  \n",
            " 0   Class           1309 non-null   object \n",
            " 1   Age             1046 non-null   float64\n",
            " 2   Sex             1309 non-null   object \n",
            " 3   SurvivalStatus  1309 non-null   object \n",
            "dtypes: float64(1), object(3)\n",
            "memory usage: 41.0+ KB\n"
          ],
          "name": "stdout"
        }
      ]
    },
    {
      "cell_type": "code",
      "metadata": {
        "id": "ttqhlTL7mK0K",
        "outputId": "365e6ac4-1d77-431e-dbe1-69356f870205",
        "colab": {
          "base_uri": "https://localhost:8080/",
          "height": 204
        }
      },
      "source": [
        "data = data.dropna().reset_index(drop=True)\n",
        "data.info()"
      ],
      "execution_count": 5,
      "outputs": [
        {
          "output_type": "stream",
          "text": [
            "<class 'pandas.core.frame.DataFrame'>\n",
            "RangeIndex: 1046 entries, 0 to 1045\n",
            "Data columns (total 4 columns):\n",
            " #   Column          Non-Null Count  Dtype  \n",
            "---  ------          --------------  -----  \n",
            " 0   Class           1046 non-null   object \n",
            " 1   Age             1046 non-null   float64\n",
            " 2   Sex             1046 non-null   object \n",
            " 3   SurvivalStatus  1046 non-null   object \n",
            "dtypes: float64(1), object(3)\n",
            "memory usage: 32.8+ KB\n"
          ],
          "name": "stdout"
        }
      ]
    },
    {
      "cell_type": "markdown",
      "metadata": {
        "id": "TAF7FTSD6D-3"
      },
      "source": [
        "## In what follows, try to answer the questions. The results are provided. You need to complete the code (# [YOUR CODE HERE] or ...) to arrive at the same results."
      ]
    },
    {
      "cell_type": "markdown",
      "metadata": {
        "id": "IfFBcCV_nRFG"
      },
      "source": [
        "### 1. Create a new DataFrame where you encode the different categorical features as follows:\n",
        "* Use one-hot encoding for `Class`\n",
        "* Use label encoding for `Sex` and `SurvivalStatus`"
      ]
    },
    {
      "cell_type": "code",
      "metadata": {
        "id": "yFUEig7y2sQp",
        "outputId": "e5f7de0f-e8d2-4c70-b866-27df7eae3041",
        "colab": {
          "base_uri": "https://localhost:8080/",
          "height": 419
        }
      },
      "source": [
        "# One-hot encoding\n",
        "# [YOUR CODE HERE]"
      ],
      "execution_count": 6,
      "outputs": [
        {
          "output_type": "execute_result",
          "data": {
            "text/html": [
              "<div>\n",
              "<style scoped>\n",
              "    .dataframe tbody tr th:only-of-type {\n",
              "        vertical-align: middle;\n",
              "    }\n",
              "\n",
              "    .dataframe tbody tr th {\n",
              "        vertical-align: top;\n",
              "    }\n",
              "\n",
              "    .dataframe thead tr th {\n",
              "        text-align: left;\n",
              "    }\n",
              "</style>\n",
              "<table border=\"1\" class=\"dataframe\">\n",
              "  <thead>\n",
              "    <tr>\n",
              "      <th></th>\n",
              "      <th>1st</th>\n",
              "      <th>2nd</th>\n",
              "      <th>3rd</th>\n",
              "    </tr>\n",
              "  </thead>\n",
              "  <tbody>\n",
              "    <tr>\n",
              "      <th>0</th>\n",
              "      <td>1.0</td>\n",
              "      <td>0.0</td>\n",
              "      <td>0.0</td>\n",
              "    </tr>\n",
              "    <tr>\n",
              "      <th>1</th>\n",
              "      <td>1.0</td>\n",
              "      <td>0.0</td>\n",
              "      <td>0.0</td>\n",
              "    </tr>\n",
              "    <tr>\n",
              "      <th>2</th>\n",
              "      <td>1.0</td>\n",
              "      <td>0.0</td>\n",
              "      <td>0.0</td>\n",
              "    </tr>\n",
              "    <tr>\n",
              "      <th>3</th>\n",
              "      <td>1.0</td>\n",
              "      <td>0.0</td>\n",
              "      <td>0.0</td>\n",
              "    </tr>\n",
              "    <tr>\n",
              "      <th>4</th>\n",
              "      <td>1.0</td>\n",
              "      <td>0.0</td>\n",
              "      <td>0.0</td>\n",
              "    </tr>\n",
              "    <tr>\n",
              "      <th>...</th>\n",
              "      <td>...</td>\n",
              "      <td>...</td>\n",
              "      <td>...</td>\n",
              "    </tr>\n",
              "    <tr>\n",
              "      <th>1041</th>\n",
              "      <td>0.0</td>\n",
              "      <td>0.0</td>\n",
              "      <td>1.0</td>\n",
              "    </tr>\n",
              "    <tr>\n",
              "      <th>1042</th>\n",
              "      <td>0.0</td>\n",
              "      <td>0.0</td>\n",
              "      <td>1.0</td>\n",
              "    </tr>\n",
              "    <tr>\n",
              "      <th>1043</th>\n",
              "      <td>0.0</td>\n",
              "      <td>0.0</td>\n",
              "      <td>1.0</td>\n",
              "    </tr>\n",
              "    <tr>\n",
              "      <th>1044</th>\n",
              "      <td>0.0</td>\n",
              "      <td>0.0</td>\n",
              "      <td>1.0</td>\n",
              "    </tr>\n",
              "    <tr>\n",
              "      <th>1045</th>\n",
              "      <td>0.0</td>\n",
              "      <td>0.0</td>\n",
              "      <td>1.0</td>\n",
              "    </tr>\n",
              "  </tbody>\n",
              "</table>\n",
              "<p>1046 rows × 3 columns</p>\n",
              "</div>"
            ],
            "text/plain": [
              "      1st  2nd  3rd\n",
              "0     1.0  0.0  0.0\n",
              "1     1.0  0.0  0.0\n",
              "2     1.0  0.0  0.0\n",
              "3     1.0  0.0  0.0\n",
              "4     1.0  0.0  0.0\n",
              "...   ...  ...  ...\n",
              "1041  0.0  0.0  1.0\n",
              "1042  0.0  0.0  1.0\n",
              "1043  0.0  0.0  1.0\n",
              "1044  0.0  0.0  1.0\n",
              "1045  0.0  0.0  1.0\n",
              "\n",
              "[1046 rows x 3 columns]"
            ]
          },
          "metadata": {
            "tags": []
          },
          "execution_count": 6
        }
      ]
    },
    {
      "cell_type": "code",
      "metadata": {
        "id": "vjudKdu4phvX",
        "outputId": "918ef0e6-8624-4f0c-bed6-2430a2411e9b",
        "colab": {
          "base_uri": "https://localhost:8080/",
          "height": 221
        }
      },
      "source": [
        "# Label encoding of `Sex`\n",
        "# [YOUR CODE HERE]"
      ],
      "execution_count": null,
      "outputs": [
        {
          "output_type": "execute_result",
          "data": {
            "text/plain": [
              "0       0\n",
              "1       1\n",
              "2       0\n",
              "3       1\n",
              "4       0\n",
              "       ..\n",
              "1041    1\n",
              "1042    0\n",
              "1043    1\n",
              "1044    1\n",
              "1045    1\n",
              "Name: SexCode, Length: 1046, dtype: int64"
            ]
          },
          "metadata": {
            "tags": []
          },
          "execution_count": 7
        }
      ]
    },
    {
      "cell_type": "code",
      "metadata": {
        "id": "hEnxrSosqFct",
        "outputId": "526dd817-163f-43fb-f09c-39118cd3fe27",
        "colab": {
          "base_uri": "https://localhost:8080/",
          "height": 221
        }
      },
      "source": [
        "# Label encoding of `SurvivalStatus`\n",
        "# [YOUR CODE HERE]"
      ],
      "execution_count": null,
      "outputs": [
        {
          "output_type": "execute_result",
          "data": {
            "text/plain": [
              "0       1\n",
              "1       1\n",
              "2       0\n",
              "3       0\n",
              "4       0\n",
              "       ..\n",
              "1041    0\n",
              "1042    0\n",
              "1043    0\n",
              "1044    0\n",
              "1045    0\n",
              "Name: SurvivalStatusCode, Length: 1046, dtype: int64"
            ]
          },
          "metadata": {
            "tags": []
          },
          "execution_count": 8
        }
      ]
    },
    {
      "cell_type": "code",
      "metadata": {
        "id": "Yx44ko_sqFbD",
        "outputId": "d0669dce-1f97-4808-942f-85a97bb45dd2",
        "colab": {
          "base_uri": "https://localhost:8080/",
          "height": 204
        }
      },
      "source": [
        "# Concatenate all your DataFrames\n",
        "data = pd.concat([data, ..., ..., ...], axis=1)\n",
        "data.head()"
      ],
      "execution_count": null,
      "outputs": [
        {
          "output_type": "execute_result",
          "data": {
            "text/html": [
              "<div>\n",
              "<style scoped>\n",
              "    .dataframe tbody tr th:only-of-type {\n",
              "        vertical-align: middle;\n",
              "    }\n",
              "\n",
              "    .dataframe tbody tr th {\n",
              "        vertical-align: top;\n",
              "    }\n",
              "\n",
              "    .dataframe thead th {\n",
              "        text-align: right;\n",
              "    }\n",
              "</style>\n",
              "<table border=\"1\" class=\"dataframe\">\n",
              "  <thead>\n",
              "    <tr style=\"text-align: right;\">\n",
              "      <th></th>\n",
              "      <th>Class</th>\n",
              "      <th>Age</th>\n",
              "      <th>Sex</th>\n",
              "      <th>SurvivalStatus</th>\n",
              "      <th>(1st,)</th>\n",
              "      <th>(2nd,)</th>\n",
              "      <th>(3rd,)</th>\n",
              "      <th>SexCode</th>\n",
              "      <th>SurvivalStatusCode</th>\n",
              "    </tr>\n",
              "  </thead>\n",
              "  <tbody>\n",
              "    <tr>\n",
              "      <th>0</th>\n",
              "      <td>1st</td>\n",
              "      <td>29.0000</td>\n",
              "      <td>female</td>\n",
              "      <td>survived</td>\n",
              "      <td>1.0</td>\n",
              "      <td>0.0</td>\n",
              "      <td>0.0</td>\n",
              "      <td>0</td>\n",
              "      <td>1</td>\n",
              "    </tr>\n",
              "    <tr>\n",
              "      <th>1</th>\n",
              "      <td>1st</td>\n",
              "      <td>0.9167</td>\n",
              "      <td>male</td>\n",
              "      <td>survived</td>\n",
              "      <td>1.0</td>\n",
              "      <td>0.0</td>\n",
              "      <td>0.0</td>\n",
              "      <td>1</td>\n",
              "      <td>1</td>\n",
              "    </tr>\n",
              "    <tr>\n",
              "      <th>2</th>\n",
              "      <td>1st</td>\n",
              "      <td>2.0000</td>\n",
              "      <td>female</td>\n",
              "      <td>died</td>\n",
              "      <td>1.0</td>\n",
              "      <td>0.0</td>\n",
              "      <td>0.0</td>\n",
              "      <td>0</td>\n",
              "      <td>0</td>\n",
              "    </tr>\n",
              "    <tr>\n",
              "      <th>3</th>\n",
              "      <td>1st</td>\n",
              "      <td>30.0000</td>\n",
              "      <td>male</td>\n",
              "      <td>died</td>\n",
              "      <td>1.0</td>\n",
              "      <td>0.0</td>\n",
              "      <td>0.0</td>\n",
              "      <td>1</td>\n",
              "      <td>0</td>\n",
              "    </tr>\n",
              "    <tr>\n",
              "      <th>4</th>\n",
              "      <td>1st</td>\n",
              "      <td>25.0000</td>\n",
              "      <td>female</td>\n",
              "      <td>died</td>\n",
              "      <td>1.0</td>\n",
              "      <td>0.0</td>\n",
              "      <td>0.0</td>\n",
              "      <td>0</td>\n",
              "      <td>0</td>\n",
              "    </tr>\n",
              "  </tbody>\n",
              "</table>\n",
              "</div>"
            ],
            "text/plain": [
              "  Class      Age     Sex  ... (3rd,)  SexCode  SurvivalStatusCode\n",
              "0   1st  29.0000  female  ...    0.0        0                   1\n",
              "1   1st   0.9167    male  ...    0.0        1                   1\n",
              "2   1st   2.0000  female  ...    0.0        0                   0\n",
              "3   1st  30.0000    male  ...    0.0        1                   0\n",
              "4   1st  25.0000  female  ...    0.0        0                   0\n",
              "\n",
              "[5 rows x 9 columns]"
            ]
          },
          "metadata": {
            "tags": []
          },
          "execution_count": 9
        }
      ]
    },
    {
      "cell_type": "code",
      "metadata": {
        "id": "2y8vZKGP_t_g",
        "outputId": "c0c6aa60-ed3e-46a9-8409-22d03aaba634",
        "colab": {
          "base_uri": "https://localhost:8080/",
          "height": 289
        }
      },
      "source": [
        "data.info()"
      ],
      "execution_count": null,
      "outputs": [
        {
          "output_type": "stream",
          "text": [
            "<class 'pandas.core.frame.DataFrame'>\n",
            "RangeIndex: 1046 entries, 0 to 1045\n",
            "Data columns (total 9 columns):\n",
            " #   Column              Non-Null Count  Dtype  \n",
            "---  ------              --------------  -----  \n",
            " 0   Class               1046 non-null   object \n",
            " 1   Age                 1046 non-null   float64\n",
            " 2   Sex                 1046 non-null   object \n",
            " 3   SurvivalStatus      1046 non-null   object \n",
            " 4   (1st,)              1046 non-null   float64\n",
            " 5   (2nd,)              1046 non-null   float64\n",
            " 6   (3rd,)              1046 non-null   float64\n",
            " 7   SexCode             1046 non-null   int64  \n",
            " 8   SurvivalStatusCode  1046 non-null   int64  \n",
            "dtypes: float64(4), int64(2), object(3)\n",
            "memory usage: 73.7+ KB\n"
          ],
          "name": "stdout"
        }
      ]
    },
    {
      "cell_type": "markdown",
      "metadata": {
        "id": "7BLOy4W32sQt"
      },
      "source": [
        "### 2. Logistic Regression: part 1"
      ]
    },
    {
      "cell_type": "markdown",
      "metadata": {
        "id": "-ny1FUqu81CM"
      },
      "source": [
        "### 2.1 What is the base rate in this case?"
      ]
    },
    {
      "cell_type": "code",
      "metadata": {
        "id": "ucoZo_LG8zkc",
        "outputId": "b514d6d2-7922-4bf3-bc74-d2f58024860c",
        "colab": {
          "base_uri": "https://localhost:8080/",
          "height": 34
        }
      },
      "source": [
        "# Base rate\n",
        "# [YOUR CODE HERE]"
      ],
      "execution_count": 11,
      "outputs": [
        {
          "output_type": "execute_result",
          "data": {
            "text/plain": [
              "0.5917782026768642"
            ]
          },
          "metadata": {
            "tags": []
          },
          "execution_count": 11
        }
      ]
    },
    {
      "cell_type": "markdown",
      "metadata": {
        "id": "8Rv6x4SG_Ooa"
      },
      "source": [
        "#### 2.2 Use logistic regression to predict the `SurvivalStatus` based on `Age` and `Sex`. Display the confusion matrix and the other accuracy measures seen in class."
      ]
    },
    {
      "cell_type": "code",
      "metadata": {
        "id": "ki6QRs6t2sQu"
      },
      "source": [
        "X = # [YOUR CODE HERE]\n",
        "y = # [YOUR CODE HERE]"
      ],
      "execution_count": null,
      "outputs": []
    },
    {
      "cell_type": "code",
      "metadata": {
        "id": "iNvVsTIp2sQx"
      },
      "source": [
        "# Train test split\n",
        "X_train, X_test, y_train, y_test = train_test_split(X, y, test_size=0.2, random_state=42)"
      ],
      "execution_count": null,
      "outputs": []
    },
    {
      "cell_type": "code",
      "metadata": {
        "id": "nExvGYiR2sQ7"
      },
      "source": [
        "# logistic regression with 5 fold cross validation\n",
        "LR_cv = LogisticRegressionCV(solver='lbfgs', cv=5, max_iter=100)"
      ],
      "execution_count": null,
      "outputs": []
    },
    {
      "cell_type": "code",
      "metadata": {
        "id": "F9WckoiSD8kv"
      },
      "source": [
        "# Fit the model on the training set\n",
        "LR_cv.fit(..., ...)"
      ],
      "execution_count": null,
      "outputs": []
    },
    {
      "cell_type": "code",
      "metadata": {
        "id": "-YK9xRp6CIyP",
        "outputId": "c8da135c-2ad7-447b-8596-f71c1d22f916",
        "colab": {
          "base_uri": "https://localhost:8080/",
          "height": 34
        }
      },
      "source": [
        "# Train accuracy\n",
        "LR_cv.score(..., ...)"
      ],
      "execution_count": null,
      "outputs": [
        {
          "output_type": "execute_result",
          "data": {
            "text/plain": [
              "0.7930622009569378"
            ]
          },
          "metadata": {
            "tags": []
          },
          "execution_count": 15
        }
      ]
    },
    {
      "cell_type": "code",
      "metadata": {
        "id": "4V2KZ7XTCNNK",
        "outputId": "ee9a5448-6cf1-44e0-a07b-a7f79913cbbd",
        "colab": {
          "base_uri": "https://localhost:8080/",
          "height": 34
        }
      },
      "source": [
        "# Test accuracy \n",
        "LR_cv.score(..., ...)"
      ],
      "execution_count": null,
      "outputs": [
        {
          "output_type": "execute_result",
          "data": {
            "text/plain": [
              "0.7238095238095238"
            ]
          },
          "metadata": {
            "tags": []
          },
          "execution_count": 16
        }
      ]
    },
    {
      "cell_type": "code",
      "metadata": {
        "id": "2DsK5wpLrfSt",
        "outputId": "b67e99d1-0dc7-49fb-a18a-7f5a2e04635f",
        "colab": {
          "base_uri": "https://localhost:8080/",
          "height": 170
        }
      },
      "source": [
        "# Accuracy measures\n",
        "y_pred = LR_cv.predict(...)\n",
        "\n",
        "def evaluate(true, pred):\n",
        "    precision = precision_score(y_test, y_pred)\n",
        "    recall = recall_score(y_test, y_pred)\n",
        "    f1 = f1_score(y_test, y_pred)\n",
        "    print(f\"CONFUSION MATRIX:\\n{confusion_matrix(true, pred)}\")\n",
        "    print(f\"ACCURACY SCORE:\\n{accuracy_score(true, pred):.4f}\")\n",
        "    print(f\"CLASSIFICATION REPORT:\\n\\tPrecision: {precision:.4f}\\n\\tRecall: {recall:.4f}\\n\\tF1_Score: {f1:.4f}\")\n",
        "\n",
        "evaluate(..., ...)"
      ],
      "execution_count": null,
      "outputs": [
        {
          "output_type": "stream",
          "text": [
            "CONFUSION MATRIX:\n",
            "[[95 25]\n",
            " [33 57]]\n",
            "ACCURACY SCORE:\n",
            "0.7238\n",
            "CLASSIFICATION REPORT:\n",
            "\tPrecision: 0.6951\n",
            "\tRecall: 0.6333\n",
            "\tF1_Score: 0.6628\n"
          ],
          "name": "stdout"
        }
      ]
    },
    {
      "cell_type": "markdown",
      "metadata": {
        "id": "iwF1RHqA75K6"
      },
      "source": [
        "#### 2.3 What is the prediction for a man aged 50? What is the probability of each class?"
      ]
    },
    {
      "cell_type": "code",
      "metadata": {
        "id": "MZHfOo8cDYqe",
        "outputId": "d1255822-a5d1-4265-a189-c5c2de09b473",
        "colab": {
          "base_uri": "https://localhost:8080/",
          "height": 34
        }
      },
      "source": [
        "# Prediction\n",
        "# [YOUR CODE HERE]"
      ],
      "execution_count": null,
      "outputs": [
        {
          "output_type": "execute_result",
          "data": {
            "text/plain": [
              "array([0])"
            ]
          },
          "metadata": {
            "tags": []
          },
          "execution_count": 18
        }
      ]
    },
    {
      "cell_type": "code",
      "metadata": {
        "id": "jxYtT2fU75K7",
        "outputId": "afc019c7-d975-4135-bb83-45c02b7f741a",
        "colab": {
          "base_uri": "https://localhost:8080/",
          "height": 34
        }
      },
      "source": [
        "# Probabilities\n",
        "# [YOUR CODE HERE]"
      ],
      "execution_count": null,
      "outputs": [
        {
          "output_type": "execute_result",
          "data": {
            "text/plain": [
              "array([[0.76366655, 0.23633345]])"
            ]
          },
          "metadata": {
            "tags": []
          },
          "execution_count": 19
        }
      ]
    },
    {
      "cell_type": "markdown",
      "metadata": {
        "id": "deHMNdmZEB0Z"
      },
      "source": [
        "#### 2.4 What is the prediction for a woman aged 30? What is the probability of each class?\n"
      ]
    },
    {
      "cell_type": "code",
      "metadata": {
        "id": "63v06sRlEBRo",
        "outputId": "ed51d1ba-d0b4-4695-c74c-34673bf1b45b",
        "colab": {
          "base_uri": "https://localhost:8080/",
          "height": 34
        }
      },
      "source": [
        "# Prediction\n",
        "# [YOUR CODE HERE]"
      ],
      "execution_count": null,
      "outputs": [
        {
          "output_type": "execute_result",
          "data": {
            "text/plain": [
              "array([1])"
            ]
          },
          "metadata": {
            "tags": []
          },
          "execution_count": 20
        }
      ]
    },
    {
      "cell_type": "code",
      "metadata": {
        "id": "gB2wJAXbETof",
        "outputId": "5d0b7686-c8ff-4274-dab6-c21b385b0fa9",
        "colab": {
          "base_uri": "https://localhost:8080/",
          "height": 34
        }
      },
      "source": [
        "# Probabilities\n",
        "# [YOUR CODE HERE]"
      ],
      "execution_count": null,
      "outputs": [
        {
          "output_type": "execute_result",
          "data": {
            "text/plain": [
              "array([[0.35053728, 0.64946272]])"
            ]
          },
          "metadata": {
            "tags": []
          },
          "execution_count": 21
        }
      ]
    },
    {
      "cell_type": "markdown",
      "metadata": {
        "id": "QRpOrur22sRV"
      },
      "source": [
        "### 3. Logistic Regression: part 2"
      ]
    },
    {
      "cell_type": "markdown",
      "metadata": {
        "id": "mTJRl1JjEkk2"
      },
      "source": [
        "#### 3.1 Use logistic regression to predict the `SurvivalStatus` based on all other variables (test size = 0.2). Display the confusion matrix and the other accuracy measures seen in class."
      ]
    },
    {
      "cell_type": "code",
      "metadata": {
        "id": "eYqC1wc2EjFr"
      },
      "source": [
        "X = # [YOUR CODE HERE]\n",
        "y = # [YOUR CODE HERE]"
      ],
      "execution_count": null,
      "outputs": []
    },
    {
      "cell_type": "code",
      "metadata": {
        "id": "yS9tUIYVEhLI",
        "outputId": "b9028fca-abd6-44ce-b9ed-1cb78d4b7481",
        "colab": {
          "base_uri": "https://localhost:8080/",
          "height": 170
        }
      },
      "source": [
        "# Train test split\n",
        "X_train, X_test, y_train, y_test = train_test_split(X, y, test_size=0.2, random_state=42)\n",
        "\n",
        "# Fit model\n",
        "LR_cv = LogisticRegressionCV(solver='lbfgs', cv=5, max_iter=100)\n",
        "LR_cv.fit(..., ...)\n",
        "\n",
        "# Accuracy measures\n",
        "y_pred = LR_cv.predict(...)\n",
        "\n",
        "def evaluate(true, pred):\n",
        "    precision = precision_score(y_test, y_pred)\n",
        "    recall = recall_score(y_test, y_pred)\n",
        "    f1 = f1_score(y_test, y_pred)\n",
        "    print(f\"CONFUSION MATRIX:\\n{confusion_matrix(true, pred)}\")\n",
        "    print(f\"ACCURACY SCORE:\\n{accuracy_score(true, pred):.4f}\")\n",
        "    print(f\"CLASSIFICATION REPORT:\\n\\tPrecision: {precision:.4f}\\n\\tRecall: {recall:.4f}\\n\\tF1_Score: {f1:.4f}\")\n",
        "\n",
        "evaluate(..., ...)"
      ],
      "execution_count": null,
      "outputs": [
        {
          "output_type": "stream",
          "text": [
            "CONFUSION MATRIX:\n",
            "[[100  20]\n",
            " [ 33  57]]\n",
            "ACCURACY SCORE:\n",
            "0.7476\n",
            "CLASSIFICATION REPORT:\n",
            "\tPrecision: 0.7403\n",
            "\tRecall: 0.6333\n",
            "\tF1_Score: 0.6826\n"
          ],
          "name": "stdout"
        }
      ]
    },
    {
      "cell_type": "markdown",
      "metadata": {
        "id": "cJKhubMyGd9W"
      },
      "source": [
        "#### 3.2 What is the prediction for a man aged 50 of the 2nd class? What is the prbability of each class?"
      ]
    },
    {
      "cell_type": "code",
      "metadata": {
        "id": "uDnaUYF92sRV",
        "outputId": "84aacab0-a8b3-4ffe-a3ea-a1c35391345c",
        "colab": {
          "base_uri": "https://localhost:8080/",
          "height": 34
        }
      },
      "source": [
        "# Prediction\n",
        "# [YOUR CODE HERE]"
      ],
      "execution_count": null,
      "outputs": [
        {
          "output_type": "execute_result",
          "data": {
            "text/plain": [
              "array([0])"
            ]
          },
          "metadata": {
            "tags": []
          },
          "execution_count": 24
        }
      ]
    },
    {
      "cell_type": "code",
      "metadata": {
        "id": "PVVfZsnsGo0r",
        "outputId": "4aa340e9-5f11-40cc-cce9-4bffbdb70a2e",
        "colab": {
          "base_uri": "https://localhost:8080/",
          "height": 34
        }
      },
      "source": [
        "# Probabilities\n",
        "# [YOUR CODE HERE]"
      ],
      "execution_count": null,
      "outputs": [
        {
          "output_type": "execute_result",
          "data": {
            "text/plain": [
              "array([[0.80274313, 0.19725687]])"
            ]
          },
          "metadata": {
            "tags": []
          },
          "execution_count": 25
        }
      ]
    },
    {
      "cell_type": "markdown",
      "metadata": {
        "id": "0q09jUP34hme"
      },
      "source": [
        "#### 3.3 What is the prediction for a woman aged 30 of the 1st class? What is the probability of each class?"
      ]
    },
    {
      "cell_type": "code",
      "metadata": {
        "id": "1g55iCbL2sRY",
        "outputId": "c2090ce8-ff02-4fb1-90db-35f2437f7be3",
        "colab": {
          "base_uri": "https://localhost:8080/",
          "height": 34
        }
      },
      "source": [
        "# Predictions\n",
        "# [YOUR CODE HERE]"
      ],
      "execution_count": null,
      "outputs": [
        {
          "output_type": "execute_result",
          "data": {
            "text/plain": [
              "array([1])"
            ]
          },
          "metadata": {
            "tags": []
          },
          "execution_count": 26
        }
      ]
    },
    {
      "cell_type": "code",
      "metadata": {
        "id": "69x8sz0NHEtV",
        "outputId": "c178bb01-b92a-4f9e-9047-0b263c6faec1",
        "colab": {
          "base_uri": "https://localhost:8080/",
          "height": 34
        }
      },
      "source": [
        "# Probabilities\n",
        "# [YOUR CODE HERE]"
      ],
      "execution_count": null,
      "outputs": [
        {
          "output_type": "execute_result",
          "data": {
            "text/plain": [
              "array([[0.19924215, 0.80075785]])"
            ]
          },
          "metadata": {
            "tags": []
          },
          "execution_count": 27
        }
      ]
    },
    {
      "cell_type": "code",
      "metadata": {
        "id": "DOSbJ2J0IYc9"
      },
      "source": [
        ""
      ],
      "execution_count": null,
      "outputs": []
    }
  ]
}