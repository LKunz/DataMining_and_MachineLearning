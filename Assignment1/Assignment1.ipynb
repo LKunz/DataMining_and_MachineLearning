{
  "nbformat": 4,
  "nbformat_minor": 0,
  "metadata": {
    "colab": {
      "name": "Assignment1_Sol.ipynb",
      "provenance": [],
      "collapsed_sections": [],
      "include_colab_link": true
    },
    "kernelspec": {
      "display_name": "Python 3",
      "language": "python",
      "name": "python3"
    },
    "language_info": {
      "codemirror_mode": {
        "name": "ipython",
        "version": 3
      },
      "file_extension": ".py",
      "mimetype": "text/x-python",
      "name": "python",
      "nbconvert_exporter": "python",
      "pygments_lexer": "ipython3",
      "version": "3.7.3"
    }
  },
  "cells": [
    {
      "cell_type": "markdown",
      "metadata": {
        "id": "view-in-github",
        "colab_type": "text"
      },
      "source": [
        "<a href=\"https://colab.research.google.com/github/michalis0/DataMining_and_MachineLearning/blob/master/Assignment1/Assignment1.ipynb\" target=\"_parent\"><img src=\"https://colab.research.google.com/assets/colab-badge.svg\" alt=\"Open In Colab\"/></a>"
      ]
    },
    {
      "cell_type": "markdown",
      "metadata": {
        "id": "In5bD2bJLB26"
      },
      "source": [
        "# Data Mining and Machine Learning - Assignment 1 \n",
        "## EDA, Visualization and Regression\n",
        "\n",
        "#### Due: Sunday Nov 01 11:59pm \n",
        "\n",
        "The purpose of this assignment is to review the different concepts seen in class so far (i.e. data cleaning, EDA, visualization and regression). To this end, we analyze COVID-19 data.\n",
        "\n",
        "Run the first few cells to load the dataset and then get started with the questions! Once you are done you have to do **both**:\n",
        "\n",
        "1. Submit your Python notebook [here](https://moodle.unil.ch/mod/assign/view.php?id=841447)\n",
        "2. Answer the questions to the quiz [here](https://moodle.unil.ch/mod/quiz/view.php?id=918142)\n",
        "\n",
        "The answers to the quiz should be supported by your code. If they are not you will not receive the points for them.\n",
        "\n",
        "**IMPORTANT!** You can discuss the questions with other students but **do not exchange code!** We will run your code and check for similarities.\n",
        "\n",
        "You can post your questions in slack (channel `#assignment1_questions`).\n",
        "\n",
        "If there is need for further clarifications on the questions, after the assignment is released, we will update this file, so make sure you check the git repo for updates.\n",
        "\n",
        "\n",
        "Good luck!"
      ]
    },
    {
      "cell_type": "code",
      "metadata": {
        "id": "Wqz8cOznLB28"
      },
      "source": [
        "# Import requiered packages\n",
        "import pandas as pd\n",
        "import numpy as np\n",
        "import matplotlib.pyplot as plt\n",
        "import seaborn as sns\n",
        "import folium\n",
        "\n",
        "%matplotlib inline\n",
        "sns.set_style(\"whitegrid\")"
      ],
      "execution_count": 1,
      "outputs": []
    },
    {
      "cell_type": "code",
      "metadata": {
        "id": "vTh6ytbeLB3A"
      },
      "source": [
        "# Load data\n",
        "df = pd.read_csv(\"https://raw.githubusercontent.com/michalis0/DataMining_and_MachineLearning/master/Assignment1/data/COVID.csv\")"
      ],
      "execution_count": 2,
      "outputs": []
    },
    {
      "cell_type": "markdown",
      "metadata": {
        "id": "28nUv-WuLB3D"
      },
      "source": [
        "## 1. Understand and Clean the Dataset"
      ]
    },
    {
      "cell_type": "markdown",
      "metadata": {
        "id": "Bp9zZEbwLB3E"
      },
      "source": [
        "### 1.1 Show the first 5 or 10 rows to get an idea of the data. What does each column show?"
      ]
    },
    {
      "cell_type": "code",
      "metadata": {
        "id": "H7dmea_YLB3E",
        "outputId": "c7cc78fb-85b3-421c-c200-3dd9345a3c44",
        "colab": {
          "base_uri": "https://localhost:8080/",
          "height": 195
        }
      },
      "source": [
        "# YOUR CODE HERE\n",
        "df.head()"
      ],
      "execution_count": 3,
      "outputs": [
        {
          "output_type": "execute_result",
          "data": {
            "text/html": [
              "<div>\n",
              "<style scoped>\n",
              "    .dataframe tbody tr th:only-of-type {\n",
              "        vertical-align: middle;\n",
              "    }\n",
              "\n",
              "    .dataframe tbody tr th {\n",
              "        vertical-align: top;\n",
              "    }\n",
              "\n",
              "    .dataframe thead th {\n",
              "        text-align: right;\n",
              "    }\n",
              "</style>\n",
              "<table border=\"1\" class=\"dataframe\">\n",
              "  <thead>\n",
              "    <tr style=\"text-align: right;\">\n",
              "      <th></th>\n",
              "      <th>AdministrativeDivision</th>\n",
              "      <th>Country</th>\n",
              "      <th>Latitude</th>\n",
              "      <th>Longitude</th>\n",
              "      <th>Deaths</th>\n",
              "      <th>Confirmed</th>\n",
              "      <th>Recovered</th>\n",
              "      <th>Date</th>\n",
              "    </tr>\n",
              "  </thead>\n",
              "  <tbody>\n",
              "    <tr>\n",
              "      <th>0</th>\n",
              "      <td>Maharashtra</td>\n",
              "      <td>India</td>\n",
              "      <td>19.453778</td>\n",
              "      <td>76.12177</td>\n",
              "      <td>8053.0</td>\n",
              "      <td>180298.0</td>\n",
              "      <td>93154.0</td>\n",
              "      <td>2020-07-01</td>\n",
              "    </tr>\n",
              "    <tr>\n",
              "      <th>1</th>\n",
              "      <td>Maharashtra</td>\n",
              "      <td>India</td>\n",
              "      <td>19.453778</td>\n",
              "      <td>76.12177</td>\n",
              "      <td>8178.0</td>\n",
              "      <td>186626.0</td>\n",
              "      <td>101172.0</td>\n",
              "      <td>2020-07-02</td>\n",
              "    </tr>\n",
              "    <tr>\n",
              "      <th>2</th>\n",
              "      <td>Maharashtra</td>\n",
              "      <td>India</td>\n",
              "      <td>19.453778</td>\n",
              "      <td>76.12177</td>\n",
              "      <td>8376.0</td>\n",
              "      <td>192990.0</td>\n",
              "      <td>104687.0</td>\n",
              "      <td>2020-07-03</td>\n",
              "    </tr>\n",
              "    <tr>\n",
              "      <th>3</th>\n",
              "      <td>Maharashtra</td>\n",
              "      <td>India</td>\n",
              "      <td>19.453778</td>\n",
              "      <td>76.12177</td>\n",
              "      <td>8671.0</td>\n",
              "      <td>200064.0</td>\n",
              "      <td>108082.0</td>\n",
              "      <td>2020-07-04</td>\n",
              "    </tr>\n",
              "    <tr>\n",
              "      <th>4</th>\n",
              "      <td>Maharashtra</td>\n",
              "      <td>India</td>\n",
              "      <td>19.453778</td>\n",
              "      <td>76.12177</td>\n",
              "      <td>8822.0</td>\n",
              "      <td>206619.0</td>\n",
              "      <td>111740.0</td>\n",
              "      <td>2020-07-05</td>\n",
              "    </tr>\n",
              "  </tbody>\n",
              "</table>\n",
              "</div>"
            ],
            "text/plain": [
              "  AdministrativeDivision Country   Latitude  ...  Confirmed  Recovered        Date\n",
              "0            Maharashtra   India  19.453778  ...   180298.0    93154.0  2020-07-01\n",
              "1            Maharashtra   India  19.453778  ...   186626.0   101172.0  2020-07-02\n",
              "2            Maharashtra   India  19.453778  ...   192990.0   104687.0  2020-07-03\n",
              "3            Maharashtra   India  19.453778  ...   200064.0   108082.0  2020-07-04\n",
              "4            Maharashtra   India  19.453778  ...   206619.0   111740.0  2020-07-05\n",
              "\n",
              "[5 rows x 8 columns]"
            ]
          },
          "metadata": {
            "tags": []
          },
          "execution_count": 3
        }
      ]
    },
    {
      "cell_type": "markdown",
      "metadata": {
        "id": "EpIHTEQ1LB3I"
      },
      "source": [
        "### 1.2 Describe the dataset."
      ]
    },
    {
      "cell_type": "markdown",
      "metadata": {
        "id": "YEM0N2mTAabD"
      },
      "source": [
        "#### 1.2.1 How many rows and columns are in the dataset? "
      ]
    },
    {
      "cell_type": "code",
      "metadata": {
        "id": "Fm9YsQjU8VLN"
      },
      "source": [
        "# YOUR CODE HERE\n"
      ],
      "execution_count": null,
      "outputs": []
    },
    {
      "cell_type": "markdown",
      "metadata": {
        "id": "1TKIfcHXAabI"
      },
      "source": [
        "#### 1.2.2 Describe the different features (small description and their type)"
      ]
    },
    {
      "cell_type": "code",
      "metadata": {
        "id": "0xlZAHUEAabJ"
      },
      "source": [
        "# YOUR CODE HERE\n"
      ],
      "execution_count": null,
      "outputs": []
    },
    {
      "cell_type": "markdown",
      "metadata": {
        "id": "hcPWeX4MAabP"
      },
      "source": [
        "#### 1.2.3 For which time period these data samples have been collected? (i.e, the oldest and the most recent dates in the dataset)"
      ]
    },
    {
      "cell_type": "code",
      "metadata": {
        "id": "0nO2pQZGAabR"
      },
      "source": [
        "# YOUR CODE HERE\n"
      ],
      "execution_count": null,
      "outputs": []
    },
    {
      "cell_type": "markdown",
      "metadata": {
        "id": "B5YJARvcAabq"
      },
      "source": [
        "#### 1.2.4 Are there missing/null values?"
      ]
    },
    {
      "cell_type": "code",
      "metadata": {
        "id": "m0GyIYTpAabr"
      },
      "source": [
        "# YOUR CODE HERE\n"
      ],
      "execution_count": null,
      "outputs": []
    },
    {
      "cell_type": "markdown",
      "metadata": {
        "id": "A1OfZ2OLAabv"
      },
      "source": [
        "#### 1.2.5 How many countries are there?"
      ]
    },
    {
      "cell_type": "code",
      "metadata": {
        "id": "FC7bDPHoAabw"
      },
      "source": [
        "# YOUR CODE HERE\n"
      ],
      "execution_count": null,
      "outputs": []
    },
    {
      "cell_type": "markdown",
      "metadata": {
        "id": "JXJ6QJGVAaby"
      },
      "source": [
        "#### 1.2.6 How many \"Administrative Divisions\" are there for the country \"United States\"?"
      ]
    },
    {
      "cell_type": "code",
      "metadata": {
        "id": "20CCVpgIAabz"
      },
      "source": [
        "# YOUR CODE HERE\n"
      ],
      "execution_count": null,
      "outputs": []
    },
    {
      "cell_type": "markdown",
      "metadata": {
        "id": "qmrLQNnHLB3f"
      },
      "source": [
        "### 1.3 Data types\n",
        "#### 1.3.1 Show how the column data types are interpreted when the data is loaded. For which column(s) would you like to change the data type? "
      ]
    },
    {
      "cell_type": "code",
      "metadata": {
        "id": "oRn63BZfLB3g"
      },
      "source": [
        "# YOUR CODE HERE"
      ],
      "execution_count": null,
      "outputs": []
    },
    {
      "cell_type": "markdown",
      "metadata": {
        "id": "YnsFIbNyLB3j"
      },
      "source": [
        "#### 1.3.2 Change the data type that have to be changed."
      ]
    },
    {
      "cell_type": "code",
      "metadata": {
        "id": "OLqKs9vwLB3j"
      },
      "source": [
        "# YOUR CODE HERE\n",
        "# hint: you will need to use the \"pd.to_datetime\" function"
      ],
      "execution_count": null,
      "outputs": []
    },
    {
      "cell_type": "markdown",
      "metadata": {
        "id": "kTeZfJX4BaQh"
      },
      "source": [
        "### 1.4 Null values\n",
        "#### 1.4.1 Fill the null values in the columns `Confirmed`, `Deaths`, and `Recovered` by zero."
      ]
    },
    {
      "cell_type": "code",
      "metadata": {
        "id": "-JNKd1SgLB3n"
      },
      "source": [
        "# YOUR CODE HERE"
      ],
      "execution_count": null,
      "outputs": []
    },
    {
      "cell_type": "markdown",
      "metadata": {
        "id": "3pKS7ARDLB3s"
      },
      "source": [
        "## 2. EDA and Visualization"
      ]
    },
    {
      "cell_type": "markdown",
      "metadata": {
        "id": "uozeju1qLB3s"
      },
      "source": [
        "### 2.1 For the most recent date, calculate the number of `Confirmed` cases by `Country`. Which country has the second highest number of cases?"
      ]
    },
    {
      "cell_type": "code",
      "metadata": {
        "id": "zqEZoNJ0LB3t"
      },
      "source": [
        "# YOUR CODE HERE"
      ],
      "execution_count": null,
      "outputs": []
    },
    {
      "cell_type": "markdown",
      "metadata": {
        "id": "kYEZtWH4LB3w"
      },
      "source": [
        "### 2.2 For the most recent date, plot the top 10 countries in terms of number of cases using an appropriate plot type."
      ]
    },
    {
      "cell_type": "code",
      "metadata": {
        "id": "Zn8zYkF5LB3x"
      },
      "source": [
        "# YOUR CODE HERE"
      ],
      "execution_count": null,
      "outputs": []
    },
    {
      "cell_type": "markdown",
      "metadata": {
        "id": "GXwmnfL0LB31"
      },
      "source": [
        "### 2.3 Create a new DataFrame where you group the information by `Country` and `Date` (i.e. we want to get rid off `AdministrativeDivision`). The remaining columns of the new DataFrame are as follows:\n",
        "* Drop `AdministrativeDivision`.\n",
        "* `Latitude` and `Longitude` should be averaged per `Country`.\n",
        "* `Deaths`, `Confirmed`, and `Recovered` should be accumulated per `Country` and `Date`.\n",
        "\n",
        "__In the remaining, we will work with this DataFrame.__"
      ]
    },
    {
      "cell_type": "code",
      "metadata": {
        "id": "A4xPOE56LB31",
        "scrolled": true
      },
      "source": [
        "# YOUR CODE HERE\n",
        "# hint: you should first drop a coulmn and then do a group by followed by agg function"
      ],
      "execution_count": null,
      "outputs": []
    },
    {
      "cell_type": "markdown",
      "metadata": {
        "id": "k9H3fBlPefv5"
      },
      "source": [
        "#### 2.3.1 How many rows and columns does the new DataFrame have?"
      ]
    },
    {
      "cell_type": "code",
      "metadata": {
        "id": "qnzYBzt5epZE"
      },
      "source": [
        "# YOUR CODE HERE\n",
        "# hint: as a useful sanity check you can check if the number of rows for this data frame is equal to \n",
        "# number of countries times number of days spanned by this dataset"
      ],
      "execution_count": null,
      "outputs": []
    },
    {
      "cell_type": "markdown",
      "metadata": {
        "id": "IsMH9TRqe3lp"
      },
      "source": [
        "#### 2.3.2 What was the total number of deaths due to COVID-19 in India by third of July 2020?"
      ]
    },
    {
      "cell_type": "code",
      "metadata": {
        "id": "pRjmMfRee-fW"
      },
      "source": [
        "# YOUR CODE HERE"
      ],
      "execution_count": null,
      "outputs": []
    },
    {
      "cell_type": "markdown",
      "metadata": {
        "id": "vKwgFUgIWuau"
      },
      "source": [
        "### 2.3.3 Which country has the lowest ratio of total recovered cases over total confirmed cases by 6th of October 2020? (ignore the countries which have zero recovered cases as this is most probably due to missing data)"
      ]
    },
    {
      "cell_type": "code",
      "metadata": {
        "id": "kjZbfKvOWoOJ"
      },
      "source": [
        "# YOUR CODE HERE"
      ],
      "execution_count": null,
      "outputs": []
    },
    {
      "cell_type": "markdown",
      "metadata": {
        "id": "HpuYWK-QLB38"
      },
      "source": [
        "### 2.4 BONUS QUESTION. The columns `Deaths`, `Confirmed`, and `Recovered` are expressed using cumulative amounts. Create three new columns `Deaths New`, `Confirmed New`, and `Recovered New` and compute the number of new cases per `Country` for each `Date`. How many new confirmed cases were there in Zimbabwe on October 2, 2020?"
      ]
    },
    {
      "cell_type": "code",
      "metadata": {
        "id": "XlP3aRywLB39"
      },
      "source": [
        "# YOUR CODE HERE"
      ],
      "execution_count": null,
      "outputs": []
    },
    {
      "cell_type": "markdown",
      "metadata": {
        "id": "aKlT8YrfLB3_"
      },
      "source": [
        "### 2.5 Plot the cumulative number of `Deaths` over time for Switzerland."
      ]
    },
    {
      "cell_type": "code",
      "metadata": {
        "id": "m4UOSgZMLB3_"
      },
      "source": [
        "# YOUR CODE HERE"
      ],
      "execution_count": null,
      "outputs": []
    },
    {
      "cell_type": "markdown",
      "metadata": {
        "id": "OSUKHxy9LB4B"
      },
      "source": [
        "### 2.6 Plot the number of new `Deaths` over time for Switzerland (i.e. not cumulative). On which day in this time period (1st of July untill 6th of October), we see a peak in the daily number of deaths in Switzerland?\n",
        "__Hint: Note that for this question you don't need to have the bonus question solved. There is a method that you can apply on pandas Series in order to compute the difference between each row and its previous row (or any other element in the Series). This method is called `diff()`. Check out the documentation for more info.__"
      ]
    },
    {
      "cell_type": "code",
      "metadata": {
        "id": "C495inPWLB4C"
      },
      "source": [
        "# YOUR CODE HERE"
      ],
      "execution_count": null,
      "outputs": []
    },
    {
      "cell_type": "markdown",
      "metadata": {
        "id": "C8WgUG8ULB4E"
      },
      "source": [
        "### 2.7 Using the method you used in the previous question, plot the number of new deaths per week in Switzerland. How many new deaths occured in the week starting from 16th of September and ending on 22nd of September?"
      ]
    },
    {
      "cell_type": "code",
      "metadata": {
        "id": "1hWNdFpZVJkR"
      },
      "source": [
        "# YOUR CODE HERE\n",
        "# hint: a week is seven days so you should do \".resample('7D')\""
      ],
      "execution_count": null,
      "outputs": []
    },
    {
      "cell_type": "markdown",
      "metadata": {
        "id": "HWZvwlRSLB4K"
      },
      "source": [
        "### 2.8 Bonus question: For the most recent date (i.e, 6th of October) and the top 10 countries, generate a map showing the cumulative number of confirmed cases per country. For example, color countries according to their number of confirmed cases."
      ]
    },
    {
      "cell_type": "code",
      "metadata": {
        "id": "Px0PFBZ0LB4O"
      },
      "source": [
        "# YOUR CODE HERE"
      ],
      "execution_count": null,
      "outputs": []
    },
    {
      "cell_type": "markdown",
      "metadata": {
        "id": "Tccl01m0LB4R"
      },
      "source": [
        "## 3. Regression\n",
        "__For this section you need to work on the data which is aggregated by countries, i.e, the dataframe you created in question 2.3. Here, we are providing that dataframe for you. So if something has possibly went wrong for you in Section 2, you could still do this section correctly.__"
      ]
    },
    {
      "cell_type": "code",
      "metadata": {
        "id": "LvD8VZipAacv"
      },
      "source": [
        "df_countries = pd.read_csv(\"https://raw.githubusercontent.com/michalis0/DataMining_and_MachineLearning/master/Assignment1/data/COVID_per_country.csv\")"
      ],
      "execution_count": 4,
      "outputs": []
    },
    {
      "cell_type": "markdown",
      "metadata": {
        "id": "5ikgRN_QLB4S"
      },
      "source": [
        "### 3.1 Create two new columns `Day` and `Month` with, resp., the day and month values of each row."
      ]
    },
    {
      "cell_type": "code",
      "metadata": {
        "id": "hrYyxI-jSOiH"
      },
      "source": [
        "# YOUR CODE HERE"
      ],
      "execution_count": null,
      "outputs": []
    },
    {
      "cell_type": "markdown",
      "metadata": {
        "id": "t13mAFSbifTl"
      },
      "source": [
        "### 3.2 Regress `Confirmed` (y) on `Latitude`, `Longitude`, `Day`, and `Month` (X)."
      ]
    },
    {
      "cell_type": "markdown",
      "metadata": {
        "id": "EIkL-LChi5dg"
      },
      "source": [
        "#### 3.2.1 Select the dependent variable (y) and independent (X) variables"
      ]
    },
    {
      "cell_type": "code",
      "metadata": {
        "id": "06ksnNQQhrWc"
      },
      "source": [
        "# YOUR CODE HERE"
      ],
      "execution_count": null,
      "outputs": []
    },
    {
      "cell_type": "markdown",
      "metadata": {
        "id": "fU7u8rmfLB4X"
      },
      "source": [
        "#### 3.2.2 Split your dataset into a training set (80%) and a test set (20%). Use `sklearn.model_selection.train_test_split()` and set the `random_state` to 42."
      ]
    },
    {
      "cell_type": "code",
      "metadata": {
        "id": "uiOYljWciOyx"
      },
      "source": [
        "# YOUR CODE HERE"
      ],
      "execution_count": null,
      "outputs": []
    },
    {
      "cell_type": "markdown",
      "metadata": {
        "id": "0OzbbArKLB4b"
      },
      "source": [
        "#### 3.2.3 Train a linear regression model on the training data. What is the R^2 score for the training data? (answer rounded to 2 decimal floating point accuray)"
      ]
    },
    {
      "cell_type": "code",
      "metadata": {
        "id": "owUEg5ZOjv90"
      },
      "source": [
        "# YOUR CODE HERE"
      ],
      "execution_count": null,
      "outputs": []
    },
    {
      "cell_type": "markdown",
      "metadata": {
        "id": "4MD8G60ckdSW"
      },
      "source": [
        "#### 3.2.4 Predict: What would be the total number of confirmed cases by 10th of October for France?"
      ]
    },
    {
      "cell_type": "code",
      "metadata": {
        "id": "ILUhNtlgkGVY"
      },
      "source": [
        "# YOUR CODE HERE"
      ],
      "execution_count": null,
      "outputs": []
    },
    {
      "cell_type": "markdown",
      "metadata": {
        "id": "q4sZKjsJPlRk"
      },
      "source": [
        "__You can see that this prediction is pretty inaccurate. Try to train a new model but this time only on the data samples for France. Could you improve the prediction?__"
      ]
    },
    {
      "cell_type": "code",
      "metadata": {
        "id": "XGvcmmdgOnXp"
      },
      "source": [
        "# YOUR CODE HERE\n",
        "# hint: you should first filter the dataframe in order to have only the data samples for France"
      ],
      "execution_count": null,
      "outputs": []
    }
  ]
}