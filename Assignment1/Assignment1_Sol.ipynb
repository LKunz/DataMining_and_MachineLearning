{
 "cells": [
  {
   "cell_type": "markdown",
   "metadata": {
    "id": "In5bD2bJLB26"
   },
   "source": [
    "# Data Mining and Machine Learning - Assignment 1 - SOLUTIONS\n",
    "## EDA, Visualization and Regression\n",
    "\n",
    "#### Due: Sunday Nov 01 11:59pm \n",
    "\n",
    "The purpose of this assignment is to review the different concepts seen in class so far (i.e. data cleaning, EDA, visualization and regression). To this end, we analyze COVID-19 data.\n",
    "\n",
    "Run the first few cells to load the dataset and then get started with the questions! Once you are done you have to do **both**:\n",
    "\n",
    "1. Submit your Python notebook [here](https://moodle.unil.ch/mod/assign/view.php?id=841447)\n",
    "2. Answer the questions to the quiz [here](https://moodle.unil.ch/mod/quiz/view.php?id=918142)\n",
    "\n",
    "The answers to the quiz should be supported by your code. If they are not you will not receive the points for them.\n",
    "\n",
    "**IMPORTANT!** You can discuss the questions with other students but **do not exchange code!** We will run your code and check for similarities.\n",
    "\n",
    "You can post your questions in slack (channel `#assignment1_questions`).\n",
    "\n",
    "If there is need for further clarifications on the questions, after the assignment is released, we will update this file, so make sure you check the git repo for updates.\n",
    "\n",
    "\n",
    "Good luck!"
   ]
  },
  {
   "cell_type": "code",
   "execution_count": 1,
   "metadata": {
    "id": "Wqz8cOznLB28"
   },
   "outputs": [],
   "source": [
    "# Import requiered packages\n",
    "import pandas as pd\n",
    "import numpy as np\n",
    "import matplotlib.pyplot as plt\n",
    "import seaborn as sns\n",
    "import folium\n",
    "\n",
    "%matplotlib inline\n",
    "sns.set_style(\"whitegrid\")"
   ]
  },
  {
   "cell_type": "code",
   "execution_count": 2,
   "metadata": {
    "id": "vTh6ytbeLB3A"
   },
   "outputs": [],
   "source": [
    "# Load data\n",
    "df = pd.read_csv(\"data/COVID.csv\")"
   ]
  },
  {
   "cell_type": "markdown",
   "metadata": {
    "id": "28nUv-WuLB3D"
   },
   "source": [
    "## 1. Understand and Clean the Dataset"
   ]
  },
  {
   "cell_type": "markdown",
   "metadata": {
    "id": "Bp9zZEbwLB3E"
   },
   "source": [
    "### 1.1 Show the first 5 or 10 rows to get an idea of the data. What does each column show?"
   ]
  },
  {
   "cell_type": "code",
   "execution_count": 3,
   "metadata": {
    "colab": {
     "base_uri": "https://localhost:8080/",
     "height": 204
    },
    "id": "H7dmea_YLB3E",
    "outputId": "6bec5fd1-a10e-4507-9cc6-c1277999b68f"
   },
   "outputs": [
    {
     "data": {
      "text/html": [
       "<div>\n",
       "<style scoped>\n",
       "    .dataframe tbody tr th:only-of-type {\n",
       "        vertical-align: middle;\n",
       "    }\n",
       "\n",
       "    .dataframe tbody tr th {\n",
       "        vertical-align: top;\n",
       "    }\n",
       "\n",
       "    .dataframe thead th {\n",
       "        text-align: right;\n",
       "    }\n",
       "</style>\n",
       "<table border=\"1\" class=\"dataframe\">\n",
       "  <thead>\n",
       "    <tr style=\"text-align: right;\">\n",
       "      <th></th>\n",
       "      <th>AdministrativeDivision</th>\n",
       "      <th>Country</th>\n",
       "      <th>Latitude</th>\n",
       "      <th>Longitude</th>\n",
       "      <th>Deaths</th>\n",
       "      <th>Confirmed</th>\n",
       "      <th>Recovered</th>\n",
       "      <th>Date</th>\n",
       "    </tr>\n",
       "  </thead>\n",
       "  <tbody>\n",
       "    <tr>\n",
       "      <td>0</td>\n",
       "      <td>Maharashtra</td>\n",
       "      <td>India</td>\n",
       "      <td>19.453778</td>\n",
       "      <td>76.12177</td>\n",
       "      <td>8053.0</td>\n",
       "      <td>180298.0</td>\n",
       "      <td>93154.0</td>\n",
       "      <td>2020-07-01</td>\n",
       "    </tr>\n",
       "    <tr>\n",
       "      <td>1</td>\n",
       "      <td>Maharashtra</td>\n",
       "      <td>India</td>\n",
       "      <td>19.453778</td>\n",
       "      <td>76.12177</td>\n",
       "      <td>8178.0</td>\n",
       "      <td>186626.0</td>\n",
       "      <td>101172.0</td>\n",
       "      <td>2020-07-02</td>\n",
       "    </tr>\n",
       "    <tr>\n",
       "      <td>2</td>\n",
       "      <td>Maharashtra</td>\n",
       "      <td>India</td>\n",
       "      <td>19.453778</td>\n",
       "      <td>76.12177</td>\n",
       "      <td>8376.0</td>\n",
       "      <td>192990.0</td>\n",
       "      <td>104687.0</td>\n",
       "      <td>2020-07-03</td>\n",
       "    </tr>\n",
       "    <tr>\n",
       "      <td>3</td>\n",
       "      <td>Maharashtra</td>\n",
       "      <td>India</td>\n",
       "      <td>19.453778</td>\n",
       "      <td>76.12177</td>\n",
       "      <td>8671.0</td>\n",
       "      <td>200064.0</td>\n",
       "      <td>108082.0</td>\n",
       "      <td>2020-07-04</td>\n",
       "    </tr>\n",
       "    <tr>\n",
       "      <td>4</td>\n",
       "      <td>Maharashtra</td>\n",
       "      <td>India</td>\n",
       "      <td>19.453778</td>\n",
       "      <td>76.12177</td>\n",
       "      <td>8822.0</td>\n",
       "      <td>206619.0</td>\n",
       "      <td>111740.0</td>\n",
       "      <td>2020-07-05</td>\n",
       "    </tr>\n",
       "  </tbody>\n",
       "</table>\n",
       "</div>"
      ],
      "text/plain": [
       "  AdministrativeDivision Country   Latitude  Longitude  Deaths  Confirmed  \\\n",
       "0            Maharashtra   India  19.453778   76.12177  8053.0   180298.0   \n",
       "1            Maharashtra   India  19.453778   76.12177  8178.0   186626.0   \n",
       "2            Maharashtra   India  19.453778   76.12177  8376.0   192990.0   \n",
       "3            Maharashtra   India  19.453778   76.12177  8671.0   200064.0   \n",
       "4            Maharashtra   India  19.453778   76.12177  8822.0   206619.0   \n",
       "\n",
       "   Recovered        Date  \n",
       "0    93154.0  2020-07-01  \n",
       "1   101172.0  2020-07-02  \n",
       "2   104687.0  2020-07-03  \n",
       "3   108082.0  2020-07-04  \n",
       "4   111740.0  2020-07-05  "
      ]
     },
     "execution_count": 3,
     "metadata": {},
     "output_type": "execute_result"
    }
   ],
   "source": [
    "df.head()"
   ]
  },
  {
   "cell_type": "markdown",
   "metadata": {
    "id": "EpIHTEQ1LB3I"
   },
   "source": [
    "### 1.2 Describe the dataset.\n",
    "#### 1.2.1 How many rows and columns are in the dataset? \n",
    "#### 1.2.2 Describe the different features (small description and their type)\n",
    "#### 1.2.3 For which time period these data samples have been collected? (i.e, the oldest and the most recent dates in the dataset)\n",
    "#### 1.2.4 Are there missing/null values?\n",
    "#### 1.2.5 How many countries are there?\n",
    "#### 1.2.6 How many \"Administrative Divisions\" are there for the country \"United States\"?\n"
   ]
  },
  {
   "cell_type": "code",
   "execution_count": 4,
   "metadata": {
    "colab": {
     "base_uri": "https://localhost:8080/",
     "height": 34
    },
    "id": "Fm9YsQjU8VLN",
    "outputId": "9a3da534-a133-4bc1-aae1-28a6bb30cc3e"
   },
   "outputs": [
    {
     "data": {
      "text/plain": [
       "(82908, 8)"
      ]
     },
     "execution_count": 4,
     "metadata": {},
     "output_type": "execute_result"
    }
   ],
   "source": [
    "# 1.2.1\n",
    "df.shape"
   ]
  },
  {
   "cell_type": "code",
   "execution_count": 5,
   "metadata": {
    "colab": {
     "base_uri": "https://localhost:8080/",
     "height": 272
    },
    "id": "4bAvrSBsLB3J",
    "outputId": "95e01bd6-8354-43af-a18f-64b80d4aeeb1"
   },
   "outputs": [
    {
     "name": "stdout",
     "output_type": "stream",
     "text": [
      "<class 'pandas.core.frame.DataFrame'>\n",
      "RangeIndex: 82908 entries, 0 to 82907\n",
      "Data columns (total 8 columns):\n",
      "AdministrativeDivision    59486 non-null object\n",
      "Country                   82908 non-null object\n",
      "Latitude                  81046 non-null float64\n",
      "Longitude                 81046 non-null float64\n",
      "Deaths                    78740 non-null float64\n",
      "Confirmed                 78740 non-null float64\n",
      "Recovered                 78740 non-null float64\n",
      "Date                      82908 non-null object\n",
      "dtypes: float64(5), object(3)\n",
      "memory usage: 5.1+ MB\n"
     ]
    }
   ],
   "source": [
    "# 1.2.2\n",
    "df.info()"
   ]
  },
  {
   "cell_type": "code",
   "execution_count": 6,
   "metadata": {
    "colab": {
     "base_uri": "https://localhost:8080/",
     "height": 442
    },
    "id": "OhFgY5PbLB3P",
    "outputId": "0201fe41-34d2-4eb6-8d1d-2a51e31aa61d"
   },
   "outputs": [
    {
     "data": {
      "text/plain": [
       "array(['2020-07-01', '2020-07-02', '2020-07-03', '2020-07-04',\n",
       "       '2020-07-05', '2020-07-06', '2020-07-07', '2020-07-08',\n",
       "       '2020-07-09', '2020-07-10', '2020-07-11', '2020-07-12',\n",
       "       '2020-07-13', '2020-07-14', '2020-07-15', '2020-07-16',\n",
       "       '2020-07-17', '2020-07-18', '2020-07-19', '2020-07-20',\n",
       "       '2020-07-21', '2020-07-22', '2020-07-23', '2020-07-24',\n",
       "       '2020-07-25', '2020-07-26', '2020-07-27', '2020-07-28',\n",
       "       '2020-07-29', '2020-07-30', '2020-07-31', '2020-08-01',\n",
       "       '2020-08-02', '2020-08-03', '2020-08-04', '2020-08-05',\n",
       "       '2020-08-06', '2020-08-07', '2020-08-08', '2020-08-09',\n",
       "       '2020-08-10', '2020-08-11', '2020-08-12', '2020-08-13',\n",
       "       '2020-08-14', '2020-08-15', '2020-08-16', '2020-08-17',\n",
       "       '2020-08-18', '2020-08-19', '2020-08-20', '2020-08-21',\n",
       "       '2020-08-22', '2020-08-23', '2020-08-24', '2020-08-25',\n",
       "       '2020-08-26', '2020-08-27', '2020-08-28', '2020-08-29',\n",
       "       '2020-08-30', '2020-08-31', '2020-09-01', '2020-09-02',\n",
       "       '2020-09-03', '2020-09-04', '2020-09-05', '2020-09-06',\n",
       "       '2020-09-07', '2020-09-08', '2020-09-09', '2020-09-10',\n",
       "       '2020-09-11', '2020-09-12', '2020-09-13', '2020-09-14',\n",
       "       '2020-09-15', '2020-09-16', '2020-09-17', '2020-09-18',\n",
       "       '2020-09-19', '2020-09-20', '2020-09-21', '2020-09-22',\n",
       "       '2020-09-23', '2020-09-24', '2020-09-25', '2020-09-26',\n",
       "       '2020-09-27', '2020-09-28', '2020-09-29', '2020-09-30',\n",
       "       '2020-10-01', '2020-10-02', '2020-10-03', '2020-10-04',\n",
       "       '2020-10-05', '2020-10-06'], dtype=object)"
      ]
     },
     "execution_count": 6,
     "metadata": {},
     "output_type": "execute_result"
    }
   ],
   "source": [
    "# 1.2.3: Time period\n",
    "df[\"Date\"].unique()"
   ]
  },
  {
   "cell_type": "code",
   "execution_count": 7,
   "metadata": {
    "colab": {
     "base_uri": "https://localhost:8080/",
     "height": 34
    },
    "id": "9aFK4TReLB3S",
    "outputId": "b140cd20-8dc3-413c-c194-8a134a2946c7"
   },
   "outputs": [
    {
     "data": {
      "text/plain": [
       "98"
      ]
     },
     "execution_count": 7,
     "metadata": {},
     "output_type": "execute_result"
    }
   ],
   "source": [
    "len(df[\"Date\"].unique())"
   ]
  },
  {
   "cell_type": "code",
   "execution_count": 8,
   "metadata": {
    "colab": {
     "base_uri": "https://localhost:8080/",
     "height": 170
    },
    "id": "LHRa1CQjLB3W",
    "outputId": "35e8c2bd-8efe-4c19-f957-fa18455aa7aa"
   },
   "outputs": [
    {
     "data": {
      "text/plain": [
       "AdministrativeDivision    23422\n",
       "Country                       0\n",
       "Latitude                   1862\n",
       "Longitude                  1862\n",
       "Deaths                     4168\n",
       "Confirmed                  4168\n",
       "Recovered                  4168\n",
       "Date                          0\n",
       "dtype: int64"
      ]
     },
     "execution_count": 8,
     "metadata": {},
     "output_type": "execute_result"
    }
   ],
   "source": [
    "# 1.2.4: Null values\n",
    "df.isnull().sum()"
   ]
  },
  {
   "cell_type": "code",
   "execution_count": 9,
   "metadata": {
    "colab": {
     "base_uri": "https://localhost:8080/",
     "height": 34
    },
    "id": "h68Slm5dLB3M",
    "outputId": "90424693-3ab5-4887-b08b-99e45523cc7a"
   },
   "outputs": [
    {
     "data": {
      "text/plain": [
       "218"
      ]
     },
     "execution_count": 9,
     "metadata": {},
     "output_type": "execute_result"
    }
   ],
   "source": [
    "# 1.2.5: Number of countries\n",
    "len(df[\"Country\"].unique())"
   ]
  },
  {
   "cell_type": "markdown",
   "metadata": {
    "id": "XuBlB2ttLB3W"
   },
   "source": [
    "There are 82908 rows and 8 columns. One row represents the number of deaths, confirmed cases and recovered cases for a country or region at a specific date. The dates start on 1 July 2020 and end on 6 October 2020. There are 218 different countries. Latitude and longitude of the country/division are also provided."
   ]
  },
  {
   "cell_type": "markdown",
   "metadata": {
    "id": "fF1vZ_dBLB3Z"
   },
   "source": [
    "* For `AdministrativeDivision`, they are countries for which we do not have the information per region/division/canton. \n",
    "\n",
    "* For `Latitude` and `Longitude`, they are missing data.\n",
    "\n",
    "* For the other features, they are dates at which we do not have the information (i.e. also missing data)."
   ]
  },
  {
   "cell_type": "code",
   "execution_count": 10,
   "metadata": {
    "colab": {
     "base_uri": "https://localhost:8080/",
     "height": 419
    },
    "id": "J3MAolcxLB3a",
    "outputId": "0fab3e68-4321-4b79-d921-43b1e0e3e865"
   },
   "outputs": [
    {
     "data": {
      "text/html": [
       "<div>\n",
       "<style scoped>\n",
       "    .dataframe tbody tr th:only-of-type {\n",
       "        vertical-align: middle;\n",
       "    }\n",
       "\n",
       "    .dataframe tbody tr th {\n",
       "        vertical-align: top;\n",
       "    }\n",
       "\n",
       "    .dataframe thead th {\n",
       "        text-align: right;\n",
       "    }\n",
       "</style>\n",
       "<table border=\"1\" class=\"dataframe\">\n",
       "  <thead>\n",
       "    <tr style=\"text-align: right;\">\n",
       "      <th></th>\n",
       "      <th>AdministrativeDivision</th>\n",
       "      <th>Country</th>\n",
       "      <th>Latitude</th>\n",
       "      <th>Longitude</th>\n",
       "      <th>Deaths</th>\n",
       "      <th>Confirmed</th>\n",
       "      <th>Recovered</th>\n",
       "      <th>Date</th>\n",
       "    </tr>\n",
       "  </thead>\n",
       "  <tbody>\n",
       "    <tr>\n",
       "      <td>9114</td>\n",
       "      <td>NaN</td>\n",
       "      <td>UnitedKingdom</td>\n",
       "      <td>NaN</td>\n",
       "      <td>NaN</td>\n",
       "      <td>0.0</td>\n",
       "      <td>116237.0</td>\n",
       "      <td>0.0</td>\n",
       "      <td>2020-07-01</td>\n",
       "    </tr>\n",
       "    <tr>\n",
       "      <td>9115</td>\n",
       "      <td>NaN</td>\n",
       "      <td>UnitedKingdom</td>\n",
       "      <td>NaN</td>\n",
       "      <td>NaN</td>\n",
       "      <td>0.0</td>\n",
       "      <td>0.0</td>\n",
       "      <td>0.0</td>\n",
       "      <td>2020-07-02</td>\n",
       "    </tr>\n",
       "    <tr>\n",
       "      <td>9116</td>\n",
       "      <td>NaN</td>\n",
       "      <td>UnitedKingdom</td>\n",
       "      <td>NaN</td>\n",
       "      <td>NaN</td>\n",
       "      <td>0.0</td>\n",
       "      <td>0.0</td>\n",
       "      <td>0.0</td>\n",
       "      <td>2020-07-03</td>\n",
       "    </tr>\n",
       "    <tr>\n",
       "      <td>9117</td>\n",
       "      <td>NaN</td>\n",
       "      <td>UnitedKingdom</td>\n",
       "      <td>NaN</td>\n",
       "      <td>NaN</td>\n",
       "      <td>0.0</td>\n",
       "      <td>0.0</td>\n",
       "      <td>0.0</td>\n",
       "      <td>2020-07-04</td>\n",
       "    </tr>\n",
       "    <tr>\n",
       "      <td>9118</td>\n",
       "      <td>NaN</td>\n",
       "      <td>UnitedKingdom</td>\n",
       "      <td>NaN</td>\n",
       "      <td>NaN</td>\n",
       "      <td>0.0</td>\n",
       "      <td>0.0</td>\n",
       "      <td>0.0</td>\n",
       "      <td>2020-07-05</td>\n",
       "    </tr>\n",
       "    <tr>\n",
       "      <td>...</td>\n",
       "      <td>...</td>\n",
       "      <td>...</td>\n",
       "      <td>...</td>\n",
       "      <td>...</td>\n",
       "      <td>...</td>\n",
       "      <td>...</td>\n",
       "      <td>...</td>\n",
       "      <td>...</td>\n",
       "    </tr>\n",
       "    <tr>\n",
       "      <td>82805</td>\n",
       "      <td>NaN</td>\n",
       "      <td>Brazil</td>\n",
       "      <td>NaN</td>\n",
       "      <td>NaN</td>\n",
       "      <td>NaN</td>\n",
       "      <td>NaN</td>\n",
       "      <td>NaN</td>\n",
       "      <td>2020-10-02</td>\n",
       "    </tr>\n",
       "    <tr>\n",
       "      <td>82806</td>\n",
       "      <td>NaN</td>\n",
       "      <td>Brazil</td>\n",
       "      <td>NaN</td>\n",
       "      <td>NaN</td>\n",
       "      <td>NaN</td>\n",
       "      <td>NaN</td>\n",
       "      <td>NaN</td>\n",
       "      <td>2020-10-03</td>\n",
       "    </tr>\n",
       "    <tr>\n",
       "      <td>82807</td>\n",
       "      <td>NaN</td>\n",
       "      <td>Brazil</td>\n",
       "      <td>NaN</td>\n",
       "      <td>NaN</td>\n",
       "      <td>NaN</td>\n",
       "      <td>NaN</td>\n",
       "      <td>NaN</td>\n",
       "      <td>2020-10-04</td>\n",
       "    </tr>\n",
       "    <tr>\n",
       "      <td>82808</td>\n",
       "      <td>NaN</td>\n",
       "      <td>Brazil</td>\n",
       "      <td>NaN</td>\n",
       "      <td>NaN</td>\n",
       "      <td>NaN</td>\n",
       "      <td>NaN</td>\n",
       "      <td>NaN</td>\n",
       "      <td>2020-10-05</td>\n",
       "    </tr>\n",
       "    <tr>\n",
       "      <td>82809</td>\n",
       "      <td>NaN</td>\n",
       "      <td>Brazil</td>\n",
       "      <td>NaN</td>\n",
       "      <td>NaN</td>\n",
       "      <td>NaN</td>\n",
       "      <td>NaN</td>\n",
       "      <td>NaN</td>\n",
       "      <td>2020-10-06</td>\n",
       "    </tr>\n",
       "  </tbody>\n",
       "</table>\n",
       "<p>1862 rows × 8 columns</p>\n",
       "</div>"
      ],
      "text/plain": [
       "      AdministrativeDivision        Country  Latitude  Longitude  Deaths  \\\n",
       "9114                     NaN  UnitedKingdom       NaN        NaN     0.0   \n",
       "9115                     NaN  UnitedKingdom       NaN        NaN     0.0   \n",
       "9116                     NaN  UnitedKingdom       NaN        NaN     0.0   \n",
       "9117                     NaN  UnitedKingdom       NaN        NaN     0.0   \n",
       "9118                     NaN  UnitedKingdom       NaN        NaN     0.0   \n",
       "...                      ...            ...       ...        ...     ...   \n",
       "82805                    NaN         Brazil       NaN        NaN     NaN   \n",
       "82806                    NaN         Brazil       NaN        NaN     NaN   \n",
       "82807                    NaN         Brazil       NaN        NaN     NaN   \n",
       "82808                    NaN         Brazil       NaN        NaN     NaN   \n",
       "82809                    NaN         Brazil       NaN        NaN     NaN   \n",
       "\n",
       "       Confirmed  Recovered        Date  \n",
       "9114    116237.0        0.0  2020-07-01  \n",
       "9115         0.0        0.0  2020-07-02  \n",
       "9116         0.0        0.0  2020-07-03  \n",
       "9117         0.0        0.0  2020-07-04  \n",
       "9118         0.0        0.0  2020-07-05  \n",
       "...          ...        ...         ...  \n",
       "82805        NaN        NaN  2020-10-02  \n",
       "82806        NaN        NaN  2020-10-03  \n",
       "82807        NaN        NaN  2020-10-04  \n",
       "82808        NaN        NaN  2020-10-05  \n",
       "82809        NaN        NaN  2020-10-06  \n",
       "\n",
       "[1862 rows x 8 columns]"
      ]
     },
     "execution_count": 10,
     "metadata": {},
     "output_type": "execute_result"
    }
   ],
   "source": [
    "# Example of missing data for Geolocalisation\n",
    "df[df[\"Latitude\"].isnull() == True]"
   ]
  },
  {
   "cell_type": "code",
   "execution_count": 11,
   "metadata": {
    "colab": {
     "base_uri": "https://localhost:8080/",
     "height": 187
    },
    "id": "aHOOT6N0LB3d",
    "outputId": "db688102-53d6-4160-ce4f-b6c9cc306561"
   },
   "outputs": [
    {
     "name": "stdout",
     "output_type": "stream",
     "text": [
      "['California' 'Texas' 'Florida' 'NewYork' 'Georgia' 'Illinois' 'Arizona'\n",
      " 'NorthCarolina' 'NewJersey' 'Tennessee' 'Pennsylvania' 'Louisiana' 'Ohio'\n",
      " 'Alabama' 'SouthCarolina' 'Virginia' 'Michigan' 'Wisconsin' 'Missouri'\n",
      " 'Massachusetts' 'Maryland' 'Indiana' 'Minnesota' 'Mississippi' 'Iowa'\n",
      " 'Oklahoma' 'Washington' 'Arkansas' 'Nevada' 'Utah' 'Kentucky' 'Colorado'\n",
      " 'Kansas' 'Connecticut' 'Nebraska' 'Idaho' 'Oregon' 'NewMexico'\n",
      " 'RhodeIsland' 'SouthDakota' 'NorthDakota' 'Delaware' 'WestVirginia'\n",
      " 'DistrictOfColumbia' 'Montana' 'Hawaii' 'Alaska' 'NewHampshire' 'Wyoming'\n",
      " nan 'Maine' 'Vermont']\n",
      "52\n"
     ]
    }
   ],
   "source": [
    "# 1.2.6: Administrative divisions for United States\n",
    "print(df[df[\"Country\"] == \"UnitedStates\"][\"AdministrativeDivision\"].unique())\n",
    "print(len(df[df[\"Country\"] == \"UnitedStates\"][\"AdministrativeDivision\"].unique()))"
   ]
  },
  {
   "cell_type": "markdown",
   "metadata": {
    "id": "qmrLQNnHLB3f"
   },
   "source": [
    "### 1.3 Data types\n",
    "#### 1.3.1 Show how the column data types are interpreted when the data is loaded. For which column(s) would you like to change the data type? \n",
    "#### 1.3.2 Change the data type that have to be changed."
   ]
  },
  {
   "cell_type": "code",
   "execution_count": 12,
   "metadata": {
    "colab": {
     "base_uri": "https://localhost:8080/",
     "height": 170
    },
    "id": "oRn63BZfLB3g",
    "outputId": "480f91fa-5b9e-4009-a54c-c45a17eba825"
   },
   "outputs": [
    {
     "data": {
      "text/plain": [
       "AdministrativeDivision     object\n",
       "Country                    object\n",
       "Latitude                  float64\n",
       "Longitude                 float64\n",
       "Deaths                    float64\n",
       "Confirmed                 float64\n",
       "Recovered                 float64\n",
       "Date                       object\n",
       "dtype: object"
      ]
     },
     "execution_count": 12,
     "metadata": {},
     "output_type": "execute_result"
    }
   ],
   "source": [
    "# 1.3.1\n",
    "df.dtypes"
   ]
  },
  {
   "cell_type": "markdown",
   "metadata": {
    "id": "YnsFIbNyLB3j"
   },
   "source": [
    "`Date` has to be changed to datetime. The rest is correct."
   ]
  },
  {
   "cell_type": "code",
   "execution_count": 13,
   "metadata": {
    "colab": {
     "base_uri": "https://localhost:8080/",
     "height": 272
    },
    "id": "OLqKs9vwLB3j",
    "outputId": "a9bfeab6-cb6a-45f5-9d3a-c90e6ae37933"
   },
   "outputs": [
    {
     "name": "stdout",
     "output_type": "stream",
     "text": [
      "<class 'pandas.core.frame.DataFrame'>\n",
      "RangeIndex: 82908 entries, 0 to 82907\n",
      "Data columns (total 8 columns):\n",
      "AdministrativeDivision    59486 non-null object\n",
      "Country                   82908 non-null object\n",
      "Latitude                  81046 non-null float64\n",
      "Longitude                 81046 non-null float64\n",
      "Deaths                    78740 non-null float64\n",
      "Confirmed                 78740 non-null float64\n",
      "Recovered                 78740 non-null float64\n",
      "Date                      82908 non-null datetime64[ns]\n",
      "dtypes: datetime64[ns](1), float64(5), object(2)\n",
      "memory usage: 5.1+ MB\n"
     ]
    }
   ],
   "source": [
    "# 1.3.2 Change date to datetime\n",
    "df['Date'] = pd.to_datetime(df['Date'], format=\"%Y-%m-%d\")\n",
    "df.info()"
   ]
  },
  {
   "cell_type": "markdown",
   "metadata": {
    "id": "kTeZfJX4BaQh"
   },
   "source": [
    "### 1.4 Null values\n",
    "#### 1.4.1 Fill the null values in the columns `Confirmed`, `Deaths`, and `Recovered` by zero."
   ]
  },
  {
   "cell_type": "code",
   "execution_count": 14,
   "metadata": {
    "id": "-JNKd1SgLB3n"
   },
   "outputs": [],
   "source": [
    "# 1.4.1\n",
    "df[\"Confirmed\"].fillna(0, inplace=True)\n",
    "df[\"Deaths\"].fillna(0, inplace=True)\n",
    "df[\"Recovered\"].fillna(0, inplace=True)"
   ]
  },
  {
   "cell_type": "markdown",
   "metadata": {
    "id": "3pKS7ARDLB3s"
   },
   "source": [
    "## 2. EDA and Visualization"
   ]
  },
  {
   "cell_type": "markdown",
   "metadata": {
    "id": "uozeju1qLB3s"
   },
   "source": [
    "### 2.1 For the most recent date, calculate the number of `Confirmed` cases by `Country`. Which country has the second highest number of cases?"
   ]
  },
  {
   "cell_type": "code",
   "execution_count": 15,
   "metadata": {
    "colab": {
     "base_uri": "https://localhost:8080/",
     "height": 419
    },
    "id": "zqEZoNJ0LB3t",
    "outputId": "c8e6ff31-6a60-4cdf-880d-6ac859130371"
   },
   "outputs": [
    {
     "data": {
      "text/html": [
       "<div>\n",
       "<style scoped>\n",
       "    .dataframe tbody tr th:only-of-type {\n",
       "        vertical-align: middle;\n",
       "    }\n",
       "\n",
       "    .dataframe tbody tr th {\n",
       "        vertical-align: top;\n",
       "    }\n",
       "\n",
       "    .dataframe thead th {\n",
       "        text-align: right;\n",
       "    }\n",
       "</style>\n",
       "<table border=\"1\" class=\"dataframe\">\n",
       "  <thead>\n",
       "    <tr style=\"text-align: right;\">\n",
       "      <th></th>\n",
       "      <th>Country</th>\n",
       "      <th>Confirmed</th>\n",
       "    </tr>\n",
       "  </thead>\n",
       "  <tbody>\n",
       "    <tr>\n",
       "      <td>207</td>\n",
       "      <td>UnitedStates</td>\n",
       "      <td>7445013.0</td>\n",
       "    </tr>\n",
       "    <tr>\n",
       "      <td>90</td>\n",
       "      <td>India</td>\n",
       "      <td>6757131.0</td>\n",
       "    </tr>\n",
       "    <tr>\n",
       "      <td>27</td>\n",
       "      <td>Brazil</td>\n",
       "      <td>4969141.0</td>\n",
       "    </tr>\n",
       "    <tr>\n",
       "      <td>163</td>\n",
       "      <td>Russia</td>\n",
       "      <td>1231277.0</td>\n",
       "    </tr>\n",
       "    <tr>\n",
       "      <td>42</td>\n",
       "      <td>Colombia</td>\n",
       "      <td>869808.0</td>\n",
       "    </tr>\n",
       "    <tr>\n",
       "      <td>...</td>\n",
       "      <td>...</td>\n",
       "      <td>...</td>\n",
       "    </tr>\n",
       "    <tr>\n",
       "      <td>135</td>\n",
       "      <td>Montserrat</td>\n",
       "      <td>13.0</td>\n",
       "    </tr>\n",
       "    <tr>\n",
       "      <td>63</td>\n",
       "      <td>FalklandIslands</td>\n",
       "      <td>13.0</td>\n",
       "    </tr>\n",
       "    <tr>\n",
       "      <td>211</td>\n",
       "      <td>VaticanCity</td>\n",
       "      <td>12.0</td>\n",
       "    </tr>\n",
       "    <tr>\n",
       "      <td>214</td>\n",
       "      <td>WesternSahara</td>\n",
       "      <td>10.0</td>\n",
       "    </tr>\n",
       "    <tr>\n",
       "      <td>5</td>\n",
       "      <td>Anguilla</td>\n",
       "      <td>3.0</td>\n",
       "    </tr>\n",
       "  </tbody>\n",
       "</table>\n",
       "<p>218 rows × 2 columns</p>\n",
       "</div>"
      ],
      "text/plain": [
       "             Country  Confirmed\n",
       "207     UnitedStates  7445013.0\n",
       "90             India  6757131.0\n",
       "27            Brazil  4969141.0\n",
       "163           Russia  1231277.0\n",
       "42          Colombia   869808.0\n",
       "..               ...        ...\n",
       "135       Montserrat       13.0\n",
       "63   FalklandIslands       13.0\n",
       "211      VaticanCity       12.0\n",
       "214    WesternSahara       10.0\n",
       "5           Anguilla        3.0\n",
       "\n",
       "[218 rows x 2 columns]"
      ]
     },
     "execution_count": 15,
     "metadata": {},
     "output_type": "execute_result"
    }
   ],
   "source": [
    "df[df[\"Date\"] == \"2020-10-06\"].groupby(\"Country\", as_index=False)[\"Confirmed\"].sum().sort_values(\"Confirmed\", ascending=False)"
   ]
  },
  {
   "cell_type": "markdown",
   "metadata": {
    "id": "kYEZtWH4LB3w"
   },
   "source": [
    "### 2.2 For the most recent date, plot the top 10 countries in terms of number of cases using an appropriate plot type."
   ]
  },
  {
   "cell_type": "code",
   "execution_count": 16,
   "metadata": {
    "colab": {
     "base_uri": "https://localhost:8080/",
     "height": 295
    },
    "id": "Zn8zYkF5LB3x",
    "outputId": "8be02af0-ddfa-4304-e138-c0f1e2b4b721"
   },
   "outputs": [
    {
     "data": {
      "text/plain": [
       "<matplotlib.axes._subplots.AxesSubplot at 0x7f128a3b0828>"
      ]
     },
     "execution_count": 16,
     "metadata": {},
     "output_type": "execute_result"
    },
    {
     "data": {
      "image/png": "[encoded data removed]",
      "text/plain": [
       "<Figure size 432x288 with 1 Axes>"
      ]
     },
     "metadata": {
      "needs_background": "light"
     },
     "output_type": "display_data"
    }
   ],
   "source": [
    "df[df[\"Date\"] == \"2020-10-06\"].groupby(\"Country\", as_index=True)['Confirmed'].sum().sort_values(ascending=False).head(10).plot(kind='barh')"
   ]
  },
  {
   "cell_type": "markdown",
   "metadata": {
    "id": "GXwmnfL0LB31"
   },
   "source": [
    "### 2.3 Create a new DataFrame where you group the information by `Country` and `Date` (i.e. we want to get rid off `AdministrativeDivision`). The remaining columns of the new DataFrame are as follows:\n",
    "* Drop `AdministrativeDivision`.\n",
    "* `Latitude` and `Longitude` should be averaged per `Country`.\n",
    "* `Deaths`, `Confirmed`, and `Recovered` should be accumulated per `Country` and `Date`.\n",
    "\n",
    "__In the remaining, we will work with this DataFrame.__"
   ]
  },
  {
   "cell_type": "code",
   "execution_count": 17,
   "metadata": {
    "colab": {
     "base_uri": "https://localhost:8080/",
     "height": 419
    },
    "id": "A4xPOE56LB31",
    "outputId": "ccc1994a-8ae3-489f-c552-06b27b9ad8ef",
    "scrolled": true
   },
   "outputs": [
    {
     "data": {
      "text/html": [
       "<div>\n",
       "<style scoped>\n",
       "    .dataframe tbody tr th:only-of-type {\n",
       "        vertical-align: middle;\n",
       "    }\n",
       "\n",
       "    .dataframe tbody tr th {\n",
       "        vertical-align: top;\n",
       "    }\n",
       "\n",
       "    .dataframe thead th {\n",
       "        text-align: right;\n",
       "    }\n",
       "</style>\n",
       "<table border=\"1\" class=\"dataframe\">\n",
       "  <thead>\n",
       "    <tr style=\"text-align: right;\">\n",
       "      <th></th>\n",
       "      <th>Country</th>\n",
       "      <th>Date</th>\n",
       "      <th>Latitude</th>\n",
       "      <th>Longitude</th>\n",
       "      <th>Deaths</th>\n",
       "      <th>Confirmed</th>\n",
       "      <th>Recovered</th>\n",
       "    </tr>\n",
       "  </thead>\n",
       "  <tbody>\n",
       "    <tr>\n",
       "      <td>0</td>\n",
       "      <td>Afghanistan</td>\n",
       "      <td>2020-07-01</td>\n",
       "      <td>33.0</td>\n",
       "      <td>65.0</td>\n",
       "      <td>774.0</td>\n",
       "      <td>31836.0</td>\n",
       "      <td>15651.0</td>\n",
       "    </tr>\n",
       "    <tr>\n",
       "      <td>1</td>\n",
       "      <td>Afghanistan</td>\n",
       "      <td>2020-07-02</td>\n",
       "      <td>33.0</td>\n",
       "      <td>65.0</td>\n",
       "      <td>807.0</td>\n",
       "      <td>32022.0</td>\n",
       "      <td>16041.0</td>\n",
       "    </tr>\n",
       "    <tr>\n",
       "      <td>2</td>\n",
       "      <td>Afghanistan</td>\n",
       "      <td>2020-07-03</td>\n",
       "      <td>33.0</td>\n",
       "      <td>65.0</td>\n",
       "      <td>819.0</td>\n",
       "      <td>32324.0</td>\n",
       "      <td>17331.0</td>\n",
       "    </tr>\n",
       "    <tr>\n",
       "      <td>3</td>\n",
       "      <td>Afghanistan</td>\n",
       "      <td>2020-07-04</td>\n",
       "      <td>33.0</td>\n",
       "      <td>65.0</td>\n",
       "      <td>826.0</td>\n",
       "      <td>32672.0</td>\n",
       "      <td>19164.0</td>\n",
       "    </tr>\n",
       "    <tr>\n",
       "      <td>4</td>\n",
       "      <td>Afghanistan</td>\n",
       "      <td>2020-07-05</td>\n",
       "      <td>33.0</td>\n",
       "      <td>65.0</td>\n",
       "      <td>864.0</td>\n",
       "      <td>32951.0</td>\n",
       "      <td>19366.0</td>\n",
       "    </tr>\n",
       "    <tr>\n",
       "      <td>...</td>\n",
       "      <td>...</td>\n",
       "      <td>...</td>\n",
       "      <td>...</td>\n",
       "      <td>...</td>\n",
       "      <td>...</td>\n",
       "      <td>...</td>\n",
       "      <td>...</td>\n",
       "    </tr>\n",
       "    <tr>\n",
       "      <td>21359</td>\n",
       "      <td>Zimbabwe</td>\n",
       "      <td>2020-10-02</td>\n",
       "      <td>-20.0</td>\n",
       "      <td>30.0</td>\n",
       "      <td>228.0</td>\n",
       "      <td>7858.0</td>\n",
       "      <td>6322.0</td>\n",
       "    </tr>\n",
       "    <tr>\n",
       "      <td>21360</td>\n",
       "      <td>Zimbabwe</td>\n",
       "      <td>2020-10-03</td>\n",
       "      <td>-20.0</td>\n",
       "      <td>30.0</td>\n",
       "      <td>228.0</td>\n",
       "      <td>7885.0</td>\n",
       "      <td>6327.0</td>\n",
       "    </tr>\n",
       "    <tr>\n",
       "      <td>21361</td>\n",
       "      <td>Zimbabwe</td>\n",
       "      <td>2020-10-04</td>\n",
       "      <td>-20.0</td>\n",
       "      <td>30.0</td>\n",
       "      <td>228.0</td>\n",
       "      <td>7888.0</td>\n",
       "      <td>6359.0</td>\n",
       "    </tr>\n",
       "    <tr>\n",
       "      <td>21362</td>\n",
       "      <td>Zimbabwe</td>\n",
       "      <td>2020-10-05</td>\n",
       "      <td>-20.0</td>\n",
       "      <td>30.0</td>\n",
       "      <td>228.0</td>\n",
       "      <td>7898.0</td>\n",
       "      <td>6424.0</td>\n",
       "    </tr>\n",
       "    <tr>\n",
       "      <td>21363</td>\n",
       "      <td>Zimbabwe</td>\n",
       "      <td>2020-10-06</td>\n",
       "      <td>-20.0</td>\n",
       "      <td>30.0</td>\n",
       "      <td>229.0</td>\n",
       "      <td>7915.0</td>\n",
       "      <td>6440.0</td>\n",
       "    </tr>\n",
       "  </tbody>\n",
       "</table>\n",
       "<p>21364 rows × 7 columns</p>\n",
       "</div>"
      ],
      "text/plain": [
       "           Country       Date  Latitude  Longitude  Deaths  Confirmed  \\\n",
       "0      Afghanistan 2020-07-01      33.0       65.0   774.0    31836.0   \n",
       "1      Afghanistan 2020-07-02      33.0       65.0   807.0    32022.0   \n",
       "2      Afghanistan 2020-07-03      33.0       65.0   819.0    32324.0   \n",
       "3      Afghanistan 2020-07-04      33.0       65.0   826.0    32672.0   \n",
       "4      Afghanistan 2020-07-05      33.0       65.0   864.0    32951.0   \n",
       "...            ...        ...       ...        ...     ...        ...   \n",
       "21359     Zimbabwe 2020-10-02     -20.0       30.0   228.0     7858.0   \n",
       "21360     Zimbabwe 2020-10-03     -20.0       30.0   228.0     7885.0   \n",
       "21361     Zimbabwe 2020-10-04     -20.0       30.0   228.0     7888.0   \n",
       "21362     Zimbabwe 2020-10-05     -20.0       30.0   228.0     7898.0   \n",
       "21363     Zimbabwe 2020-10-06     -20.0       30.0   229.0     7915.0   \n",
       "\n",
       "       Recovered  \n",
       "0        15651.0  \n",
       "1        16041.0  \n",
       "2        17331.0  \n",
       "3        19164.0  \n",
       "4        19366.0  \n",
       "...          ...  \n",
       "21359     6322.0  \n",
       "21360     6327.0  \n",
       "21361     6359.0  \n",
       "21362     6424.0  \n",
       "21363     6440.0  \n",
       "\n",
       "[21364 rows x 7 columns]"
      ]
     },
     "execution_count": 17,
     "metadata": {},
     "output_type": "execute_result"
    }
   ],
   "source": [
    "# Drop and groupby\n",
    "df_countries = df.drop('AdministrativeDivision', axis=1)\n",
    "df_countries = df_countries.groupby([\"Country\", \"Date\"], as_index=False).agg({\"Latitude\":\"mean\", \"Longitude\":\"mean\", \"Deaths\":\"sum\", \"Confirmed\":\"sum\", \"Recovered\":\"sum\"})\n",
    "df_countries"
   ]
  },
  {
   "cell_type": "markdown",
   "metadata": {
    "id": "k9H3fBlPefv5"
   },
   "source": [
    "#### 2.3.1 How many rows and columns does the new DataFrame have?"
   ]
  },
  {
   "cell_type": "code",
   "execution_count": 18,
   "metadata": {
    "colab": {
     "base_uri": "https://localhost:8080/",
     "height": 34
    },
    "id": "qnzYBzt5epZE",
    "outputId": "4a3ed0f7-6ab2-4c91-c0fe-cb9ec34911ef"
   },
   "outputs": [
    {
     "data": {
      "text/plain": [
       "(21364, 7)"
      ]
     },
     "execution_count": 18,
     "metadata": {},
     "output_type": "execute_result"
    }
   ],
   "source": [
    "df_countries.shape # 98 dates * 218 countries"
   ]
  },
  {
   "cell_type": "markdown",
   "metadata": {
    "id": "IsMH9TRqe3lp"
   },
   "source": [
    "#### 2.3.2 What was the total number of deaths due to COVID-19 in India by third of July 2020?"
   ]
  },
  {
   "cell_type": "code",
   "execution_count": 19,
   "metadata": {
    "colab": {
     "base_uri": "https://localhost:8080/",
     "height": 419
    },
    "id": "pRjmMfRee-fW",
    "outputId": "25f09383-293f-4d9c-87d5-05489e13a170"
   },
   "outputs": [
    {
     "data": {
      "text/html": [
       "<div>\n",
       "<style scoped>\n",
       "    .dataframe tbody tr th:only-of-type {\n",
       "        vertical-align: middle;\n",
       "    }\n",
       "\n",
       "    .dataframe tbody tr th {\n",
       "        vertical-align: top;\n",
       "    }\n",
       "\n",
       "    .dataframe thead th {\n",
       "        text-align: right;\n",
       "    }\n",
       "</style>\n",
       "<table border=\"1\" class=\"dataframe\">\n",
       "  <thead>\n",
       "    <tr style=\"text-align: right;\">\n",
       "      <th></th>\n",
       "      <th>Country</th>\n",
       "      <th>Date</th>\n",
       "      <th>Latitude</th>\n",
       "      <th>Longitude</th>\n",
       "      <th>Deaths</th>\n",
       "      <th>Confirmed</th>\n",
       "      <th>Recovered</th>\n",
       "    </tr>\n",
       "  </thead>\n",
       "  <tbody>\n",
       "    <tr>\n",
       "      <td>8820</td>\n",
       "      <td>India</td>\n",
       "      <td>2020-07-01</td>\n",
       "      <td>22.508041</td>\n",
       "      <td>81.466091</td>\n",
       "      <td>17834.0</td>\n",
       "      <td>604641.0</td>\n",
       "      <td>359860.0</td>\n",
       "    </tr>\n",
       "    <tr>\n",
       "      <td>8821</td>\n",
       "      <td>India</td>\n",
       "      <td>2020-07-02</td>\n",
       "      <td>22.508041</td>\n",
       "      <td>81.466091</td>\n",
       "      <td>18213.0</td>\n",
       "      <td>625544.0</td>\n",
       "      <td>379892.0</td>\n",
       "    </tr>\n",
       "    <tr>\n",
       "      <td>8822</td>\n",
       "      <td>India</td>\n",
       "      <td>2020-07-03</td>\n",
       "      <td>22.508041</td>\n",
       "      <td>81.466091</td>\n",
       "      <td>18655.0</td>\n",
       "      <td>648315.0</td>\n",
       "      <td>394227.0</td>\n",
       "    </tr>\n",
       "    <tr>\n",
       "      <td>8823</td>\n",
       "      <td>India</td>\n",
       "      <td>2020-07-04</td>\n",
       "      <td>22.508041</td>\n",
       "      <td>81.466091</td>\n",
       "      <td>19268.0</td>\n",
       "      <td>673165.0</td>\n",
       "      <td>409083.0</td>\n",
       "    </tr>\n",
       "    <tr>\n",
       "      <td>8824</td>\n",
       "      <td>India</td>\n",
       "      <td>2020-07-05</td>\n",
       "      <td>22.508041</td>\n",
       "      <td>81.466091</td>\n",
       "      <td>19693.0</td>\n",
       "      <td>697413.0</td>\n",
       "      <td>424433.0</td>\n",
       "    </tr>\n",
       "    <tr>\n",
       "      <td>...</td>\n",
       "      <td>...</td>\n",
       "      <td>...</td>\n",
       "      <td>...</td>\n",
       "      <td>...</td>\n",
       "      <td>...</td>\n",
       "      <td>...</td>\n",
       "      <td>...</td>\n",
       "    </tr>\n",
       "    <tr>\n",
       "      <td>8913</td>\n",
       "      <td>India</td>\n",
       "      <td>2020-10-02</td>\n",
       "      <td>22.508041</td>\n",
       "      <td>81.466091</td>\n",
       "      <td>100842.0</td>\n",
       "      <td>6473544.0</td>\n",
       "      <td>5427706.0</td>\n",
       "    </tr>\n",
       "    <tr>\n",
       "      <td>8914</td>\n",
       "      <td>India</td>\n",
       "      <td>2020-10-03</td>\n",
       "      <td>22.508041</td>\n",
       "      <td>81.466091</td>\n",
       "      <td>101782.0</td>\n",
       "      <td>6549373.0</td>\n",
       "      <td>5509966.0</td>\n",
       "    </tr>\n",
       "    <tr>\n",
       "      <td>8915</td>\n",
       "      <td>India</td>\n",
       "      <td>2020-10-04</td>\n",
       "      <td>22.508041</td>\n",
       "      <td>81.466091</td>\n",
       "      <td>102685.0</td>\n",
       "      <td>6623815.0</td>\n",
       "      <td>5586703.0</td>\n",
       "    </tr>\n",
       "    <tr>\n",
       "      <td>8916</td>\n",
       "      <td>India</td>\n",
       "      <td>2020-10-05</td>\n",
       "      <td>22.508041</td>\n",
       "      <td>81.466091</td>\n",
       "      <td>103569.0</td>\n",
       "      <td>6685082.0</td>\n",
       "      <td>5662490.0</td>\n",
       "    </tr>\n",
       "    <tr>\n",
       "      <td>8917</td>\n",
       "      <td>India</td>\n",
       "      <td>2020-10-06</td>\n",
       "      <td>22.508041</td>\n",
       "      <td>81.466091</td>\n",
       "      <td>104555.0</td>\n",
       "      <td>6757131.0</td>\n",
       "      <td>5744693.0</td>\n",
       "    </tr>\n",
       "  </tbody>\n",
       "</table>\n",
       "<p>98 rows × 7 columns</p>\n",
       "</div>"
      ],
      "text/plain": [
       "     Country       Date   Latitude  Longitude    Deaths  Confirmed  Recovered\n",
       "8820   India 2020-07-01  22.508041  81.466091   17834.0   604641.0   359860.0\n",
       "8821   India 2020-07-02  22.508041  81.466091   18213.0   625544.0   379892.0\n",
       "8822   India 2020-07-03  22.508041  81.466091   18655.0   648315.0   394227.0\n",
       "8823   India 2020-07-04  22.508041  81.466091   19268.0   673165.0   409083.0\n",
       "8824   India 2020-07-05  22.508041  81.466091   19693.0   697413.0   424433.0\n",
       "...      ...        ...        ...        ...       ...        ...        ...\n",
       "8913   India 2020-10-02  22.508041  81.466091  100842.0  6473544.0  5427706.0\n",
       "8914   India 2020-10-03  22.508041  81.466091  101782.0  6549373.0  5509966.0\n",
       "8915   India 2020-10-04  22.508041  81.466091  102685.0  6623815.0  5586703.0\n",
       "8916   India 2020-10-05  22.508041  81.466091  103569.0  6685082.0  5662490.0\n",
       "8917   India 2020-10-06  22.508041  81.466091  104555.0  6757131.0  5744693.0\n",
       "\n",
       "[98 rows x 7 columns]"
      ]
     },
     "execution_count": 19,
     "metadata": {},
     "output_type": "execute_result"
    }
   ],
   "source": [
    "df_countries[df_countries[\"Country\"] == \"India\"]"
   ]
  },
  {
   "cell_type": "markdown",
   "metadata": {
    "id": "vKwgFUgIWuau"
   },
   "source": [
    "### 2.3.3 Which country has the lowest ratio of total recovered cases over total confirmed cases by 6th of October 2020? (ignore the countries which have zero recovered cases as this is most probably due to missing data)"
   ]
  },
  {
   "cell_type": "code",
   "execution_count": 20,
   "metadata": {
    "colab": {
     "base_uri": "https://localhost:8080/",
     "height": 521
    },
    "id": "kjZbfKvOWoOJ",
    "outputId": "5296f30e-b007-49e9-8c76-688e1616d092"
   },
   "outputs": [
    {
     "name": "stderr",
     "output_type": "stream",
     "text": [
      "/home/ahmad/anaconda3/lib/python3.7/site-packages/ipykernel_launcher.py:2: SettingWithCopyWarning: \n",
      "A value is trying to be set on a copy of a slice from a DataFrame.\n",
      "Try using .loc[row_indexer,col_indexer] = value instead\n",
      "\n",
      "See the caveats in the documentation: http://pandas.pydata.org/pandas-docs/stable/user_guide/indexing.html#returning-a-view-versus-a-copy\n",
      "  \n"
     ]
    },
    {
     "data": {
      "text/html": [
       "<div>\n",
       "<style scoped>\n",
       "    .dataframe tbody tr th:only-of-type {\n",
       "        vertical-align: middle;\n",
       "    }\n",
       "\n",
       "    .dataframe tbody tr th {\n",
       "        vertical-align: top;\n",
       "    }\n",
       "\n",
       "    .dataframe thead th {\n",
       "        text-align: right;\n",
       "    }\n",
       "</style>\n",
       "<table border=\"1\" class=\"dataframe\">\n",
       "  <thead>\n",
       "    <tr style=\"text-align: right;\">\n",
       "      <th></th>\n",
       "      <th>Country</th>\n",
       "      <th>Date</th>\n",
       "      <th>Latitude</th>\n",
       "      <th>Longitude</th>\n",
       "      <th>Deaths</th>\n",
       "      <th>Confirmed</th>\n",
       "      <th>Recovered</th>\n",
       "      <th>ratio</th>\n",
       "    </tr>\n",
       "  </thead>\n",
       "  <tbody>\n",
       "    <tr>\n",
       "      <td>20285</td>\n",
       "      <td>UnitedKingdom</td>\n",
       "      <td>2020-10-06</td>\n",
       "      <td>53.493763</td>\n",
       "      <td>-3.636748</td>\n",
       "      <td>42493.0</td>\n",
       "      <td>530808.0</td>\n",
       "      <td>600.0</td>\n",
       "      <td>0.001130</td>\n",
       "    </tr>\n",
       "    <tr>\n",
       "      <td>12249</td>\n",
       "      <td>Martinique</td>\n",
       "      <td>2020-10-06</td>\n",
       "      <td>14.667000</td>\n",
       "      <td>-61.000000</td>\n",
       "      <td>22.0</td>\n",
       "      <td>1851.0</td>\n",
       "      <td>98.0</td>\n",
       "      <td>0.052944</td>\n",
       "    </tr>\n",
       "    <tr>\n",
       "      <td>7545</td>\n",
       "      <td>Greece</td>\n",
       "      <td>2020-10-06</td>\n",
       "      <td>39.000000</td>\n",
       "      <td>22.000000</td>\n",
       "      <td>420.0</td>\n",
       "      <td>20541.0</td>\n",
       "      <td>1347.0</td>\n",
       "      <td>0.065576</td>\n",
       "    </tr>\n",
       "    <tr>\n",
       "      <td>6663</td>\n",
       "      <td>France</td>\n",
       "      <td>2020-10-06</td>\n",
       "      <td>46.227600</td>\n",
       "      <td>2.213700</td>\n",
       "      <td>32140.0</td>\n",
       "      <td>646531.0</td>\n",
       "      <td>80933.0</td>\n",
       "      <td>0.125180</td>\n",
       "    </tr>\n",
       "    <tr>\n",
       "      <td>1861</td>\n",
       "      <td>Belgium</td>\n",
       "      <td>2020-10-06</td>\n",
       "      <td>50.833000</td>\n",
       "      <td>4.000000</td>\n",
       "      <td>10092.0</td>\n",
       "      <td>134291.0</td>\n",
       "      <td>19812.0</td>\n",
       "      <td>0.147530</td>\n",
       "    </tr>\n",
       "    <tr>\n",
       "      <td>...</td>\n",
       "      <td>...</td>\n",
       "      <td>...</td>\n",
       "      <td>...</td>\n",
       "      <td>...</td>\n",
       "      <td>...</td>\n",
       "      <td>...</td>\n",
       "      <td>...</td>\n",
       "      <td>...</td>\n",
       "    </tr>\n",
       "    <tr>\n",
       "      <td>14013</td>\n",
       "      <td>NewCaledonia</td>\n",
       "      <td>2020-10-06</td>\n",
       "      <td>-20.904300</td>\n",
       "      <td>165.618000</td>\n",
       "      <td>0.0</td>\n",
       "      <td>27.0</td>\n",
       "      <td>27.0</td>\n",
       "      <td>1.000000</td>\n",
       "    </tr>\n",
       "    <tr>\n",
       "      <td>7643</td>\n",
       "      <td>Greenland</td>\n",
       "      <td>2020-10-06</td>\n",
       "      <td>71.706900</td>\n",
       "      <td>-42.604300</td>\n",
       "      <td>0.0</td>\n",
       "      <td>14.0</td>\n",
       "      <td>14.0</td>\n",
       "      <td>1.000000</td>\n",
       "    </tr>\n",
       "    <tr>\n",
       "      <td>6271</td>\n",
       "      <td>FalklandIslands</td>\n",
       "      <td>2020-10-06</td>\n",
       "      <td>-51.750000</td>\n",
       "      <td>-59.000000</td>\n",
       "      <td>0.0</td>\n",
       "      <td>13.0</td>\n",
       "      <td>13.0</td>\n",
       "      <td>1.000000</td>\n",
       "    </tr>\n",
       "    <tr>\n",
       "      <td>587</td>\n",
       "      <td>Anguilla</td>\n",
       "      <td>2020-10-06</td>\n",
       "      <td>18.210000</td>\n",
       "      <td>-63.058000</td>\n",
       "      <td>0.0</td>\n",
       "      <td>3.0</td>\n",
       "      <td>3.0</td>\n",
       "      <td>1.000000</td>\n",
       "    </tr>\n",
       "    <tr>\n",
       "      <td>7741</td>\n",
       "      <td>Grenada</td>\n",
       "      <td>2020-10-06</td>\n",
       "      <td>12.116670</td>\n",
       "      <td>-61.667000</td>\n",
       "      <td>0.0</td>\n",
       "      <td>24.0</td>\n",
       "      <td>24.0</td>\n",
       "      <td>1.000000</td>\n",
       "    </tr>\n",
       "  </tbody>\n",
       "</table>\n",
       "<p>210 rows × 8 columns</p>\n",
       "</div>"
      ],
      "text/plain": [
       "               Country       Date   Latitude   Longitude   Deaths  Confirmed  \\\n",
       "20285    UnitedKingdom 2020-10-06  53.493763   -3.636748  42493.0   530808.0   \n",
       "12249       Martinique 2020-10-06  14.667000  -61.000000     22.0     1851.0   \n",
       "7545            Greece 2020-10-06  39.000000   22.000000    420.0    20541.0   \n",
       "6663            France 2020-10-06  46.227600    2.213700  32140.0   646531.0   \n",
       "1861           Belgium 2020-10-06  50.833000    4.000000  10092.0   134291.0   \n",
       "...                ...        ...        ...         ...      ...        ...   \n",
       "14013     NewCaledonia 2020-10-06 -20.904300  165.618000      0.0       27.0   \n",
       "7643         Greenland 2020-10-06  71.706900  -42.604300      0.0       14.0   \n",
       "6271   FalklandIslands 2020-10-06 -51.750000  -59.000000      0.0       13.0   \n",
       "587           Anguilla 2020-10-06  18.210000  -63.058000      0.0        3.0   \n",
       "7741           Grenada 2020-10-06  12.116670  -61.667000      0.0       24.0   \n",
       "\n",
       "       Recovered     ratio  \n",
       "20285      600.0  0.001130  \n",
       "12249       98.0  0.052944  \n",
       "7545      1347.0  0.065576  \n",
       "6663     80933.0  0.125180  \n",
       "1861     19812.0  0.147530  \n",
       "...          ...       ...  \n",
       "14013       27.0  1.000000  \n",
       "7643        14.0  1.000000  \n",
       "6271        13.0  1.000000  \n",
       "587          3.0  1.000000  \n",
       "7741        24.0  1.000000  \n",
       "\n",
       "[210 rows x 8 columns]"
      ]
     },
     "execution_count": 20,
     "metadata": {},
     "output_type": "execute_result"
    }
   ],
   "source": [
    "recent_date_df = df_countries[(df_countries[\"Date\"] == \"2020-10-06\") & (df_countries[\"Recovered\"] > 0)]\n",
    "recent_date_df[\"ratio\"] = recent_date_df[\"Recovered\"] / recent_date_df[\"Confirmed\"]\n",
    "recent_date_df.sort_values(\"ratio\", ascending=True)"
   ]
  },
  {
   "cell_type": "markdown",
   "metadata": {
    "id": "HpuYWK-QLB38"
   },
   "source": [
    "### 2.4 BONUS QUESTION. The columns `Deaths`, `Confirmed`, and `Recovered` are expressed using cumulative amounts. Create three new columns `Deaths New`, `Confirmed New`, and `Recovered New` and compute the number of new cases per `Country` for each `Date`. How many new confirmed cases were there in Zimbabwe on October 2, 2020?"
   ]
  },
  {
   "cell_type": "code",
   "execution_count": 21,
   "metadata": {
    "colab": {
     "base_uri": "https://localhost:8080/",
     "height": 419
    },
    "id": "XlP3aRywLB39",
    "outputId": "7deddd31-3434-47a6-fc48-8f0a96418cc0"
   },
   "outputs": [
    {
     "data": {
      "text/html": [
       "<div>\n",
       "<style scoped>\n",
       "    .dataframe tbody tr th:only-of-type {\n",
       "        vertical-align: middle;\n",
       "    }\n",
       "\n",
       "    .dataframe tbody tr th {\n",
       "        vertical-align: top;\n",
       "    }\n",
       "\n",
       "    .dataframe thead th {\n",
       "        text-align: right;\n",
       "    }\n",
       "</style>\n",
       "<table border=\"1\" class=\"dataframe\">\n",
       "  <thead>\n",
       "    <tr style=\"text-align: right;\">\n",
       "      <th></th>\n",
       "      <th>Country</th>\n",
       "      <th>Date</th>\n",
       "      <th>Latitude</th>\n",
       "      <th>Longitude</th>\n",
       "      <th>Deaths</th>\n",
       "      <th>Confirmed</th>\n",
       "      <th>Recovered</th>\n",
       "      <th>Deaths New</th>\n",
       "      <th>Confirmed New</th>\n",
       "      <th>Recovered New</th>\n",
       "    </tr>\n",
       "  </thead>\n",
       "  <tbody>\n",
       "    <tr>\n",
       "      <td>0</td>\n",
       "      <td>Afghanistan</td>\n",
       "      <td>2020-07-01</td>\n",
       "      <td>33.0</td>\n",
       "      <td>65.0</td>\n",
       "      <td>774.0</td>\n",
       "      <td>31836.0</td>\n",
       "      <td>15651.0</td>\n",
       "      <td>NaN</td>\n",
       "      <td>NaN</td>\n",
       "      <td>NaN</td>\n",
       "    </tr>\n",
       "    <tr>\n",
       "      <td>1</td>\n",
       "      <td>Afghanistan</td>\n",
       "      <td>2020-07-02</td>\n",
       "      <td>33.0</td>\n",
       "      <td>65.0</td>\n",
       "      <td>807.0</td>\n",
       "      <td>32022.0</td>\n",
       "      <td>16041.0</td>\n",
       "      <td>33.0</td>\n",
       "      <td>186.0</td>\n",
       "      <td>390.0</td>\n",
       "    </tr>\n",
       "    <tr>\n",
       "      <td>2</td>\n",
       "      <td>Afghanistan</td>\n",
       "      <td>2020-07-03</td>\n",
       "      <td>33.0</td>\n",
       "      <td>65.0</td>\n",
       "      <td>819.0</td>\n",
       "      <td>32324.0</td>\n",
       "      <td>17331.0</td>\n",
       "      <td>12.0</td>\n",
       "      <td>302.0</td>\n",
       "      <td>1290.0</td>\n",
       "    </tr>\n",
       "    <tr>\n",
       "      <td>3</td>\n",
       "      <td>Afghanistan</td>\n",
       "      <td>2020-07-04</td>\n",
       "      <td>33.0</td>\n",
       "      <td>65.0</td>\n",
       "      <td>826.0</td>\n",
       "      <td>32672.0</td>\n",
       "      <td>19164.0</td>\n",
       "      <td>7.0</td>\n",
       "      <td>348.0</td>\n",
       "      <td>1833.0</td>\n",
       "    </tr>\n",
       "    <tr>\n",
       "      <td>4</td>\n",
       "      <td>Afghanistan</td>\n",
       "      <td>2020-07-05</td>\n",
       "      <td>33.0</td>\n",
       "      <td>65.0</td>\n",
       "      <td>864.0</td>\n",
       "      <td>32951.0</td>\n",
       "      <td>19366.0</td>\n",
       "      <td>38.0</td>\n",
       "      <td>279.0</td>\n",
       "      <td>202.0</td>\n",
       "    </tr>\n",
       "    <tr>\n",
       "      <td>...</td>\n",
       "      <td>...</td>\n",
       "      <td>...</td>\n",
       "      <td>...</td>\n",
       "      <td>...</td>\n",
       "      <td>...</td>\n",
       "      <td>...</td>\n",
       "      <td>...</td>\n",
       "      <td>...</td>\n",
       "      <td>...</td>\n",
       "      <td>...</td>\n",
       "    </tr>\n",
       "    <tr>\n",
       "      <td>93</td>\n",
       "      <td>Zimbabwe</td>\n",
       "      <td>2020-10-02</td>\n",
       "      <td>-20.0</td>\n",
       "      <td>30.0</td>\n",
       "      <td>228.0</td>\n",
       "      <td>7858.0</td>\n",
       "      <td>6322.0</td>\n",
       "      <td>0.0</td>\n",
       "      <td>8.0</td>\n",
       "      <td>10.0</td>\n",
       "    </tr>\n",
       "    <tr>\n",
       "      <td>94</td>\n",
       "      <td>Zimbabwe</td>\n",
       "      <td>2020-10-03</td>\n",
       "      <td>-20.0</td>\n",
       "      <td>30.0</td>\n",
       "      <td>228.0</td>\n",
       "      <td>7885.0</td>\n",
       "      <td>6327.0</td>\n",
       "      <td>0.0</td>\n",
       "      <td>27.0</td>\n",
       "      <td>5.0</td>\n",
       "    </tr>\n",
       "    <tr>\n",
       "      <td>95</td>\n",
       "      <td>Zimbabwe</td>\n",
       "      <td>2020-10-04</td>\n",
       "      <td>-20.0</td>\n",
       "      <td>30.0</td>\n",
       "      <td>228.0</td>\n",
       "      <td>7888.0</td>\n",
       "      <td>6359.0</td>\n",
       "      <td>0.0</td>\n",
       "      <td>3.0</td>\n",
       "      <td>32.0</td>\n",
       "    </tr>\n",
       "    <tr>\n",
       "      <td>96</td>\n",
       "      <td>Zimbabwe</td>\n",
       "      <td>2020-10-05</td>\n",
       "      <td>-20.0</td>\n",
       "      <td>30.0</td>\n",
       "      <td>228.0</td>\n",
       "      <td>7898.0</td>\n",
       "      <td>6424.0</td>\n",
       "      <td>0.0</td>\n",
       "      <td>10.0</td>\n",
       "      <td>65.0</td>\n",
       "    </tr>\n",
       "    <tr>\n",
       "      <td>97</td>\n",
       "      <td>Zimbabwe</td>\n",
       "      <td>2020-10-06</td>\n",
       "      <td>-20.0</td>\n",
       "      <td>30.0</td>\n",
       "      <td>229.0</td>\n",
       "      <td>7915.0</td>\n",
       "      <td>6440.0</td>\n",
       "      <td>1.0</td>\n",
       "      <td>17.0</td>\n",
       "      <td>16.0</td>\n",
       "    </tr>\n",
       "  </tbody>\n",
       "</table>\n",
       "<p>21364 rows × 10 columns</p>\n",
       "</div>"
      ],
      "text/plain": [
       "        Country       Date  Latitude  Longitude  Deaths  Confirmed  Recovered  \\\n",
       "0   Afghanistan 2020-07-01      33.0       65.0   774.0    31836.0    15651.0   \n",
       "1   Afghanistan 2020-07-02      33.0       65.0   807.0    32022.0    16041.0   \n",
       "2   Afghanistan 2020-07-03      33.0       65.0   819.0    32324.0    17331.0   \n",
       "3   Afghanistan 2020-07-04      33.0       65.0   826.0    32672.0    19164.0   \n",
       "4   Afghanistan 2020-07-05      33.0       65.0   864.0    32951.0    19366.0   \n",
       "..          ...        ...       ...        ...     ...        ...        ...   \n",
       "93     Zimbabwe 2020-10-02     -20.0       30.0   228.0     7858.0     6322.0   \n",
       "94     Zimbabwe 2020-10-03     -20.0       30.0   228.0     7885.0     6327.0   \n",
       "95     Zimbabwe 2020-10-04     -20.0       30.0   228.0     7888.0     6359.0   \n",
       "96     Zimbabwe 2020-10-05     -20.0       30.0   228.0     7898.0     6424.0   \n",
       "97     Zimbabwe 2020-10-06     -20.0       30.0   229.0     7915.0     6440.0   \n",
       "\n",
       "    Deaths New  Confirmed New  Recovered New  \n",
       "0          NaN            NaN            NaN  \n",
       "1         33.0          186.0          390.0  \n",
       "2         12.0          302.0         1290.0  \n",
       "3          7.0          348.0         1833.0  \n",
       "4         38.0          279.0          202.0  \n",
       "..         ...            ...            ...  \n",
       "93         0.0            8.0           10.0  \n",
       "94         0.0           27.0            5.0  \n",
       "95         0.0            3.0           32.0  \n",
       "96         0.0           10.0           65.0  \n",
       "97         1.0           17.0           16.0  \n",
       "\n",
       "[21364 rows x 10 columns]"
      ]
     },
     "execution_count": 21,
     "metadata": {},
     "output_type": "execute_result"
    }
   ],
   "source": [
    "# Get list of countries\n",
    "countries_list = df_countries[\"Country\"].unique()\n",
    "\n",
    "# Create empty DataFrame\n",
    "df_countries_agg = pd.DataFrame()\n",
    "\n",
    "# Demerge, merge and concat\n",
    "for country in countries_list:\n",
    "    temp_df = df_countries[df_countries[\"Country\"] == country][[\"Deaths\", \"Confirmed\", \"Recovered\"]].diff()\n",
    "    temp_df.columns = [\"Deaths New\", \"Confirmed New\", \"Recovered New\"]\n",
    "    temp_df[\"Date\"] = df_countries[df_countries[\"Country\"] == country][\"Date\"]\n",
    "    \n",
    "    df_merged = df_countries[df_countries[\"Country\"] == country].merge(temp_df, how='outer', on='Date')\n",
    "    \n",
    "    df_countries_agg = pd.concat([df_countries_agg, df_merged])\n",
    "\n",
    "df_countries_agg"
   ]
  },
  {
   "cell_type": "markdown",
   "metadata": {
    "id": "aKlT8YrfLB3_"
   },
   "source": [
    "### 2.5 Plot the cumulative number of `Deaths` over time for Switzerland."
   ]
  },
  {
   "cell_type": "code",
   "execution_count": 22,
   "metadata": {
    "colab": {
     "base_uri": "https://localhost:8080/",
     "height": 308
    },
    "id": "m4UOSgZMLB3_",
    "outputId": "ea15543b-edde-4834-e605-b3293b5d06c5"
   },
   "outputs": [
    {
     "data": {
      "text/plain": [
       "<matplotlib.axes._subplots.AxesSubplot at 0x7f12895297b8>"
      ]
     },
     "execution_count": 22,
     "metadata": {},
     "output_type": "execute_result"
    },
    {
     "data": {
      "image/png": "[encoded data removed]",
      "text/plain": [
       "<Figure size 432x288 with 1 Axes>"
      ]
     },
     "metadata": {
      "needs_background": "light"
     },
     "output_type": "display_data"
    }
   ],
   "source": [
    "country = 'Switzerland'\n",
    "\n",
    "df_countries[df_countries[\"Country\"] == country].plot(x = \"Date\", y = \"Deaths\")"
   ]
  },
  {
   "cell_type": "markdown",
   "metadata": {
    "id": "OSUKHxy9LB4B"
   },
   "source": [
    "### 2.6 Plot the number of new `Deaths` over time for Switzerland (i.e. not cumulative). On which day in this time period (1st of July untill 6th of October), we see a peak in the daily number of deaths in Switzerland?\n",
    "__Hint: Note that for this question you don't need to have the bonus question solved. There is method that you can apply on pandas Series in order to compute the difference between each row and its previous row (or any other element in the Series). This method is called `diff()`. Check out the documentation for more info."
   ]
  },
  {
   "cell_type": "code",
   "execution_count": 23,
   "metadata": {
    "colab": {
     "base_uri": "https://localhost:8080/",
     "height": 308
    },
    "id": "C495inPWLB4C",
    "outputId": "ece0b592-1c88-4690-a281-cf72b92cefd5"
   },
   "outputs": [
    {
     "data": {
      "text/plain": [
       "<matplotlib.axes._subplots.AxesSubplot at 0x7f12854b35c0>"
      ]
     },
     "execution_count": 23,
     "metadata": {},
     "output_type": "execute_result"
    },
    {
     "data": {
      "image/png": "[encoded data removed]",
      "text/plain": [
       "<Figure size 432x288 with 1 Axes>"
      ]
     },
     "metadata": {
      "needs_background": "light"
     },
     "output_type": "display_data"
    }
   ],
   "source": [
    "total_deaths = df_countries[df_countries[\"Country\"] == country][[\"Date\", \"Deaths\"]]\n",
    "total_deaths[\"Daily_Deaths\"] = total_deaths[\"Deaths\"].diff()\n",
    "total_deaths.plot(x=\"Date\", y=\"Daily_Deaths\")"
   ]
  },
  {
   "cell_type": "code",
   "execution_count": 24,
   "metadata": {
    "colab": {
     "base_uri": "https://localhost:8080/",
     "height": 80
    },
    "id": "ozvW5VV8Gv3o",
    "outputId": "88f4fa2c-c00e-4552-9434-8a67c608bfc3"
   },
   "outputs": [
    {
     "data": {
      "text/html": [
       "<div>\n",
       "<style scoped>\n",
       "    .dataframe tbody tr th:only-of-type {\n",
       "        vertical-align: middle;\n",
       "    }\n",
       "\n",
       "    .dataframe tbody tr th {\n",
       "        vertical-align: top;\n",
       "    }\n",
       "\n",
       "    .dataframe thead th {\n",
       "        text-align: right;\n",
       "    }\n",
       "</style>\n",
       "<table border=\"1\" class=\"dataframe\">\n",
       "  <thead>\n",
       "    <tr style=\"text-align: right;\">\n",
       "      <th></th>\n",
       "      <th>Date</th>\n",
       "      <th>Deaths</th>\n",
       "      <th>Daily_Deaths</th>\n",
       "    </tr>\n",
       "  </thead>\n",
       "  <tbody>\n",
       "    <tr>\n",
       "      <td>18893</td>\n",
       "      <td>2020-09-16</td>\n",
       "      <td>2039.0</td>\n",
       "      <td>11.0</td>\n",
       "    </tr>\n",
       "  </tbody>\n",
       "</table>\n",
       "</div>"
      ],
      "text/plain": [
       "            Date  Deaths  Daily_Deaths\n",
       "18893 2020-09-16  2039.0          11.0"
      ]
     },
     "execution_count": 24,
     "metadata": {},
     "output_type": "execute_result"
    }
   ],
   "source": [
    "total_deaths[total_deaths[\"Daily_Deaths\"] == total_deaths[\"Daily_Deaths\"].max()]"
   ]
  },
  {
   "cell_type": "markdown",
   "metadata": {
    "id": "C8WgUG8ULB4E"
   },
   "source": [
    "### 2.7 Using the method you used in the previous question, plot the number of new deaths per week in Switzerland. How many new deaths occured in the week starting from 16th of September and ending on 22nd of September?"
   ]
  },
  {
   "cell_type": "code",
   "execution_count": 25,
   "metadata": {
    "colab": {
     "base_uri": "https://localhost:8080/",
     "height": 308
    },
    "id": "1hWNdFpZVJkR",
    "outputId": "89b49b8a-38b2-4330-d648-8e8b52685c7b"
   },
   "outputs": [
    {
     "data": {
      "text/plain": [
       "<matplotlib.axes._subplots.AxesSubplot at 0x7f1285402780>"
      ]
     },
     "execution_count": 25,
     "metadata": {},
     "output_type": "execute_result"
    },
    {
     "data": {
      "image/png": "[encoded data removed]",
      "text/plain": [
       "<Figure size 432x288 with 1 Axes>"
      ]
     },
     "metadata": {
      "needs_background": "light"
     },
     "output_type": "display_data"
    }
   ],
   "source": [
    "total_deaths.set_index('Date').resample('7D').sum().reset_index().plot(x=\"Date\", y=\"Daily_Deaths\")"
   ]
  },
  {
   "cell_type": "code",
   "execution_count": 26,
   "metadata": {
    "colab": {
     "base_uri": "https://localhost:8080/",
     "height": 514
    },
    "id": "R4SxQx_uTBeM",
    "outputId": "39be977d-b7a3-482c-b837-064fd9a5eb56"
   },
   "outputs": [
    {
     "data": {
      "text/html": [
       "<div>\n",
       "<style scoped>\n",
       "    .dataframe tbody tr th:only-of-type {\n",
       "        vertical-align: middle;\n",
       "    }\n",
       "\n",
       "    .dataframe tbody tr th {\n",
       "        vertical-align: top;\n",
       "    }\n",
       "\n",
       "    .dataframe thead th {\n",
       "        text-align: right;\n",
       "    }\n",
       "</style>\n",
       "<table border=\"1\" class=\"dataframe\">\n",
       "  <thead>\n",
       "    <tr style=\"text-align: right;\">\n",
       "      <th></th>\n",
       "      <th>Deaths</th>\n",
       "      <th>Daily_Deaths</th>\n",
       "    </tr>\n",
       "    <tr>\n",
       "      <th>Date</th>\n",
       "      <th></th>\n",
       "      <th></th>\n",
       "    </tr>\n",
       "  </thead>\n",
       "  <tbody>\n",
       "    <tr>\n",
       "      <td>2020-07-01</td>\n",
       "      <td>13756.0</td>\n",
       "      <td>1.0</td>\n",
       "    </tr>\n",
       "    <tr>\n",
       "      <td>2020-07-08</td>\n",
       "      <td>13770.0</td>\n",
       "      <td>2.0</td>\n",
       "    </tr>\n",
       "    <tr>\n",
       "      <td>2020-07-15</td>\n",
       "      <td>13787.0</td>\n",
       "      <td>4.0</td>\n",
       "    </tr>\n",
       "    <tr>\n",
       "      <td>2020-07-22</td>\n",
       "      <td>13834.0</td>\n",
       "      <td>6.0</td>\n",
       "    </tr>\n",
       "    <tr>\n",
       "      <td>2020-07-29</td>\n",
       "      <td>13864.0</td>\n",
       "      <td>3.0</td>\n",
       "    </tr>\n",
       "    <tr>\n",
       "      <td>2020-08-05</td>\n",
       "      <td>13904.0</td>\n",
       "      <td>9.0</td>\n",
       "    </tr>\n",
       "    <tr>\n",
       "      <td>2020-08-12</td>\n",
       "      <td>13938.0</td>\n",
       "      <td>2.0</td>\n",
       "    </tr>\n",
       "    <tr>\n",
       "      <td>2020-08-19</td>\n",
       "      <td>13998.0</td>\n",
       "      <td>10.0</td>\n",
       "    </tr>\n",
       "    <tr>\n",
       "      <td>2020-08-26</td>\n",
       "      <td>14037.0</td>\n",
       "      <td>9.0</td>\n",
       "    </tr>\n",
       "    <tr>\n",
       "      <td>2020-09-02</td>\n",
       "      <td>14095.0</td>\n",
       "      <td>7.0</td>\n",
       "    </tr>\n",
       "    <tr>\n",
       "      <td>2020-09-09</td>\n",
       "      <td>14153.0</td>\n",
       "      <td>10.0</td>\n",
       "    </tr>\n",
       "    <tr>\n",
       "      <td>2020-09-16</td>\n",
       "      <td>14320.0</td>\n",
       "      <td>26.0</td>\n",
       "    </tr>\n",
       "    <tr>\n",
       "      <td>2020-09-23</td>\n",
       "      <td>14447.0</td>\n",
       "      <td>15.0</td>\n",
       "    </tr>\n",
       "    <tr>\n",
       "      <td>2020-09-30</td>\n",
       "      <td>14535.0</td>\n",
       "      <td>12.0</td>\n",
       "    </tr>\n",
       "  </tbody>\n",
       "</table>\n",
       "</div>"
      ],
      "text/plain": [
       "             Deaths  Daily_Deaths\n",
       "Date                             \n",
       "2020-07-01  13756.0           1.0\n",
       "2020-07-08  13770.0           2.0\n",
       "2020-07-15  13787.0           4.0\n",
       "2020-07-22  13834.0           6.0\n",
       "2020-07-29  13864.0           3.0\n",
       "2020-08-05  13904.0           9.0\n",
       "2020-08-12  13938.0           2.0\n",
       "2020-08-19  13998.0          10.0\n",
       "2020-08-26  14037.0           9.0\n",
       "2020-09-02  14095.0           7.0\n",
       "2020-09-09  14153.0          10.0\n",
       "2020-09-16  14320.0          26.0\n",
       "2020-09-23  14447.0          15.0\n",
       "2020-09-30  14535.0          12.0"
      ]
     },
     "execution_count": 26,
     "metadata": {},
     "output_type": "execute_result"
    }
   ],
   "source": [
    "total_deaths.set_index('Date').resample('7D').sum()"
   ]
  },
  {
   "cell_type": "markdown",
   "metadata": {
    "id": "HWZvwlRSLB4K"
   },
   "source": [
    "### 2.8 For the most recent date and the top 10 countries, generate a map showing the cumulative number of confirmed cases per country. For example, color countries according to their number of confirmed cases."
   ]
  },
  {
   "cell_type": "code",
   "execution_count": 27,
   "metadata": {
    "colab": {
     "base_uri": "https://localhost:8080/",
     "height": 419
    },
    "id": "Hz2cSiLZLB4L",
    "outputId": "d2006f42-f850-4b70-9dde-8d8f4ea0d8bb"
   },
   "outputs": [
    {
     "data": {
      "text/html": [
       "<div>\n",
       "<style scoped>\n",
       "    .dataframe tbody tr th:only-of-type {\n",
       "        vertical-align: middle;\n",
       "    }\n",
       "\n",
       "    .dataframe tbody tr th {\n",
       "        vertical-align: top;\n",
       "    }\n",
       "\n",
       "    .dataframe thead th {\n",
       "        text-align: right;\n",
       "    }\n",
       "</style>\n",
       "<table border=\"1\" class=\"dataframe\">\n",
       "  <thead>\n",
       "    <tr style=\"text-align: right;\">\n",
       "      <th></th>\n",
       "      <th>Country</th>\n",
       "      <th>Confirmed</th>\n",
       "      <th>Latitude</th>\n",
       "      <th>Longitude</th>\n",
       "    </tr>\n",
       "  </thead>\n",
       "  <tbody>\n",
       "    <tr>\n",
       "      <td>97</td>\n",
       "      <td>Afghanistan</td>\n",
       "      <td>39486.0</td>\n",
       "      <td>33.00</td>\n",
       "      <td>65.00</td>\n",
       "    </tr>\n",
       "    <tr>\n",
       "      <td>195</td>\n",
       "      <td>Albania</td>\n",
       "      <td>14568.0</td>\n",
       "      <td>41.00</td>\n",
       "      <td>20.00</td>\n",
       "    </tr>\n",
       "    <tr>\n",
       "      <td>293</td>\n",
       "      <td>Algeria</td>\n",
       "      <td>52399.0</td>\n",
       "      <td>28.00</td>\n",
       "      <td>3.00</td>\n",
       "    </tr>\n",
       "    <tr>\n",
       "      <td>391</td>\n",
       "      <td>Andorra</td>\n",
       "      <td>2370.0</td>\n",
       "      <td>42.50</td>\n",
       "      <td>1.50</td>\n",
       "    </tr>\n",
       "    <tr>\n",
       "      <td>489</td>\n",
       "      <td>Angola</td>\n",
       "      <td>5725.0</td>\n",
       "      <td>-12.50</td>\n",
       "      <td>18.50</td>\n",
       "    </tr>\n",
       "    <tr>\n",
       "      <td>...</td>\n",
       "      <td>...</td>\n",
       "      <td>...</td>\n",
       "      <td>...</td>\n",
       "      <td>...</td>\n",
       "    </tr>\n",
       "    <tr>\n",
       "      <td>20971</td>\n",
       "      <td>Vietnam</td>\n",
       "      <td>1098.0</td>\n",
       "      <td>16.17</td>\n",
       "      <td>107.83</td>\n",
       "    </tr>\n",
       "    <tr>\n",
       "      <td>21069</td>\n",
       "      <td>WesternSahara</td>\n",
       "      <td>10.0</td>\n",
       "      <td>24.50</td>\n",
       "      <td>-13.00</td>\n",
       "    </tr>\n",
       "    <tr>\n",
       "      <td>21167</td>\n",
       "      <td>Yemen</td>\n",
       "      <td>2047.0</td>\n",
       "      <td>15.00</td>\n",
       "      <td>48.00</td>\n",
       "    </tr>\n",
       "    <tr>\n",
       "      <td>21265</td>\n",
       "      <td>Zambia</td>\n",
       "      <td>15170.0</td>\n",
       "      <td>-15.00</td>\n",
       "      <td>30.00</td>\n",
       "    </tr>\n",
       "    <tr>\n",
       "      <td>21363</td>\n",
       "      <td>Zimbabwe</td>\n",
       "      <td>7915.0</td>\n",
       "      <td>-20.00</td>\n",
       "      <td>30.00</td>\n",
       "    </tr>\n",
       "  </tbody>\n",
       "</table>\n",
       "<p>218 rows × 4 columns</p>\n",
       "</div>"
      ],
      "text/plain": [
       "             Country  Confirmed  Latitude  Longitude\n",
       "97       Afghanistan    39486.0     33.00      65.00\n",
       "195          Albania    14568.0     41.00      20.00\n",
       "293          Algeria    52399.0     28.00       3.00\n",
       "391          Andorra     2370.0     42.50       1.50\n",
       "489           Angola     5725.0    -12.50      18.50\n",
       "...              ...        ...       ...        ...\n",
       "20971        Vietnam     1098.0     16.17     107.83\n",
       "21069  WesternSahara       10.0     24.50     -13.00\n",
       "21167          Yemen     2047.0     15.00      48.00\n",
       "21265         Zambia    15170.0    -15.00      30.00\n",
       "21363       Zimbabwe     7915.0    -20.00      30.00\n",
       "\n",
       "[218 rows x 4 columns]"
      ]
     },
     "execution_count": 27,
     "metadata": {},
     "output_type": "execute_result"
    }
   ],
   "source": [
    "last_date = df_countries[df_countries[\"Date\"] == \"2020-10-06\"]\n",
    "last_date = last_date[[\"Country\", \"Confirmed\", \"Latitude\", \"Longitude\"]]\n",
    "last_date"
   ]
  },
  {
   "cell_type": "code",
   "execution_count": 28,
   "metadata": {
    "colab": {
     "base_uri": "https://localhost:8080/",
     "height": 359
    },
    "id": "gMQ0ARulQW5k",
    "outputId": "01720c6c-d56b-4701-82b3-7857b3d26a4c"
   },
   "outputs": [
    {
     "data": {
      "text/html": [
       "<div>\n",
       "<style scoped>\n",
       "    .dataframe tbody tr th:only-of-type {\n",
       "        vertical-align: middle;\n",
       "    }\n",
       "\n",
       "    .dataframe tbody tr th {\n",
       "        vertical-align: top;\n",
       "    }\n",
       "\n",
       "    .dataframe thead th {\n",
       "        text-align: right;\n",
       "    }\n",
       "</style>\n",
       "<table border=\"1\" class=\"dataframe\">\n",
       "  <thead>\n",
       "    <tr style=\"text-align: right;\">\n",
       "      <th></th>\n",
       "      <th>Country</th>\n",
       "      <th>Confirmed</th>\n",
       "      <th>Latitude</th>\n",
       "      <th>Longitude</th>\n",
       "    </tr>\n",
       "  </thead>\n",
       "  <tbody>\n",
       "    <tr>\n",
       "      <td>18031</td>\n",
       "      <td>SouthAfrica</td>\n",
       "      <td>683242.0</td>\n",
       "      <td>-29.000000</td>\n",
       "      <td>24.000000</td>\n",
       "    </tr>\n",
       "    <tr>\n",
       "      <td>12641</td>\n",
       "      <td>Mexico</td>\n",
       "      <td>794608.0</td>\n",
       "      <td>21.794827</td>\n",
       "      <td>-100.543698</td>\n",
       "    </tr>\n",
       "    <tr>\n",
       "      <td>783</td>\n",
       "      <td>Argentina</td>\n",
       "      <td>824468.0</td>\n",
       "      <td>-34.000000</td>\n",
       "      <td>-64.000000</td>\n",
       "    </tr>\n",
       "    <tr>\n",
       "      <td>18325</td>\n",
       "      <td>Spain</td>\n",
       "      <td>825410.0</td>\n",
       "      <td>36.466648</td>\n",
       "      <td>-6.721572</td>\n",
       "    </tr>\n",
       "    <tr>\n",
       "      <td>15189</td>\n",
       "      <td>Peru</td>\n",
       "      <td>829999.0</td>\n",
       "      <td>-10.621369</td>\n",
       "      <td>-75.317329</td>\n",
       "    </tr>\n",
       "    <tr>\n",
       "      <td>4213</td>\n",
       "      <td>Colombia</td>\n",
       "      <td>869808.0</td>\n",
       "      <td>5.328292</td>\n",
       "      <td>-74.165774</td>\n",
       "    </tr>\n",
       "    <tr>\n",
       "      <td>16071</td>\n",
       "      <td>Russia</td>\n",
       "      <td>1231277.0</td>\n",
       "      <td>54.736232</td>\n",
       "      <td>62.570822</td>\n",
       "    </tr>\n",
       "    <tr>\n",
       "      <td>2743</td>\n",
       "      <td>Brazil</td>\n",
       "      <td>4969141.0</td>\n",
       "      <td>-12.348644</td>\n",
       "      <td>-48.687333</td>\n",
       "    </tr>\n",
       "    <tr>\n",
       "      <td>8917</td>\n",
       "      <td>India</td>\n",
       "      <td>6757131.0</td>\n",
       "      <td>22.508041</td>\n",
       "      <td>81.466091</td>\n",
       "    </tr>\n",
       "    <tr>\n",
       "      <td>20383</td>\n",
       "      <td>UnitedStates</td>\n",
       "      <td>7445013.0</td>\n",
       "      <td>39.472800</td>\n",
       "      <td>-89.616806</td>\n",
       "    </tr>\n",
       "  </tbody>\n",
       "</table>\n",
       "</div>"
      ],
      "text/plain": [
       "            Country  Confirmed   Latitude   Longitude\n",
       "18031   SouthAfrica   683242.0 -29.000000   24.000000\n",
       "12641        Mexico   794608.0  21.794827 -100.543698\n",
       "783       Argentina   824468.0 -34.000000  -64.000000\n",
       "18325         Spain   825410.0  36.466648   -6.721572\n",
       "15189          Peru   829999.0 -10.621369  -75.317329\n",
       "4213       Colombia   869808.0   5.328292  -74.165774\n",
       "16071        Russia  1231277.0  54.736232   62.570822\n",
       "2743         Brazil  4969141.0 -12.348644  -48.687333\n",
       "8917          India  6757131.0  22.508041   81.466091\n",
       "20383  UnitedStates  7445013.0  39.472800  -89.616806"
      ]
     },
     "execution_count": 28,
     "metadata": {},
     "output_type": "execute_result"
    }
   ],
   "source": [
    "last_date_top_10 = last_date.sort_values(\"Confirmed\").tail(10)\n",
    "last_date_top_10"
   ]
  },
  {
   "cell_type": "code",
   "execution_count": 33,
   "metadata": {
    "colab": {
     "base_uri": "https://localhost:8080/",
     "height": 913
    },
    "id": "Px0PFBZ0LB4O",
    "outputId": "08f7cc43-e4d0-464d-fc95-0dcdd5973a1f"
   },
   "outputs": [
    {
     "data": {
      "text/html": [
       "<div style=\"width:100%;\"><div style=\"position:relative;width:100%;height:0;padding-bottom:60%;\"><span style=\"color:#565656\">Make this Notebook Trusted to load map: File -> Trust Notebook</span><iframe src=\"about:blank\" style=\"position:absolute;width:100%;height:100%;left:0;top:0;border:none !important;\" data-html=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 onload=\"this.contentDocument.open();this.contentDocument.write(atob(this.getAttribute('data-html')));this.contentDocument.close();\" allowfullscreen webkitallowfullscreen mozallowfullscreen></iframe></div></div>"
      ],
      "text/plain": [
       "<folium.folium.Map at 0x7f9814320208>"
      ]
     },
     "execution_count": 33,
     "metadata": {},
     "output_type": "execute_result"
    }
   ],
   "source": [
    "# Create an empty map\n",
    "m = folium.Map(location=[20,0], tiles=\"Stamen Toner\", zoom_start=2)\n",
    " \n",
    "# Add marker one by one on the map\n",
    "for i in range(0,len(last_date_top_10)):\n",
    "   folium.CircleMarker(\n",
    "      location=[last_date_top_10.iloc[i][\"Latitude\"], last_date_top_10.iloc[i][\"Longitude\"]],\n",
    "      popup=last_date_top_10.iloc[i][\"Country\"],\n",
    "      #tooltip=last_date_top_10.iloc[i][\"Confirmed\"]\n",
    "      radius=float(last_date_top_10.iloc[i]['Confirmed'])/50000,\n",
    "      color='crimson',\n",
    "      fill=True,\n",
    "      fill_color='crimson'\n",
    "   ).add_to(m)\n",
    "\n",
    "# Show the map\n",
    "m"
   ]
  },
  {
   "cell_type": "markdown",
   "metadata": {
    "id": "Tccl01m0LB4R"
   },
   "source": [
    "## 3. Regression\n",
    "__For this section you need to work on the data which is aggregated by countries, i.e, the dataframe you created in question 2.3. Here, we are providing that dataframe for you. So if something has possibly went wrong for you in Section, you could still do this section correctly.__"
   ]
  },
  {
   "cell_type": "code",
   "execution_count": 29,
   "metadata": {},
   "outputs": [],
   "source": [
    "df_countries = pd.read_csv(\"data/COVID_per_country.csv\")"
   ]
  },
  {
   "cell_type": "markdown",
   "metadata": {
    "id": "5ikgRN_QLB4S"
   },
   "source": [
    "### 3.1 Create two new columns `Day` and `Month` with, resp., the day and month values of each row."
   ]
  },
  {
   "cell_type": "code",
   "execution_count": 30,
   "metadata": {
    "colab": {
     "base_uri": "https://localhost:8080/",
     "height": 419
    },
    "id": "hrYyxI-jSOiH",
    "outputId": "c81a5561-7233-489a-8079-2045ecca379d"
   },
   "outputs": [
    {
     "data": {
      "text/html": [
       "<div>\n",
       "<style scoped>\n",
       "    .dataframe tbody tr th:only-of-type {\n",
       "        vertical-align: middle;\n",
       "    }\n",
       "\n",
       "    .dataframe tbody tr th {\n",
       "        vertical-align: top;\n",
       "    }\n",
       "\n",
       "    .dataframe thead th {\n",
       "        text-align: right;\n",
       "    }\n",
       "</style>\n",
       "<table border=\"1\" class=\"dataframe\">\n",
       "  <thead>\n",
       "    <tr style=\"text-align: right;\">\n",
       "      <th></th>\n",
       "      <th>Country</th>\n",
       "      <th>Date</th>\n",
       "      <th>Latitude</th>\n",
       "      <th>Longitude</th>\n",
       "      <th>Deaths</th>\n",
       "      <th>Confirmed</th>\n",
       "      <th>Recovered</th>\n",
       "      <th>Day</th>\n",
       "      <th>Month</th>\n",
       "    </tr>\n",
       "  </thead>\n",
       "  <tbody>\n",
       "    <tr>\n",
       "      <td>0</td>\n",
       "      <td>Afghanistan</td>\n",
       "      <td>2020-07-01</td>\n",
       "      <td>33.0</td>\n",
       "      <td>65.0</td>\n",
       "      <td>774.0</td>\n",
       "      <td>31836.0</td>\n",
       "      <td>15651.0</td>\n",
       "      <td>2020</td>\n",
       "      <td>7</td>\n",
       "    </tr>\n",
       "    <tr>\n",
       "      <td>1</td>\n",
       "      <td>Afghanistan</td>\n",
       "      <td>2020-07-02</td>\n",
       "      <td>33.0</td>\n",
       "      <td>65.0</td>\n",
       "      <td>807.0</td>\n",
       "      <td>32022.0</td>\n",
       "      <td>16041.0</td>\n",
       "      <td>2020</td>\n",
       "      <td>7</td>\n",
       "    </tr>\n",
       "    <tr>\n",
       "      <td>2</td>\n",
       "      <td>Afghanistan</td>\n",
       "      <td>2020-07-03</td>\n",
       "      <td>33.0</td>\n",
       "      <td>65.0</td>\n",
       "      <td>819.0</td>\n",
       "      <td>32324.0</td>\n",
       "      <td>17331.0</td>\n",
       "      <td>2020</td>\n",
       "      <td>7</td>\n",
       "    </tr>\n",
       "    <tr>\n",
       "      <td>3</td>\n",
       "      <td>Afghanistan</td>\n",
       "      <td>2020-07-04</td>\n",
       "      <td>33.0</td>\n",
       "      <td>65.0</td>\n",
       "      <td>826.0</td>\n",
       "      <td>32672.0</td>\n",
       "      <td>19164.0</td>\n",
       "      <td>2020</td>\n",
       "      <td>7</td>\n",
       "    </tr>\n",
       "    <tr>\n",
       "      <td>4</td>\n",
       "      <td>Afghanistan</td>\n",
       "      <td>2020-07-05</td>\n",
       "      <td>33.0</td>\n",
       "      <td>65.0</td>\n",
       "      <td>864.0</td>\n",
       "      <td>32951.0</td>\n",
       "      <td>19366.0</td>\n",
       "      <td>2020</td>\n",
       "      <td>7</td>\n",
       "    </tr>\n",
       "    <tr>\n",
       "      <td>...</td>\n",
       "      <td>...</td>\n",
       "      <td>...</td>\n",
       "      <td>...</td>\n",
       "      <td>...</td>\n",
       "      <td>...</td>\n",
       "      <td>...</td>\n",
       "      <td>...</td>\n",
       "      <td>...</td>\n",
       "      <td>...</td>\n",
       "    </tr>\n",
       "    <tr>\n",
       "      <td>21359</td>\n",
       "      <td>Zimbabwe</td>\n",
       "      <td>2020-10-02</td>\n",
       "      <td>-20.0</td>\n",
       "      <td>30.0</td>\n",
       "      <td>228.0</td>\n",
       "      <td>7858.0</td>\n",
       "      <td>6322.0</td>\n",
       "      <td>2020</td>\n",
       "      <td>10</td>\n",
       "    </tr>\n",
       "    <tr>\n",
       "      <td>21360</td>\n",
       "      <td>Zimbabwe</td>\n",
       "      <td>2020-10-03</td>\n",
       "      <td>-20.0</td>\n",
       "      <td>30.0</td>\n",
       "      <td>228.0</td>\n",
       "      <td>7885.0</td>\n",
       "      <td>6327.0</td>\n",
       "      <td>2020</td>\n",
       "      <td>10</td>\n",
       "    </tr>\n",
       "    <tr>\n",
       "      <td>21361</td>\n",
       "      <td>Zimbabwe</td>\n",
       "      <td>2020-10-04</td>\n",
       "      <td>-20.0</td>\n",
       "      <td>30.0</td>\n",
       "      <td>228.0</td>\n",
       "      <td>7888.0</td>\n",
       "      <td>6359.0</td>\n",
       "      <td>2020</td>\n",
       "      <td>10</td>\n",
       "    </tr>\n",
       "    <tr>\n",
       "      <td>21362</td>\n",
       "      <td>Zimbabwe</td>\n",
       "      <td>2020-10-05</td>\n",
       "      <td>-20.0</td>\n",
       "      <td>30.0</td>\n",
       "      <td>228.0</td>\n",
       "      <td>7898.0</td>\n",
       "      <td>6424.0</td>\n",
       "      <td>2020</td>\n",
       "      <td>10</td>\n",
       "    </tr>\n",
       "    <tr>\n",
       "      <td>21363</td>\n",
       "      <td>Zimbabwe</td>\n",
       "      <td>2020-10-06</td>\n",
       "      <td>-20.0</td>\n",
       "      <td>30.0</td>\n",
       "      <td>229.0</td>\n",
       "      <td>7915.0</td>\n",
       "      <td>6440.0</td>\n",
       "      <td>2020</td>\n",
       "      <td>10</td>\n",
       "    </tr>\n",
       "  </tbody>\n",
       "</table>\n",
       "<p>21364 rows × 9 columns</p>\n",
       "</div>"
      ],
      "text/plain": [
       "           Country        Date  Latitude  Longitude  Deaths  Confirmed  \\\n",
       "0      Afghanistan  2020-07-01      33.0       65.0   774.0    31836.0   \n",
       "1      Afghanistan  2020-07-02      33.0       65.0   807.0    32022.0   \n",
       "2      Afghanistan  2020-07-03      33.0       65.0   819.0    32324.0   \n",
       "3      Afghanistan  2020-07-04      33.0       65.0   826.0    32672.0   \n",
       "4      Afghanistan  2020-07-05      33.0       65.0   864.0    32951.0   \n",
       "...            ...         ...       ...        ...     ...        ...   \n",
       "21359     Zimbabwe  2020-10-02     -20.0       30.0   228.0     7858.0   \n",
       "21360     Zimbabwe  2020-10-03     -20.0       30.0   228.0     7885.0   \n",
       "21361     Zimbabwe  2020-10-04     -20.0       30.0   228.0     7888.0   \n",
       "21362     Zimbabwe  2020-10-05     -20.0       30.0   228.0     7898.0   \n",
       "21363     Zimbabwe  2020-10-06     -20.0       30.0   229.0     7915.0   \n",
       "\n",
       "       Recovered   Day  Month  \n",
       "0        15651.0  2020      7  \n",
       "1        16041.0  2020      7  \n",
       "2        17331.0  2020      7  \n",
       "3        19164.0  2020      7  \n",
       "4        19366.0  2020      7  \n",
       "...          ...   ...    ...  \n",
       "21359     6322.0  2020     10  \n",
       "21360     6327.0  2020     10  \n",
       "21361     6359.0  2020     10  \n",
       "21362     6424.0  2020     10  \n",
       "21363     6440.0  2020     10  \n",
       "\n",
       "[21364 rows x 9 columns]"
      ]
     },
     "execution_count": 30,
     "metadata": {},
     "output_type": "execute_result"
    }
   ],
   "source": [
    "df_countries['Day'] = pd.DatetimeIndex(df_countries['Date']).year\n",
    "df_countries['Month'] = pd.DatetimeIndex(df_countries['Date']).month\n",
    "df_countries"
   ]
  },
  {
   "cell_type": "code",
   "execution_count": 31,
   "metadata": {},
   "outputs": [
    {
     "data": {
      "text/html": [
       "<div>\n",
       "<style scoped>\n",
       "    .dataframe tbody tr th:only-of-type {\n",
       "        vertical-align: middle;\n",
       "    }\n",
       "\n",
       "    .dataframe tbody tr th {\n",
       "        vertical-align: top;\n",
       "    }\n",
       "\n",
       "    .dataframe thead th {\n",
       "        text-align: right;\n",
       "    }\n",
       "</style>\n",
       "<table border=\"1\" class=\"dataframe\">\n",
       "  <thead>\n",
       "    <tr style=\"text-align: right;\">\n",
       "      <th></th>\n",
       "      <th>Country</th>\n",
       "      <th>Date</th>\n",
       "      <th>Latitude</th>\n",
       "      <th>Longitude</th>\n",
       "      <th>Deaths</th>\n",
       "      <th>Confirmed</th>\n",
       "      <th>Recovered</th>\n",
       "      <th>Day</th>\n",
       "      <th>Month</th>\n",
       "    </tr>\n",
       "  </thead>\n",
       "  <tbody>\n",
       "    <tr>\n",
       "      <td>6566</td>\n",
       "      <td>France</td>\n",
       "      <td>2020-07-01</td>\n",
       "      <td>46.2276</td>\n",
       "      <td>2.2137</td>\n",
       "      <td>29780.0</td>\n",
       "      <td>194985.0</td>\n",
       "      <td>71879.0</td>\n",
       "      <td>2020</td>\n",
       "      <td>7</td>\n",
       "    </tr>\n",
       "    <tr>\n",
       "      <td>6567</td>\n",
       "      <td>France</td>\n",
       "      <td>2020-07-02</td>\n",
       "      <td>46.2276</td>\n",
       "      <td>2.2137</td>\n",
       "      <td>29794.0</td>\n",
       "      <td>195458.0</td>\n",
       "      <td>72054.0</td>\n",
       "      <td>2020</td>\n",
       "      <td>7</td>\n",
       "    </tr>\n",
       "    <tr>\n",
       "      <td>6568</td>\n",
       "      <td>France</td>\n",
       "      <td>2020-07-03</td>\n",
       "      <td>46.2276</td>\n",
       "      <td>2.2137</td>\n",
       "      <td>29812.0</td>\n",
       "      <td>195904.0</td>\n",
       "      <td>72181.0</td>\n",
       "      <td>2020</td>\n",
       "      <td>7</td>\n",
       "    </tr>\n",
       "    <tr>\n",
       "      <td>6569</td>\n",
       "      <td>France</td>\n",
       "      <td>2020-07-04</td>\n",
       "      <td>46.2276</td>\n",
       "      <td>2.2137</td>\n",
       "      <td>29812.0</td>\n",
       "      <td>195546.0</td>\n",
       "      <td>72092.0</td>\n",
       "      <td>2020</td>\n",
       "      <td>7</td>\n",
       "    </tr>\n",
       "    <tr>\n",
       "      <td>6570</td>\n",
       "      <td>France</td>\n",
       "      <td>2020-07-05</td>\n",
       "      <td>46.2276</td>\n",
       "      <td>2.2137</td>\n",
       "      <td>29813.0</td>\n",
       "      <td>195535.0</td>\n",
       "      <td>72092.0</td>\n",
       "      <td>2020</td>\n",
       "      <td>7</td>\n",
       "    </tr>\n",
       "    <tr>\n",
       "      <td>...</td>\n",
       "      <td>...</td>\n",
       "      <td>...</td>\n",
       "      <td>...</td>\n",
       "      <td>...</td>\n",
       "      <td>...</td>\n",
       "      <td>...</td>\n",
       "      <td>...</td>\n",
       "      <td>...</td>\n",
       "      <td>...</td>\n",
       "    </tr>\n",
       "    <tr>\n",
       "      <td>6659</td>\n",
       "      <td>France</td>\n",
       "      <td>2020-10-02</td>\n",
       "      <td>46.2276</td>\n",
       "      <td>2.2137</td>\n",
       "      <td>31952.0</td>\n",
       "      <td>601971.0</td>\n",
       "      <td>80061.0</td>\n",
       "      <td>2020</td>\n",
       "      <td>10</td>\n",
       "    </tr>\n",
       "    <tr>\n",
       "      <td>6660</td>\n",
       "      <td>France</td>\n",
       "      <td>2020-10-03</td>\n",
       "      <td>46.2276</td>\n",
       "      <td>2.2137</td>\n",
       "      <td>31952.0</td>\n",
       "      <td>601971.0</td>\n",
       "      <td>80061.0</td>\n",
       "      <td>2020</td>\n",
       "      <td>10</td>\n",
       "    </tr>\n",
       "    <tr>\n",
       "      <td>6661</td>\n",
       "      <td>France</td>\n",
       "      <td>2020-10-04</td>\n",
       "      <td>46.2276</td>\n",
       "      <td>2.2137</td>\n",
       "      <td>31952.0</td>\n",
       "      <td>601971.0</td>\n",
       "      <td>80061.0</td>\n",
       "      <td>2020</td>\n",
       "      <td>10</td>\n",
       "    </tr>\n",
       "    <tr>\n",
       "      <td>6662</td>\n",
       "      <td>France</td>\n",
       "      <td>2020-10-05</td>\n",
       "      <td>46.2276</td>\n",
       "      <td>2.2137</td>\n",
       "      <td>32096.0</td>\n",
       "      <td>636196.0</td>\n",
       "      <td>80394.0</td>\n",
       "      <td>2020</td>\n",
       "      <td>10</td>\n",
       "    </tr>\n",
       "    <tr>\n",
       "      <td>6663</td>\n",
       "      <td>France</td>\n",
       "      <td>2020-10-06</td>\n",
       "      <td>46.2276</td>\n",
       "      <td>2.2137</td>\n",
       "      <td>32140.0</td>\n",
       "      <td>646531.0</td>\n",
       "      <td>80933.0</td>\n",
       "      <td>2020</td>\n",
       "      <td>10</td>\n",
       "    </tr>\n",
       "  </tbody>\n",
       "</table>\n",
       "<p>98 rows × 9 columns</p>\n",
       "</div>"
      ],
      "text/plain": [
       "     Country        Date  Latitude  Longitude   Deaths  Confirmed  Recovered  \\\n",
       "6566  France  2020-07-01   46.2276     2.2137  29780.0   194985.0    71879.0   \n",
       "6567  France  2020-07-02   46.2276     2.2137  29794.0   195458.0    72054.0   \n",
       "6568  France  2020-07-03   46.2276     2.2137  29812.0   195904.0    72181.0   \n",
       "6569  France  2020-07-04   46.2276     2.2137  29812.0   195546.0    72092.0   \n",
       "6570  France  2020-07-05   46.2276     2.2137  29813.0   195535.0    72092.0   \n",
       "...      ...         ...       ...        ...      ...        ...        ...   \n",
       "6659  France  2020-10-02   46.2276     2.2137  31952.0   601971.0    80061.0   \n",
       "6660  France  2020-10-03   46.2276     2.2137  31952.0   601971.0    80061.0   \n",
       "6661  France  2020-10-04   46.2276     2.2137  31952.0   601971.0    80061.0   \n",
       "6662  France  2020-10-05   46.2276     2.2137  32096.0   636196.0    80394.0   \n",
       "6663  France  2020-10-06   46.2276     2.2137  32140.0   646531.0    80933.0   \n",
       "\n",
       "       Day  Month  \n",
       "6566  2020      7  \n",
       "6567  2020      7  \n",
       "6568  2020      7  \n",
       "6569  2020      7  \n",
       "6570  2020      7  \n",
       "...    ...    ...  \n",
       "6659  2020     10  \n",
       "6660  2020     10  \n",
       "6661  2020     10  \n",
       "6662  2020     10  \n",
       "6663  2020     10  \n",
       "\n",
       "[98 rows x 9 columns]"
      ]
     },
     "execution_count": 31,
     "metadata": {},
     "output_type": "execute_result"
    }
   ],
   "source": [
    "df_countries[df_countries[\"Country\"] == \"France\"]"
   ]
  },
  {
   "cell_type": "markdown",
   "metadata": {
    "id": "t13mAFSbifTl"
   },
   "source": [
    "### 3.2 Regress `Confirmed` (y) on `Latitude`, `Longitude`, `Day`, and `Month` (X)."
   ]
  },
  {
   "cell_type": "markdown",
   "metadata": {
    "id": "EIkL-LChi5dg"
   },
   "source": [
    "#### 3.2.1 Select the dependent variable (y) and independent (X) variables"
   ]
  },
  {
   "cell_type": "code",
   "execution_count": 32,
   "metadata": {
    "id": "06ksnNQQhrWc"
   },
   "outputs": [],
   "source": [
    "y = df_countries[\"Confirmed\"]\n",
    "X = df_countries[[\"Latitude\", \"Longitude\", \"Day\", \"Month\"]]"
   ]
  },
  {
   "cell_type": "markdown",
   "metadata": {
    "id": "fU7u8rmfLB4X"
   },
   "source": [
    "#### 3.2.2 Split your dataset into a training set (80%) and a test set (20%). Use `sklearn.model_selection.train_test_split()` and set the `random_state` to 42."
   ]
  },
  {
   "cell_type": "code",
   "execution_count": 33,
   "metadata": {
    "id": "uiOYljWciOyx"
   },
   "outputs": [],
   "source": [
    "from sklearn.model_selection import train_test_split\n",
    "X_train, X_test, y_train, y_test = train_test_split(X, y, test_size=0.2, random_state=42)"
   ]
  },
  {
   "cell_type": "markdown",
   "metadata": {
    "id": "0OzbbArKLB4b"
   },
   "source": [
    "#### 3.2.3 Train a linear regression model on the training data. What is the R^2 score for the training data? (answer rounded to 2 decimal floating point accuray)"
   ]
  },
  {
   "cell_type": "code",
   "execution_count": 35,
   "metadata": {
    "colab": {
     "base_uri": "https://localhost:8080/",
     "height": 34
    },
    "id": "owUEg5ZOjv90",
    "outputId": "4f72d4cd-8c4a-4dea-bd41-e45f86048dcf"
   },
   "outputs": [
    {
     "data": {
      "text/plain": [
       "array([  317.38477715,  -735.10178338,     0.        , 33913.75210378])"
      ]
     },
     "execution_count": 35,
     "metadata": {},
     "output_type": "execute_result"
    }
   ],
   "source": [
    "from sklearn.linear_model import LinearRegression\n",
    "reg = LinearRegression().fit(X_train, y_train)\n",
    "reg.coef_"
   ]
  },
  {
   "cell_type": "code",
   "execution_count": 36,
   "metadata": {
    "colab": {
     "base_uri": "https://localhost:8080/",
     "height": 34
    },
    "id": "-EQLzR_fluu5",
    "outputId": "0ede3a42-86fd-49ee-b0a5-55cf8375bda2"
   },
   "outputs": [
    {
     "data": {
      "text/plain": [
       "0.01223642963800009"
      ]
     },
     "execution_count": 36,
     "metadata": {},
     "output_type": "execute_result"
    }
   ],
   "source": [
    "reg.score(X_train, y_train)"
   ]
  },
  {
   "cell_type": "markdown",
   "metadata": {
    "id": "4MD8G60ckdSW"
   },
   "source": [
    "#### 3.2.4 Predict: What would be the total number of confirmed cases by 10th of October for France?"
   ]
  },
  {
   "cell_type": "code",
   "execution_count": 38,
   "metadata": {},
   "outputs": [
    {
     "data": {
      "text/html": [
       "<div>\n",
       "<style scoped>\n",
       "    .dataframe tbody tr th:only-of-type {\n",
       "        vertical-align: middle;\n",
       "    }\n",
       "\n",
       "    .dataframe tbody tr th {\n",
       "        vertical-align: top;\n",
       "    }\n",
       "\n",
       "    .dataframe thead th {\n",
       "        text-align: right;\n",
       "    }\n",
       "</style>\n",
       "<table border=\"1\" class=\"dataframe\">\n",
       "  <thead>\n",
       "    <tr style=\"text-align: right;\">\n",
       "      <th></th>\n",
       "      <th>Latitude</th>\n",
       "      <th>Longitude</th>\n",
       "      <th>Day</th>\n",
       "      <th>Month</th>\n",
       "    </tr>\n",
       "  </thead>\n",
       "  <tbody>\n",
       "    <tr>\n",
       "      <td>0</td>\n",
       "      <td>46.2276</td>\n",
       "      <td>2.2137</td>\n",
       "      <td>10</td>\n",
       "      <td>10</td>\n",
       "    </tr>\n",
       "  </tbody>\n",
       "</table>\n",
       "</div>"
      ],
      "text/plain": [
       "   Latitude  Longitude  Day  Month\n",
       "0   46.2276     2.2137   10     10"
      ]
     },
     "execution_count": 38,
     "metadata": {},
     "output_type": "execute_result"
    }
   ],
   "source": [
    "X_new = pd.DataFrame({'Latitude':df_countries[df_countries.Country == \"France\"].Latitude.values[0], \n",
    "         'Longitude':df_countries[df_countries.Country == \"France\"].Longitude.values[0],\n",
    "         'Day':10, 'Month':10}, index=[0])\n",
    "X_new"
   ]
  },
  {
   "cell_type": "code",
   "execution_count": 39,
   "metadata": {
    "colab": {
     "base_uri": "https://localhost:8080/",
     "height": 34
    },
    "id": "ILUhNtlgkGVY",
    "outputId": "d700b875-3ff2-4bfa-8e4f-eeb3025aafdf"
   },
   "outputs": [
    {
     "name": "stdout",
     "output_type": "stream",
     "text": [
      "[183180.04660159]\n"
     ]
    }
   ],
   "source": [
    "y_pred = reg.predict(X_new)\n",
    "print(y_pred)"
   ]
  },
  {
   "cell_type": "code",
   "execution_count": 40,
   "metadata": {
    "colab": {
     "base_uri": "https://localhost:8080/",
     "height": 419
    },
    "id": "97DSjHWflUcS",
    "outputId": "1c0159f8-d610-4811-ac7d-76d242664816"
   },
   "outputs": [
    {
     "data": {
      "text/html": [
       "<div>\n",
       "<style scoped>\n",
       "    .dataframe tbody tr th:only-of-type {\n",
       "        vertical-align: middle;\n",
       "    }\n",
       "\n",
       "    .dataframe tbody tr th {\n",
       "        vertical-align: top;\n",
       "    }\n",
       "\n",
       "    .dataframe thead th {\n",
       "        text-align: right;\n",
       "    }\n",
       "</style>\n",
       "<table border=\"1\" class=\"dataframe\">\n",
       "  <thead>\n",
       "    <tr style=\"text-align: right;\">\n",
       "      <th></th>\n",
       "      <th>Country</th>\n",
       "      <th>Date</th>\n",
       "      <th>Latitude</th>\n",
       "      <th>Longitude</th>\n",
       "      <th>Deaths</th>\n",
       "      <th>Confirmed</th>\n",
       "      <th>Recovered</th>\n",
       "      <th>Day</th>\n",
       "      <th>Month</th>\n",
       "    </tr>\n",
       "  </thead>\n",
       "  <tbody>\n",
       "    <tr>\n",
       "      <td>6566</td>\n",
       "      <td>France</td>\n",
       "      <td>2020-07-01</td>\n",
       "      <td>46.2276</td>\n",
       "      <td>2.2137</td>\n",
       "      <td>29780.0</td>\n",
       "      <td>194985.0</td>\n",
       "      <td>71879.0</td>\n",
       "      <td>2020</td>\n",
       "      <td>7</td>\n",
       "    </tr>\n",
       "    <tr>\n",
       "      <td>6567</td>\n",
       "      <td>France</td>\n",
       "      <td>2020-07-02</td>\n",
       "      <td>46.2276</td>\n",
       "      <td>2.2137</td>\n",
       "      <td>29794.0</td>\n",
       "      <td>195458.0</td>\n",
       "      <td>72054.0</td>\n",
       "      <td>2020</td>\n",
       "      <td>7</td>\n",
       "    </tr>\n",
       "    <tr>\n",
       "      <td>6568</td>\n",
       "      <td>France</td>\n",
       "      <td>2020-07-03</td>\n",
       "      <td>46.2276</td>\n",
       "      <td>2.2137</td>\n",
       "      <td>29812.0</td>\n",
       "      <td>195904.0</td>\n",
       "      <td>72181.0</td>\n",
       "      <td>2020</td>\n",
       "      <td>7</td>\n",
       "    </tr>\n",
       "    <tr>\n",
       "      <td>6569</td>\n",
       "      <td>France</td>\n",
       "      <td>2020-07-04</td>\n",
       "      <td>46.2276</td>\n",
       "      <td>2.2137</td>\n",
       "      <td>29812.0</td>\n",
       "      <td>195546.0</td>\n",
       "      <td>72092.0</td>\n",
       "      <td>2020</td>\n",
       "      <td>7</td>\n",
       "    </tr>\n",
       "    <tr>\n",
       "      <td>6570</td>\n",
       "      <td>France</td>\n",
       "      <td>2020-07-05</td>\n",
       "      <td>46.2276</td>\n",
       "      <td>2.2137</td>\n",
       "      <td>29813.0</td>\n",
       "      <td>195535.0</td>\n",
       "      <td>72092.0</td>\n",
       "      <td>2020</td>\n",
       "      <td>7</td>\n",
       "    </tr>\n",
       "    <tr>\n",
       "      <td>...</td>\n",
       "      <td>...</td>\n",
       "      <td>...</td>\n",
       "      <td>...</td>\n",
       "      <td>...</td>\n",
       "      <td>...</td>\n",
       "      <td>...</td>\n",
       "      <td>...</td>\n",
       "      <td>...</td>\n",
       "      <td>...</td>\n",
       "    </tr>\n",
       "    <tr>\n",
       "      <td>6659</td>\n",
       "      <td>France</td>\n",
       "      <td>2020-10-02</td>\n",
       "      <td>46.2276</td>\n",
       "      <td>2.2137</td>\n",
       "      <td>31952.0</td>\n",
       "      <td>601971.0</td>\n",
       "      <td>80061.0</td>\n",
       "      <td>2020</td>\n",
       "      <td>10</td>\n",
       "    </tr>\n",
       "    <tr>\n",
       "      <td>6660</td>\n",
       "      <td>France</td>\n",
       "      <td>2020-10-03</td>\n",
       "      <td>46.2276</td>\n",
       "      <td>2.2137</td>\n",
       "      <td>31952.0</td>\n",
       "      <td>601971.0</td>\n",
       "      <td>80061.0</td>\n",
       "      <td>2020</td>\n",
       "      <td>10</td>\n",
       "    </tr>\n",
       "    <tr>\n",
       "      <td>6661</td>\n",
       "      <td>France</td>\n",
       "      <td>2020-10-04</td>\n",
       "      <td>46.2276</td>\n",
       "      <td>2.2137</td>\n",
       "      <td>31952.0</td>\n",
       "      <td>601971.0</td>\n",
       "      <td>80061.0</td>\n",
       "      <td>2020</td>\n",
       "      <td>10</td>\n",
       "    </tr>\n",
       "    <tr>\n",
       "      <td>6662</td>\n",
       "      <td>France</td>\n",
       "      <td>2020-10-05</td>\n",
       "      <td>46.2276</td>\n",
       "      <td>2.2137</td>\n",
       "      <td>32096.0</td>\n",
       "      <td>636196.0</td>\n",
       "      <td>80394.0</td>\n",
       "      <td>2020</td>\n",
       "      <td>10</td>\n",
       "    </tr>\n",
       "    <tr>\n",
       "      <td>6663</td>\n",
       "      <td>France</td>\n",
       "      <td>2020-10-06</td>\n",
       "      <td>46.2276</td>\n",
       "      <td>2.2137</td>\n",
       "      <td>32140.0</td>\n",
       "      <td>646531.0</td>\n",
       "      <td>80933.0</td>\n",
       "      <td>2020</td>\n",
       "      <td>10</td>\n",
       "    </tr>\n",
       "  </tbody>\n",
       "</table>\n",
       "<p>98 rows × 9 columns</p>\n",
       "</div>"
      ],
      "text/plain": [
       "     Country        Date  Latitude  Longitude   Deaths  Confirmed  Recovered  \\\n",
       "6566  France  2020-07-01   46.2276     2.2137  29780.0   194985.0    71879.0   \n",
       "6567  France  2020-07-02   46.2276     2.2137  29794.0   195458.0    72054.0   \n",
       "6568  France  2020-07-03   46.2276     2.2137  29812.0   195904.0    72181.0   \n",
       "6569  France  2020-07-04   46.2276     2.2137  29812.0   195546.0    72092.0   \n",
       "6570  France  2020-07-05   46.2276     2.2137  29813.0   195535.0    72092.0   \n",
       "...      ...         ...       ...        ...      ...        ...        ...   \n",
       "6659  France  2020-10-02   46.2276     2.2137  31952.0   601971.0    80061.0   \n",
       "6660  France  2020-10-03   46.2276     2.2137  31952.0   601971.0    80061.0   \n",
       "6661  France  2020-10-04   46.2276     2.2137  31952.0   601971.0    80061.0   \n",
       "6662  France  2020-10-05   46.2276     2.2137  32096.0   636196.0    80394.0   \n",
       "6663  France  2020-10-06   46.2276     2.2137  32140.0   646531.0    80933.0   \n",
       "\n",
       "       Day  Month  \n",
       "6566  2020      7  \n",
       "6567  2020      7  \n",
       "6568  2020      7  \n",
       "6569  2020      7  \n",
       "6570  2020      7  \n",
       "...    ...    ...  \n",
       "6659  2020     10  \n",
       "6660  2020     10  \n",
       "6661  2020     10  \n",
       "6662  2020     10  \n",
       "6663  2020     10  \n",
       "\n",
       "[98 rows x 9 columns]"
      ]
     },
     "execution_count": 40,
     "metadata": {},
     "output_type": "execute_result"
    }
   ],
   "source": [
    "df_countries[df_countries[\"Country\"] == \"France\"]"
   ]
  },
  {
   "cell_type": "markdown",
   "metadata": {
    "id": "q4sZKjsJPlRk"
   },
   "source": [
    "__You can see that this prediction is pretty inaccurate. Try to train a new model but this time only on the data samples for France. Could you improve the prediction?__"
   ]
  },
  {
   "cell_type": "code",
   "execution_count": 41,
   "metadata": {
    "colab": {
     "base_uri": "https://localhost:8080/",
     "height": 34
    },
    "id": "XGvcmmdgOnXp",
    "outputId": "23223f08-f81d-4548-fdc0-e0e06f8e5b2d"
   },
   "outputs": [
    {
     "data": {
      "text/plain": [
       "0.7932342243728048"
      ]
     },
     "execution_count": 41,
     "metadata": {},
     "output_type": "execute_result"
    }
   ],
   "source": [
    "y = df_countries[df_countries[\"Country\"] == \"France\"][\"Confirmed\"]\n",
    "X = df_countries[df_countries[\"Country\"] == \"France\"][[\"Day\", \"Month\"]]\n",
    "X_train, X_test, y_train, y_test = train_test_split(X, y, test_size=0.2, random_state=42)\n",
    "reg = LinearRegression().fit(X_train, y_train)\n",
    "reg.score(X_train, y_train)"
   ]
  },
  {
   "cell_type": "code",
   "execution_count": 43,
   "metadata": {
    "colab": {
     "base_uri": "https://localhost:8080/",
     "height": 34
    },
    "id": "JJa5A9qlQR1Y",
    "outputId": "7efdb049-24e9-48d0-fd66-c6cdf04d6a5c"
   },
   "outputs": [
    {
     "name": "stdout",
     "output_type": "stream",
     "text": [
      "[549347.81904762]\n"
     ]
    }
   ],
   "source": [
    "y_pred = reg.predict(X_new[[\"Day\", \"Month\"]])\n",
    "print(y_pred)"
   ]
  },
  {
   "cell_type": "code",
   "execution_count": null,
   "metadata": {
    "id": "pbb0WM6uQWE9"
   },
   "outputs": [],
   "source": []
  }
 ],
 "metadata": {
  "colab": {
   "collapsed_sections": [],
   "name": "Assignment1_Sol.ipynb",
   "provenance": []
  },
  "kernelspec": {
   "display_name": "Python 3",
   "language": "python",
   "name": "python3"
  },
  "language_info": {
   "codemirror_mode": {
    "name": "ipython",
    "version": 3
   },
   "file_extension": ".py",
   "mimetype": "text/x-python",
   "name": "python",
   "nbconvert_exporter": "python",
   "pygments_lexer": "ipython3",
   "version": "3.7.3"
  }
 },
 "nbformat": 4,
 "nbformat_minor": 1
}
