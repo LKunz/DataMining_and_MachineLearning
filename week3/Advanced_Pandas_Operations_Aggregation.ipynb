{
  "nbformat": 4,
  "nbformat_minor": 0,
  "metadata": {
    "colab": {
      "name": "Advanced_Pandas.ipynb",
      "provenance": [],
      "include_colab_link": true
    },
    "kernelspec": {
      "name": "python3",
      "display_name": "Python 3"
    }
  },
  "cells": [
    {
      "cell_type": "markdown",
      "metadata": {
        "id": "view-in-github",
        "colab_type": "text"
      },
      "source": [
        "<a href=\"https://colab.research.google.com/github/michalis0/DataMining_and_MachineLearning/blob/master/week3/Advanced_Pandas_Operations_Aggregation.ipynb\" target=\"_parent\"><img src=\"https://colab.research.google.com/assets/colab-badge.svg\" alt=\"Open In Colab\"/></a>"
      ]
    },
    {
      "cell_type": "markdown",
      "metadata": {
        "id": "cWvWQIFUSY3G"
      },
      "source": [
        "# Data Mining and Machine Learning - Week 3\n",
        "# Advanced Pandas Operations - Aggregation\n",
        "\n",
        "### Table of Contents\n",
        "###### 1. Simple Aggregation\n",
        "###### 2. Advanced aggregation topics and chaining\n",
        "###### 3. Selecting using an aggregating dimension\n",
        "\n",
        "Note: This notebook follows the sildes of the pdf file <a href='https://github.com/michalis0/DataMining_and_MachineLearning/blob/master/week3/Walk-Through-Tutorial/3.%20Pandas_Aggregate.pdf'>3. Pandas_Aggregate.pdf</a> provided in the github repository."
      ]
    },
    {
      "cell_type": "code",
      "metadata": {
        "id": "lTzbL01dUvCw"
      },
      "source": [
        "# Import required packages\n",
        "import pandas as pd"
      ],
      "execution_count": 1,
      "outputs": []
    },
    {
      "cell_type": "code",
      "metadata": {
        "id": "Y7Z78PDqUiON",
        "outputId": "237acdf1-18d2-45ea-9cf5-fbdd7c31a565",
        "colab": {
          "base_uri": "https://localhost:8080/",
          "height": 136
        }
      },
      "source": [
        "# Read in data\n",
        "myData = pd.read_csv(\"https://raw.githubusercontent.com/michalis0/DataMining_and_MachineLearning/master/week3/data/transactions_students.csv\", sep=\",\")\n",
        "myData.head(3)"
      ],
      "execution_count": 2,
      "outputs": [
        {
          "output_type": "execute_result",
          "data": {
            "text/html": [
              "<div>\n",
              "<style scoped>\n",
              "    .dataframe tbody tr th:only-of-type {\n",
              "        vertical-align: middle;\n",
              "    }\n",
              "\n",
              "    .dataframe tbody tr th {\n",
              "        vertical-align: top;\n",
              "    }\n",
              "\n",
              "    .dataframe thead th {\n",
              "        text-align: right;\n",
              "    }\n",
              "</style>\n",
              "<table border=\"1\" class=\"dataframe\">\n",
              "  <thead>\n",
              "    <tr style=\"text-align: right;\">\n",
              "      <th></th>\n",
              "      <th>Customer</th>\n",
              "      <th>TransDate</th>\n",
              "      <th>Quantity</th>\n",
              "      <th>PurchAmount</th>\n",
              "      <th>Cost</th>\n",
              "      <th>TransID</th>\n",
              "    </tr>\n",
              "  </thead>\n",
              "  <tbody>\n",
              "    <tr>\n",
              "      <th>0</th>\n",
              "      <td>149332</td>\n",
              "      <td>15.11.2005</td>\n",
              "      <td>1</td>\n",
              "      <td>199.95</td>\n",
              "      <td>107.0</td>\n",
              "      <td>127998739</td>\n",
              "    </tr>\n",
              "    <tr>\n",
              "      <th>1</th>\n",
              "      <td>172951</td>\n",
              "      <td>29.08.2008</td>\n",
              "      <td>1</td>\n",
              "      <td>199.95</td>\n",
              "      <td>108.0</td>\n",
              "      <td>128888288</td>\n",
              "    </tr>\n",
              "    <tr>\n",
              "      <th>2</th>\n",
              "      <td>120621</td>\n",
              "      <td>19.10.2007</td>\n",
              "      <td>1</td>\n",
              "      <td>99.95</td>\n",
              "      <td>49.0</td>\n",
              "      <td>125375247</td>\n",
              "    </tr>\n",
              "  </tbody>\n",
              "</table>\n",
              "</div>"
            ],
            "text/plain": [
              "   Customer   TransDate  Quantity  PurchAmount   Cost    TransID\n",
              "0    149332  15.11.2005         1       199.95  107.0  127998739\n",
              "1    172951  29.08.2008         1       199.95  108.0  128888288\n",
              "2    120621  19.10.2007         1        99.95   49.0  125375247"
            ]
          },
          "metadata": {
            "tags": []
          },
          "execution_count": 2
        }
      ]
    },
    {
      "cell_type": "code",
      "metadata": {
        "id": "f2RN-Ha7UqPz",
        "outputId": "457ebaad-4b9d-4f21-a108-3f4c4df81f22",
        "colab": {
          "base_uri": "https://localhost:8080/",
          "height": 235
        }
      },
      "source": [
        "# Get some information\n",
        "myData.info()"
      ],
      "execution_count": 3,
      "outputs": [
        {
          "output_type": "stream",
          "text": [
            "<class 'pandas.core.frame.DataFrame'>\n",
            "RangeIndex: 223191 entries, 0 to 223190\n",
            "Data columns (total 6 columns):\n",
            " #   Column       Non-Null Count   Dtype  \n",
            "---  ------       --------------   -----  \n",
            " 0   Customer     223191 non-null  int64  \n",
            " 1   TransDate    223191 non-null  object \n",
            " 2   Quantity     223191 non-null  int64  \n",
            " 3   PurchAmount  223191 non-null  float64\n",
            " 4   Cost         223191 non-null  float64\n",
            " 5   TransID      223191 non-null  int64  \n",
            "dtypes: float64(2), int64(3), object(1)\n",
            "memory usage: 10.2+ MB\n"
          ],
          "name": "stdout"
        }
      ]
    },
    {
      "cell_type": "code",
      "metadata": {
        "id": "No3JvI4LWeL3",
        "outputId": "9d25df6c-e378-483e-d926-5c32ebc2a5b0",
        "colab": {
          "base_uri": "https://localhost:8080/",
          "height": 235
        }
      },
      "source": [
        "# Adjust the format of column \"TransDate\" to datetime.\n",
        "myData[\"TransDate\"]  = pd.to_datetime(myData[\"TransDate\"], dayfirst=True)\n",
        "\n",
        "# Alternative conversion: Convert date from string to date times\n",
        "# import dateutil\n",
        "# myData[\"TransDate\"] = myData[\"TransDate\"].apply(dateutil.parser.parse, dayfirst=True)\n",
        "\n",
        "myData.info()"
      ],
      "execution_count": 4,
      "outputs": [
        {
          "output_type": "stream",
          "text": [
            "<class 'pandas.core.frame.DataFrame'>\n",
            "RangeIndex: 223191 entries, 0 to 223190\n",
            "Data columns (total 6 columns):\n",
            " #   Column       Non-Null Count   Dtype         \n",
            "---  ------       --------------   -----         \n",
            " 0   Customer     223191 non-null  int64         \n",
            " 1   TransDate    223191 non-null  datetime64[ns]\n",
            " 2   Quantity     223191 non-null  int64         \n",
            " 3   PurchAmount  223191 non-null  float64       \n",
            " 4   Cost         223191 non-null  float64       \n",
            " 5   TransID      223191 non-null  int64         \n",
            "dtypes: datetime64[ns](1), float64(2), int64(3)\n",
            "memory usage: 10.2 MB\n"
          ],
          "name": "stdout"
        }
      ]
    },
    {
      "cell_type": "code",
      "metadata": {
        "id": "dEoAgQSnT85I",
        "outputId": "2e93d501-0a07-4e5a-e521-80735b38a9c8",
        "colab": {
          "base_uri": "https://localhost:8080/",
          "height": 118
        }
      },
      "source": [
        "myData[\"TransDate\"].head()"
      ],
      "execution_count": 6,
      "outputs": [
        {
          "output_type": "execute_result",
          "data": {
            "text/plain": [
              "0   2005-11-15\n",
              "1   2008-08-29\n",
              "2   2007-10-19\n",
              "3   2005-11-14\n",
              "4   2007-06-12\n",
              "Name: TransDate, dtype: datetime64[ns]"
            ]
          },
          "metadata": {
            "tags": []
          },
          "execution_count": 6
        }
      ]
    },
    {
      "cell_type": "code",
      "metadata": {
        "id": "IYSonPn7bWIN"
      },
      "source": [
        "pd.options.display.max_rows = 10 # just show 10 rows"
      ],
      "execution_count": 7,
      "outputs": []
    },
    {
      "cell_type": "markdown",
      "metadata": {
        "id": "oyj10nBqW9cj"
      },
      "source": [
        "### 1. Simple Aggregations\n",
        "#### 1.1 Apply an aggregating function to a variable by an aggregating dimension \n",
        "###### Sum `PurchAmount` by `Customer`"
      ]
    },
    {
      "cell_type": "code",
      "metadata": {
        "id": "yyIuvc48XHR-",
        "outputId": "fb568fc5-2cd1-48c9-ed54-7184a6286ad8",
        "colab": {
          "base_uri": "https://localhost:8080/",
          "height": 402
        }
      },
      "source": [
        "myData.groupby(\"Customer\", as_index=False)[\"PurchAmount\"].sum()"
      ],
      "execution_count": 14,
      "outputs": [
        {
          "output_type": "execute_result",
          "data": {
            "text/html": [
              "<div>\n",
              "<style scoped>\n",
              "    .dataframe tbody tr th:only-of-type {\n",
              "        vertical-align: middle;\n",
              "    }\n",
              "\n",
              "    .dataframe tbody tr th {\n",
              "        vertical-align: top;\n",
              "    }\n",
              "\n",
              "    .dataframe thead th {\n",
              "        text-align: right;\n",
              "    }\n",
              "</style>\n",
              "<table border=\"1\" class=\"dataframe\">\n",
              "  <thead>\n",
              "    <tr style=\"text-align: right;\">\n",
              "      <th></th>\n",
              "      <th>Customer</th>\n",
              "      <th>PurchAmount</th>\n",
              "    </tr>\n",
              "  </thead>\n",
              "  <tbody>\n",
              "    <tr>\n",
              "      <th>0</th>\n",
              "      <td>100001</td>\n",
              "      <td>279.90</td>\n",
              "    </tr>\n",
              "    <tr>\n",
              "      <th>1</th>\n",
              "      <td>100002</td>\n",
              "      <td>499.95</td>\n",
              "    </tr>\n",
              "    <tr>\n",
              "      <th>2</th>\n",
              "      <td>100003</td>\n",
              "      <td>379.90</td>\n",
              "    </tr>\n",
              "    <tr>\n",
              "      <th>3</th>\n",
              "      <td>100004</td>\n",
              "      <td>499.95</td>\n",
              "    </tr>\n",
              "    <tr>\n",
              "      <th>4</th>\n",
              "      <td>100005</td>\n",
              "      <td>309.80</td>\n",
              "    </tr>\n",
              "    <tr>\n",
              "      <th>...</th>\n",
              "      <td>...</td>\n",
              "      <td>...</td>\n",
              "    </tr>\n",
              "    <tr>\n",
              "      <th>98775</th>\n",
              "      <td>199995</td>\n",
              "      <td>89.85</td>\n",
              "    </tr>\n",
              "    <tr>\n",
              "      <th>98776</th>\n",
              "      <td>199996</td>\n",
              "      <td>179.95</td>\n",
              "    </tr>\n",
              "    <tr>\n",
              "      <th>98777</th>\n",
              "      <td>199997</td>\n",
              "      <td>179.70</td>\n",
              "    </tr>\n",
              "    <tr>\n",
              "      <th>98778</th>\n",
              "      <td>199998</td>\n",
              "      <td>29.95</td>\n",
              "    </tr>\n",
              "    <tr>\n",
              "      <th>98779</th>\n",
              "      <td>199999</td>\n",
              "      <td>179.95</td>\n",
              "    </tr>\n",
              "  </tbody>\n",
              "</table>\n",
              "<p>98780 rows × 2 columns</p>\n",
              "</div>"
            ],
            "text/plain": [
              "       Customer  PurchAmount\n",
              "0        100001       279.90\n",
              "1        100002       499.95\n",
              "2        100003       379.90\n",
              "3        100004       499.95\n",
              "4        100005       309.80\n",
              "...         ...          ...\n",
              "98775    199995        89.85\n",
              "98776    199996       179.95\n",
              "98777    199997       179.70\n",
              "98778    199998        29.95\n",
              "98779    199999       179.95\n",
              "\n",
              "[98780 rows x 2 columns]"
            ]
          },
          "metadata": {
            "tags": []
          },
          "execution_count": 14
        }
      ]
    },
    {
      "cell_type": "code",
      "metadata": {
        "id": "DdLb9jXhXSWW",
        "outputId": "bd364c9c-0a90-4893-94fd-921d475019a8",
        "colab": {
          "base_uri": "https://localhost:8080/",
          "height": 402
        }
      },
      "source": [
        "# alternative option: using agg\n",
        "myData.groupby(\"Customer\", as_index=False)[\"PurchAmount\"].agg([\"sum\"]).rename(columns={\"PurchAmount\":\"AggPurch\"}).reset_index()"
      ],
      "execution_count": 19,
      "outputs": [
        {
          "output_type": "execute_result",
          "data": {
            "text/html": [
              "<div>\n",
              "<style scoped>\n",
              "    .dataframe tbody tr th:only-of-type {\n",
              "        vertical-align: middle;\n",
              "    }\n",
              "\n",
              "    .dataframe tbody tr th {\n",
              "        vertical-align: top;\n",
              "    }\n",
              "\n",
              "    .dataframe thead th {\n",
              "        text-align: right;\n",
              "    }\n",
              "</style>\n",
              "<table border=\"1\" class=\"dataframe\">\n",
              "  <thead>\n",
              "    <tr style=\"text-align: right;\">\n",
              "      <th></th>\n",
              "      <th>Customer</th>\n",
              "      <th>sum</th>\n",
              "    </tr>\n",
              "  </thead>\n",
              "  <tbody>\n",
              "    <tr>\n",
              "      <th>0</th>\n",
              "      <td>100001</td>\n",
              "      <td>279.90</td>\n",
              "    </tr>\n",
              "    <tr>\n",
              "      <th>1</th>\n",
              "      <td>100002</td>\n",
              "      <td>499.95</td>\n",
              "    </tr>\n",
              "    <tr>\n",
              "      <th>2</th>\n",
              "      <td>100003</td>\n",
              "      <td>379.90</td>\n",
              "    </tr>\n",
              "    <tr>\n",
              "      <th>3</th>\n",
              "      <td>100004</td>\n",
              "      <td>499.95</td>\n",
              "    </tr>\n",
              "    <tr>\n",
              "      <th>4</th>\n",
              "      <td>100005</td>\n",
              "      <td>309.80</td>\n",
              "    </tr>\n",
              "    <tr>\n",
              "      <th>...</th>\n",
              "      <td>...</td>\n",
              "      <td>...</td>\n",
              "    </tr>\n",
              "    <tr>\n",
              "      <th>98775</th>\n",
              "      <td>199995</td>\n",
              "      <td>89.85</td>\n",
              "    </tr>\n",
              "    <tr>\n",
              "      <th>98776</th>\n",
              "      <td>199996</td>\n",
              "      <td>179.95</td>\n",
              "    </tr>\n",
              "    <tr>\n",
              "      <th>98777</th>\n",
              "      <td>199997</td>\n",
              "      <td>179.70</td>\n",
              "    </tr>\n",
              "    <tr>\n",
              "      <th>98778</th>\n",
              "      <td>199998</td>\n",
              "      <td>29.95</td>\n",
              "    </tr>\n",
              "    <tr>\n",
              "      <th>98779</th>\n",
              "      <td>199999</td>\n",
              "      <td>179.95</td>\n",
              "    </tr>\n",
              "  </tbody>\n",
              "</table>\n",
              "<p>98780 rows × 2 columns</p>\n",
              "</div>"
            ],
            "text/plain": [
              "       Customer     sum\n",
              "0        100001  279.90\n",
              "1        100002  499.95\n",
              "2        100003  379.90\n",
              "3        100004  499.95\n",
              "4        100005  309.80\n",
              "...         ...     ...\n",
              "98775    199995   89.85\n",
              "98776    199996  179.95\n",
              "98777    199997  179.70\n",
              "98778    199998   29.95\n",
              "98779    199999  179.95\n",
              "\n",
              "[98780 rows x 2 columns]"
            ]
          },
          "metadata": {
            "tags": []
          },
          "execution_count": 19
        }
      ]
    },
    {
      "cell_type": "markdown",
      "metadata": {
        "id": "EHoolBSDbsRj"
      },
      "source": [
        "#### 1.2 Apply multiple aggregation functions to a variable by an aggregating dimension\n",
        "###### Sum and select max of `PurchAmount` by `Customer`"
      ]
    },
    {
      "cell_type": "code",
      "metadata": {
        "id": "NbjtSqOMcVJb",
        "outputId": "712d22bc-1072-449e-b060-a3b1f0dfdc39",
        "colab": {
          "base_uri": "https://localhost:8080/",
          "height": 402
        }
      },
      "source": [
        "myData.groupby(\"Customer\", as_index=False)[\"PurchAmount\"].agg({\"AggPurch\": \"sum\", \"Purch_max\": \"max\"})"
      ],
      "execution_count": 20,
      "outputs": [
        {
          "output_type": "execute_result",
          "data": {
            "text/html": [
              "<div>\n",
              "<style scoped>\n",
              "    .dataframe tbody tr th:only-of-type {\n",
              "        vertical-align: middle;\n",
              "    }\n",
              "\n",
              "    .dataframe tbody tr th {\n",
              "        vertical-align: top;\n",
              "    }\n",
              "\n",
              "    .dataframe thead th {\n",
              "        text-align: right;\n",
              "    }\n",
              "</style>\n",
              "<table border=\"1\" class=\"dataframe\">\n",
              "  <thead>\n",
              "    <tr style=\"text-align: right;\">\n",
              "      <th></th>\n",
              "      <th>Customer</th>\n",
              "      <th>AggPurch</th>\n",
              "      <th>Purch_max</th>\n",
              "    </tr>\n",
              "  </thead>\n",
              "  <tbody>\n",
              "    <tr>\n",
              "      <th>0</th>\n",
              "      <td>100001</td>\n",
              "      <td>279.90</td>\n",
              "      <td>199.95</td>\n",
              "    </tr>\n",
              "    <tr>\n",
              "      <th>1</th>\n",
              "      <td>100002</td>\n",
              "      <td>499.95</td>\n",
              "      <td>499.95</td>\n",
              "    </tr>\n",
              "    <tr>\n",
              "      <th>2</th>\n",
              "      <td>100003</td>\n",
              "      <td>379.90</td>\n",
              "      <td>249.95</td>\n",
              "    </tr>\n",
              "    <tr>\n",
              "      <th>3</th>\n",
              "      <td>100004</td>\n",
              "      <td>499.95</td>\n",
              "      <td>499.95</td>\n",
              "    </tr>\n",
              "    <tr>\n",
              "      <th>4</th>\n",
              "      <td>100005</td>\n",
              "      <td>309.80</td>\n",
              "      <td>79.95</td>\n",
              "    </tr>\n",
              "    <tr>\n",
              "      <th>...</th>\n",
              "      <td>...</td>\n",
              "      <td>...</td>\n",
              "      <td>...</td>\n",
              "    </tr>\n",
              "    <tr>\n",
              "      <th>98775</th>\n",
              "      <td>199995</td>\n",
              "      <td>89.85</td>\n",
              "      <td>29.95</td>\n",
              "    </tr>\n",
              "    <tr>\n",
              "      <th>98776</th>\n",
              "      <td>199996</td>\n",
              "      <td>179.95</td>\n",
              "      <td>179.95</td>\n",
              "    </tr>\n",
              "    <tr>\n",
              "      <th>98777</th>\n",
              "      <td>199997</td>\n",
              "      <td>179.70</td>\n",
              "      <td>29.95</td>\n",
              "    </tr>\n",
              "    <tr>\n",
              "      <th>98778</th>\n",
              "      <td>199998</td>\n",
              "      <td>29.95</td>\n",
              "      <td>29.95</td>\n",
              "    </tr>\n",
              "    <tr>\n",
              "      <th>98779</th>\n",
              "      <td>199999</td>\n",
              "      <td>179.95</td>\n",
              "      <td>179.95</td>\n",
              "    </tr>\n",
              "  </tbody>\n",
              "</table>\n",
              "<p>98780 rows × 3 columns</p>\n",
              "</div>"
            ],
            "text/plain": [
              "       Customer  AggPurch  Purch_max\n",
              "0        100001    279.90     199.95\n",
              "1        100002    499.95     499.95\n",
              "2        100003    379.90     249.95\n",
              "3        100004    499.95     499.95\n",
              "4        100005    309.80      79.95\n",
              "...         ...       ...        ...\n",
              "98775    199995     89.85      29.95\n",
              "98776    199996    179.95     179.95\n",
              "98777    199997    179.70      29.95\n",
              "98778    199998     29.95      29.95\n",
              "98779    199999    179.95     179.95\n",
              "\n",
              "[98780 rows x 3 columns]"
            ]
          },
          "metadata": {
            "tags": []
          },
          "execution_count": 20
        }
      ]
    },
    {
      "cell_type": "markdown",
      "metadata": {
        "id": "XuZvJP0gcgKQ"
      },
      "source": [
        "#### 1.3 Apply an aggregating function to the whole dataset\n",
        "###### Sum all `PurchAmount`"
      ]
    },
    {
      "cell_type": "code",
      "metadata": {
        "id": "OmiqmZr9cYtk",
        "outputId": "a68b5827-3fad-4b30-d1e6-e2b13fbfa57a",
        "colab": {
          "base_uri": "https://localhost:8080/",
          "height": 34
        }
      },
      "source": [
        "myData[\"PurchAmount\"].sum()"
      ],
      "execution_count": 21,
      "outputs": [
        {
          "output_type": "execute_result",
          "data": {
            "text/plain": [
              "18784784.62"
            ]
          },
          "metadata": {
            "tags": []
          },
          "execution_count": 21
        }
      ]
    },
    {
      "cell_type": "markdown",
      "metadata": {
        "id": "q4eed2OgcfD6"
      },
      "source": [
        "#### Slidenote: Create new columns with the transform()-function\n",
        "Here we add a new column `AggPurch` which holds for every customer the total of her purchases."
      ]
    },
    {
      "cell_type": "code",
      "metadata": {
        "id": "iCnpe1OpcseK",
        "outputId": "5fbfe38c-9d0c-4e67-c79e-b179929bd430",
        "colab": {
          "base_uri": "https://localhost:8080/",
          "height": 204
        }
      },
      "source": [
        "myData[\"AggPurch\"] = myData.groupby(\"Customer\")[\"PurchAmount\"].transform(sum)\n",
        "myData.head()"
      ],
      "execution_count": null,
      "outputs": [
        {
          "output_type": "execute_result",
          "data": {
            "text/html": [
              "<div>\n",
              "<style scoped>\n",
              "    .dataframe tbody tr th:only-of-type {\n",
              "        vertical-align: middle;\n",
              "    }\n",
              "\n",
              "    .dataframe tbody tr th {\n",
              "        vertical-align: top;\n",
              "    }\n",
              "\n",
              "    .dataframe thead th {\n",
              "        text-align: right;\n",
              "    }\n",
              "</style>\n",
              "<table border=\"1\" class=\"dataframe\">\n",
              "  <thead>\n",
              "    <tr style=\"text-align: right;\">\n",
              "      <th></th>\n",
              "      <th>Customer</th>\n",
              "      <th>TransDate</th>\n",
              "      <th>Quantity</th>\n",
              "      <th>PurchAmount</th>\n",
              "      <th>Cost</th>\n",
              "      <th>TransID</th>\n",
              "      <th>AggPurch</th>\n",
              "    </tr>\n",
              "  </thead>\n",
              "  <tbody>\n",
              "    <tr>\n",
              "      <th>0</th>\n",
              "      <td>149332</td>\n",
              "      <td>2005-11-15</td>\n",
              "      <td>1</td>\n",
              "      <td>199.95</td>\n",
              "      <td>107.00</td>\n",
              "      <td>127998739</td>\n",
              "      <td>274.85</td>\n",
              "    </tr>\n",
              "    <tr>\n",
              "      <th>1</th>\n",
              "      <td>172951</td>\n",
              "      <td>2008-08-29</td>\n",
              "      <td>1</td>\n",
              "      <td>199.95</td>\n",
              "      <td>108.00</td>\n",
              "      <td>128888288</td>\n",
              "      <td>889.80</td>\n",
              "    </tr>\n",
              "    <tr>\n",
              "      <th>2</th>\n",
              "      <td>120621</td>\n",
              "      <td>2007-10-19</td>\n",
              "      <td>1</td>\n",
              "      <td>99.95</td>\n",
              "      <td>49.00</td>\n",
              "      <td>125375247</td>\n",
              "      <td>99.95</td>\n",
              "    </tr>\n",
              "    <tr>\n",
              "      <th>3</th>\n",
              "      <td>149236</td>\n",
              "      <td>2005-11-14</td>\n",
              "      <td>1</td>\n",
              "      <td>39.95</td>\n",
              "      <td>18.95</td>\n",
              "      <td>127996226</td>\n",
              "      <td>119.90</td>\n",
              "    </tr>\n",
              "    <tr>\n",
              "      <th>4</th>\n",
              "      <td>149236</td>\n",
              "      <td>2007-06-12</td>\n",
              "      <td>1</td>\n",
              "      <td>79.95</td>\n",
              "      <td>35.00</td>\n",
              "      <td>128670302</td>\n",
              "      <td>119.90</td>\n",
              "    </tr>\n",
              "  </tbody>\n",
              "</table>\n",
              "</div>"
            ],
            "text/plain": [
              "   Customer  TransDate  Quantity  PurchAmount    Cost    TransID  AggPurch\n",
              "0    149332 2005-11-15         1       199.95  107.00  127998739    274.85\n",
              "1    172951 2008-08-29         1       199.95  108.00  128888288    889.80\n",
              "2    120621 2007-10-19         1        99.95   49.00  125375247     99.95\n",
              "3    149236 2005-11-14         1        39.95   18.95  127996226    119.90\n",
              "4    149236 2007-06-12         1        79.95   35.00  128670302    119.90"
            ]
          },
          "metadata": {
            "tags": []
          },
          "execution_count": 10
        }
      ]
    },
    {
      "cell_type": "markdown",
      "metadata": {
        "id": "9KRDaX-Tcs1P"
      },
      "source": [
        "#### 1.4 Apply a/ multiple aggregating function(s) to multiple variables by an aggregating dimension\n",
        "###### Apply various aggregation functions to `PurchAmount` and `Quantity` aggregated by `Customer`"
      ]
    },
    {
      "cell_type": "code",
      "metadata": {
        "id": "dJnXZ0hEeaur",
        "outputId": "e6c7c2f7-4131-4a2b-f50d-532802e4e29e",
        "colab": {
          "base_uri": "https://localhost:8080/",
          "height": 431
        }
      },
      "source": [
        "myData.groupby(\"Customer\", as_index=False).agg({\"PurchAmount\":[\"max\",\"sum\"], \"Quantity\":\"sum\"})"
      ],
      "execution_count": 22,
      "outputs": [
        {
          "output_type": "execute_result",
          "data": {
            "text/html": [
              "<div>\n",
              "<style scoped>\n",
              "    .dataframe tbody tr th:only-of-type {\n",
              "        vertical-align: middle;\n",
              "    }\n",
              "\n",
              "    .dataframe tbody tr th {\n",
              "        vertical-align: top;\n",
              "    }\n",
              "\n",
              "    .dataframe thead tr th {\n",
              "        text-align: left;\n",
              "    }\n",
              "</style>\n",
              "<table border=\"1\" class=\"dataframe\">\n",
              "  <thead>\n",
              "    <tr>\n",
              "      <th></th>\n",
              "      <th>Customer</th>\n",
              "      <th colspan=\"2\" halign=\"left\">PurchAmount</th>\n",
              "      <th>Quantity</th>\n",
              "    </tr>\n",
              "    <tr>\n",
              "      <th></th>\n",
              "      <th></th>\n",
              "      <th>max</th>\n",
              "      <th>sum</th>\n",
              "      <th>sum</th>\n",
              "    </tr>\n",
              "  </thead>\n",
              "  <tbody>\n",
              "    <tr>\n",
              "      <th>0</th>\n",
              "      <td>100001</td>\n",
              "      <td>199.95</td>\n",
              "      <td>279.90</td>\n",
              "      <td>2</td>\n",
              "    </tr>\n",
              "    <tr>\n",
              "      <th>1</th>\n",
              "      <td>100002</td>\n",
              "      <td>499.95</td>\n",
              "      <td>499.95</td>\n",
              "      <td>1</td>\n",
              "    </tr>\n",
              "    <tr>\n",
              "      <th>2</th>\n",
              "      <td>100003</td>\n",
              "      <td>249.95</td>\n",
              "      <td>379.90</td>\n",
              "      <td>2</td>\n",
              "    </tr>\n",
              "    <tr>\n",
              "      <th>3</th>\n",
              "      <td>100004</td>\n",
              "      <td>499.95</td>\n",
              "      <td>499.95</td>\n",
              "      <td>1</td>\n",
              "    </tr>\n",
              "    <tr>\n",
              "      <th>4</th>\n",
              "      <td>100005</td>\n",
              "      <td>79.95</td>\n",
              "      <td>309.80</td>\n",
              "      <td>4</td>\n",
              "    </tr>\n",
              "    <tr>\n",
              "      <th>...</th>\n",
              "      <td>...</td>\n",
              "      <td>...</td>\n",
              "      <td>...</td>\n",
              "      <td>...</td>\n",
              "    </tr>\n",
              "    <tr>\n",
              "      <th>98775</th>\n",
              "      <td>199995</td>\n",
              "      <td>29.95</td>\n",
              "      <td>89.85</td>\n",
              "      <td>3</td>\n",
              "    </tr>\n",
              "    <tr>\n",
              "      <th>98776</th>\n",
              "      <td>199996</td>\n",
              "      <td>179.95</td>\n",
              "      <td>179.95</td>\n",
              "      <td>1</td>\n",
              "    </tr>\n",
              "    <tr>\n",
              "      <th>98777</th>\n",
              "      <td>199997</td>\n",
              "      <td>29.95</td>\n",
              "      <td>179.70</td>\n",
              "      <td>6</td>\n",
              "    </tr>\n",
              "    <tr>\n",
              "      <th>98778</th>\n",
              "      <td>199998</td>\n",
              "      <td>29.95</td>\n",
              "      <td>29.95</td>\n",
              "      <td>1</td>\n",
              "    </tr>\n",
              "    <tr>\n",
              "      <th>98779</th>\n",
              "      <td>199999</td>\n",
              "      <td>179.95</td>\n",
              "      <td>179.95</td>\n",
              "      <td>1</td>\n",
              "    </tr>\n",
              "  </tbody>\n",
              "</table>\n",
              "<p>98780 rows × 4 columns</p>\n",
              "</div>"
            ],
            "text/plain": [
              "      Customer PurchAmount         Quantity\n",
              "                       max     sum      sum\n",
              "0       100001      199.95  279.90        2\n",
              "1       100002      499.95  499.95        1\n",
              "2       100003      249.95  379.90        2\n",
              "3       100004      499.95  499.95        1\n",
              "4       100005       79.95  309.80        4\n",
              "...        ...         ...     ...      ...\n",
              "98775   199995       29.95   89.85        3\n",
              "98776   199996      179.95  179.95        1\n",
              "98777   199997       29.95  179.70        6\n",
              "98778   199998       29.95   29.95        1\n",
              "98779   199999      179.95  179.95        1\n",
              "\n",
              "[98780 rows x 4 columns]"
            ]
          },
          "metadata": {
            "tags": []
          },
          "execution_count": 22
        }
      ]
    },
    {
      "cell_type": "markdown",
      "metadata": {
        "id": "7s8-FFbZfvP1"
      },
      "source": [
        "#### 1.5 Apply an aggregating function to multiple variables by multiple aggregating dimensions\n",
        "###### Sum `PurchAmount` and sum `Quantity` aggregated by `Customer` and `TransDate`"
      ]
    },
    {
      "cell_type": "code",
      "metadata": {
        "id": "VYDNXRDNetKN",
        "outputId": "a0940158-da5a-4365-822c-d51f09525f63",
        "colab": {
          "base_uri": "https://localhost:8080/",
          "height": 431
        }
      },
      "source": [
        "myData.groupby([\"Customer\",\"TransDate\"])[[\"PurchAmount\",\"Quantity\"]].sum()"
      ],
      "execution_count": 31,
      "outputs": [
        {
          "output_type": "execute_result",
          "data": {
            "text/html": [
              "<div>\n",
              "<style scoped>\n",
              "    .dataframe tbody tr th:only-of-type {\n",
              "        vertical-align: middle;\n",
              "    }\n",
              "\n",
              "    .dataframe tbody tr th {\n",
              "        vertical-align: top;\n",
              "    }\n",
              "\n",
              "    .dataframe thead th {\n",
              "        text-align: right;\n",
              "    }\n",
              "</style>\n",
              "<table border=\"1\" class=\"dataframe\">\n",
              "  <thead>\n",
              "    <tr style=\"text-align: right;\">\n",
              "      <th></th>\n",
              "      <th></th>\n",
              "      <th>PurchAmount</th>\n",
              "      <th>Quantity</th>\n",
              "    </tr>\n",
              "    <tr>\n",
              "      <th>Customer</th>\n",
              "      <th>TransDate</th>\n",
              "      <th></th>\n",
              "      <th></th>\n",
              "    </tr>\n",
              "  </thead>\n",
              "  <tbody>\n",
              "    <tr>\n",
              "      <th rowspan=\"2\" valign=\"top\">100001</th>\n",
              "      <th>2011-06-25</th>\n",
              "      <td>79.95</td>\n",
              "      <td>1</td>\n",
              "    </tr>\n",
              "    <tr>\n",
              "      <th>2011-08-24</th>\n",
              "      <td>199.95</td>\n",
              "      <td>1</td>\n",
              "    </tr>\n",
              "    <tr>\n",
              "      <th>100002</th>\n",
              "      <th>2004-12-29</th>\n",
              "      <td>499.95</td>\n",
              "      <td>1</td>\n",
              "    </tr>\n",
              "    <tr>\n",
              "      <th>100003</th>\n",
              "      <th>2012-01-23</th>\n",
              "      <td>379.90</td>\n",
              "      <td>2</td>\n",
              "    </tr>\n",
              "    <tr>\n",
              "      <th>100004</th>\n",
              "      <th>2012-08-05</th>\n",
              "      <td>499.95</td>\n",
              "      <td>1</td>\n",
              "    </tr>\n",
              "    <tr>\n",
              "      <th>...</th>\n",
              "      <th>...</th>\n",
              "      <td>...</td>\n",
              "      <td>...</td>\n",
              "    </tr>\n",
              "    <tr>\n",
              "      <th>199995</th>\n",
              "      <th>2012-09-17</th>\n",
              "      <td>89.85</td>\n",
              "      <td>3</td>\n",
              "    </tr>\n",
              "    <tr>\n",
              "      <th>199996</th>\n",
              "      <th>2012-09-17</th>\n",
              "      <td>179.95</td>\n",
              "      <td>1</td>\n",
              "    </tr>\n",
              "    <tr>\n",
              "      <th>199997</th>\n",
              "      <th>2012-09-17</th>\n",
              "      <td>179.70</td>\n",
              "      <td>6</td>\n",
              "    </tr>\n",
              "    <tr>\n",
              "      <th>199998</th>\n",
              "      <th>2012-09-17</th>\n",
              "      <td>29.95</td>\n",
              "      <td>1</td>\n",
              "    </tr>\n",
              "    <tr>\n",
              "      <th>199999</th>\n",
              "      <th>2012-09-17</th>\n",
              "      <td>179.95</td>\n",
              "      <td>1</td>\n",
              "    </tr>\n",
              "  </tbody>\n",
              "</table>\n",
              "<p>135038 rows × 2 columns</p>\n",
              "</div>"
            ],
            "text/plain": [
              "                     PurchAmount  Quantity\n",
              "Customer TransDate                        \n",
              "100001   2011-06-25        79.95         1\n",
              "         2011-08-24       199.95         1\n",
              "100002   2004-12-29       499.95         1\n",
              "100003   2012-01-23       379.90         2\n",
              "100004   2012-08-05       499.95         1\n",
              "...                          ...       ...\n",
              "199995   2012-09-17        89.85         3\n",
              "199996   2012-09-17       179.95         1\n",
              "199997   2012-09-17       179.70         6\n",
              "199998   2012-09-17        29.95         1\n",
              "199999   2012-09-17       179.95         1\n",
              "\n",
              "[135038 rows x 2 columns]"
            ]
          },
          "metadata": {
            "tags": []
          },
          "execution_count": 31
        }
      ]
    },
    {
      "cell_type": "markdown",
      "metadata": {
        "id": "gAdU5Sg2g4mj"
      },
      "source": [
        "#### 1.6 Apply an aggregating function to a variable by an aggregating dimension to a selection of rows\n",
        "###### Select rows 2 to 5 and sum `PurchAmount` by `Customer`"
      ]
    },
    {
      "cell_type": "code",
      "metadata": {
        "id": "riNhyLHGgbly",
        "outputId": "3692559e-41d0-4dd0-fb7f-5f833b490893",
        "colab": {
          "base_uri": "https://localhost:8080/",
          "height": 173
        }
      },
      "source": [
        "myData.iloc[1:6].groupby(\"Customer\", as_index=False)[\"PurchAmount\"].sum()"
      ],
      "execution_count": null,
      "outputs": [
        {
          "output_type": "execute_result",
          "data": {
            "text/html": [
              "<div>\n",
              "<style scoped>\n",
              "    .dataframe tbody tr th:only-of-type {\n",
              "        vertical-align: middle;\n",
              "    }\n",
              "\n",
              "    .dataframe tbody tr th {\n",
              "        vertical-align: top;\n",
              "    }\n",
              "\n",
              "    .dataframe thead th {\n",
              "        text-align: right;\n",
              "    }\n",
              "</style>\n",
              "<table border=\"1\" class=\"dataframe\">\n",
              "  <thead>\n",
              "    <tr style=\"text-align: right;\">\n",
              "      <th></th>\n",
              "      <th>Customer</th>\n",
              "      <th>PurchAmount</th>\n",
              "    </tr>\n",
              "  </thead>\n",
              "  <tbody>\n",
              "    <tr>\n",
              "      <th>0</th>\n",
              "      <td>120621</td>\n",
              "      <td>99.95</td>\n",
              "    </tr>\n",
              "    <tr>\n",
              "      <th>1</th>\n",
              "      <td>140729</td>\n",
              "      <td>129.95</td>\n",
              "    </tr>\n",
              "    <tr>\n",
              "      <th>2</th>\n",
              "      <td>149236</td>\n",
              "      <td>119.90</td>\n",
              "    </tr>\n",
              "    <tr>\n",
              "      <th>3</th>\n",
              "      <td>172951</td>\n",
              "      <td>199.95</td>\n",
              "    </tr>\n",
              "  </tbody>\n",
              "</table>\n",
              "</div>"
            ],
            "text/plain": [
              "   Customer  PurchAmount\n",
              "0    120621        99.95\n",
              "1    140729       129.95\n",
              "2    149236       119.90\n",
              "3    172951       199.95"
            ]
          },
          "metadata": {
            "tags": []
          },
          "execution_count": 13
        }
      ]
    },
    {
      "cell_type": "markdown",
      "metadata": {
        "id": "LZGPMZTOhh5t"
      },
      "source": [
        "#### 1.7 Exercises\n",
        "###### 1. Sum `PurchAmount` by `Customer` and `TransDate` (hint: group by both `Customer` and `TransDate`).\n",
        "###### 2. Count the number of transactions by `Customer` (hint: use the size() function)"
      ]
    },
    {
      "cell_type": "code",
      "metadata": {
        "id": "lhLd_ihtiIsk",
        "outputId": "033128fb-7cd8-4361-a928-f6fb5f70972d",
        "colab": {
          "base_uri": "https://localhost:8080/",
          "height": 402
        }
      },
      "source": [
        "# 1. [your code here]\n",
        "myData.groupby([\"Customer\", \"TransDate\"])[\"PurchAmount\"].sum().reset_index()\n",
        "# 2. [your code here]"
      ],
      "execution_count": 33,
      "outputs": [
        {
          "output_type": "execute_result",
          "data": {
            "text/html": [
              "<div>\n",
              "<style scoped>\n",
              "    .dataframe tbody tr th:only-of-type {\n",
              "        vertical-align: middle;\n",
              "    }\n",
              "\n",
              "    .dataframe tbody tr th {\n",
              "        vertical-align: top;\n",
              "    }\n",
              "\n",
              "    .dataframe thead th {\n",
              "        text-align: right;\n",
              "    }\n",
              "</style>\n",
              "<table border=\"1\" class=\"dataframe\">\n",
              "  <thead>\n",
              "    <tr style=\"text-align: right;\">\n",
              "      <th></th>\n",
              "      <th>Customer</th>\n",
              "      <th>TransDate</th>\n",
              "      <th>PurchAmount</th>\n",
              "    </tr>\n",
              "  </thead>\n",
              "  <tbody>\n",
              "    <tr>\n",
              "      <th>0</th>\n",
              "      <td>100001</td>\n",
              "      <td>2011-06-25</td>\n",
              "      <td>79.95</td>\n",
              "    </tr>\n",
              "    <tr>\n",
              "      <th>1</th>\n",
              "      <td>100001</td>\n",
              "      <td>2011-08-24</td>\n",
              "      <td>199.95</td>\n",
              "    </tr>\n",
              "    <tr>\n",
              "      <th>2</th>\n",
              "      <td>100002</td>\n",
              "      <td>2004-12-29</td>\n",
              "      <td>499.95</td>\n",
              "    </tr>\n",
              "    <tr>\n",
              "      <th>3</th>\n",
              "      <td>100003</td>\n",
              "      <td>2012-01-23</td>\n",
              "      <td>379.90</td>\n",
              "    </tr>\n",
              "    <tr>\n",
              "      <th>4</th>\n",
              "      <td>100004</td>\n",
              "      <td>2012-08-05</td>\n",
              "      <td>499.95</td>\n",
              "    </tr>\n",
              "    <tr>\n",
              "      <th>...</th>\n",
              "      <td>...</td>\n",
              "      <td>...</td>\n",
              "      <td>...</td>\n",
              "    </tr>\n",
              "    <tr>\n",
              "      <th>135033</th>\n",
              "      <td>199995</td>\n",
              "      <td>2012-09-17</td>\n",
              "      <td>89.85</td>\n",
              "    </tr>\n",
              "    <tr>\n",
              "      <th>135034</th>\n",
              "      <td>199996</td>\n",
              "      <td>2012-09-17</td>\n",
              "      <td>179.95</td>\n",
              "    </tr>\n",
              "    <tr>\n",
              "      <th>135035</th>\n",
              "      <td>199997</td>\n",
              "      <td>2012-09-17</td>\n",
              "      <td>179.70</td>\n",
              "    </tr>\n",
              "    <tr>\n",
              "      <th>135036</th>\n",
              "      <td>199998</td>\n",
              "      <td>2012-09-17</td>\n",
              "      <td>29.95</td>\n",
              "    </tr>\n",
              "    <tr>\n",
              "      <th>135037</th>\n",
              "      <td>199999</td>\n",
              "      <td>2012-09-17</td>\n",
              "      <td>179.95</td>\n",
              "    </tr>\n",
              "  </tbody>\n",
              "</table>\n",
              "<p>135038 rows × 3 columns</p>\n",
              "</div>"
            ],
            "text/plain": [
              "        Customer  TransDate  PurchAmount\n",
              "0         100001 2011-06-25        79.95\n",
              "1         100001 2011-08-24       199.95\n",
              "2         100002 2004-12-29       499.95\n",
              "3         100003 2012-01-23       379.90\n",
              "4         100004 2012-08-05       499.95\n",
              "...          ...        ...          ...\n",
              "135033    199995 2012-09-17        89.85\n",
              "135034    199996 2012-09-17       179.95\n",
              "135035    199997 2012-09-17       179.70\n",
              "135036    199998 2012-09-17        29.95\n",
              "135037    199999 2012-09-17       179.95\n",
              "\n",
              "[135038 rows x 3 columns]"
            ]
          },
          "metadata": {
            "tags": []
          },
          "execution_count": 33
        }
      ]
    },
    {
      "cell_type": "markdown",
      "metadata": {
        "id": "jSAyP589hhsN"
      },
      "source": [
        "### 2. Advanced aggregation topics and chaining\n",
        "#### 2.1 Aggregate a variable by a transformed aggregating dimension\n",
        "###### Sum `PurchAmount` by month of each year"
      ]
    },
    {
      "cell_type": "code",
      "metadata": {
        "id": "txjLD8RahjyA",
        "outputId": "0b1f12a8-c2fb-4a01-9605-11f5ff906fba",
        "colab": {
          "base_uri": "https://localhost:8080/",
          "height": 450
        }
      },
      "source": [
        "myData.groupby(myData[\"TransDate\"].dt.to_period(\"M\"))[[\"PurchAmount\"]].sum()"
      ],
      "execution_count": null,
      "outputs": [
        {
          "output_type": "execute_result",
          "data": {
            "text/html": [
              "<div>\n",
              "<style scoped>\n",
              "    .dataframe tbody tr th:only-of-type {\n",
              "        vertical-align: middle;\n",
              "    }\n",
              "\n",
              "    .dataframe tbody tr th {\n",
              "        vertical-align: top;\n",
              "    }\n",
              "\n",
              "    .dataframe thead th {\n",
              "        text-align: right;\n",
              "    }\n",
              "</style>\n",
              "<table border=\"1\" class=\"dataframe\">\n",
              "  <thead>\n",
              "    <tr style=\"text-align: right;\">\n",
              "      <th></th>\n",
              "      <th>PurchAmount</th>\n",
              "    </tr>\n",
              "    <tr>\n",
              "      <th>TransDate</th>\n",
              "      <th></th>\n",
              "    </tr>\n",
              "  </thead>\n",
              "  <tbody>\n",
              "    <tr>\n",
              "      <th>2004-12</th>\n",
              "      <td>27623.90</td>\n",
              "    </tr>\n",
              "    <tr>\n",
              "      <th>2005-01</th>\n",
              "      <td>83363.73</td>\n",
              "    </tr>\n",
              "    <tr>\n",
              "      <th>2005-02</th>\n",
              "      <td>87341.59</td>\n",
              "    </tr>\n",
              "    <tr>\n",
              "      <th>2005-03</th>\n",
              "      <td>86803.31</td>\n",
              "    </tr>\n",
              "    <tr>\n",
              "      <th>2005-04</th>\n",
              "      <td>84293.01</td>\n",
              "    </tr>\n",
              "    <tr>\n",
              "      <th>...</th>\n",
              "      <td>...</td>\n",
              "    </tr>\n",
              "    <tr>\n",
              "      <th>2012-08</th>\n",
              "      <td>108462.20</td>\n",
              "    </tr>\n",
              "    <tr>\n",
              "      <th>2012-09</th>\n",
              "      <td>71429.25</td>\n",
              "    </tr>\n",
              "    <tr>\n",
              "      <th>2012-10</th>\n",
              "      <td>42588.75</td>\n",
              "    </tr>\n",
              "    <tr>\n",
              "      <th>2012-11</th>\n",
              "      <td>44633.30</td>\n",
              "    </tr>\n",
              "    <tr>\n",
              "      <th>2012-12</th>\n",
              "      <td>41652.75</td>\n",
              "    </tr>\n",
              "  </tbody>\n",
              "</table>\n",
              "<p>97 rows × 1 columns</p>\n",
              "</div>"
            ],
            "text/plain": [
              "           PurchAmount\n",
              "TransDate             \n",
              "2004-12       27623.90\n",
              "2005-01       83363.73\n",
              "2005-02       87341.59\n",
              "2005-03       86803.31\n",
              "2005-04       84293.01\n",
              "...                ...\n",
              "2012-08      108462.20\n",
              "2012-09       71429.25\n",
              "2012-10       42588.75\n",
              "2012-11       44633.30\n",
              "2012-12       41652.75\n",
              "\n",
              "[97 rows x 1 columns]"
            ]
          },
          "metadata": {
            "tags": []
          },
          "execution_count": 15
        }
      ]
    },
    {
      "cell_type": "markdown",
      "metadata": {
        "id": "ZShkH9Ahjf0w"
      },
      "source": [
        "#### Slidenote: Chaining saves memory and is faster\n",
        "Sum `PurchAmount` by `Customer` and select Customers with aggregated sums greater than 100."
      ]
    },
    {
      "cell_type": "code",
      "metadata": {
        "id": "tnc0CAs3jVLs",
        "outputId": "a49eb3b2-86c8-4c33-ce92-8a3d66f97e0c",
        "colab": {
          "base_uri": "https://localhost:8080/",
          "height": 450
        }
      },
      "source": [
        "myData.groupby(\"Customer\")[[\"PurchAmount\"]].sum()[lambda x: x >= 100]"
      ],
      "execution_count": null,
      "outputs": [
        {
          "output_type": "execute_result",
          "data": {
            "text/html": [
              "<div>\n",
              "<style scoped>\n",
              "    .dataframe tbody tr th:only-of-type {\n",
              "        vertical-align: middle;\n",
              "    }\n",
              "\n",
              "    .dataframe tbody tr th {\n",
              "        vertical-align: top;\n",
              "    }\n",
              "\n",
              "    .dataframe thead th {\n",
              "        text-align: right;\n",
              "    }\n",
              "</style>\n",
              "<table border=\"1\" class=\"dataframe\">\n",
              "  <thead>\n",
              "    <tr style=\"text-align: right;\">\n",
              "      <th></th>\n",
              "      <th>PurchAmount</th>\n",
              "    </tr>\n",
              "    <tr>\n",
              "      <th>Customer</th>\n",
              "      <th></th>\n",
              "    </tr>\n",
              "  </thead>\n",
              "  <tbody>\n",
              "    <tr>\n",
              "      <th>100001</th>\n",
              "      <td>279.90</td>\n",
              "    </tr>\n",
              "    <tr>\n",
              "      <th>100002</th>\n",
              "      <td>499.95</td>\n",
              "    </tr>\n",
              "    <tr>\n",
              "      <th>100003</th>\n",
              "      <td>379.90</td>\n",
              "    </tr>\n",
              "    <tr>\n",
              "      <th>100004</th>\n",
              "      <td>499.95</td>\n",
              "    </tr>\n",
              "    <tr>\n",
              "      <th>100005</th>\n",
              "      <td>309.80</td>\n",
              "    </tr>\n",
              "    <tr>\n",
              "      <th>...</th>\n",
              "      <td>...</td>\n",
              "    </tr>\n",
              "    <tr>\n",
              "      <th>199995</th>\n",
              "      <td>NaN</td>\n",
              "    </tr>\n",
              "    <tr>\n",
              "      <th>199996</th>\n",
              "      <td>179.95</td>\n",
              "    </tr>\n",
              "    <tr>\n",
              "      <th>199997</th>\n",
              "      <td>179.70</td>\n",
              "    </tr>\n",
              "    <tr>\n",
              "      <th>199998</th>\n",
              "      <td>NaN</td>\n",
              "    </tr>\n",
              "    <tr>\n",
              "      <th>199999</th>\n",
              "      <td>179.95</td>\n",
              "    </tr>\n",
              "  </tbody>\n",
              "</table>\n",
              "<p>98780 rows × 1 columns</p>\n",
              "</div>"
            ],
            "text/plain": [
              "          PurchAmount\n",
              "Customer             \n",
              "100001         279.90\n",
              "100002         499.95\n",
              "100003         379.90\n",
              "100004         499.95\n",
              "100005         309.80\n",
              "...               ...\n",
              "199995            NaN\n",
              "199996         179.95\n",
              "199997         179.70\n",
              "199998            NaN\n",
              "199999         179.95\n",
              "\n",
              "[98780 rows x 1 columns]"
            ]
          },
          "metadata": {
            "tags": []
          },
          "execution_count": 16
        }
      ]
    },
    {
      "cell_type": "code",
      "metadata": {
        "id": "96ZSdLpDkB0t",
        "outputId": "d2eaa2ee-82c8-4a56-acbc-0598cfe95bba",
        "colab": {
          "base_uri": "https://localhost:8080/",
          "height": 419
        }
      },
      "source": [
        "# alternative\n",
        "myData2 = myData.groupby(\"Customer\", as_index=False)[\"PurchAmount\"].agg({\"AggPurch\": \"sum\"})\n",
        "myData2.loc[myData2[\"AggPurch\"]>=100]"
      ],
      "execution_count": null,
      "outputs": [
        {
          "output_type": "execute_result",
          "data": {
            "text/html": [
              "<div>\n",
              "<style scoped>\n",
              "    .dataframe tbody tr th:only-of-type {\n",
              "        vertical-align: middle;\n",
              "    }\n",
              "\n",
              "    .dataframe tbody tr th {\n",
              "        vertical-align: top;\n",
              "    }\n",
              "\n",
              "    .dataframe thead th {\n",
              "        text-align: right;\n",
              "    }\n",
              "</style>\n",
              "<table border=\"1\" class=\"dataframe\">\n",
              "  <thead>\n",
              "    <tr style=\"text-align: right;\">\n",
              "      <th></th>\n",
              "      <th>Customer</th>\n",
              "      <th>AggPurch</th>\n",
              "    </tr>\n",
              "  </thead>\n",
              "  <tbody>\n",
              "    <tr>\n",
              "      <th>0</th>\n",
              "      <td>100001</td>\n",
              "      <td>279.90</td>\n",
              "    </tr>\n",
              "    <tr>\n",
              "      <th>1</th>\n",
              "      <td>100002</td>\n",
              "      <td>499.95</td>\n",
              "    </tr>\n",
              "    <tr>\n",
              "      <th>2</th>\n",
              "      <td>100003</td>\n",
              "      <td>379.90</td>\n",
              "    </tr>\n",
              "    <tr>\n",
              "      <th>3</th>\n",
              "      <td>100004</td>\n",
              "      <td>499.95</td>\n",
              "    </tr>\n",
              "    <tr>\n",
              "      <th>4</th>\n",
              "      <td>100005</td>\n",
              "      <td>309.80</td>\n",
              "    </tr>\n",
              "    <tr>\n",
              "      <th>...</th>\n",
              "      <td>...</td>\n",
              "      <td>...</td>\n",
              "    </tr>\n",
              "    <tr>\n",
              "      <th>98769</th>\n",
              "      <td>199989</td>\n",
              "      <td>119.80</td>\n",
              "    </tr>\n",
              "    <tr>\n",
              "      <th>98771</th>\n",
              "      <td>199991</td>\n",
              "      <td>199.95</td>\n",
              "    </tr>\n",
              "    <tr>\n",
              "      <th>98776</th>\n",
              "      <td>199996</td>\n",
              "      <td>179.95</td>\n",
              "    </tr>\n",
              "    <tr>\n",
              "      <th>98777</th>\n",
              "      <td>199997</td>\n",
              "      <td>179.70</td>\n",
              "    </tr>\n",
              "    <tr>\n",
              "      <th>98779</th>\n",
              "      <td>199999</td>\n",
              "      <td>179.95</td>\n",
              "    </tr>\n",
              "  </tbody>\n",
              "</table>\n",
              "<p>49295 rows × 2 columns</p>\n",
              "</div>"
            ],
            "text/plain": [
              "       Customer  AggPurch\n",
              "0        100001    279.90\n",
              "1        100002    499.95\n",
              "2        100003    379.90\n",
              "3        100004    499.95\n",
              "4        100005    309.80\n",
              "...         ...       ...\n",
              "98769    199989    119.80\n",
              "98771    199991    199.95\n",
              "98776    199996    179.95\n",
              "98777    199997    179.70\n",
              "98779    199999    179.95\n",
              "\n",
              "[49295 rows x 2 columns]"
            ]
          },
          "metadata": {
            "tags": []
          },
          "execution_count": 17
        }
      ]
    },
    {
      "cell_type": "markdown",
      "metadata": {
        "id": "RKByhV-WkULe"
      },
      "source": [
        "#### 2.2 Exercises\n",
        "###### 1. Aggregate the purchase amount (sum) of all transactions per customer on a yearly basis for eyar 2007 and 2008.\n",
        "###### 2. How many customers purchased more than 50$ in total between 2008 and 2009?"
      ]
    },
    {
      "cell_type": "code",
      "metadata": {
        "id": "_L794q3CkO5b",
        "outputId": "1a969581-7cda-4490-d1ea-4249c1194bed",
        "colab": {
          "base_uri": "https://localhost:8080/",
          "height": 129
        }
      },
      "source": [
        "# Question 1.\n",
        "# Part1 use the loc function and select the year 2007 OR 2008 using: dt.year=200X to select years \n",
        "# use the | to select 2007 or 2008\n",
        "# part2: groupby([myData[\"TransDate\"].dt.year, \"Customer\"])\n",
        "# part 3: take the sum() on the PurchAmount\n",
        "myData.loc[(myData[\"TransDate\"].dt.year == ) | (myData[\"TransDate\"].dt.year == )]\\\n",
        ".groupby([])\\\n",
        "[\"...\"].sum()"
      ],
      "execution_count": null,
      "outputs": [
        {
          "output_type": "error",
          "ename": "SyntaxError",
          "evalue": "ignored",
          "traceback": [
            "\u001b[0;36m  File \u001b[0;32m\"<ipython-input-18-d7e548b09e9d>\"\u001b[0;36m, line \u001b[0;32m6\u001b[0m\n\u001b[0;31m    myData.loc[(myData[\"TransDate\"].dt.year == ) | (myData[\"TransDate\"].dt.year == )].groupby([])[\"...\"].sum()\u001b[0m\n\u001b[0m                                               ^\u001b[0m\n\u001b[0;31mSyntaxError\u001b[0m\u001b[0;31m:\u001b[0m invalid syntax\n"
          ]
        }
      ]
    },
    {
      "cell_type": "code",
      "metadata": {
        "id": "ShQtqpfZkmk5"
      },
      "source": [
        "# Question 2. How many customers purchased for more than 50$ in total between 2008 and 2009\n",
        "\n",
        "# part 1: select rows with year 2008 or 2009 using the loc function\n",
        "\n",
        "# part 2: groupby(\"Customer\")\n",
        "\n",
        "# part 3: take the sum() on the PurchAmount\n",
        "\n",
        "# take the count() on those aggregations that have sum more than 50$, hint [lambda x:x >50]"
      ],
      "execution_count": null,
      "outputs": []
    },
    {
      "cell_type": "markdown",
      "metadata": {
        "id": "TmhCVOy8lAOU"
      },
      "source": [
        "### 3. Selecting using an aggregating dimension\n",
        "#### 3.1 Select the first 3 purchases of each customer"
      ]
    },
    {
      "cell_type": "code",
      "metadata": {
        "id": "Tc0p5TztliJt",
        "outputId": "29c84852-9435-4f1a-e81b-22a79ff93d01",
        "colab": {
          "base_uri": "https://localhost:8080/",
          "height": 419
        }
      },
      "source": [
        "# sort by ascending order of \"Customer\"\n",
        "myData.groupby(\"Customer\").head(3).sort_values(\"Customer\")"
      ],
      "execution_count": null,
      "outputs": [
        {
          "output_type": "execute_result",
          "data": {
            "text/html": [
              "<div>\n",
              "<style scoped>\n",
              "    .dataframe tbody tr th:only-of-type {\n",
              "        vertical-align: middle;\n",
              "    }\n",
              "\n",
              "    .dataframe tbody tr th {\n",
              "        vertical-align: top;\n",
              "    }\n",
              "\n",
              "    .dataframe thead th {\n",
              "        text-align: right;\n",
              "    }\n",
              "</style>\n",
              "<table border=\"1\" class=\"dataframe\">\n",
              "  <thead>\n",
              "    <tr style=\"text-align: right;\">\n",
              "      <th></th>\n",
              "      <th>Customer</th>\n",
              "      <th>TransDate</th>\n",
              "      <th>Quantity</th>\n",
              "      <th>PurchAmount</th>\n",
              "      <th>Cost</th>\n",
              "      <th>TransID</th>\n",
              "      <th>AggPurch</th>\n",
              "    </tr>\n",
              "  </thead>\n",
              "  <tbody>\n",
              "    <tr>\n",
              "      <th>198456</th>\n",
              "      <td>100001</td>\n",
              "      <td>2011-06-25</td>\n",
              "      <td>1</td>\n",
              "      <td>79.95</td>\n",
              "      <td>27.00</td>\n",
              "      <td>130025578</td>\n",
              "      <td>279.90</td>\n",
              "    </tr>\n",
              "    <tr>\n",
              "      <th>198455</th>\n",
              "      <td>100001</td>\n",
              "      <td>2011-08-24</td>\n",
              "      <td>1</td>\n",
              "      <td>199.95</td>\n",
              "      <td>90.00</td>\n",
              "      <td>123457297</td>\n",
              "      <td>279.90</td>\n",
              "    </tr>\n",
              "    <tr>\n",
              "      <th>44541</th>\n",
              "      <td>100002</td>\n",
              "      <td>2004-12-29</td>\n",
              "      <td>1</td>\n",
              "      <td>499.95</td>\n",
              "      <td>349.00</td>\n",
              "      <td>123490350</td>\n",
              "      <td>499.95</td>\n",
              "    </tr>\n",
              "    <tr>\n",
              "      <th>214846</th>\n",
              "      <td>100003</td>\n",
              "      <td>2012-01-23</td>\n",
              "      <td>1</td>\n",
              "      <td>129.95</td>\n",
              "      <td>66.92</td>\n",
              "      <td>123457694</td>\n",
              "      <td>379.90</td>\n",
              "    </tr>\n",
              "    <tr>\n",
              "      <th>214845</th>\n",
              "      <td>100003</td>\n",
              "      <td>2012-01-23</td>\n",
              "      <td>1</td>\n",
              "      <td>249.95</td>\n",
              "      <td>202.60</td>\n",
              "      <td>123457694</td>\n",
              "      <td>379.90</td>\n",
              "    </tr>\n",
              "    <tr>\n",
              "      <th>...</th>\n",
              "      <td>...</td>\n",
              "      <td>...</td>\n",
              "      <td>...</td>\n",
              "      <td>...</td>\n",
              "      <td>...</td>\n",
              "      <td>...</td>\n",
              "      <td>...</td>\n",
              "    </tr>\n",
              "    <tr>\n",
              "      <th>223182</th>\n",
              "      <td>199997</td>\n",
              "      <td>2012-09-17</td>\n",
              "      <td>1</td>\n",
              "      <td>29.95</td>\n",
              "      <td>13.80</td>\n",
              "      <td>132481149</td>\n",
              "      <td>179.70</td>\n",
              "    </tr>\n",
              "    <tr>\n",
              "      <th>223183</th>\n",
              "      <td>199997</td>\n",
              "      <td>2012-09-17</td>\n",
              "      <td>1</td>\n",
              "      <td>29.95</td>\n",
              "      <td>13.80</td>\n",
              "      <td>132481149</td>\n",
              "      <td>179.70</td>\n",
              "    </tr>\n",
              "    <tr>\n",
              "      <th>223184</th>\n",
              "      <td>199997</td>\n",
              "      <td>2012-09-17</td>\n",
              "      <td>1</td>\n",
              "      <td>29.95</td>\n",
              "      <td>13.80</td>\n",
              "      <td>132481149</td>\n",
              "      <td>179.70</td>\n",
              "    </tr>\n",
              "    <tr>\n",
              "      <th>223188</th>\n",
              "      <td>199998</td>\n",
              "      <td>2012-09-17</td>\n",
              "      <td>1</td>\n",
              "      <td>29.95</td>\n",
              "      <td>13.80</td>\n",
              "      <td>132481154</td>\n",
              "      <td>29.95</td>\n",
              "    </tr>\n",
              "    <tr>\n",
              "      <th>223189</th>\n",
              "      <td>199999</td>\n",
              "      <td>2012-09-17</td>\n",
              "      <td>1</td>\n",
              "      <td>179.95</td>\n",
              "      <td>109.99</td>\n",
              "      <td>132481165</td>\n",
              "      <td>179.95</td>\n",
              "    </tr>\n",
              "  </tbody>\n",
              "</table>\n",
              "<p>167893 rows × 7 columns</p>\n",
              "</div>"
            ],
            "text/plain": [
              "        Customer  TransDate  Quantity  PurchAmount    Cost    TransID  AggPurch\n",
              "198456    100001 2011-06-25         1        79.95   27.00  130025578    279.90\n",
              "198455    100001 2011-08-24         1       199.95   90.00  123457297    279.90\n",
              "44541     100002 2004-12-29         1       499.95  349.00  123490350    499.95\n",
              "214846    100003 2012-01-23         1       129.95   66.92  123457694    379.90\n",
              "214845    100003 2012-01-23         1       249.95  202.60  123457694    379.90\n",
              "...          ...        ...       ...          ...     ...        ...       ...\n",
              "223182    199997 2012-09-17         1        29.95   13.80  132481149    179.70\n",
              "223183    199997 2012-09-17         1        29.95   13.80  132481149    179.70\n",
              "223184    199997 2012-09-17         1        29.95   13.80  132481149    179.70\n",
              "223188    199998 2012-09-17         1        29.95   13.80  132481154     29.95\n",
              "223189    199999 2012-09-17         1       179.95  109.99  132481165    179.95\n",
              "\n",
              "[167893 rows x 7 columns]"
            ]
          },
          "metadata": {
            "tags": []
          },
          "execution_count": 20
        }
      ]
    },
    {
      "cell_type": "markdown",
      "metadata": {
        "id": "pdSOw2pfvgJL"
      },
      "source": [
        "Note: use `tail(1)` insatead of `head(3)` to select the last purchase of each customer."
      ]
    },
    {
      "cell_type": "markdown",
      "metadata": {
        "id": "AB0bL-uIu16Q"
      },
      "source": [
        "#### 3.2 Updating columns using an aggregating dimension\n",
        "###### Add a column counting the quantities per customer"
      ]
    },
    {
      "cell_type": "code",
      "metadata": {
        "id": "cjRv_C9tmfsg",
        "outputId": "09b98752-6317-4c3e-97df-b629bd0f7afb",
        "colab": {
          "base_uri": "https://localhost:8080/",
          "height": 419
        }
      },
      "source": [
        "# save the total number of occurences per customer in the count column\n",
        "myData[\"Count\"] = myData.groupby(\"Customer\")[\"Customer\"].transform(\"size\")\n",
        "myData\n",
        "\n",
        "#myData.groupby(\"Customer\")[\"Customer\"].transform(\"count\")"
      ],
      "execution_count": null,
      "outputs": [
        {
          "output_type": "execute_result",
          "data": {
            "text/html": [
              "<div>\n",
              "<style scoped>\n",
              "    .dataframe tbody tr th:only-of-type {\n",
              "        vertical-align: middle;\n",
              "    }\n",
              "\n",
              "    .dataframe tbody tr th {\n",
              "        vertical-align: top;\n",
              "    }\n",
              "\n",
              "    .dataframe thead th {\n",
              "        text-align: right;\n",
              "    }\n",
              "</style>\n",
              "<table border=\"1\" class=\"dataframe\">\n",
              "  <thead>\n",
              "    <tr style=\"text-align: right;\">\n",
              "      <th></th>\n",
              "      <th>Customer</th>\n",
              "      <th>TransDate</th>\n",
              "      <th>Quantity</th>\n",
              "      <th>PurchAmount</th>\n",
              "      <th>Cost</th>\n",
              "      <th>TransID</th>\n",
              "      <th>AggPurch</th>\n",
              "      <th>Count</th>\n",
              "    </tr>\n",
              "  </thead>\n",
              "  <tbody>\n",
              "    <tr>\n",
              "      <th>0</th>\n",
              "      <td>149332</td>\n",
              "      <td>2005-11-15</td>\n",
              "      <td>1</td>\n",
              "      <td>199.95</td>\n",
              "      <td>107.00</td>\n",
              "      <td>127998739</td>\n",
              "      <td>274.85</td>\n",
              "      <td>3</td>\n",
              "    </tr>\n",
              "    <tr>\n",
              "      <th>1</th>\n",
              "      <td>172951</td>\n",
              "      <td>2008-08-29</td>\n",
              "      <td>1</td>\n",
              "      <td>199.95</td>\n",
              "      <td>108.00</td>\n",
              "      <td>128888288</td>\n",
              "      <td>889.80</td>\n",
              "      <td>4</td>\n",
              "    </tr>\n",
              "    <tr>\n",
              "      <th>2</th>\n",
              "      <td>120621</td>\n",
              "      <td>2007-10-19</td>\n",
              "      <td>1</td>\n",
              "      <td>99.95</td>\n",
              "      <td>49.00</td>\n",
              "      <td>125375247</td>\n",
              "      <td>99.95</td>\n",
              "      <td>1</td>\n",
              "    </tr>\n",
              "    <tr>\n",
              "      <th>3</th>\n",
              "      <td>149236</td>\n",
              "      <td>2005-11-14</td>\n",
              "      <td>1</td>\n",
              "      <td>39.95</td>\n",
              "      <td>18.95</td>\n",
              "      <td>127996226</td>\n",
              "      <td>119.90</td>\n",
              "      <td>2</td>\n",
              "    </tr>\n",
              "    <tr>\n",
              "      <th>4</th>\n",
              "      <td>149236</td>\n",
              "      <td>2007-06-12</td>\n",
              "      <td>1</td>\n",
              "      <td>79.95</td>\n",
              "      <td>35.00</td>\n",
              "      <td>128670302</td>\n",
              "      <td>119.90</td>\n",
              "      <td>2</td>\n",
              "    </tr>\n",
              "    <tr>\n",
              "      <th>...</th>\n",
              "      <td>...</td>\n",
              "      <td>...</td>\n",
              "      <td>...</td>\n",
              "      <td>...</td>\n",
              "      <td>...</td>\n",
              "      <td>...</td>\n",
              "      <td>...</td>\n",
              "      <td>...</td>\n",
              "    </tr>\n",
              "    <tr>\n",
              "      <th>223186</th>\n",
              "      <td>199997</td>\n",
              "      <td>2012-09-17</td>\n",
              "      <td>1</td>\n",
              "      <td>29.95</td>\n",
              "      <td>13.80</td>\n",
              "      <td>132481149</td>\n",
              "      <td>179.70</td>\n",
              "      <td>6</td>\n",
              "    </tr>\n",
              "    <tr>\n",
              "      <th>223187</th>\n",
              "      <td>199997</td>\n",
              "      <td>2012-09-17</td>\n",
              "      <td>1</td>\n",
              "      <td>29.95</td>\n",
              "      <td>13.80</td>\n",
              "      <td>132481149</td>\n",
              "      <td>179.70</td>\n",
              "      <td>6</td>\n",
              "    </tr>\n",
              "    <tr>\n",
              "      <th>223188</th>\n",
              "      <td>199998</td>\n",
              "      <td>2012-09-17</td>\n",
              "      <td>1</td>\n",
              "      <td>29.95</td>\n",
              "      <td>13.80</td>\n",
              "      <td>132481154</td>\n",
              "      <td>29.95</td>\n",
              "      <td>1</td>\n",
              "    </tr>\n",
              "    <tr>\n",
              "      <th>223189</th>\n",
              "      <td>199999</td>\n",
              "      <td>2012-09-17</td>\n",
              "      <td>1</td>\n",
              "      <td>179.95</td>\n",
              "      <td>109.99</td>\n",
              "      <td>132481165</td>\n",
              "      <td>179.95</td>\n",
              "      <td>1</td>\n",
              "    </tr>\n",
              "    <tr>\n",
              "      <th>223190</th>\n",
              "      <td>199542</td>\n",
              "      <td>2012-09-17</td>\n",
              "      <td>1</td>\n",
              "      <td>39.95</td>\n",
              "      <td>10.50</td>\n",
              "      <td>131973368</td>\n",
              "      <td>39.95</td>\n",
              "      <td>1</td>\n",
              "    </tr>\n",
              "  </tbody>\n",
              "</table>\n",
              "<p>223191 rows × 8 columns</p>\n",
              "</div>"
            ],
            "text/plain": [
              "        Customer  TransDate  Quantity  ...    TransID  AggPurch  Count\n",
              "0         149332 2005-11-15         1  ...  127998739    274.85      3\n",
              "1         172951 2008-08-29         1  ...  128888288    889.80      4\n",
              "2         120621 2007-10-19         1  ...  125375247     99.95      1\n",
              "3         149236 2005-11-14         1  ...  127996226    119.90      2\n",
              "4         149236 2007-06-12         1  ...  128670302    119.90      2\n",
              "...          ...        ...       ...  ...        ...       ...    ...\n",
              "223186    199997 2012-09-17         1  ...  132481149    179.70      6\n",
              "223187    199997 2012-09-17         1  ...  132481149    179.70      6\n",
              "223188    199998 2012-09-17         1  ...  132481154     29.95      1\n",
              "223189    199999 2012-09-17         1  ...  132481165    179.95      1\n",
              "223190    199542 2012-09-17         1  ...  131973368     39.95      1\n",
              "\n",
              "[223191 rows x 8 columns]"
            ]
          },
          "metadata": {
            "tags": []
          },
          "execution_count": 21
        }
      ]
    },
    {
      "cell_type": "markdown",
      "metadata": {
        "id": "ysZehZ0mwirW"
      },
      "source": [
        "###### Add a column counting the transactions per customer"
      ]
    },
    {
      "cell_type": "code",
      "metadata": {
        "id": "AnsamcAQkqe3",
        "outputId": "c8a22353-b235-4685-d903-47ad1054bbee",
        "colab": {
          "base_uri": "https://localhost:8080/",
          "height": 419
        }
      },
      "source": [
        "# counts the total number of transactions per customer\n",
        "myData[\"RelDate\"] = myData.groupby(\"Customer\").cumcount() + 1\n",
        "myData"
      ],
      "execution_count": null,
      "outputs": [
        {
          "output_type": "execute_result",
          "data": {
            "text/html": [
              "<div>\n",
              "<style scoped>\n",
              "    .dataframe tbody tr th:only-of-type {\n",
              "        vertical-align: middle;\n",
              "    }\n",
              "\n",
              "    .dataframe tbody tr th {\n",
              "        vertical-align: top;\n",
              "    }\n",
              "\n",
              "    .dataframe thead th {\n",
              "        text-align: right;\n",
              "    }\n",
              "</style>\n",
              "<table border=\"1\" class=\"dataframe\">\n",
              "  <thead>\n",
              "    <tr style=\"text-align: right;\">\n",
              "      <th></th>\n",
              "      <th>Customer</th>\n",
              "      <th>TransDate</th>\n",
              "      <th>Quantity</th>\n",
              "      <th>PurchAmount</th>\n",
              "      <th>Cost</th>\n",
              "      <th>TransID</th>\n",
              "      <th>AggPurch</th>\n",
              "      <th>Count</th>\n",
              "      <th>RelDate</th>\n",
              "    </tr>\n",
              "  </thead>\n",
              "  <tbody>\n",
              "    <tr>\n",
              "      <th>0</th>\n",
              "      <td>149332</td>\n",
              "      <td>2005-11-15</td>\n",
              "      <td>1</td>\n",
              "      <td>199.95</td>\n",
              "      <td>107.00</td>\n",
              "      <td>127998739</td>\n",
              "      <td>274.85</td>\n",
              "      <td>3</td>\n",
              "      <td>1</td>\n",
              "    </tr>\n",
              "    <tr>\n",
              "      <th>1</th>\n",
              "      <td>172951</td>\n",
              "      <td>2008-08-29</td>\n",
              "      <td>1</td>\n",
              "      <td>199.95</td>\n",
              "      <td>108.00</td>\n",
              "      <td>128888288</td>\n",
              "      <td>889.80</td>\n",
              "      <td>4</td>\n",
              "      <td>1</td>\n",
              "    </tr>\n",
              "    <tr>\n",
              "      <th>2</th>\n",
              "      <td>120621</td>\n",
              "      <td>2007-10-19</td>\n",
              "      <td>1</td>\n",
              "      <td>99.95</td>\n",
              "      <td>49.00</td>\n",
              "      <td>125375247</td>\n",
              "      <td>99.95</td>\n",
              "      <td>1</td>\n",
              "      <td>1</td>\n",
              "    </tr>\n",
              "    <tr>\n",
              "      <th>3</th>\n",
              "      <td>149236</td>\n",
              "      <td>2005-11-14</td>\n",
              "      <td>1</td>\n",
              "      <td>39.95</td>\n",
              "      <td>18.95</td>\n",
              "      <td>127996226</td>\n",
              "      <td>119.90</td>\n",
              "      <td>2</td>\n",
              "      <td>1</td>\n",
              "    </tr>\n",
              "    <tr>\n",
              "      <th>4</th>\n",
              "      <td>149236</td>\n",
              "      <td>2007-06-12</td>\n",
              "      <td>1</td>\n",
              "      <td>79.95</td>\n",
              "      <td>35.00</td>\n",
              "      <td>128670302</td>\n",
              "      <td>119.90</td>\n",
              "      <td>2</td>\n",
              "      <td>2</td>\n",
              "    </tr>\n",
              "    <tr>\n",
              "      <th>...</th>\n",
              "      <td>...</td>\n",
              "      <td>...</td>\n",
              "      <td>...</td>\n",
              "      <td>...</td>\n",
              "      <td>...</td>\n",
              "      <td>...</td>\n",
              "      <td>...</td>\n",
              "      <td>...</td>\n",
              "      <td>...</td>\n",
              "    </tr>\n",
              "    <tr>\n",
              "      <th>223186</th>\n",
              "      <td>199997</td>\n",
              "      <td>2012-09-17</td>\n",
              "      <td>1</td>\n",
              "      <td>29.95</td>\n",
              "      <td>13.80</td>\n",
              "      <td>132481149</td>\n",
              "      <td>179.70</td>\n",
              "      <td>6</td>\n",
              "      <td>5</td>\n",
              "    </tr>\n",
              "    <tr>\n",
              "      <th>223187</th>\n",
              "      <td>199997</td>\n",
              "      <td>2012-09-17</td>\n",
              "      <td>1</td>\n",
              "      <td>29.95</td>\n",
              "      <td>13.80</td>\n",
              "      <td>132481149</td>\n",
              "      <td>179.70</td>\n",
              "      <td>6</td>\n",
              "      <td>6</td>\n",
              "    </tr>\n",
              "    <tr>\n",
              "      <th>223188</th>\n",
              "      <td>199998</td>\n",
              "      <td>2012-09-17</td>\n",
              "      <td>1</td>\n",
              "      <td>29.95</td>\n",
              "      <td>13.80</td>\n",
              "      <td>132481154</td>\n",
              "      <td>29.95</td>\n",
              "      <td>1</td>\n",
              "      <td>1</td>\n",
              "    </tr>\n",
              "    <tr>\n",
              "      <th>223189</th>\n",
              "      <td>199999</td>\n",
              "      <td>2012-09-17</td>\n",
              "      <td>1</td>\n",
              "      <td>179.95</td>\n",
              "      <td>109.99</td>\n",
              "      <td>132481165</td>\n",
              "      <td>179.95</td>\n",
              "      <td>1</td>\n",
              "      <td>1</td>\n",
              "    </tr>\n",
              "    <tr>\n",
              "      <th>223190</th>\n",
              "      <td>199542</td>\n",
              "      <td>2012-09-17</td>\n",
              "      <td>1</td>\n",
              "      <td>39.95</td>\n",
              "      <td>10.50</td>\n",
              "      <td>131973368</td>\n",
              "      <td>39.95</td>\n",
              "      <td>1</td>\n",
              "      <td>1</td>\n",
              "    </tr>\n",
              "  </tbody>\n",
              "</table>\n",
              "<p>223191 rows × 9 columns</p>\n",
              "</div>"
            ],
            "text/plain": [
              "        Customer  TransDate  Quantity  ...  AggPurch  Count  RelDate\n",
              "0         149332 2005-11-15         1  ...    274.85      3        1\n",
              "1         172951 2008-08-29         1  ...    889.80      4        1\n",
              "2         120621 2007-10-19         1  ...     99.95      1        1\n",
              "3         149236 2005-11-14         1  ...    119.90      2        1\n",
              "4         149236 2007-06-12         1  ...    119.90      2        2\n",
              "...          ...        ...       ...  ...       ...    ...      ...\n",
              "223186    199997 2012-09-17         1  ...    179.70      6        5\n",
              "223187    199997 2012-09-17         1  ...    179.70      6        6\n",
              "223188    199998 2012-09-17         1  ...     29.95      1        1\n",
              "223189    199999 2012-09-17         1  ...    179.95      1        1\n",
              "223190    199542 2012-09-17         1  ...     39.95      1        1\n",
              "\n",
              "[223191 rows x 9 columns]"
            ]
          },
          "metadata": {
            "tags": []
          },
          "execution_count": 22
        }
      ]
    },
    {
      "cell_type": "markdown",
      "metadata": {
        "id": "1ct1hwyEwtk-"
      },
      "source": [
        "#### 3.3 Exercises\n",
        "###### 1. Add a column to myData with the total number of purchases per customer (Hint: Use the transform(\"size\") function)."
      ]
    },
    {
      "cell_type": "code",
      "metadata": {
        "id": "ExI8K573wAoq"
      },
      "source": [
        "# your solution\n",
        "myData[\"Count\"]=..."
      ],
      "execution_count": null,
      "outputs": []
    }
  ]
}