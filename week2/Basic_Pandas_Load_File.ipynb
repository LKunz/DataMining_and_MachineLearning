{
  "nbformat": 4,
  "nbformat_minor": 0,
  "metadata": {
    "kernel_info": {
      "name": "python3"
    },
    "kernelspec": {
      "display_name": "Python 3",
      "language": "python",
      "name": "python3"
    },
    "language_info": {
      "codemirror_mode": {
        "name": "ipython",
        "version": 3
      },
      "file_extension": ".py",
      "mimetype": "text/x-python",
      "name": "python",
      "nbconvert_exporter": "python",
      "pygments_lexer": "ipython3",
      "version": "3.7.3"
    },
    "nteract": {
      "version": "0.15.0"
    },
    "colab": {
      "name": "Basic_Pandas_Load_File.ipynb",
      "provenance": [],
      "include_colab_link": true
    }
  },
  "cells": [
    {
      "cell_type": "markdown",
      "metadata": {
        "id": "view-in-github",
        "colab_type": "text"
      },
      "source": [
        "<a href=\"https://colab.research.google.com/github/michalis0/DataMining_and_MachineLearning/blob/master/week2/Basic_Pandas_Load_File.ipynb\" target=\"_parent\"><img src=\"https://colab.research.google.com/assets/colab-badge.svg\" alt=\"Open In Colab\"/></a>"
      ]
    },
    {
      "cell_type": "markdown",
      "metadata": {
        "id": "qIJG61fU0kD_",
        "colab_type": "text"
      },
      "source": [
        "# Basic Pandas operations\n",
        "\n",
        "**Goal**: Our goal here is to learn how to load a dataset into a Pandas DataFrame. The dataset can come either in CSV or in JSON format. We will see also how to perform basic data manipulations and very basic data visualizations so that you understand the nature of your data.\n",
        "\n",
        "## 1. Loading a dataset in CSV format\n",
        "\n",
        "First you have to import the `pandas` package."
      ]
    },
    {
      "cell_type": "code",
      "metadata": {
        "id": "H8dlmQwf0kEA",
        "colab_type": "code",
        "colab": {}
      },
      "source": [
        "import pandas as pd # press shift+enter to execute"
      ],
      "execution_count": 1,
      "outputs": []
    },
    {
      "cell_type": "markdown",
      "metadata": {
        "id": "qLMdEySR0kEE",
        "colab_type": "text"
      },
      "source": [
        "Now you can see that you autocomplete your code with functions that are included in `pandas`. Eg type `pd.read` and see that it recommends some functions."
      ]
    },
    {
      "cell_type": "code",
      "metadata": {
        "scrolled": true,
        "id": "x77qiHPm0kEG",
        "colab_type": "code",
        "colab": {
          "base_uri": "https://localhost:8080/",
          "height": 195
        },
        "outputId": "a2b2a2fe-1380-474b-8919-6077263e9d21"
      },
      "source": [
        "# let's load a file\n",
        "data = pd.read_csv('https://raw.githubusercontent.com/michalis0/DataMining_and_MachineLearning/master/week2/data/pandas_tutorial_read.csv') \n",
        "data.head()"
      ],
      "execution_count": 4,
      "outputs": [
        {
          "output_type": "execute_result",
          "data": {
            "text/html": [
              "<div>\n",
              "<style scoped>\n",
              "    .dataframe tbody tr th:only-of-type {\n",
              "        vertical-align: middle;\n",
              "    }\n",
              "\n",
              "    .dataframe tbody tr th {\n",
              "        vertical-align: top;\n",
              "    }\n",
              "\n",
              "    .dataframe thead th {\n",
              "        text-align: right;\n",
              "    }\n",
              "</style>\n",
              "<table border=\"1\" class=\"dataframe\">\n",
              "  <thead>\n",
              "    <tr style=\"text-align: right;\">\n",
              "      <th></th>\n",
              "      <th>2018-01-01 00:01:01;read;country_7;2458151261;SEO;North America</th>\n",
              "    </tr>\n",
              "  </thead>\n",
              "  <tbody>\n",
              "    <tr>\n",
              "      <th>0</th>\n",
              "      <td>2018-01-01 00:03:20;read;country_7;2458151262;...</td>\n",
              "    </tr>\n",
              "    <tr>\n",
              "      <th>1</th>\n",
              "      <td>2018-01-01 00:04:01;read;country_7;2458151263;...</td>\n",
              "    </tr>\n",
              "    <tr>\n",
              "      <th>2</th>\n",
              "      <td>2018-01-01 00:04:02;read;country_7;2458151264;...</td>\n",
              "    </tr>\n",
              "    <tr>\n",
              "      <th>3</th>\n",
              "      <td>2018-01-01 00:05:03;read;country_8;2458151265;...</td>\n",
              "    </tr>\n",
              "    <tr>\n",
              "      <th>4</th>\n",
              "      <td>2018-01-01 00:05:42;read;country_6;2458151266;...</td>\n",
              "    </tr>\n",
              "  </tbody>\n",
              "</table>\n",
              "</div>"
            ],
            "text/plain": [
              "  2018-01-01 00:01:01;read;country_7;2458151261;SEO;North America\n",
              "0  2018-01-01 00:03:20;read;country_7;2458151262;...             \n",
              "1  2018-01-01 00:04:01;read;country_7;2458151263;...             \n",
              "2  2018-01-01 00:04:02;read;country_7;2458151264;...             \n",
              "3  2018-01-01 00:05:03;read;country_8;2458151265;...             \n",
              "4  2018-01-01 00:05:42;read;country_6;2458151266;...             "
            ]
          },
          "metadata": {
            "tags": []
          },
          "execution_count": 4
        }
      ]
    },
    {
      "cell_type": "markdown",
      "metadata": {
        "id": "JrHy4YQf0kEJ",
        "colab_type": "text"
      },
      "source": [
        "Is the above correct? Most likely not. We see there are ';' and the data seem to be in one column. The default delimiter is ',' so we need to change it."
      ]
    },
    {
      "cell_type": "code",
      "metadata": {
        "id": "7zThVrPh0kEK",
        "colab_type": "code",
        "colab": {
          "base_uri": "https://localhost:8080/",
          "height": 195
        },
        "outputId": "5cdd30cf-6261-4445-84f2-3cc579bfdfaa"
      },
      "source": [
        "data = pd.read_csv('https://raw.githubusercontent.com/michalis0/DataMining_and_MachineLearning/master/week2/data/pandas_tutorial_read.csv', delimiter=';') \n",
        "data.head()"
      ],
      "execution_count": 5,
      "outputs": [
        {
          "output_type": "execute_result",
          "data": {
            "text/html": [
              "<div>\n",
              "<style scoped>\n",
              "    .dataframe tbody tr th:only-of-type {\n",
              "        vertical-align: middle;\n",
              "    }\n",
              "\n",
              "    .dataframe tbody tr th {\n",
              "        vertical-align: top;\n",
              "    }\n",
              "\n",
              "    .dataframe thead th {\n",
              "        text-align: right;\n",
              "    }\n",
              "</style>\n",
              "<table border=\"1\" class=\"dataframe\">\n",
              "  <thead>\n",
              "    <tr style=\"text-align: right;\">\n",
              "      <th></th>\n",
              "      <th>2018-01-01 00:01:01</th>\n",
              "      <th>read</th>\n",
              "      <th>country_7</th>\n",
              "      <th>2458151261</th>\n",
              "      <th>SEO</th>\n",
              "      <th>North America</th>\n",
              "    </tr>\n",
              "  </thead>\n",
              "  <tbody>\n",
              "    <tr>\n",
              "      <th>0</th>\n",
              "      <td>2018-01-01 00:03:20</td>\n",
              "      <td>read</td>\n",
              "      <td>country_7</td>\n",
              "      <td>2458151262</td>\n",
              "      <td>SEO</td>\n",
              "      <td>South America</td>\n",
              "    </tr>\n",
              "    <tr>\n",
              "      <th>1</th>\n",
              "      <td>2018-01-01 00:04:01</td>\n",
              "      <td>read</td>\n",
              "      <td>country_7</td>\n",
              "      <td>2458151263</td>\n",
              "      <td>AdWords</td>\n",
              "      <td>Africa</td>\n",
              "    </tr>\n",
              "    <tr>\n",
              "      <th>2</th>\n",
              "      <td>2018-01-01 00:04:02</td>\n",
              "      <td>read</td>\n",
              "      <td>country_7</td>\n",
              "      <td>2458151264</td>\n",
              "      <td>AdWords</td>\n",
              "      <td>Europe</td>\n",
              "    </tr>\n",
              "    <tr>\n",
              "      <th>3</th>\n",
              "      <td>2018-01-01 00:05:03</td>\n",
              "      <td>read</td>\n",
              "      <td>country_8</td>\n",
              "      <td>2458151265</td>\n",
              "      <td>Reddit</td>\n",
              "      <td>North America</td>\n",
              "    </tr>\n",
              "    <tr>\n",
              "      <th>4</th>\n",
              "      <td>2018-01-01 00:05:42</td>\n",
              "      <td>read</td>\n",
              "      <td>country_6</td>\n",
              "      <td>2458151266</td>\n",
              "      <td>Reddit</td>\n",
              "      <td>North America</td>\n",
              "    </tr>\n",
              "  </tbody>\n",
              "</table>\n",
              "</div>"
            ],
            "text/plain": [
              "   2018-01-01 00:01:01  read  country_7  2458151261      SEO  North America\n",
              "0  2018-01-01 00:03:20  read  country_7  2458151262      SEO  South America\n",
              "1  2018-01-01 00:04:01  read  country_7  2458151263  AdWords         Africa\n",
              "2  2018-01-01 00:04:02  read  country_7  2458151264  AdWords         Europe\n",
              "3  2018-01-01 00:05:03  read  country_8  2458151265   Reddit  North America\n",
              "4  2018-01-01 00:05:42  read  country_6  2458151266   Reddit  North America"
            ]
          },
          "metadata": {
            "tags": []
          },
          "execution_count": 5
        }
      ]
    },
    {
      "cell_type": "markdown",
      "metadata": {
        "id": "O_9v2FGd0kEN",
        "colab_type": "text"
      },
      "source": [
        "This looks better. But something else does not look good now. Now we don't have a header for the data. This usually comes with the documentation. I provide it here."
      ]
    },
    {
      "cell_type": "code",
      "metadata": {
        "id": "oKPML7oy0kEO",
        "colab_type": "code",
        "colab": {
          "base_uri": "https://localhost:8080/",
          "height": 195
        },
        "outputId": "238bbc76-e55a-466c-e3cf-ca8a429fdd4a"
      },
      "source": [
        "data = pd.read_csv('https://raw.githubusercontent.com/michalis0/DataMining_and_MachineLearning/master/week2/data/pandas_tutorial_read.csv', \n",
        "                   delimiter=';', \n",
        "                   names = ['my_datetime', 'event', 'country', 'user_id', 'source', 'topic']) \n",
        "data.head()"
      ],
      "execution_count": 6,
      "outputs": [
        {
          "output_type": "execute_result",
          "data": {
            "text/html": [
              "<div>\n",
              "<style scoped>\n",
              "    .dataframe tbody tr th:only-of-type {\n",
              "        vertical-align: middle;\n",
              "    }\n",
              "\n",
              "    .dataframe tbody tr th {\n",
              "        vertical-align: top;\n",
              "    }\n",
              "\n",
              "    .dataframe thead th {\n",
              "        text-align: right;\n",
              "    }\n",
              "</style>\n",
              "<table border=\"1\" class=\"dataframe\">\n",
              "  <thead>\n",
              "    <tr style=\"text-align: right;\">\n",
              "      <th></th>\n",
              "      <th>my_datetime</th>\n",
              "      <th>event</th>\n",
              "      <th>country</th>\n",
              "      <th>user_id</th>\n",
              "      <th>source</th>\n",
              "      <th>topic</th>\n",
              "    </tr>\n",
              "  </thead>\n",
              "  <tbody>\n",
              "    <tr>\n",
              "      <th>0</th>\n",
              "      <td>2018-01-01 00:01:01</td>\n",
              "      <td>read</td>\n",
              "      <td>country_7</td>\n",
              "      <td>2458151261</td>\n",
              "      <td>SEO</td>\n",
              "      <td>North America</td>\n",
              "    </tr>\n",
              "    <tr>\n",
              "      <th>1</th>\n",
              "      <td>2018-01-01 00:03:20</td>\n",
              "      <td>read</td>\n",
              "      <td>country_7</td>\n",
              "      <td>2458151262</td>\n",
              "      <td>SEO</td>\n",
              "      <td>South America</td>\n",
              "    </tr>\n",
              "    <tr>\n",
              "      <th>2</th>\n",
              "      <td>2018-01-01 00:04:01</td>\n",
              "      <td>read</td>\n",
              "      <td>country_7</td>\n",
              "      <td>2458151263</td>\n",
              "      <td>AdWords</td>\n",
              "      <td>Africa</td>\n",
              "    </tr>\n",
              "    <tr>\n",
              "      <th>3</th>\n",
              "      <td>2018-01-01 00:04:02</td>\n",
              "      <td>read</td>\n",
              "      <td>country_7</td>\n",
              "      <td>2458151264</td>\n",
              "      <td>AdWords</td>\n",
              "      <td>Europe</td>\n",
              "    </tr>\n",
              "    <tr>\n",
              "      <th>4</th>\n",
              "      <td>2018-01-01 00:05:03</td>\n",
              "      <td>read</td>\n",
              "      <td>country_8</td>\n",
              "      <td>2458151265</td>\n",
              "      <td>Reddit</td>\n",
              "      <td>North America</td>\n",
              "    </tr>\n",
              "  </tbody>\n",
              "</table>\n",
              "</div>"
            ],
            "text/plain": [
              "           my_datetime event    country     user_id   source          topic\n",
              "0  2018-01-01 00:01:01  read  country_7  2458151261      SEO  North America\n",
              "1  2018-01-01 00:03:20  read  country_7  2458151262      SEO  South America\n",
              "2  2018-01-01 00:04:01  read  country_7  2458151263  AdWords         Africa\n",
              "3  2018-01-01 00:04:02  read  country_7  2458151264  AdWords         Europe\n",
              "4  2018-01-01 00:05:03  read  country_8  2458151265   Reddit  North America"
            ]
          },
          "metadata": {
            "tags": []
          },
          "execution_count": 6
        }
      ]
    },
    {
      "cell_type": "markdown",
      "metadata": {
        "id": "w_i-afB20kER",
        "colab_type": "text"
      },
      "source": [
        "With the `head` function you see the first few lines. You can also see the:\n",
        "\n",
        "- whole dataset: just type ```data```\n",
        "- the beginning as before ```data.head()``` \n",
        "- the ```data.tail()``` or \n",
        "- a sample such as ```data.sample(5)```\n",
        "\n",
        "Try it out below:"
      ]
    },
    {
      "cell_type": "code",
      "metadata": {
        "id": "mlNtcB4a0kER",
        "colab_type": "code",
        "colab": {}
      },
      "source": [
        ""
      ],
      "execution_count": null,
      "outputs": []
    },
    {
      "cell_type": "markdown",
      "metadata": {
        "id": "0ETjKLgO0kET",
        "colab_type": "text"
      },
      "source": [
        "## DataFrame components\n",
        "There are three components of the DataFrame: the index, columns and data (values). We can extract each of these components into their own variables. Let's do that and then inspect them:"
      ]
    },
    {
      "cell_type": "code",
      "metadata": {
        "id": "sdXahbXD0kEU",
        "colab_type": "code",
        "colab": {}
      },
      "source": [
        "index = data.index\n",
        "columns = data.columns\n",
        "values = data.values"
      ],
      "execution_count": null,
      "outputs": []
    },
    {
      "cell_type": "code",
      "metadata": {
        "id": "EQ3ZDnwn0kEW",
        "colab_type": "code",
        "colab": {}
      },
      "source": [
        "index"
      ],
      "execution_count": null,
      "outputs": []
    },
    {
      "cell_type": "code",
      "metadata": {
        "id": "tJjJXFvw0kEZ",
        "colab_type": "code",
        "colab": {}
      },
      "source": [
        "columns"
      ],
      "execution_count": null,
      "outputs": []
    },
    {
      "cell_type": "code",
      "metadata": {
        "id": "13YYybzE0kEc",
        "colab_type": "code",
        "colab": {}
      },
      "source": [
        "values"
      ],
      "execution_count": null,
      "outputs": []
    },
    {
      "cell_type": "markdown",
      "metadata": {
        "id": "OVEsDFKa0kEe",
        "colab_type": "text"
      },
      "source": [
        "## Data types of the components"
      ]
    },
    {
      "cell_type": "code",
      "metadata": {
        "id": "PKfturR50kEe",
        "colab_type": "code",
        "colab": {}
      },
      "source": [
        "type(index)"
      ],
      "execution_count": null,
      "outputs": []
    },
    {
      "cell_type": "code",
      "metadata": {
        "id": "DAcFxFcM0kEh",
        "colab_type": "code",
        "colab": {}
      },
      "source": [
        "type(columns)"
      ],
      "execution_count": null,
      "outputs": []
    },
    {
      "cell_type": "code",
      "metadata": {
        "id": "U3eyPx2o0kEj",
        "colab_type": "code",
        "colab": {}
      },
      "source": [
        "type(values)"
      ],
      "execution_count": null,
      "outputs": []
    },
    {
      "cell_type": "markdown",
      "metadata": {
        "id": "Zvzq8v6f0kEn",
        "colab_type": "text"
      },
      "source": [
        "\n",
        "The index and the columns are the same type: a pandas **`Index`** object (**`RangeIndex`** is of type **`Index`**), which is a sequence of labels for either the rows or the columns.\n",
        "\n",
        "The values are a NumPy **`ndarray`**, which stands for n-dimensional array, and is the primary container of data in the NumPy library. Pandas is built directly on top of NumPy."
      ]
    },
    {
      "cell_type": "markdown",
      "metadata": {
        "id": "VKSHXwXE0kEo",
        "colab_type": "text"
      },
      "source": [
        "### Selecting columns\n",
        "\n",
        "If you want to select two particular columns you can do it like that:\n",
        "\n",
        "```data[['country', 'user_id']]``` \n",
        "\n",
        "or you can take the columns in a different order: \n",
        "\n",
        "```article_read[['user_id', 'country']]```.\n",
        "\n",
        "The way to remember the syntax is that outer brackets signify that you want to select columns, and the inner brackets are for the list itself.\n",
        "\n",
        "Try it out."
      ]
    },
    {
      "cell_type": "code",
      "metadata": {
        "id": "HtXSweYa0kEo",
        "colab_type": "code",
        "colab": {}
      },
      "source": [
        ""
      ],
      "execution_count": null,
      "outputs": []
    },
    {
      "cell_type": "markdown",
      "metadata": {
        "id": "8m24QBme0kEr",
        "colab_type": "text"
      },
      "source": [
        "The above returns a pandas.DataFrame. If you want to return a pandas.Series instead then you can use this syntax:\n",
        "\n",
        "```article_read.user_id ```\n",
        "\n",
        "or \n",
        "\n",
        "``` article_read['user_id'] ```"
      ]
    },
    {
      "cell_type": "code",
      "metadata": {
        "id": "aHsAQIVM0kEr",
        "colab_type": "code",
        "colab": {}
      },
      "source": [
        ""
      ],
      "execution_count": null,
      "outputs": []
    },
    {
      "cell_type": "markdown",
      "metadata": {
        "id": "BSTdFsKx0kEu",
        "colab_type": "text"
      },
      "source": [
        "If you want to filter one those users that came from SEO then you can write:\n",
        "\n",
        "``` article_read[article_read.source == 'SEO'] ```\n",
        "\n",
        "where the inner statement will create a boolean mask."
      ]
    },
    {
      "cell_type": "code",
      "metadata": {
        "id": "6QDLG4La0kEv",
        "colab_type": "code",
        "colab": {}
      },
      "source": [
        ""
      ],
      "execution_count": null,
      "outputs": []
    },
    {
      "cell_type": "markdown",
      "metadata": {
        "id": "4uAidArA0kEy",
        "colab_type": "text"
      },
      "source": [
        "### Chaining\n",
        "\n",
        "You can combine multiple selection methods as follows:\n",
        "\n",
        "``` article_read.head()[['country', 'user_id']] ```\n",
        "\n",
        "**CAUTION**: A thing to keep in mind is that when you use chaining you work on *copies* of the original DataFrame. So if you use chaining to change data, you may observe that the original DataFrame was not changed."
      ]
    },
    {
      "cell_type": "markdown",
      "metadata": {
        "id": "BTWTscn-0kEy",
        "colab_type": "text"
      },
      "source": [
        "---\n",
        "\n",
        "Now it's your turn to solve an exercise and deepen your knowledge.\n"
      ]
    },
    {
      "cell_type": "markdown",
      "metadata": {
        "id": "rNApjyqb0kEz",
        "colab_type": "text"
      },
      "source": [
        "<div class=\"alert alert-block alert-success\">\n",
        "    <h2>Exercise 1:</h2>\n",
        "\n",
        "\n",
        "    \n",
        ">Select the user_id, the country and the topic columns for the users who are from country_2, and show only the first 10 rows\n",
        "</div>"
      ]
    },
    {
      "cell_type": "code",
      "metadata": {
        "id": "EuUu91GW0kEz",
        "colab_type": "code",
        "colab": {}
      },
      "source": [
        ""
      ],
      "execution_count": null,
      "outputs": []
    },
    {
      "cell_type": "code",
      "metadata": {
        "id": "hUUJzDZT0kE2",
        "colab_type": "code",
        "colab": {}
      },
      "source": [
        "# enter your solution here."
      ],
      "execution_count": null,
      "outputs": []
    },
    {
      "cell_type": "code",
      "metadata": {
        "tags": [
          "hide_input"
        ],
        "id": "aRUj2-a80kE4",
        "colab_type": "code",
        "colab": {}
      },
      "source": [
        "# possible solution \n",
        "# data[['user_id', 'topic', 'country']][data['country'] == 'country_2'].head(10)"
      ],
      "execution_count": null,
      "outputs": []
    },
    {
      "cell_type": "markdown",
      "metadata": {
        "id": "e472-ltn0kE7",
        "colab_type": "text"
      },
      "source": [
        "---\n",
        "## 2. Loading JSON files\n",
        "\n",
        "Many of the data in the Internet exists in JSON format which is a structured text format, and is very similar to a Python dictionary.\n",
        "\n",
        "We will see how to load a JSON dataset in a Pandas DataFrame.\n",
        "\n",
        "We will use the Citibike API that provides a real-time view of the Citibike stations in New York.\n",
        "The API call at http://www.citibikenyc.com/stations/json."
      ]
    },
    {
      "cell_type": "code",
      "metadata": {
        "id": "f6yVWNgG0kE8",
        "colab_type": "code",
        "colab": {}
      },
      "source": [
        "import requests\n",
        "url = 'http://www.citibikenyc.com/stations/json'\n",
        "data = requests.get(url).json()\n",
        "data"
      ],
      "execution_count": null,
      "outputs": []
    },
    {
      "cell_type": "markdown",
      "metadata": {
        "id": "UtoU8GT00kE-",
        "colab_type": "text"
      },
      "source": [
        "Above you see how the JSON file looks. The JSON results contain two keys: The `executionTime` and `stationBeanList`. The `stationBeanList` is a list of dictionaries, with each dictionary corresponding to a Citibike station."
      ]
    },
    {
      "cell_type": "code",
      "metadata": {
        "id": "4H4HjP5o0kE-",
        "colab_type": "code",
        "colab": {}
      },
      "source": [
        "data.keys()"
      ],
      "execution_count": null,
      "outputs": []
    },
    {
      "cell_type": "markdown",
      "metadata": {
        "id": "abQw2XPN0kFA",
        "colab_type": "text"
      },
      "source": [
        "With Pandas we can easily convert a list of dictionaries into a DataFrame"
      ]
    },
    {
      "cell_type": "code",
      "metadata": {
        "id": "Gn4DfL8F0kFA",
        "colab_type": "code",
        "colab": {}
      },
      "source": [
        "import pandas\n",
        "df = pandas.DataFrame(data[\"stationBeanList\"])\n",
        "df.head(5)"
      ],
      "execution_count": null,
      "outputs": []
    },
    {
      "cell_type": "markdown",
      "metadata": {
        "id": "XIw_J7540kFD",
        "colab_type": "text"
      },
      "source": [
        "Let's try to understand the columns:\n",
        "\n",
        "We notice that:\n",
        "\n",
        "- **totalDocks** = **availableBikes** (bikes ready to rent) + **availableDocks** (how many docks are free)\n",
        "\n",
        "To see if the data has been imported correctly, we can verify the datatypes of the columns. Pandas tries to infer the datatypes and for this case it does a pretty good job. In general, you should consider providing explicitly the datatypes of each column."
      ]
    },
    {
      "cell_type": "code",
      "metadata": {
        "id": "rPuCxkyT0kFD",
        "colab_type": "code",
        "colab": {}
      },
      "source": [
        "df.dtypes"
      ],
      "execution_count": null,
      "outputs": []
    },
    {
      "cell_type": "markdown",
      "metadata": {
        "id": "bAFCOfvF0kFI",
        "colab_type": "text"
      },
      "source": [
        "One column that looks not parsed correctly is the **lastCommunicationTime** which is an `object` (i.e., `string`), so you may want to convert it to the `datetime` type."
      ]
    },
    {
      "cell_type": "markdown",
      "metadata": {
        "id": "u2gZ4j4U0kFI",
        "colab_type": "text"
      },
      "source": [
        "<div class=\"alert alert-block alert-success\">\n",
        "    <h2>Exercise 2:</h2>\n",
        "\n",
        "\n",
        "    \n",
        ">Convert the **lastCommunicationTime** into a `datetime` datatype. <br>\n",
        "**Hint**: Use the [pandas.to_datetime](https://pandas.pydata.org/pandas-docs/stable/reference/api/pandas.to_datetime.html) function.\n",
        "</div>"
      ]
    },
    {
      "cell_type": "code",
      "metadata": {
        "id": "exGiG-8v0kFJ",
        "colab_type": "code",
        "colab": {}
      },
      "source": [
        "# Your solution here\n",
        "df[\"lastCommunicationTime\"] = pd.to_datetime(df[\"lastCommunicationTime\"])\n",
        "df.head()"
      ],
      "execution_count": null,
      "outputs": []
    },
    {
      "cell_type": "markdown",
      "metadata": {
        "id": "8iFS7YIK0kFM",
        "colab_type": "text"
      },
      "source": [
        "Let's confirm that the **lastCommunicationTime** column is of type `datetime`."
      ]
    },
    {
      "cell_type": "markdown",
      "metadata": {
        "id": "t4mjbHlV0kFM",
        "colab_type": "text"
      },
      "source": [
        "### Adding a column\n",
        "\n",
        "We can add a column `perc_full` that shows how full is each station."
      ]
    },
    {
      "cell_type": "code",
      "metadata": {
        "id": "-S1qWfYR0kFN",
        "colab_type": "code",
        "colab": {}
      },
      "source": [
        "df[\"perc_full\"] = df['availableBikes']/df['totalDocks']"
      ],
      "execution_count": null,
      "outputs": []
    },
    {
      "cell_type": "markdown",
      "metadata": {
        "id": "VLuY89HT0kFP",
        "colab_type": "text"
      },
      "source": [
        "## Summary Statistics\n",
        "\n",
        "You can also use the `describe` function of Pandas to get some general understanding of the central values and the tendencies of each column."
      ]
    },
    {
      "cell_type": "code",
      "metadata": {
        "id": "WMKed2Iq0kFQ",
        "colab_type": "code",
        "colab": {}
      },
      "source": [
        "df.describe()"
      ],
      "execution_count": null,
      "outputs": []
    },
    {
      "cell_type": "markdown",
      "metadata": {
        "id": "_yVc3BNB0kFS",
        "colab_type": "text"
      },
      "source": [
        "Now you should ask yourself. **Are the values in the summary statistics what you expected them to be?**"
      ]
    },
    {
      "cell_type": "markdown",
      "metadata": {
        "id": "6sn8bXVY0kFS",
        "colab_type": "text"
      },
      "source": [
        "---\n",
        "## Writing the data to a CSV\n",
        "\n",
        "With the above, we just scratched the surface of what it means to do data processing.\n",
        "\n",
        "After you did your basic data processing, you may want to save the DataFrame in a new CSV file, so that you don't have to repeat the same pre-processing everytime. You can use the [to_csv](https://datatofish.com/export-dataframe-to-csv/) function.\n",
        "\n",
        "**Note**: When you use Google Colab, this file will only be saved in your temporary virtual machine space and will be deleted once your Colab instance is closed (i.e. you close the window). If you want to explore more permanent solutions of saving your file, see [here](https://colab.research.google.com/notebooks/io.ipynb).\n"
      ]
    },
    {
      "cell_type": "code",
      "metadata": {
        "id": "Li50ceD90kFT",
        "colab_type": "code",
        "colab": {}
      },
      "source": [
        "# uncomment the following to save the file\n",
        "# df.to_csv(\"my_new_file.csv\", sep=\",\")"
      ],
      "execution_count": null,
      "outputs": []
    }
  ]
}