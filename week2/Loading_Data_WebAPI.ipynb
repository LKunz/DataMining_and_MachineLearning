{
  "nbformat": 4,
  "nbformat_minor": 0,
  "metadata": {
    "kernel_info": {
      "name": "python3"
    },
    "kernelspec": {
      "display_name": "Python 3",
      "language": "python",
      "name": "python3"
    },
    "language_info": {
      "codemirror_mode": {
        "name": "ipython",
        "version": 3
      },
      "file_extension": ".py",
      "mimetype": "text/x-python",
      "name": "python",
      "nbconvert_exporter": "python",
      "pygments_lexer": "ipython3",
      "version": "3.7.3"
    },
    "nteract": {
      "version": "0.15.0"
    },
    "colab": {
      "name": "Loading_Data_WebAPI.ipynb",
      "provenance": [],
      "include_colab_link": true
    }
  },
  "cells": [
    {
      "cell_type": "markdown",
      "metadata": {
        "id": "view-in-github",
        "colab_type": "text"
      },
      "source": [
        "<a href=\"https://colab.research.google.com/github/michalis0/DataMining_and_MachineLearning/blob/master/week2/Loading_Data_WebAPI.ipynb\" target=\"_parent\"><img src=\"https://colab.research.google.com/assets/colab-badge.svg\" alt=\"Open In Colab\"/></a>"
      ]
    },
    {
      "cell_type": "markdown",
      "metadata": {
        "id": "xWEoMr6SbpTX",
        "colab_type": "text"
      },
      "source": [
        "# Getting Data from Web APIs\n",
        "\n",
        "### Many of the data that exist on the Internet can be retrieved by calling the right APIs. (=Application Programming Interface)\n",
        "\n",
        "\n",
        "Here we will connect to a weather API, which is provided by [openweathermap](https://openweathermap.org).\n",
        "\n",
        "https://openweathermap.org/\n",
        "\n",
        "<img src=\"http://openweathermap.org/themes/openweathermap/assets/img/history%20bulk%20examples/history_bulk_example.png\"/>\n",
        "<br>\n",
        "\n",
        "Typically, to connect to a web API, you have to register first to get a \"key\" (=a random number), which you pass as a parameter at the proper URL.\n",
        "\n",
        "I have already registered and gotten a key, which is given in the **`appid`** variable of the code.\n",
        "\n",
        "When you call a web-service you provide several parameters which have the format of `http://some.URL.com/endpoint?parameter1=value&parameter2=value`\n",
        "\n",
        "In the weather service below we provide three parameters:\n",
        "\n",
        "- `appid`: this is the key that we got when we registered for the service\n",
        "- `units`: for this we give the value `metric` to get back the degrees in Celcius instead of Fahrenheit.\n",
        "- `q`: this is the location for which we wish to get the weather for, e.g., London,UK\n"
      ]
    },
    {
      "cell_type": "code",
      "metadata": {
        "inputHidden": false,
        "outputHidden": false,
        "id": "X-cHnAFVbpTY",
        "colab_type": "code",
        "colab": {}
      },
      "source": [
        "#we import some packages that we need\n",
        "import requests # this is for calling the service\n",
        "from pprint import pprint\n",
        "import json"
      ],
      "execution_count": null,
      "outputs": []
    },
    {
      "cell_type": "markdown",
      "metadata": {
        "id": "qNfj5573bpTc",
        "colab_type": "text"
      },
      "source": [
        "## Asking the Location\n",
        "\n",
        "Then we can define some important variables and ask the user for which location he/she wants to retrieve the weather about.\n",
        "\n",
        "Below we *hardcode* the `location` to Lausnnae, but you can also uncomment the final command so that you let the user enter any location that the user wants."
      ]
    },
    {
      "cell_type": "code",
      "metadata": {
        "inputHidden": false,
        "outputHidden": false,
        "id": "nZdVduDvbpTe",
        "colab_type": "code",
        "colab": {}
      },
      "source": [
        "appid = 'cc7787771556273e2c5082eb676e48e1'\n",
        "location = 'Lausanne'\n",
        "# location = input('Enter requested location (e.g. London,UK)')"
      ],
      "execution_count": null,
      "outputs": []
    },
    {
      "cell_type": "markdown",
      "metadata": {
        "id": "FxP7brj-bpTi",
        "colab_type": "text"
      },
      "source": [
        "## Forming the URL\n",
        "\n",
        "Now that we know for which location the user is interested we can form the proper url and print out the complete url formed."
      ]
    },
    {
      "cell_type": "code",
      "metadata": {
        "inputHidden": false,
        "outputHidden": false,
        "id": "Ed3QoHQubpTj",
        "colab_type": "code",
        "colab": {},
        "outputId": "8621dddc-4dcb-4e44-d378-a9e274997556"
      },
      "source": [
        "url = \"http://api.openweathermap.org/data/2.5/weather?q={}&APPID={}&units=metric\".format(location, appid)\n",
        "\n",
        "print(url)"
      ],
      "execution_count": null,
      "outputs": [
        {
          "output_type": "stream",
          "text": [
            "http://api.openweathermap.org/data/2.5/weather?q=Lausanne&APPID=cc7787771556273e2c5082eb676e48e1&units=metric\n"
          ],
          "name": "stdout"
        }
      ]
    },
    {
      "cell_type": "markdown",
      "metadata": {
        "id": "k-A5qawqbpTo",
        "colab_type": "text"
      },
      "source": [
        "**Note:** Once you have the right URL, you can just also paste it in the web address of your browser to get back the data. \n",
        "\n",
        "Try it now!\n"
      ]
    },
    {
      "cell_type": "markdown",
      "metadata": {
        "id": "B5Wv3dsobpTo",
        "colab_type": "text"
      },
      "source": [
        "However, if we want to automate a process and call it multiple times (eg for several days, several locations, etc), we have to write program, which is why we are showing this exercise!"
      ]
    },
    {
      "cell_type": "markdown",
      "metadata": {
        "id": "X0qkxI_sbpTp",
        "colab_type": "text"
      },
      "source": [
        "## Calling the webservice\n",
        "\n",
        "We call the service using the `requests` package, which returns a `Requests` object, which doesn't say much to us."
      ]
    },
    {
      "cell_type": "code",
      "metadata": {
        "inputHidden": false,
        "outputHidden": false,
        "id": "Y5Wgjh56bpTp",
        "colab_type": "code",
        "colab": {},
        "outputId": "f2f1e60f-eb9b-46d7-adeb-f7c954a3eda0"
      },
      "source": [
        "res = requests.get(url)\n",
        "print(\"\\n Res object is of type:\", type(res))"
      ],
      "execution_count": null,
      "outputs": [
        {
          "output_type": "stream",
          "text": [
            "\n",
            " Res object is of type: <class 'requests.models.Response'>\n"
          ],
          "name": "stdout"
        }
      ]
    },
    {
      "cell_type": "markdown",
      "metadata": {
        "id": "glWrSXNSbpTs",
        "colab_type": "text"
      },
      "source": [
        "## Seeing what we received\n",
        "\n",
        "If we call the `json()` method of the `Requests` object it will return the json object returned by the service. \n",
        "\n",
        "We will use the \"pretty print\" function `pprint` so see it in a nice format."
      ]
    },
    {
      "cell_type": "code",
      "metadata": {
        "inputHidden": false,
        "outputHidden": false,
        "id": "5mMZz0M2bpTs",
        "colab_type": "code",
        "colab": {},
        "outputId": "87f3efdc-78a0-4877-e5ea-9ad392ef1c7b"
      },
      "source": [
        "data = res.json()\n",
        "pprint(data)"
      ],
      "execution_count": null,
      "outputs": [
        {
          "output_type": "stream",
          "text": [
            "{'base': 'stations',\n",
            " 'clouds': {'all': 3},\n",
            " 'cod': 200,\n",
            " 'coord': {'lat': 46.52, 'lon': 6.63},\n",
            " 'dt': 1599484011,\n",
            " 'id': 2659994,\n",
            " 'main': {'feels_like': 12.67,\n",
            "          'humidity': 76,\n",
            "          'pressure': 1021,\n",
            "          'temp': 15.17,\n",
            "          'temp_max': 16.67,\n",
            "          'temp_min': 14.44},\n",
            " 'name': 'Lausanne',\n",
            " 'sys': {'country': 'CH',\n",
            "         'id': 2008110,\n",
            "         'sunrise': 1599454900,\n",
            "         'sunset': 1599501691,\n",
            "         'type': 3},\n",
            " 'timezone': 7200,\n",
            " 'visibility': 10000,\n",
            " 'weather': [{'description': 'clear sky',\n",
            "              'icon': '01d',\n",
            "              'id': 800,\n",
            "              'main': 'Clear'}],\n",
            " 'wind': {'deg': 51, 'gust': 8.94, 'speed': 4.02}}\n"
          ],
          "name": "stdout"
        }
      ]
    },
    {
      "cell_type": "markdown",
      "metadata": {
        "id": "Q1QgYs03bpTv",
        "colab_type": "text"
      },
      "source": [
        "## Getting the rights parts from the data received\n",
        "\n",
        "And from the `data` object we can get the proper parts and formulate the final message to the user."
      ]
    },
    {
      "cell_type": "code",
      "metadata": {
        "inputHidden": false,
        "outputHidden": false,
        "id": "1soX3y5VbpTv",
        "colab_type": "code",
        "colab": {},
        "outputId": "e4c708e5-d209-42f1-fcd5-eeda677c8765"
      },
      "source": [
        "print(\"The current temperature in \", location, \" is \", data['main']['temp'], \"degrees, with \", data['weather'][0]['description'])"
      ],
      "execution_count": null,
      "outputs": [
        {
          "output_type": "stream",
          "text": [
            "The current temperature in  Lausanne  is  15.17 degrees, with  clear sky\n"
          ],
          "name": "stdout"
        }
      ]
    },
    {
      "cell_type": "markdown",
      "metadata": {
        "id": "7Uu3AOxrbpT0",
        "colab_type": "text"
      },
      "source": [
        "## Further information\n",
        "\n",
        "You can see a video about the weather API below."
      ]
    },
    {
      "cell_type": "code",
      "metadata": {
        "inputHidden": false,
        "outputHidden": false,
        "id": "7pzzF-K5bpT0",
        "colab_type": "code",
        "colab": {},
        "outputId": "ba285d6e-3cb4-4aed-8770-759a9dd1ab8c"
      },
      "source": [
        "%%HTML\n",
        "<iframe width=\"560\" height=\"340\" src=\"https://www.youtube.com/watch?v=SXsaB9TUfkk\"></iframe>"
      ],
      "execution_count": null,
      "outputs": [
        {
          "output_type": "display_data",
          "data": {
            "text/html": [
              "<iframe width=\"560\" height=\"340\" src=\"https://www.youtube.com/watch?v=SXsaB9TUfkk\"></iframe>\n"
            ],
            "text/plain": [
              "<IPython.core.display.HTML object>"
            ]
          },
          "metadata": {
            "tags": []
          }
        }
      ]
    },
    {
      "cell_type": "markdown",
      "metadata": {
        "id": "_lplw8lCbpT3",
        "colab_type": "text"
      },
      "source": [
        "# Exercise:\n",
        "\n",
        "Now, you will try to use the historical API to get past temperature information for the city of Lausanne.\n",
        "Have a look how to use it here [https://openweathermap.org/history](https://openweathermap.org/history).\n",
        "For example, you can query it **\"by city id\"**.\n",
        "\n",
        "**Hints**\n",
        "\n",
        "1. What is the new URL? (see the link above)\n",
        "2. What is the city ID for Lausanne (see the response above!)."
      ]
    },
    {
      "cell_type": "code",
      "metadata": {
        "inputHidden": false,
        "outputHidden": false,
        "id": "XvXRhKymbpT3",
        "colab_type": "code",
        "colab": {}
      },
      "source": [
        "# type your solution here\n",
        "\n"
      ],
      "execution_count": null,
      "outputs": []
    },
    {
      "cell_type": "code",
      "metadata": {
        "inputHidden": false,
        "outputHidden": false,
        "id": "l5_2p-9HbpT5",
        "colab_type": "code",
        "colab": {}
      },
      "source": [
        ""
      ],
      "execution_count": null,
      "outputs": []
    },
    {
      "cell_type": "code",
      "metadata": {
        "inputHidden": false,
        "outputHidden": false,
        "id": "XkKZ_fVmbpT7",
        "colab_type": "code",
        "colab": {}
      },
      "source": [
        ""
      ],
      "execution_count": null,
      "outputs": []
    },
    {
      "cell_type": "code",
      "metadata": {
        "inputHidden": false,
        "outputHidden": false,
        "id": "Ymj3-QUVbpUD",
        "colab_type": "code",
        "colab": {}
      },
      "source": [
        ""
      ],
      "execution_count": null,
      "outputs": []
    },
    {
      "cell_type": "code",
      "metadata": {
        "inputHidden": false,
        "outputHidden": false,
        "id": "DHspw3XtbpUG",
        "colab_type": "code",
        "colab": {}
      },
      "source": [
        ""
      ],
      "execution_count": null,
      "outputs": []
    },
    {
      "cell_type": "code",
      "metadata": {
        "inputHidden": false,
        "outputHidden": false,
        "id": "Z8x4jcSfbpUK",
        "colab_type": "code",
        "colab": {}
      },
      "source": [
        ""
      ],
      "execution_count": null,
      "outputs": []
    },
    {
      "cell_type": "code",
      "metadata": {
        "inputHidden": false,
        "outputHidden": false,
        "id": "vNKcohW_bpUN",
        "colab_type": "code",
        "colab": {}
      },
      "source": [
        ""
      ],
      "execution_count": null,
      "outputs": []
    },
    {
      "cell_type": "code",
      "metadata": {
        "inputHidden": false,
        "outputHidden": false,
        "id": "9XSqSwllbpUP",
        "colab_type": "code",
        "colab": {}
      },
      "source": [
        ""
      ],
      "execution_count": null,
      "outputs": []
    },
    {
      "cell_type": "code",
      "metadata": {
        "inputHidden": false,
        "outputHidden": false,
        "id": "2dUaKAeTbpUX",
        "colab_type": "code",
        "colab": {}
      },
      "source": [
        ""
      ],
      "execution_count": null,
      "outputs": []
    },
    {
      "cell_type": "code",
      "metadata": {
        "inputHidden": false,
        "outputHidden": false,
        "id": "k4_6EkEUbpUn",
        "colab_type": "code",
        "colab": {}
      },
      "source": [
        ""
      ],
      "execution_count": null,
      "outputs": []
    },
    {
      "cell_type": "markdown",
      "metadata": {
        "id": "yi0hsfitbpUr",
        "colab_type": "text"
      },
      "source": [
        "**DON'T LOOK AT THIS UNTIL YOU TRIED ON YOUR OWN!**\n",
        "\n",
        "```python\n",
        "\n",
        "# one possible solution\n",
        "# note this is NOT going to return anything because it requires the purchase of the additional API\n",
        "# But at least you know that you are on the right path!!\n",
        "\n",
        "url = \"http://history.openweathermap.org/data/2.5/history/city?id=2659994&type=hour&APPID=cc7787771556273e2c5082eb676e48e1&units=metric\"\n",
        "\n",
        "res = requests.get(url)\n",
        "data = res.json()\n",
        "pprint(data)\n",
        "```"
      ]
    },
    {
      "cell_type": "code",
      "metadata": {
        "inputHidden": false,
        "outputHidden": false,
        "id": "gtKGw0twbpUs",
        "colab_type": "code",
        "colab": {}
      },
      "source": [
        ""
      ],
      "execution_count": null,
      "outputs": []
    }
  ]
}