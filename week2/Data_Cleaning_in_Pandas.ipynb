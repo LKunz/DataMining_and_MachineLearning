{
 "cells": [
  {
   "cell_type": "markdown",
   "metadata": {
    "colab_type": "text",
    "id": "view-in-github"
   },
   "source": [
    "<a href=\"https://colab.research.google.com/github/michalis0/DataMining_and_MachineLearning/blob/master/week2/Data_Cleaning_in_Pandas.ipynb\" target=\"_parent\"><img src=\"https://colab.research.google.com/assets/colab-badge.svg\" alt=\"Open In Colab\"/></a>"
   ]
  },
  {
   "cell_type": "markdown",
   "metadata": {
    "id": "ZaJpX6maF1hW"
   },
   "source": [
    "# Data cleaning with pandas\n",
    "\n",
    "### How Does Data Get Dirty?\n",
    "- Missing data.\n",
    "- Inconsistent data.\n",
    "- Duplicate data.\n",
    "\n",
    "To name a few things that can go wrong. There is an endless list of ways that data can end up very messy.\n",
    "Sometimes there are insufficient validation checks when the data is entered in the first place.\n",
    "If you have form fields with users entering data in any format they want with no guidelines or form validation checks in place to enforce conforming to a certain format, then users will input however they see fit.\n",
    "\n",
    "There could be an input field for the state (U.S.) and you have some data that is the two-character abbreviation, NY and then others have New York, then there are potential misspellings and typos, etc.\n",
    "\n",
    "Data can also become corrupted during transmission or in storage."
   ]
  },
  {
   "cell_type": "markdown",
   "metadata": {
    "id": "cunJdWS4F1hY"
   },
   "source": [
    "We’ll use pandas to examine and clean the building violations dataset from the NYC Department of Buildings (DOB) that is available on NYC Open Data.\n",
    "\n",
    "The datset can be found [here](https://data.cityofnewyork.us/Housing-Development/DOB-Violations/3h2n-5cm9).\n",
    "\n",
    "For this exercise, we will work with a subset of the data with 10000 records.\n",
    "\n",
    "[source of this exercise](https://medium.com/better-programming/data-cleaning-with-python-pandas-an-introduction-1cfd5cde6884)\n"
   ]
  },
  {
   "cell_type": "code",
   "execution_count": 106,
   "metadata": {
    "id": "1SoxqEHtF1hg"
   },
   "outputs": [],
   "source": [
    "import pandas as pd \n",
    "import numpy as np "
   ]
  },
  {
   "cell_type": "markdown",
   "metadata": {
    "id": "PD8ihbeHF1ho"
   },
   "source": [
    "### load the data"
   ]
  },
  {
   "cell_type": "code",
   "execution_count": 107,
   "metadata": {
    "id": "0fgt4gEcF1hp"
   },
   "outputs": [],
   "source": [
    "df = pd.read_csv(\"https://raw.githubusercontent.com/michalis0/DataMining_and_MachineLearning/master/week2/data/violation_DOB.csv\")"
   ]
  },
  {
   "cell_type": "markdown",
   "metadata": {
    "id": "RFrej8kTF1ht"
   },
   "source": [
    "### shape of the data\n",
    "Let's first check how many rows and columns (features) are in this dataset"
   ]
  },
  {
   "cell_type": "code",
   "execution_count": 108,
   "metadata": {
    "colab": {
     "base_uri": "https://localhost:8080/",
     "height": 34
    },
    "id": "YeC_ODO-F1hu",
    "outputId": "e81a8dc4-13c4-4079-8b9b-b7c7771e7965"
   },
   "outputs": [
    {
     "data": {
      "text/plain": [
       "(10000, 18)"
      ]
     },
     "execution_count": 108,
     "metadata": {},
     "output_type": "execute_result"
    }
   ],
   "source": [
    "df.shape"
   ]
  },
  {
   "cell_type": "markdown",
   "metadata": {
    "id": "XPBg0rcdF1h0"
   },
   "source": [
    "### Check out the first few rows\n",
    "You can look at the first few rows by calling `head()` on the dataframe."
   ]
  },
  {
   "cell_type": "code",
   "execution_count": 109,
   "metadata": {
    "colab": {
     "base_uri": "https://localhost:8080/",
     "height": 564
    },
    "id": "l_oGmG_SF1h1",
    "outputId": "48103466-8efa-4f63-d4e6-ee46497aaef1"
   },
   "outputs": [
    {
     "data": {
      "text/html": [
       "<div>\n",
       "<style scoped>\n",
       "    .dataframe tbody tr th:only-of-type {\n",
       "        vertical-align: middle;\n",
       "    }\n",
       "\n",
       "    .dataframe tbody tr th {\n",
       "        vertical-align: top;\n",
       "    }\n",
       "\n",
       "    .dataframe thead th {\n",
       "        text-align: right;\n",
       "    }\n",
       "</style>\n",
       "<table border=\"1\" class=\"dataframe\">\n",
       "  <thead>\n",
       "    <tr style=\"text-align: right;\">\n",
       "      <th></th>\n",
       "      <th>isn_dob_bis_viol</th>\n",
       "      <th>boro</th>\n",
       "      <th>bin</th>\n",
       "      <th>block</th>\n",
       "      <th>lot</th>\n",
       "      <th>issue_date</th>\n",
       "      <th>violation_type_code</th>\n",
       "      <th>violation_number</th>\n",
       "      <th>house_number</th>\n",
       "      <th>street</th>\n",
       "      <th>device_number</th>\n",
       "      <th>description</th>\n",
       "      <th>number</th>\n",
       "      <th>violation_category</th>\n",
       "      <th>violation_type</th>\n",
       "      <th>disposition_date</th>\n",
       "      <th>disposition_comments</th>\n",
       "      <th>ecb_number</th>\n",
       "    </tr>\n",
       "  </thead>\n",
       "  <tbody>\n",
       "    <tr>\n",
       "      <td>0</td>\n",
       "      <td>2351406</td>\n",
       "      <td>3</td>\n",
       "      <td>3059563</td>\n",
       "      <td>2136.0</td>\n",
       "      <td>2136.0</td>\n",
       "      <td>20190520</td>\n",
       "      <td>JVCAT5</td>\n",
       "      <td>00339</td>\n",
       "      <td>441</td>\n",
       "      <td>WYTHE AVENUE</td>\n",
       "      <td>3P10799</td>\n",
       "      <td>FAILURE TO PERFORM CATEGORY 5 INSPECTION</td>\n",
       "      <td>V052019JVCAT500339</td>\n",
       "      <td>V-DOB VIOLATION - ACTIVE</td>\n",
       "      <td>JVCAT5-RESIDENTIAL ELEVATOR PERIODIC INSPECTIO...</td>\n",
       "      <td>NaN</td>\n",
       "      <td>NaN</td>\n",
       "      <td>NaN</td>\n",
       "    </tr>\n",
       "    <tr>\n",
       "      <td>1</td>\n",
       "      <td>2383173</td>\n",
       "      <td>3</td>\n",
       "      <td>3137310</td>\n",
       "      <td>5631.0</td>\n",
       "      <td>14.0</td>\n",
       "      <td>20190903</td>\n",
       "      <td>LL2604S</td>\n",
       "      <td>NRF01042</td>\n",
       "      <td>920</td>\n",
       "      <td>48 STREET</td>\n",
       "      <td>NaN</td>\n",
       "      <td>FAILED TO FILE FINAL SPRINKLER REPORT BY JULY ...</td>\n",
       "      <td>V090319LL2604SNRF01042</td>\n",
       "      <td>V-DOB VIOLATION - ACTIVE</td>\n",
       "      <td>LL2604S-SPRINKLER</td>\n",
       "      <td>NaN</td>\n",
       "      <td>NaN</td>\n",
       "      <td>NaN</td>\n",
       "    </tr>\n",
       "    <tr>\n",
       "      <td>2</td>\n",
       "      <td>2427322</td>\n",
       "      <td>2</td>\n",
       "      <td>2003035</td>\n",
       "      <td>2504.0</td>\n",
       "      <td>36.0</td>\n",
       "      <td>20190904</td>\n",
       "      <td>AEUHAZ1</td>\n",
       "      <td>00162</td>\n",
       "      <td>941</td>\n",
       "      <td>JEROME AVENUE</td>\n",
       "      <td>NaN</td>\n",
       "      <td>FAILURE TO CERTIFY CORRECTION ON IMMEDIATELY H...</td>\n",
       "      <td>V*090419AEUHAZ100162</td>\n",
       "      <td>V*-DOB VIOLATION - DISMISSED</td>\n",
       "      <td>AEUHAZ1-FAIL TO CERTIFY CLASS 1</td>\n",
       "      <td>20191202.0</td>\n",
       "      <td>GNC    PAID INVOICE 62132098</td>\n",
       "      <td>35409075X</td>\n",
       "    </tr>\n",
       "    <tr>\n",
       "      <td>3</td>\n",
       "      <td>2384655</td>\n",
       "      <td>1</td>\n",
       "      <td>1001389</td>\n",
       "      <td>113.0</td>\n",
       "      <td>7501.0</td>\n",
       "      <td>20190906</td>\n",
       "      <td>ACC1</td>\n",
       "      <td>00284</td>\n",
       "      <td>375</td>\n",
       "      <td>PEARL ST</td>\n",
       "      <td>1F5381</td>\n",
       "      <td>VIO ISSUED TO ELEVATOR - FAIL TO CORRECT DEFEC...</td>\n",
       "      <td>V090619ACC100284</td>\n",
       "      <td>V-DOB VIOLATION - ACTIVE</td>\n",
       "      <td>ACC1-(OTHER BLDGS TYPES) - ELEVATOR AFFIRMATIO...</td>\n",
       "      <td>NaN</td>\n",
       "      <td>NaN</td>\n",
       "      <td>NaN</td>\n",
       "    </tr>\n",
       "    <tr>\n",
       "      <td>4</td>\n",
       "      <td>2316273</td>\n",
       "      <td>4</td>\n",
       "      <td>4003105</td>\n",
       "      <td>214.0</td>\n",
       "      <td>7501.0</td>\n",
       "      <td>20190107</td>\n",
       "      <td>E</td>\n",
       "      <td>9028/643438</td>\n",
       "      <td>32-14</td>\n",
       "      <td>NORTHERN BOULEVARD</td>\n",
       "      <td>4P1563</td>\n",
       "      <td>NaN</td>\n",
       "      <td>V*010719E9028/643438</td>\n",
       "      <td>V*-DOB VIOLATION - Resolved</td>\n",
       "      <td>E-ELEVATOR</td>\n",
       "      <td>20190805.0</td>\n",
       "      <td>PPN203  AOC SUB ON 07/12/19 BY:TRANSEL ELEV.  ...</td>\n",
       "      <td>NaN</td>\n",
       "    </tr>\n",
       "  </tbody>\n",
       "</table>\n",
       "</div>"
      ],
      "text/plain": [
       "   isn_dob_bis_viol boro      bin   block     lot  issue_date  \\\n",
       "0           2351406    3  3059563  2136.0  2136.0    20190520   \n",
       "1           2383173    3  3137310  5631.0    14.0    20190903   \n",
       "2           2427322    2  2003035  2504.0    36.0    20190904   \n",
       "3           2384655    1  1001389   113.0  7501.0    20190906   \n",
       "4           2316273    4  4003105   214.0  7501.0    20190107   \n",
       "\n",
       "  violation_type_code violation_number house_number              street  \\\n",
       "0              JVCAT5            00339          441        WYTHE AVENUE   \n",
       "1             LL2604S         NRF01042          920           48 STREET   \n",
       "2             AEUHAZ1            00162          941       JEROME AVENUE   \n",
       "3                ACC1            00284          375            PEARL ST   \n",
       "4                   E      9028/643438        32-14  NORTHERN BOULEVARD   \n",
       "\n",
       "  device_number                                        description  \\\n",
       "0       3P10799           FAILURE TO PERFORM CATEGORY 5 INSPECTION   \n",
       "1           NaN  FAILED TO FILE FINAL SPRINKLER REPORT BY JULY ...   \n",
       "2           NaN  FAILURE TO CERTIFY CORRECTION ON IMMEDIATELY H...   \n",
       "3        1F5381  VIO ISSUED TO ELEVATOR - FAIL TO CORRECT DEFEC...   \n",
       "4        4P1563                                                NaN   \n",
       "\n",
       "                   number            violation_category  \\\n",
       "0      V052019JVCAT500339      V-DOB VIOLATION - ACTIVE   \n",
       "1  V090319LL2604SNRF01042      V-DOB VIOLATION - ACTIVE   \n",
       "2    V*090419AEUHAZ100162  V*-DOB VIOLATION - DISMISSED   \n",
       "3        V090619ACC100284      V-DOB VIOLATION - ACTIVE   \n",
       "4    V*010719E9028/643438   V*-DOB VIOLATION - Resolved   \n",
       "\n",
       "                                      violation_type  disposition_date  \\\n",
       "0  JVCAT5-RESIDENTIAL ELEVATOR PERIODIC INSPECTIO...               NaN   \n",
       "1                                  LL2604S-SPRINKLER               NaN   \n",
       "2                    AEUHAZ1-FAIL TO CERTIFY CLASS 1        20191202.0   \n",
       "3  ACC1-(OTHER BLDGS TYPES) - ELEVATOR AFFIRMATIO...               NaN   \n",
       "4                                         E-ELEVATOR        20190805.0   \n",
       "\n",
       "                                disposition_comments ecb_number  \n",
       "0                                                NaN        NaN  \n",
       "1                                                NaN        NaN  \n",
       "2                       GNC    PAID INVOICE 62132098  35409075X  \n",
       "3                                                NaN        NaN  \n",
       "4  PPN203  AOC SUB ON 07/12/19 BY:TRANSEL ELEV.  ...        NaN  "
      ]
     },
     "execution_count": 109,
     "metadata": {},
     "output_type": "execute_result"
    }
   ],
   "source": [
    "df.head()"
   ]
  },
  {
   "cell_type": "markdown",
   "metadata": {
    "id": "-iIy4l0XF1h5"
   },
   "source": [
    "### column/feature names"
   ]
  },
  {
   "cell_type": "code",
   "execution_count": 110,
   "metadata": {
    "colab": {
     "base_uri": "https://localhost:8080/",
     "height": 119
    },
    "id": "z9o2EIEpF1h7",
    "outputId": "92aa0edf-e6b0-4af3-c9da-605254e3b2e1"
   },
   "outputs": [
    {
     "data": {
      "text/plain": [
       "Index(['isn_dob_bis_viol', 'boro', 'bin', 'block', 'lot', 'issue_date',\n",
       "       'violation_type_code', 'violation_number', 'house_number', 'street',\n",
       "       'device_number', 'description', 'number', 'violation_category',\n",
       "       'violation_type', 'disposition_date', 'disposition_comments',\n",
       "       'ecb_number'],\n",
       "      dtype='object')"
      ]
     },
     "execution_count": 110,
     "metadata": {},
     "output_type": "execute_result"
    }
   ],
   "source": [
    "df.columns"
   ]
  },
  {
   "cell_type": "markdown",
   "metadata": {
    "id": "Z0ttulb9F1h_"
   },
   "source": [
    "### Missing/Null values\n",
    "You can call `isnull()` and `sum()` to get a count of how many null values are there in each column."
   ]
  },
  {
   "cell_type": "code",
   "execution_count": 111,
   "metadata": {
    "colab": {
     "base_uri": "https://localhost:8080/",
     "height": 340
    },
    "id": "lu2-o0DQF1iA",
    "outputId": "ff291a24-bb5e-416b-d9c1-5551d4011a42"
   },
   "outputs": [
    {
     "data": {
      "text/plain": [
       "isn_dob_bis_viol           0\n",
       "boro                       0\n",
       "bin                        0\n",
       "block                      1\n",
       "lot                        1\n",
       "issue_date                 0\n",
       "violation_type_code        0\n",
       "violation_number           0\n",
       "house_number               0\n",
       "street                     0\n",
       "device_number           4775\n",
       "description              528\n",
       "number                     0\n",
       "violation_category         0\n",
       "violation_type             0\n",
       "disposition_date        6297\n",
       "disposition_comments    6285\n",
       "ecb_number              7532\n",
       "dtype: int64"
      ]
     },
     "execution_count": 111,
     "metadata": {},
     "output_type": "execute_result"
    }
   ],
   "source": [
    "df.isnull().sum()"
   ]
  },
  {
   "cell_type": "markdown",
   "metadata": {
    "id": "YXGsKb2uF1iE"
   },
   "source": [
    "### Dropping the columns you are not interested in\n",
    "Let's say we are only interested in house number, the types of violations each building received and whether they have been closed or not. So we are going to drop the rest of the columns.\n",
    "\n",
    "Note that many operations in pandas could be done in place. To do so you just need to set `inplace=True`. Also note that in pandas, axis 0 represents the rows while axis 1 represents the columns."
   ]
  },
  {
   "cell_type": "code",
   "execution_count": 112,
   "metadata": {
    "id": "nWYB-ehBF1iG"
   },
   "outputs": [],
   "source": [
    "columns_to_delete = ['block', 'boro','lot','street','violation_number',\n",
    "                     'disposition_comments', 'isn_dob_bis_viol', 'disposition_date','ecb_number','description'] \n",
    "df.drop(columns_to_delete, inplace=True, axis=1)"
   ]
  },
  {
   "cell_type": "code",
   "execution_count": 113,
   "metadata": {
    "colab": {
     "base_uri": "https://localhost:8080/",
     "height": 68
    },
    "id": "_6RMqxQUF1iM",
    "outputId": "6aecf1c4-b16b-4976-8380-cb6c33c6db52"
   },
   "outputs": [
    {
     "data": {
      "text/plain": [
       "Index(['bin', 'issue_date', 'violation_type_code', 'house_number',\n",
       "       'device_number', 'number', 'violation_category', 'violation_type'],\n",
       "      dtype='object')"
      ]
     },
     "execution_count": 113,
     "metadata": {},
     "output_type": "execute_result"
    }
   ],
   "source": [
    "df.columns"
   ]
  },
  {
   "cell_type": "markdown",
   "metadata": {
    "id": "gG9IfZqeF1iP"
   },
   "source": [
    "### Descriptive Statistics"
   ]
  },
  {
   "cell_type": "code",
   "execution_count": 114,
   "metadata": {
    "colab": {
     "base_uri": "https://localhost:8080/",
     "height": 297
    },
    "id": "o80sWUCCF1iP",
    "outputId": "bb947bd8-133d-4543-dfb7-65cde10306b6"
   },
   "outputs": [
    {
     "data": {
      "text/html": [
       "<div>\n",
       "<style scoped>\n",
       "    .dataframe tbody tr th:only-of-type {\n",
       "        vertical-align: middle;\n",
       "    }\n",
       "\n",
       "    .dataframe tbody tr th {\n",
       "        vertical-align: top;\n",
       "    }\n",
       "\n",
       "    .dataframe thead th {\n",
       "        text-align: right;\n",
       "    }\n",
       "</style>\n",
       "<table border=\"1\" class=\"dataframe\">\n",
       "  <thead>\n",
       "    <tr style=\"text-align: right;\">\n",
       "      <th></th>\n",
       "      <th>bin</th>\n",
       "      <th>issue_date</th>\n",
       "    </tr>\n",
       "  </thead>\n",
       "  <tbody>\n",
       "    <tr>\n",
       "      <td>count</td>\n",
       "      <td>1.000000e+04</td>\n",
       "      <td>1.000000e+04</td>\n",
       "    </tr>\n",
       "    <tr>\n",
       "      <td>mean</td>\n",
       "      <td>2.560801e+06</td>\n",
       "      <td>2.019075e+07</td>\n",
       "    </tr>\n",
       "    <tr>\n",
       "      <td>std</td>\n",
       "      <td>1.273783e+06</td>\n",
       "      <td>3.264335e+02</td>\n",
       "    </tr>\n",
       "    <tr>\n",
       "      <td>min</td>\n",
       "      <td>1.000003e+06</td>\n",
       "      <td>2.019010e+07</td>\n",
       "    </tr>\n",
       "    <tr>\n",
       "      <td>25%</td>\n",
       "      <td>1.064225e+06</td>\n",
       "      <td>2.019050e+07</td>\n",
       "    </tr>\n",
       "    <tr>\n",
       "      <td>50%</td>\n",
       "      <td>3.029678e+06</td>\n",
       "      <td>2.019082e+07</td>\n",
       "    </tr>\n",
       "    <tr>\n",
       "      <td>75%</td>\n",
       "      <td>3.348085e+06</td>\n",
       "      <td>2.019111e+07</td>\n",
       "    </tr>\n",
       "    <tr>\n",
       "      <td>max</td>\n",
       "      <td>5.835353e+06</td>\n",
       "      <td>2.019123e+07</td>\n",
       "    </tr>\n",
       "  </tbody>\n",
       "</table>\n",
       "</div>"
      ],
      "text/plain": [
       "                bin    issue_date\n",
       "count  1.000000e+04  1.000000e+04\n",
       "mean   2.560801e+06  2.019075e+07\n",
       "std    1.273783e+06  3.264335e+02\n",
       "min    1.000003e+06  2.019010e+07\n",
       "25%    1.064225e+06  2.019050e+07\n",
       "50%    3.029678e+06  2.019082e+07\n",
       "75%    3.348085e+06  2.019111e+07\n",
       "max    5.835353e+06  2.019123e+07"
      ]
     },
     "execution_count": 114,
     "metadata": {},
     "output_type": "execute_result"
    }
   ],
   "source": [
    "df.describe()"
   ]
  },
  {
   "cell_type": "markdown",
   "metadata": {
    "id": "7-VRzH3FF1iY"
   },
   "source": [
    "### Datatypes\n",
    "It is important that the data values in each column have the correct data type. For example, you can expect a column containing numbers to be in numeric format, but sometimes you will find string values in it. In such a case, when you do numeric calculations on that column you might get unexpected results.\n",
    "\n",
    "The attribute `dtypes` will show you the data types for each column in the dataframe."
   ]
  },
  {
   "cell_type": "code",
   "execution_count": 115,
   "metadata": {
    "colab": {
     "base_uri": "https://localhost:8080/",
     "height": 170
    },
    "id": "4-DTI_csF1iZ",
    "outputId": "cd4567ba-f95c-4baa-a4be-231d2f535fbe"
   },
   "outputs": [
    {
     "data": {
      "text/plain": [
       "bin                     int64\n",
       "issue_date              int64\n",
       "violation_type_code    object\n",
       "house_number           object\n",
       "device_number          object\n",
       "number                 object\n",
       "violation_category     object\n",
       "violation_type         object\n",
       "dtype: object"
      ]
     },
     "execution_count": 115,
     "metadata": {},
     "output_type": "execute_result"
    }
   ],
   "source": [
    "df.dtypes"
   ]
  },
  {
   "cell_type": "markdown",
   "metadata": {
    "id": "UE94_vaCF1if"
   },
   "source": [
    "You can notice that the column `issue_date` is in integer format (`int64`), whereas it should be in datetime format. In pandas you can convert a column to datetime format using `to_datetime` method."
   ]
  },
  {
   "cell_type": "code",
   "execution_count": 116,
   "metadata": {
    "colab": {
     "base_uri": "https://localhost:8080/",
     "height": 119
    },
    "id": "pnZyewjwF1if",
    "outputId": "e96e562a-81c7-404e-b895-863977200f28"
   },
   "outputs": [
    {
     "data": {
      "text/plain": [
       "0    20190520\n",
       "1    20190903\n",
       "2    20190904\n",
       "3    20190906\n",
       "4    20190107\n",
       "Name: issue_date, dtype: int64"
      ]
     },
     "execution_count": 116,
     "metadata": {},
     "output_type": "execute_result"
    }
   ],
   "source": [
    "df['issue_date'].head()"
   ]
  },
  {
   "cell_type": "code",
   "execution_count": 119,
   "metadata": {
    "colab": {
     "base_uri": "https://localhost:8080/",
     "height": 119
    },
    "id": "VleHHxyeF1ii",
    "outputId": "d1510887-3c6f-47f7-dea3-c9ef259f7910"
   },
   "outputs": [
    {
     "data": {
      "text/plain": [
       "0   2019-05-20\n",
       "1   2019-09-03\n",
       "2   2019-09-04\n",
       "3   2019-09-06\n",
       "4   2019-01-07\n",
       "Name: issue_date, dtype: datetime64[ns]"
      ]
     },
     "execution_count": 119,
     "metadata": {},
     "output_type": "execute_result"
    }
   ],
   "source": [
    "df['issue_date'] = pd.to_datetime(df['issue_date'], format=\"%Y%m%d\")\n",
    "df['issue_date'].head()"
   ]
  },
  {
   "cell_type": "markdown",
   "metadata": {
    "id": "3R_0ZH5EF1il"
   },
   "source": [
    "As another example you can also convert the `house_number` column to numeric datatype (note that in a real application you should not do that since you are not going to numeric calculations on `house_number`. Moreover `house_number` could be a string or a mix of string and digits as well).\n",
    "\n",
    "To do so you can use the `to_numeric` method."
   ]
  },
  {
   "cell_type": "code",
   "execution_count": 120,
   "metadata": {
    "colab": {
     "base_uri": "https://localhost:8080/",
     "height": 469
    },
    "id": "uFA20ShBF1il",
    "outputId": "69fd83c4-262f-4d30-df44-c381ba921994"
   },
   "outputs": [
    {
     "ename": "ValueError",
     "evalue": "Unable to parse string \"32-14\" at position 4",
     "output_type": "error",
     "traceback": [
      "\u001b[0;31m---------------------------------------------------------------------------\u001b[0m",
      "\u001b[0;31mValueError\u001b[0m                                Traceback (most recent call last)",
      "\u001b[0;32mpandas/_libs/lib.pyx\u001b[0m in \u001b[0;36mpandas._libs.lib.maybe_convert_numeric\u001b[0;34m()\u001b[0m\n",
      "\u001b[0;31mValueError\u001b[0m: Unable to parse string \"32-14\"",
      "\nDuring handling of the above exception, another exception occurred:\n",
      "\u001b[0;31mValueError\u001b[0m                                Traceback (most recent call last)",
      "\u001b[0;32m<ipython-input-120-05ac9d4a935b>\u001b[0m in \u001b[0;36m<module>\u001b[0;34m\u001b[0m\n\u001b[1;32m      1\u001b[0m \u001b[0;31m# notice that by running this line you will get an error. There reason is that there are non-numeric values in this\u001b[0m\u001b[0;34m\u001b[0m\u001b[0;34m\u001b[0m\u001b[0;34m\u001b[0m\u001b[0m\n\u001b[1;32m      2\u001b[0m \u001b[0;31m# column which cannot be converted to numeric data type.\u001b[0m\u001b[0;34m\u001b[0m\u001b[0;34m\u001b[0m\u001b[0;34m\u001b[0m\u001b[0m\n\u001b[0;32m----> 3\u001b[0;31m \u001b[0mdf\u001b[0m\u001b[0;34m[\u001b[0m\u001b[0;34m\"house_number\"\u001b[0m\u001b[0;34m]\u001b[0m \u001b[0;34m=\u001b[0m \u001b[0mpd\u001b[0m\u001b[0;34m.\u001b[0m\u001b[0mto_numeric\u001b[0m\u001b[0;34m(\u001b[0m\u001b[0mdf\u001b[0m\u001b[0;34m[\u001b[0m\u001b[0;34m'house_number'\u001b[0m\u001b[0;34m]\u001b[0m\u001b[0;34m)\u001b[0m\u001b[0;34m\u001b[0m\u001b[0;34m\u001b[0m\u001b[0m\n\u001b[0m",
      "\u001b[0;32m~/anaconda3/lib/python3.7/site-packages/pandas/core/tools/numeric.py\u001b[0m in \u001b[0;36mto_numeric\u001b[0;34m(arg, errors, downcast)\u001b[0m\n\u001b[1;32m    149\u001b[0m             \u001b[0mcoerce_numeric\u001b[0m \u001b[0;34m=\u001b[0m \u001b[0merrors\u001b[0m \u001b[0;32mnot\u001b[0m \u001b[0;32min\u001b[0m \u001b[0;34m(\u001b[0m\u001b[0;34m\"ignore\"\u001b[0m\u001b[0;34m,\u001b[0m \u001b[0;34m\"raise\"\u001b[0m\u001b[0;34m)\u001b[0m\u001b[0;34m\u001b[0m\u001b[0;34m\u001b[0m\u001b[0m\n\u001b[1;32m    150\u001b[0m             values = lib.maybe_convert_numeric(\n\u001b[0;32m--> 151\u001b[0;31m                 \u001b[0mvalues\u001b[0m\u001b[0;34m,\u001b[0m \u001b[0mset\u001b[0m\u001b[0;34m(\u001b[0m\u001b[0;34m)\u001b[0m\u001b[0;34m,\u001b[0m \u001b[0mcoerce_numeric\u001b[0m\u001b[0;34m=\u001b[0m\u001b[0mcoerce_numeric\u001b[0m\u001b[0;34m\u001b[0m\u001b[0;34m\u001b[0m\u001b[0m\n\u001b[0m\u001b[1;32m    152\u001b[0m             )\n\u001b[1;32m    153\u001b[0m \u001b[0;34m\u001b[0m\u001b[0m\n",
      "\u001b[0;32mpandas/_libs/lib.pyx\u001b[0m in \u001b[0;36mpandas._libs.lib.maybe_convert_numeric\u001b[0;34m()\u001b[0m\n",
      "\u001b[0;31mValueError\u001b[0m: Unable to parse string \"32-14\" at position 4"
     ]
    }
   ],
   "source": [
    "# notice that by running this line you will get an error. There reason is that there are non-numeric values in this\n",
    "# column which cannot be converted to numeric data type. \n",
    "df[\"house_number\"] = pd.to_numeric(df['house_number'])"
   ]
  },
  {
   "cell_type": "code",
   "execution_count": 121,
   "metadata": {
    "id": "p4-E7ZSjF1io"
   },
   "outputs": [],
   "source": [
    "# However, you can deal with such errors by ignoring them and replacing them with NaN. To do so\n",
    "# you should set errors='coerce'\n",
    "df[\"house_number\"] = pd.to_numeric(df['house_number'], errors='coerce')"
   ]
  },
  {
   "cell_type": "code",
   "execution_count": 122,
   "metadata": {
    "colab": {
     "base_uri": "https://localhost:8080/",
     "height": 170
    },
    "id": "sOiR8cawF1iq",
    "outputId": "555e166b-c1b4-42a5-b368-25ad04c7af30"
   },
   "outputs": [
    {
     "data": {
      "text/plain": [
       "bin                       0\n",
       "issue_date                0\n",
       "violation_type_code       0\n",
       "house_number           1740\n",
       "device_number          4775\n",
       "number                    0\n",
       "violation_category        0\n",
       "violation_type            0\n",
       "dtype: int64"
      ]
     },
     "execution_count": 122,
     "metadata": {},
     "output_type": "execute_result"
    }
   ],
   "source": [
    "df.isnull().sum()"
   ]
  },
  {
   "cell_type": "markdown",
   "metadata": {
    "id": "cWtViCcmF1it"
   },
   "source": [
    "### Dealing with null values\n",
    "There are different ways to deal with null values in a dataset. Here we are going to show you two different cases.\n",
    "\n",
    "1- filling null values with the mean or median value of the column (for numerical features).\n",
    "\n",
    "2- Removing the rows (data samples) with null features.\n"
   ]
  },
  {
   "cell_type": "code",
   "execution_count": 123,
   "metadata": {
    "id": "bb4vK0fVF1it"
   },
   "outputs": [],
   "source": [
    "# replacing null values in the house_number column with the mean value\n",
    "# note that you can also replace the null values with any other scalar as well\n",
    "df[\"house_number\"].fillna(df[\"house_number\"].mean(), inplace=True)"
   ]
  },
  {
   "cell_type": "code",
   "execution_count": 124,
   "metadata": {
    "id": "A_vHXkNrF1iv"
   },
   "outputs": [],
   "source": [
    "# Removing the rows (data samples) with null features\n",
    "df.dropna(axis=0, inplace=True)"
   ]
  },
  {
   "cell_type": "code",
   "execution_count": 125,
   "metadata": {
    "colab": {
     "base_uri": "https://localhost:8080/",
     "height": 34
    },
    "id": "bgx3wA-qF1ix",
    "outputId": "19f0147e-3b8e-4a24-db85-3d051e29bf9b"
   },
   "outputs": [
    {
     "data": {
      "text/plain": [
       "(5225, 8)"
      ]
     },
     "execution_count": 125,
     "metadata": {},
     "output_type": "execute_result"
    }
   ],
   "source": [
    "# now we have less rows in our dataframe\n",
    "df.shape"
   ]
  },
  {
   "cell_type": "markdown",
   "metadata": {
    "id": "cpxytVcEF1iz"
   },
   "source": [
    "### Categorical features\n",
    "In pandas there is also a specific data type for categorical features. Categorical features are the ones that only take values from a given set. For instance in this dataset `violation_type_code` is a catgorical feature.\n",
    "\n",
    "You can convert a column to categorical using the method `astype('category')`."
   ]
  },
  {
   "cell_type": "code",
   "execution_count": 126,
   "metadata": {
    "colab": {
     "base_uri": "https://localhost:8080/",
     "height": 221
    },
    "id": "SnSOVINvb2u7",
    "outputId": "b65958fb-83f2-47fe-9bd7-881430d6fe9d"
   },
   "outputs": [
    {
     "data": {
      "text/plain": [
       "0       JVCAT5\n",
       "3         ACC1\n",
       "4            E\n",
       "7       LBLVIO\n",
       "8       EVCAT5\n",
       "         ...  \n",
       "9994    LBLVIO\n",
       "9996    LBLVIO\n",
       "9997    LBLVIO\n",
       "9998    EVCAT1\n",
       "9999    LBLVIO\n",
       "Name: violation_type_code, Length: 5225, dtype: object"
      ]
     },
     "execution_count": 126,
     "metadata": {},
     "output_type": "execute_result"
    }
   ],
   "source": [
    "df[\"violation_type_code\"]"
   ]
  },
  {
   "cell_type": "code",
   "execution_count": 127,
   "metadata": {
    "id": "0mrRLaT1F1iz"
   },
   "outputs": [],
   "source": [
    "df[\"violation_type_code\"] = df[\"violation_type_code\"].astype(\"category\")"
   ]
  },
  {
   "cell_type": "markdown",
   "metadata": {
    "id": "wwgyL74CF1i1"
   },
   "source": [
    "You can see that now the data type of this column has changed. Also observe that we have 13 categories in the column."
   ]
  },
  {
   "cell_type": "code",
   "execution_count": 128,
   "metadata": {
    "colab": {
     "base_uri": "https://localhost:8080/",
     "height": 238
    },
    "id": "cmTsaDhFF1i2",
    "outputId": "a4613e77-6d25-4002-d6bb-cae59af8bdae"
   },
   "outputs": [
    {
     "data": {
      "text/plain": [
       "0       JVCAT5\n",
       "3         ACC1\n",
       "4            E\n",
       "7       LBLVIO\n",
       "8       EVCAT5\n",
       "         ...  \n",
       "9994    LBLVIO\n",
       "9996    LBLVIO\n",
       "9997    LBLVIO\n",
       "9998    EVCAT1\n",
       "9999    LBLVIO\n",
       "Name: violation_type_code, Length: 5225, dtype: category\n",
       "Categories (13, object): [ACC1, ACH1, ACJ1, E, ..., HVIOS, JVCAT5, JVIOS, LBLVIO]"
      ]
     },
     "execution_count": 128,
     "metadata": {},
     "output_type": "execute_result"
    }
   ],
   "source": [
    "df[\"violation_type_code\"]"
   ]
  },
  {
   "cell_type": "markdown",
   "metadata": {
    "id": "lQhH5-jvF1i4"
   },
   "source": [
    "### Change a column name\n",
    "\n",
    "You can change columns names easily in pandas. To do so, use the `rename` method and pass the names to change as a dictionary."
   ]
  },
  {
   "cell_type": "code",
   "execution_count": 129,
   "metadata": {
    "id": "3pA1sXVoF1i4"
   },
   "outputs": [],
   "source": [
    "df.rename(columns = {\"issue_date\": \"date\"}, inplace=True)"
   ]
  },
  {
   "cell_type": "code",
   "execution_count": 130,
   "metadata": {
    "colab": {
     "base_uri": "https://localhost:8080/",
     "height": 204
    },
    "id": "L8IGoVEmF1i8",
    "outputId": "ceace0f8-276f-4481-c627-1f7b5d0c798e"
   },
   "outputs": [
    {
     "data": {
      "text/html": [
       "<div>\n",
       "<style scoped>\n",
       "    .dataframe tbody tr th:only-of-type {\n",
       "        vertical-align: middle;\n",
       "    }\n",
       "\n",
       "    .dataframe tbody tr th {\n",
       "        vertical-align: top;\n",
       "    }\n",
       "\n",
       "    .dataframe thead th {\n",
       "        text-align: right;\n",
       "    }\n",
       "</style>\n",
       "<table border=\"1\" class=\"dataframe\">\n",
       "  <thead>\n",
       "    <tr style=\"text-align: right;\">\n",
       "      <th></th>\n",
       "      <th>bin</th>\n",
       "      <th>date</th>\n",
       "      <th>violation_type_code</th>\n",
       "      <th>house_number</th>\n",
       "      <th>device_number</th>\n",
       "      <th>number</th>\n",
       "      <th>violation_category</th>\n",
       "      <th>violation_type</th>\n",
       "    </tr>\n",
       "  </thead>\n",
       "  <tbody>\n",
       "    <tr>\n",
       "      <td>0</td>\n",
       "      <td>3059563</td>\n",
       "      <td>2019-05-20</td>\n",
       "      <td>JVCAT5</td>\n",
       "      <td>441.000000</td>\n",
       "      <td>3P10799</td>\n",
       "      <td>V052019JVCAT500339</td>\n",
       "      <td>V-DOB VIOLATION - ACTIVE</td>\n",
       "      <td>JVCAT5-RESIDENTIAL ELEVATOR PERIODIC INSPECTIO...</td>\n",
       "    </tr>\n",
       "    <tr>\n",
       "      <td>3</td>\n",
       "      <td>1001389</td>\n",
       "      <td>2019-09-06</td>\n",
       "      <td>ACC1</td>\n",
       "      <td>375.000000</td>\n",
       "      <td>1F5381</td>\n",
       "      <td>V090619ACC100284</td>\n",
       "      <td>V-DOB VIOLATION - ACTIVE</td>\n",
       "      <td>ACC1-(OTHER BLDGS TYPES) - ELEVATOR AFFIRMATIO...</td>\n",
       "    </tr>\n",
       "    <tr>\n",
       "      <td>4</td>\n",
       "      <td>4003105</td>\n",
       "      <td>2019-01-07</td>\n",
       "      <td>E</td>\n",
       "      <td>909.948063</td>\n",
       "      <td>4P1563</td>\n",
       "      <td>V*010719E9028/643438</td>\n",
       "      <td>V*-DOB VIOLATION - Resolved</td>\n",
       "      <td>E-ELEVATOR</td>\n",
       "    </tr>\n",
       "    <tr>\n",
       "      <td>7</td>\n",
       "      <td>2087228</td>\n",
       "      <td>2019-11-08</td>\n",
       "      <td>LBLVIO</td>\n",
       "      <td>2301.000000</td>\n",
       "      <td>00100798</td>\n",
       "      <td>V110819LBLVIO04949</td>\n",
       "      <td>V-DOB VIOLATION - ACTIVE</td>\n",
       "      <td>LBLVIO-LOW PRESSURE BOILER</td>\n",
       "    </tr>\n",
       "    <tr>\n",
       "      <td>8</td>\n",
       "      <td>5106523</td>\n",
       "      <td>2019-05-20</td>\n",
       "      <td>EVCAT5</td>\n",
       "      <td>355.000000</td>\n",
       "      <td>5P470</td>\n",
       "      <td>V052019EVCAT500505</td>\n",
       "      <td>V-DOB VIOLATION - ACTIVE</td>\n",
       "      <td>EVCAT5-NON-RESIDENTIAL ELEVATOR PERIODIC INSPE...</td>\n",
       "    </tr>\n",
       "  </tbody>\n",
       "</table>\n",
       "</div>"
      ],
      "text/plain": [
       "       bin       date violation_type_code  house_number device_number  \\\n",
       "0  3059563 2019-05-20              JVCAT5    441.000000       3P10799   \n",
       "3  1001389 2019-09-06                ACC1    375.000000        1F5381   \n",
       "4  4003105 2019-01-07                   E    909.948063        4P1563   \n",
       "7  2087228 2019-11-08              LBLVIO   2301.000000      00100798   \n",
       "8  5106523 2019-05-20              EVCAT5    355.000000         5P470   \n",
       "\n",
       "                 number           violation_category  \\\n",
       "0    V052019JVCAT500339     V-DOB VIOLATION - ACTIVE   \n",
       "3      V090619ACC100284     V-DOB VIOLATION - ACTIVE   \n",
       "4  V*010719E9028/643438  V*-DOB VIOLATION - Resolved   \n",
       "7    V110819LBLVIO04949     V-DOB VIOLATION - ACTIVE   \n",
       "8    V052019EVCAT500505     V-DOB VIOLATION - ACTIVE   \n",
       "\n",
       "                                      violation_type  \n",
       "0  JVCAT5-RESIDENTIAL ELEVATOR PERIODIC INSPECTIO...  \n",
       "3  ACC1-(OTHER BLDGS TYPES) - ELEVATOR AFFIRMATIO...  \n",
       "4                                         E-ELEVATOR  \n",
       "7                         LBLVIO-LOW PRESSURE BOILER  \n",
       "8  EVCAT5-NON-RESIDENTIAL ELEVATOR PERIODIC INSPE...  "
      ]
     },
     "execution_count": 130,
     "metadata": {},
     "output_type": "execute_result"
    }
   ],
   "source": [
    "df.head()"
   ]
  },
  {
   "cell_type": "code",
   "execution_count": 131,
   "metadata": {
    "colab": {
     "base_uri": "https://localhost:8080/",
     "height": 170
    },
    "id": "iHS7kq32F1i_",
    "outputId": "72cb82a0-b50f-4b1a-da40-8cafc4eb067c"
   },
   "outputs": [
    {
     "data": {
      "text/plain": [
       "bin                             int64\n",
       "date                   datetime64[ns]\n",
       "violation_type_code          category\n",
       "house_number                  float64\n",
       "device_number                  object\n",
       "number                         object\n",
       "violation_category             object\n",
       "violation_type                 object\n",
       "dtype: object"
      ]
     },
     "execution_count": 131,
     "metadata": {},
     "output_type": "execute_result"
    }
   ],
   "source": [
    "df.dtypes"
   ]
  },
  {
   "cell_type": "code",
   "execution_count": null,
   "metadata": {
    "id": "eqLRUv6UF1jC"
   },
   "outputs": [],
   "source": []
  }
 ],
 "metadata": {
  "colab": {
   "include_colab_link": true,
   "name": "Data_Cleaning_in_Pandas.ipynb",
   "provenance": []
  },
  "kernelspec": {
   "display_name": "Python 3",
   "language": "python",
   "name": "python3"
  },
  "language_info": {
   "codemirror_mode": {
    "name": "ipython",
    "version": 3
   },
   "file_extension": ".py",
   "mimetype": "text/x-python",
   "name": "python",
   "nbconvert_exporter": "python",
   "pygments_lexer": "ipython3",
   "version": "3.7.3"
  }
 },
 "nbformat": 4,
 "nbformat_minor": 1
}
