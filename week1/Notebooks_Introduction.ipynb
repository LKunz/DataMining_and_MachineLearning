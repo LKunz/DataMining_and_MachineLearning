{
  "nbformat": 4,
  "nbformat_minor": 0,
  "metadata": {
    "colab": {
      "name": "Notebooks Introduction.ipynb",
      "provenance": [],
      "collapsed_sections": [],
      "include_colab_link": true
    },
    "kernelspec": {
      "display_name": "Python 3",
      "language": "python",
      "name": "python3"
    },
    "language_info": {
      "codemirror_mode": {
        "name": "ipython",
        "version": 3
      },
      "file_extension": ".py",
      "mimetype": "text/x-python",
      "name": "python",
      "nbconvert_exporter": "python",
      "pygments_lexer": "ipython3",
      "version": "3.7.6"
    },
    "nteract": {
      "version": "0.21.0"
    },
    "widgets": {
      "application/vnd.jupyter.widget-state+json": {
        "06234e05bfca432d937b4638d6186304": {
          "model_module": "@jupyter-widgets/controls",
          "model_name": "VBoxModel",
          "state": {
            "_view_name": "VBoxView",
            "_dom_classes": [
              "widget-interact"
            ],
            "_model_name": "VBoxModel",
            "_view_module": "@jupyter-widgets/controls",
            "_model_module_version": "1.5.0",
            "_view_count": null,
            "_view_module_version": "1.5.0",
            "box_style": "",
            "layout": "IPY_MODEL_08b544510bf34e199b14fe3877885cb1",
            "_model_module": "@jupyter-widgets/controls",
            "children": [
              "IPY_MODEL_485069e2983b41e88d632ebb2411ee53",
              "IPY_MODEL_cdbb807e5c84463183d654bd1ae30d78"
            ]
          }
        },
        "08b544510bf34e199b14fe3877885cb1": {
          "model_module": "@jupyter-widgets/base",
          "model_name": "LayoutModel",
          "state": {
            "_view_name": "LayoutView",
            "grid_template_rows": null,
            "right": null,
            "justify_content": null,
            "_view_module": "@jupyter-widgets/base",
            "overflow": null,
            "_model_module_version": "1.2.0",
            "_view_count": null,
            "flex_flow": null,
            "width": null,
            "min_width": null,
            "border": null,
            "align_items": null,
            "bottom": null,
            "_model_module": "@jupyter-widgets/base",
            "top": null,
            "grid_column": null,
            "overflow_y": null,
            "overflow_x": null,
            "grid_auto_flow": null,
            "grid_area": null,
            "grid_template_columns": null,
            "flex": null,
            "_model_name": "LayoutModel",
            "justify_items": null,
            "grid_row": null,
            "max_height": null,
            "align_content": null,
            "visibility": null,
            "align_self": null,
            "height": null,
            "min_height": null,
            "padding": null,
            "grid_auto_rows": null,
            "grid_gap": null,
            "max_width": null,
            "order": null,
            "_view_module_version": "1.2.0",
            "grid_template_areas": null,
            "object_position": null,
            "object_fit": null,
            "grid_auto_columns": null,
            "margin": null,
            "display": null,
            "left": null
          }
        },
        "485069e2983b41e88d632ebb2411ee53": {
          "model_module": "@jupyter-widgets/controls",
          "model_name": "IntSliderModel",
          "state": {
            "_view_name": "IntSliderView",
            "style": "IPY_MODEL_a160d7d1a16d489a9e796551d931550b",
            "_dom_classes": [],
            "description": "inches",
            "step": 1,
            "_model_name": "IntSliderModel",
            "orientation": "horizontal",
            "max": 8,
            "_view_module": "@jupyter-widgets/controls",
            "_model_module_version": "1.5.0",
            "value": 5,
            "_view_count": null,
            "disabled": false,
            "_view_module_version": "1.5.0",
            "min": 0,
            "continuous_update": true,
            "readout_format": "d",
            "description_tooltip": null,
            "readout": true,
            "_model_module": "@jupyter-widgets/controls",
            "layout": "IPY_MODEL_442f1746cd4c4919afb9e222f1d78b06"
          }
        },
        "cdbb807e5c84463183d654bd1ae30d78": {
          "model_module": "@jupyter-widgets/output",
          "model_name": "OutputModel",
          "state": {
            "_view_name": "OutputView",
            "msg_id": "",
            "_dom_classes": [],
            "_model_name": "OutputModel",
            "outputs": [
              {
                "output_type": "display_data",
                "metadata": {
                  "tags": []
                },
                "application/vnd.google.colaboratory.intrinsic+json": {
                  "type": "string"
                },
                "text/plain": "'5.00 inches is 12.70 cm'"
              }
            ],
            "_view_module": "@jupyter-widgets/output",
            "_model_module_version": "1.0.0",
            "_view_count": null,
            "_view_module_version": "1.0.0",
            "layout": "IPY_MODEL_b4a9956c76464704aa7e998db8983c58",
            "_model_module": "@jupyter-widgets/output"
          }
        },
        "a160d7d1a16d489a9e796551d931550b": {
          "model_module": "@jupyter-widgets/controls",
          "model_name": "SliderStyleModel",
          "state": {
            "_view_name": "StyleView",
            "handle_color": null,
            "_model_name": "SliderStyleModel",
            "description_width": "",
            "_view_module": "@jupyter-widgets/base",
            "_model_module_version": "1.5.0",
            "_view_count": null,
            "_view_module_version": "1.2.0",
            "_model_module": "@jupyter-widgets/controls"
          }
        },
        "442f1746cd4c4919afb9e222f1d78b06": {
          "model_module": "@jupyter-widgets/base",
          "model_name": "LayoutModel",
          "state": {
            "_view_name": "LayoutView",
            "grid_template_rows": null,
            "right": null,
            "justify_content": null,
            "_view_module": "@jupyter-widgets/base",
            "overflow": null,
            "_model_module_version": "1.2.0",
            "_view_count": null,
            "flex_flow": null,
            "width": null,
            "min_width": null,
            "border": null,
            "align_items": null,
            "bottom": null,
            "_model_module": "@jupyter-widgets/base",
            "top": null,
            "grid_column": null,
            "overflow_y": null,
            "overflow_x": null,
            "grid_auto_flow": null,
            "grid_area": null,
            "grid_template_columns": null,
            "flex": null,
            "_model_name": "LayoutModel",
            "justify_items": null,
            "grid_row": null,
            "max_height": null,
            "align_content": null,
            "visibility": null,
            "align_self": null,
            "height": null,
            "min_height": null,
            "padding": null,
            "grid_auto_rows": null,
            "grid_gap": null,
            "max_width": null,
            "order": null,
            "_view_module_version": "1.2.0",
            "grid_template_areas": null,
            "object_position": null,
            "object_fit": null,
            "grid_auto_columns": null,
            "margin": null,
            "display": null,
            "left": null
          }
        },
        "b4a9956c76464704aa7e998db8983c58": {
          "model_module": "@jupyter-widgets/base",
          "model_name": "LayoutModel",
          "state": {
            "_view_name": "LayoutView",
            "grid_template_rows": null,
            "right": null,
            "justify_content": null,
            "_view_module": "@jupyter-widgets/base",
            "overflow": null,
            "_model_module_version": "1.2.0",
            "_view_count": null,
            "flex_flow": null,
            "width": null,
            "min_width": null,
            "border": null,
            "align_items": null,
            "bottom": null,
            "_model_module": "@jupyter-widgets/base",
            "top": null,
            "grid_column": null,
            "overflow_y": null,
            "overflow_x": null,
            "grid_auto_flow": null,
            "grid_area": null,
            "grid_template_columns": null,
            "flex": null,
            "_model_name": "LayoutModel",
            "justify_items": null,
            "grid_row": null,
            "max_height": null,
            "align_content": null,
            "visibility": null,
            "align_self": null,
            "height": null,
            "min_height": null,
            "padding": null,
            "grid_auto_rows": null,
            "grid_gap": null,
            "max_width": null,
            "order": null,
            "_view_module_version": "1.2.0",
            "grid_template_areas": null,
            "object_position": null,
            "object_fit": null,
            "grid_auto_columns": null,
            "margin": null,
            "display": null,
            "left": null
          }
        }
      }
    }
  },
  "cells": [
    {
      "cell_type": "markdown",
      "metadata": {
        "id": "view-in-github",
        "colab_type": "text"
      },
      "source": [
        "<a href=\"https://colab.research.google.com/github/michalis0/DataMining_and_MachineLearning/blob/master/week1/Notebooks_Introduction.ipynb\" target=\"_parent\"><img src=\"https://colab.research.google.com/assets/colab-badge.svg\" alt=\"Open In Colab\"/></a>"
      ]
    },
    {
      "cell_type": "markdown",
      "metadata": {
        "colab_type": "text",
        "id": "sPgLYyUIzy-L"
      },
      "source": [
        "# Python Notebooks\n",
        "\n",
        "## Goals\n",
        "Our goal for with this notebook is to learn to use markdown and to create an interactive notebook that summarizes a project or a deliverable.\n",
        "\n",
        "## Introduction\n",
        "\n",
        "Notebooks represent an interactive way of sharing knowledge and code. Here we review some elementary ways of creating your notebooks. We will be using Google's Colab, which does not require any installations and uses google servers to execute the code. You can simply run it in your browser.\n",
        "\n",
        "To open Google Colab click [here](https://colab.research.google.com/) and then click on the \"New Notebook\" at the bottom right.\n",
        "\n",
        "A notebook consists of cells that contain either **code** or **markdown (text)**. Markdown syntax is very similar to html, but more simplified.\n",
        "- Try markdown on your own in [Google Colab](https://colab.research.google.com/notebooks/markdown_guide.ipynb)\n",
        "- You can also find a more detailed and [lengthy introduction](https://about.gitlab.com/handbook/product/technical-writing/markdown-guide/).\n",
        "\n",
        "### Code vs Text/Markdown\n",
        "\n",
        "By default a cell, contains code. \n",
        "- If you want to include markdown in a cell, you can convert it to a markdown cell by pressing `control M M` on a Mac (that is hold down the `control` key and press two times the letter `M`). \n",
        "- You can convert a cell into a code using the shortcut `control M Y`."
      ]
    },
    {
      "cell_type": "markdown",
      "metadata": {
        "colab_type": "text",
        "id": "kXvAgbBGzy-W"
      },
      "source": [
        "<div class=\"alert alert-block alert-info\">\n",
        "\n",
        "\n",
        "<h2>Shortcuts</h2>\n",
        "\n",
        "It's good to learn the following shortcuts:\n",
        "\n",
        "\n",
        "- Execute a cell: shift-enter\n",
        "- Saving the notebook: command s (on a Mac)\n",
        "- Change Cell types: ctrl M Y (code), ctrl M M (markdown)\n",
        "</div>\n"
      ]
    },
    {
      "cell_type": "markdown",
      "metadata": {
        "colab_type": "text",
        "id": "1fOAYOa3zy-X"
      },
      "source": [
        "## Basic Markdown\n",
        "\n",
        "Assuming your cell is in markdown mode, to create a title you use the `#` (hash) symbol\n",
        "\n",
        "> ```# My Project for this class```\n",
        "\n",
        "will give\n",
        "\n",
        "# My Project for this class\n",
        "\n",
        "To create a smaller heading you use more hashes\n",
        "\n",
        "> ```### Introduction to the project```\n",
        "\n",
        "### Introduction to the project\n",
        "\n",
        "It is also very easy to create numbered or unnumbered lists as follows\n",
        "\n",
        "> ```\n",
        "- First itme\n",
        "- Second item\n",
        "- ...\n",
        "```\n",
        "\n",
        "giving \n",
        "- First item\n",
        "- Second item\n",
        "- ...\n",
        "\n",
        "or replace the - with numbers 1. 2. 3. for a numbered list\n",
        "\n",
        "If you want to create a second level indentation you can put 4 spaces before the `-` symbol, such as:\n",
        "\n",
        "- Bullet level 1\n",
        "    - Bullet level 2\n",
        "\n",
        "\n",
        "## Seeing the code\n",
        "If you want to see the original code of a cell, just **double-click** on it.\n",
        "\n"
      ]
    },
    {
      "cell_type": "markdown",
      "metadata": {
        "colab_type": "text",
        "id": "Oki34eaYzy-Y"
      },
      "source": [
        "## HTML code\n",
        "\n",
        "### Images\n",
        "In a notebook, you may also enter html code like this:\n",
        "\n",
        "```html\n",
        "<img src='https://upload.wikimedia.org/wikipedia/commons/7/77/Logo_HEC_Lausanne.png' width=\"200\">\n",
        "```\n",
        "\n",
        "which will give the following\n",
        "\n",
        "<img src='https://upload.wikimedia.org/wikipedia/commons/7/77/Logo_HEC_Lausanne.png' width=\"200\">\n",
        "\n",
        "Alternatively, you may insert an inline image as follows\n",
        "\n",
        "```\n",
        "![Python Logo](https://upload.wikimedia.org/wikipedia/commons/c/c3/Python-logo-notext.svg)\n",
        "```\n",
        "which will render as\n",
        "![Python Logo](https://upload.wikimedia.org/wikipedia/commons/c/c3/Python-logo-notext.svg)\n",
        "\n",
        "### Weblinks\n",
        "\n",
        "and you can also create weblinks if you want to point to page outside the document, such as using [Azure Notebooks](https://notebooks.azure.com/Microsoft/projects/2018-Intro-Python) for running notebooks on the cloud."
      ]
    },
    {
      "cell_type": "markdown",
      "metadata": {
        "colab_type": "text",
        "id": "FLquNK2Wzy-Y"
      },
      "source": [
        "## Tables\n",
        "\n",
        "Below is an example of a tables\n",
        "\n",
        "```\n",
        "First column name | Second column name\n",
        "--- | ---\n",
        "Row 1, Col 1 | Row 1, Col 2\n",
        "Row 2, Col 1 | Row 2, Col 2\n",
        "```\n",
        "\n",
        "which will show as\n",
        "\n",
        "First column name | Second column name\n",
        "--- | ---\n",
        "Row 1, Col 1 | Row 1, Col 2\n",
        "Row 2, Col 1 | Row 2, Col 2\n",
        "\n",
        "If you want to make your life easier, you can also use this [online table generator](https://www.tablesgenerator.com/markdown_tables). You can easily create your table using visual tools and then it will generate the markdown code for you.\n",
        "\n",
        "\n",
        "\n",
        "\n",
        "## Math Expressions\n",
        "\n",
        "It is also very easy to insert mathematial equations, so that you can describe the mathematics of your solution to a problem:\n",
        "\n",
        "$$c = \\sqrt{a^2 + b^2}$$\n",
        "\n",
        "which is written, if you are familiar with Latex, as follows:\n",
        "\n",
        "```\n",
        "$$c = \\sqrt{a^2 + b^2}$$\n",
        "```"
      ]
    },
    {
      "cell_type": "markdown",
      "metadata": {
        "colab_type": "text",
        "id": "znLsR2o6zy-Z"
      },
      "source": [
        "## Embedding videos\n",
        "\n",
        "Of course, you can make your notebook also contain various education material, including videos:"
      ]
    },
    {
      "cell_type": "code",
      "metadata": {
        "colab_type": "code",
        "id": "3n38rCtMzy-a",
        "colab": {
          "base_uri": "https://localhost:8080/",
          "height": 321
        },
        "outputId": "1f226138-4c88-47e6-b09d-385a7908be73"
      },
      "source": [
        "from IPython.lib.display import YouTubeVideo\n",
        "YouTubeVideo('HW29067qVWk')"
      ],
      "execution_count": 1,
      "outputs": [
        {
          "output_type": "execute_result",
          "data": {
            "text/html": [
              "\n",
              "        <iframe\n",
              "            width=\"400\"\n",
              "            height=\"300\"\n",
              "            src=\"https://www.youtube.com/embed/HW29067qVWk\"\n",
              "            frameborder=\"0\"\n",
              "            allowfullscreen\n",
              "        ></iframe>\n",
              "        "
            ],
            "text/plain": [
              "<IPython.lib.display.YouTubeVideo at 0x7efc83274ac8>"
            ],
            "image/jpeg": "[encoded data removed]"
          },
          "metadata": {
            "tags": []
          },
          "execution_count": 1
        }
      ]
    },
    {
      "cell_type": "markdown",
      "metadata": {
        "colab_type": "text",
        "id": "uwNx1wmzzy-e"
      },
      "source": [
        "You can also embed a video using solely HTML:\n",
        "\n",
        "```\n",
        "%%HTML\n",
        "<iframe width=\"560\" src=\"https://www.youtube.com/embed/inN8seMm7UI\"></iframe>```"
      ]
    },
    {
      "cell_type": "code",
      "metadata": {
        "colab_type": "code",
        "id": "EcHteR34zy-f",
        "colab": {
          "base_uri": "https://localhost:8080/",
          "height": 365
        },
        "outputId": "82888bda-aaf2-4f7d-8509-aaceacbe7183"
      },
      "source": [
        "%%HTML\n",
        "<iframe width=\"560\" height=\"340\" src=\"https://www.youtube.com/embed/inN8seMm7UI\"></iframe>"
      ],
      "execution_count": 2,
      "outputs": [
        {
          "output_type": "display_data",
          "data": {
            "text/html": [
              "<iframe width=\"560\" height=\"340\" src=\"https://www.youtube.com/embed/inN8seMm7UI\"></iframe>"
            ],
            "text/plain": [
              "<IPython.core.display.HTML object>"
            ]
          },
          "metadata": {
            "tags": []
          }
        }
      ]
    },
    {
      "cell_type": "markdown",
      "metadata": {
        "colab_type": "text",
        "id": "huzxlXwwzy-i"
      },
      "source": [
        "## Interactive Components\n",
        "\n",
        "You can connect your existing Python code with interactive components, such as button, sliders,...\n",
        "\n",
        "The following code will convert inches to cm, using an interactive slider.\n"
      ]
    },
    {
      "cell_type": "code",
      "metadata": {
        "colab_type": "code",
        "id": "skUIXIBtzy-j",
        "colab": {
          "base_uri": "https://localhost:8080/",
          "height": 67,
          "referenced_widgets": [
            "06234e05bfca432d937b4638d6186304",
            "08b544510bf34e199b14fe3877885cb1",
            "485069e2983b41e88d632ebb2411ee53",
            "cdbb807e5c84463183d654bd1ae30d78",
            "a160d7d1a16d489a9e796551d931550b",
            "442f1746cd4c4919afb9e222f1d78b06",
            "b4a9956c76464704aa7e998db8983c58"
          ]
        },
        "outputId": "72d0b2bf-edac-4e0d-8298-e35a8b81bd89"
      },
      "source": [
        "from ipywidgets import interact\n",
        "\n",
        "def inches_to_cm(inches=2):\n",
        "    return '%.2f inches is %.2f cm' % (inches, inches*2.54)\n",
        "\n",
        "interact(inches_to_cm, inches=(0,8,1));\n"
      ],
      "execution_count": 3,
      "outputs": [
        {
          "output_type": "display_data",
          "data": {
            "application/vnd.jupyter.widget-view+json": {
              "model_id": "06234e05bfca432d937b4638d6186304",
              "version_minor": 0,
              "version_major": 2
            },
            "text/plain": [
              "interactive(children=(IntSlider(value=2, description='inches', max=8), Output()), _dom_classes=('widget-intera…"
            ]
          },
          "metadata": {
            "tags": []
          }
        }
      ]
    },
    {
      "cell_type": "markdown",
      "metadata": {
        "colab_type": "text",
        "id": "cuVSd5Qczy-n"
      },
      "source": [
        "You can find a list of available widgets [here](https://ipywidgets.readthedocs.io/en/stable/examples/Widget%20List.html) and you may read an article with more [advanced applications](https://towardsdatascience.com/interactive-controls-for-jupyter-notebooks-f5c94829aee6) of the widgets. \n"
      ]
    },
    {
      "cell_type": "markdown",
      "metadata": {
        "colab_type": "text",
        "id": "Xqfs6Uvkzy-o"
      },
      "source": [
        "## Graphs\n",
        "\n",
        "  In a notebook you can also embed graphs from the analysis of your dataset, including barcharts, scatterplots, piecharts, jointplots and others. For this we mainly use [matplotlib](https://matplotlib.org/) library which is a powerful library for creating visualizations in Python.\n",
        "\n",
        "  __Important: If you want your plots to be rendered in the notebook, you should add the line containing `%matplotlib inline` to your notebook.__"
      ]
    },
    {
      "cell_type": "code",
      "metadata": {
        "colab_type": "code",
        "id": "vo0fNXiYzy-o",
        "colab": {
          "base_uri": "https://localhost:8080/",
          "height": 452
        },
        "outputId": "c3be36a6-778b-4c42-de82-ddefa7a98481"
      },
      "source": [
        "%matplotlib inline\n",
        "import matplotlib.pyplot as plt; plt.rcdefaults()\n",
        "import numpy as np\n",
        "import matplotlib.pyplot as plt\n",
        "\n",
        "objects = ('Python', 'C++', 'Java', 'Perl', 'Scala', 'Lisp')\n",
        "y_pos = np.arange(len(objects))\n",
        "usage = [10,8,6,4,2,1]\n",
        "\n",
        "plt.bar(y_pos, usage, align='center', alpha=0.5)\n",
        "plt.xticks(y_pos, objects)\n",
        "plt.ylabel('Usage')\n",
        "plt.title('Programming language usage')\n",
        "\n",
        "plt.show()"
      ],
      "execution_count": 4,
      "outputs": [
        {
          "output_type": "display_data",
          "data": {
            "image/png": "[encoded data removed]",
            "text/plain": [
              "<Figure size 640x480 with 1 Axes>"
            ]
          },
          "metadata": {
            "tags": []
          }
        }
      ]
    },
    {
      "cell_type": "markdown",
      "metadata": {
        "colab_type": "text",
        "id": "bgawVTcrzy-q"
      },
      "source": [
        "## More tutorials\n",
        "\n",
        "I recommend that you also go over some of the notebook and Python tutorials below. The first link contains tutorials about Markdown and Jupyter notebooks in Google Colab and Azure Notebooks. The rest are general tutorials.\n",
        "\n",
        "- https://colab.research.google.com/\n",
        "- https://notebooks.azure.com/wesm/projects/python-for-data-analysis\n",
        "- [http://mbakker7.github.io/exploratory_computing_with_python/](http://mbakker7.github.io/exploratory_computing_with_python/)\n",
        "\n",
        "- [A gallery of interesting Jupyter notebooks](https://github.com/jupyter/jupyter/wiki/A-gallery-of-interesting-Jupyter-Notebooks#pandas-for-data-analysis)\n",
        "\n",
        "- [Datasets for your project](https://blog.bigml.com/list-of-public-data-sources-fit-for-machine-learning/)"
      ]
    },
    {
      "cell_type": "markdown",
      "metadata": {
        "colab_type": "text",
        "id": "12u-koFyzy-r"
      },
      "source": [
        "## Getting Help Interactively\n",
        "\n",
        "If you are writing some Python code in a cell, and we you don't remember what is the exact function you can use some of the autocomplete features:\n",
        "\n",
        "> ```python\n",
        "import pandas as pd\n",
        "df = pd.\n",
        "```\n",
        "\n",
        "Now wait a bit and you will see a list of possible functions. If you continue typing such as `DataFrame(` (make sure you open the parenthesis...) you will see a definition of the function, ie what parameters it should expect. \n",
        "\n",
        "Try it on your own:"
      ]
    },
    {
      "cell_type": "code",
      "metadata": {
        "colab_type": "code",
        "id": "6HuyLUmuzy-s",
        "colab": {}
      },
      "source": [
        "import pandas as pd"
      ],
      "execution_count": 5,
      "outputs": []
    },
    {
      "cell_type": "code",
      "metadata": {
        "colab_type": "code",
        "id": "lkSRxgh4zy-u",
        "colab": {}
      },
      "source": [
        "# delete the . and retype it...\n",
        "df = pd."
      ],
      "execution_count": null,
      "outputs": []
    },
    {
      "cell_type": "code",
      "metadata": {
        "colab_type": "code",
        "id": "Iz_yLMyGzy-w",
        "colab": {}
      },
      "source": [
        ""
      ],
      "execution_count": null,
      "outputs": []
    },
    {
      "cell_type": "markdown",
      "metadata": {
        "colab_type": "text",
        "id": "qCRZBhg6zy-y"
      },
      "source": [
        "## Advanced Features\n",
        "### Measuring time\n",
        "\n",
        "Many times, you will try various versions of your Python code and try to optimize it, i.e., make it run faster. How do you know that some different code is faster than your existing?\n",
        "\n",
        "A very useful 'magic' command is the ```timeit``` which let's you measure the time it takes to run a command, or all the commands in a cell. Such a command will help you try different versions of your code and identify the most efficient variant. You can reach the same destination via multiple paths, but some are faster than others!"
      ]
    },
    {
      "cell_type": "code",
      "metadata": {
        "colab_type": "code",
        "id": "Yzcy0fVZzy-y",
        "colab": {
          "base_uri": "https://localhost:8080/",
          "height": 34
        },
        "outputId": "c1ca4e78-bd3d-4767-ce64-eec8a318a6f0"
      },
      "source": [
        "%timeit l = [k for k in range(10**6)]"
      ],
      "execution_count": null,
      "outputs": [
        {
          "output_type": "stream",
          "text": [
            "10 loops, best of 3: 67 ms per loop\n"
          ],
          "name": "stdout"
        }
      ]
    },
    {
      "cell_type": "code",
      "metadata": {
        "colab_type": "code",
        "id": "zS8aXsIH4vEs",
        "colab": {}
      },
      "source": [
        ""
      ],
      "execution_count": null,
      "outputs": []
    }
  ]
}