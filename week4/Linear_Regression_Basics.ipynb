{
  "nbformat": 4,
  "nbformat_minor": 0,
  "metadata": {
    "kernel_info": {
      "name": "python3"
    },
    "kernelspec": {
      "display_name": "Python 3",
      "language": "python",
      "name": "python3"
    },
    "language_info": {
      "codemirror_mode": {
        "name": "ipython",
        "version": 3
      },
      "file_extension": ".py",
      "mimetype": "text/x-python",
      "name": "python",
      "nbconvert_exporter": "python",
      "pygments_lexer": "ipython3",
      "version": "3.7.3"
    },
    "nteract": {
      "version": "0.15.0"
    },
    "colab": {
      "name": "Linear_Regression_Basics.ipynb",
      "provenance": [],
      "include_colab_link": true
    }
  },
  "cells": [
    {
      "cell_type": "markdown",
      "metadata": {
        "id": "view-in-github",
        "colab_type": "text"
      },
      "source": [
        "<a href=\"https://colab.research.google.com/github/michalis0/DataMining_and_MachineLearning/blob/master/week4/Linear_Regression_Basics.ipynb\" target=\"_parent\"><img src=\"https://colab.research.google.com/assets/colab-badge.svg\" alt=\"Open In Colab\"/></a>"
      ]
    },
    {
      "cell_type": "markdown",
      "metadata": {
        "id": "f7a_hEfThRmX"
      },
      "source": [
        "# Linear Regression: Basics, Regularization, and Cross-validation\n",
        "\n",
        "In this notebook we will cover the following:\n",
        "\n",
        "    1- Implementing _least squares_ which is the closed form solution of a simple linear regression problem.\n",
        "    2- Implementing Gradient Descent from scratch. GD and its variants are the main algorithm of learning in almost every problem in Machine Learning.\n",
        "    3- Using __sklearn__ package to solve a linear regression problem.\n",
        "    4- What are polynomial features and how can we use them?\n",
        "    5- Splitting the data to train and test sets.\n",
        "    6- What is over fitting? What is regularization?\n",
        "    7- Cross-validation, the standard way of hyper-parameter tuning in ML"
      ]
    },
    {
      "cell_type": "code",
      "metadata": {
        "id": "bJjyIvKFhRmY"
      },
      "source": [
        "# Useful starting lines\n",
        "%matplotlib inline\n",
        "import numpy as np\n",
        "import matplotlib.pyplot as plt\n",
        "from matplotlib import collections  as mc\n",
        "%load_ext autoreload\n",
        "%autoreload 2\n",
        "import pandas as pd \n",
        "import seaborn as sns\n",
        "from sklearn.preprocessing import LabelEncoder, OneHotEncoder\n",
        "sns.set_style(\"white\")"
      ],
      "execution_count": null,
      "outputs": []
    },
    {
      "cell_type": "markdown",
      "metadata": {
        "id": "QsaBbrf1hRmd"
      },
      "source": [
        "## 1. Load the data\n",
        "We are going to use an advertisement data. The task is to figure out how different means of advertisement influence the amount of sales of a product.\n",
        "    \n",
        "Let's Load the data with Pandas!"
      ]
    },
    {
      "cell_type": "code",
      "metadata": {
        "id": "cO3PNCKehRme",
        "outputId": "ae5c4503-fcdc-4366-f795-b4491f3f9e33"
      },
      "source": [
        "ad_df = pd.read_csv('data/Advertising.csv')\n",
        "# view the first 5 rows \n",
        "ad_df.head()"
      ],
      "execution_count": null,
      "outputs": [
        {
          "output_type": "execute_result",
          "data": {
            "text/html": [
              "<div>\n",
              "<style scoped>\n",
              "    .dataframe tbody tr th:only-of-type {\n",
              "        vertical-align: middle;\n",
              "    }\n",
              "\n",
              "    .dataframe tbody tr th {\n",
              "        vertical-align: top;\n",
              "    }\n",
              "\n",
              "    .dataframe thead th {\n",
              "        text-align: right;\n",
              "    }\n",
              "</style>\n",
              "<table border=\"1\" class=\"dataframe\">\n",
              "  <thead>\n",
              "    <tr style=\"text-align: right;\">\n",
              "      <th></th>\n",
              "      <th>id</th>\n",
              "      <th>TV</th>\n",
              "      <th>Radio</th>\n",
              "      <th>Newspaper</th>\n",
              "      <th>Sales</th>\n",
              "    </tr>\n",
              "  </thead>\n",
              "  <tbody>\n",
              "    <tr>\n",
              "      <td>0</td>\n",
              "      <td>1</td>\n",
              "      <td>230.1</td>\n",
              "      <td>37.8</td>\n",
              "      <td>69.2</td>\n",
              "      <td>22.1</td>\n",
              "    </tr>\n",
              "    <tr>\n",
              "      <td>1</td>\n",
              "      <td>2</td>\n",
              "      <td>44.5</td>\n",
              "      <td>39.3</td>\n",
              "      <td>45.1</td>\n",
              "      <td>10.4</td>\n",
              "    </tr>\n",
              "    <tr>\n",
              "      <td>2</td>\n",
              "      <td>3</td>\n",
              "      <td>17.2</td>\n",
              "      <td>45.9</td>\n",
              "      <td>69.3</td>\n",
              "      <td>9.3</td>\n",
              "    </tr>\n",
              "    <tr>\n",
              "      <td>3</td>\n",
              "      <td>4</td>\n",
              "      <td>151.5</td>\n",
              "      <td>41.3</td>\n",
              "      <td>58.5</td>\n",
              "      <td>18.5</td>\n",
              "    </tr>\n",
              "    <tr>\n",
              "      <td>4</td>\n",
              "      <td>5</td>\n",
              "      <td>180.8</td>\n",
              "      <td>10.8</td>\n",
              "      <td>58.4</td>\n",
              "      <td>12.9</td>\n",
              "    </tr>\n",
              "  </tbody>\n",
              "</table>\n",
              "</div>"
            ],
            "text/plain": [
              "   id     TV  Radio  Newspaper  Sales\n",
              "0   1  230.1   37.8       69.2   22.1\n",
              "1   2   44.5   39.3       45.1   10.4\n",
              "2   3   17.2   45.9       69.3    9.3\n",
              "3   4  151.5   41.3       58.5   18.5\n",
              "4   5  180.8   10.8       58.4   12.9"
            ]
          },
          "metadata": {
            "tags": []
          },
          "execution_count": 2
        }
      ]
    },
    {
      "cell_type": "markdown",
      "metadata": {
        "id": "e9lRrqzThRmi"
      },
      "source": [
        "In what follows we will try a simple linear regression using only one feature, that is, we want to predict the sales using only the TV advertisments."
      ]
    },
    {
      "cell_type": "markdown",
      "metadata": {
        "id": "BG7NVRHXhRmi"
      },
      "source": [
        "## 2. Least squares: closed form solution\n",
        "since in 1D linear regression we are fitting a line on the data, we need to find two parameters, constant and slope.\n",
        "\n",
        "As we saw in the lecture we have a closed form solution for these 2 parameters. \n",
        "$slope = \\frac{\\Sigma X_{i} y_{i} - \\frac{1}{n}\\Sigma X_{i} \\Sigma y_{i}}{\\Sigma X_{i}^{2} - \\frac{1}{n}(\\Sigma X_{i})^{2}}$, $constant = \\bar{y} - slope * \\bar{X}$\n"
      ]
    },
    {
      "cell_type": "code",
      "metadata": {
        "id": "hTi358OIhRmj"
      },
      "source": [
        "#number of data points\n",
        "n = ad_df.shape[0]\n",
        "#making the data matrix and outputs\n",
        "X = np.array(ad_df[\"TV\"])\n",
        "y = np.array(ad_df[\"Sales\"])"
      ],
      "execution_count": null,
      "outputs": []
    },
    {
      "cell_type": "code",
      "metadata": {
        "id": "hfuxCAWzhRmm",
        "outputId": "bbfbebfe-ccfc-49dc-ad34-bc82f91d5558"
      },
      "source": [
        "X.shape, y.shape"
      ],
      "execution_count": null,
      "outputs": [
        {
          "output_type": "execute_result",
          "data": {
            "text/plain": [
              "((200,), (200,))"
            ]
          },
          "metadata": {
            "tags": []
          },
          "execution_count": 4
        }
      ]
    },
    {
      "cell_type": "code",
      "metadata": {
        "id": "t2OShKbKhRmq",
        "outputId": "1fd91177-05cd-466a-ce62-30c88bdb65dc"
      },
      "source": [
        "# closed form solution: calculating the slope and the constant\n",
        "slope = (np.inner(X, y) - sum(X)*sum(y) / n) / (sum(X**2) - sum(X)**2 / n)\n",
        "constant = np.mean(y) - slope * np.mean(X)\n",
        "print(\"slope: \", slope, \"constant: \", constant)"
      ],
      "execution_count": null,
      "outputs": [
        {
          "output_type": "stream",
          "text": [
            "slope:  0.04753664043301973 constant:  7.032593549127697\n"
          ],
          "name": "stdout"
        }
      ]
    },
    {
      "cell_type": "code",
      "metadata": {
        "id": "BUFPcMuFhRmt",
        "outputId": "26510004-aa8e-4a3b-d828-af1dfa54c252"
      },
      "source": [
        "fig, ax = plt.subplots(figsize=(10, 7))\n",
        "ax.scatter(X, y, marker='o', color='red', s=40)\n",
        "# plot the line for regression fit, gets the xy coordinates of the end points\n",
        "x_1 = np.array(ax.get_xlim())\n",
        "y_1 = constant + slope * x_1\n",
        "ax.plot(x_1, y_1, color='blue', linewidth=2)\n",
        "\n",
        "# let's also plot the error bars\n",
        "\n",
        "lines = []\n",
        "for i, x_ in enumerate(X): \n",
        "    origin = (X[i], constant + slope * X[i])\n",
        "    end = (X[i], y[i])\n",
        "    lines.append([origin, end])    \n",
        "lc = mc.LineCollection(lines, linewidths=1)\n",
        "ax.add_collection(lc)\n",
        "\n",
        "ax.set_xlabel('TV', size=14)\n",
        "ax.set_ylabel('Sales', size=14)\n",
        "plt.tight_layout();"
      ],
      "execution_count": null,
      "outputs": [
        {
          "output_type": "display_data",
          "data": {
            "image/png": "[encoded data removed]",
            "text/plain": [
              "<Figure size 720x504 with 1 Axes>"
            ]
          },
          "metadata": {
            "tags": [],
            "needs_background": "light"
          }
        }
      ]
    },
    {
      "cell_type": "markdown",
      "metadata": {
        "id": "ZDhtTcKXhRmw"
      },
      "source": [
        "## 3. Gradient Descent\n",
        "Another approach to find the optimal weights $\\omega$ is to use iterative algorithms such as Gradient Descent. These methods are very important as in most of the cases it is not possible to find a closed form solution to $\\omega$.\n"
      ]
    },
    {
      "cell_type": "code",
      "metadata": {
        "id": "L7ZNYlJjhRmx"
      },
      "source": [
        "#append a column of ones to X, we do this to make sure that the dimensions of the matrices match\n",
        "X = np.concatenate((np.ones(n).reshape(n,1), X.reshape(-1,1)), axis=1)"
      ],
      "execution_count": null,
      "outputs": []
    },
    {
      "cell_type": "code",
      "metadata": {
        "id": "YRi6JJOUhRm0"
      },
      "source": [
        "class gradient_decsent():\n",
        "    def __init__(self, initial_w=0, gamma=0, max_epochs=50):\n",
        "        self.initial_w = initial_w\n",
        "        self.gamma = gamma\n",
        "        self.max_epochs = max_epochs\n",
        "    \n",
        "    def calculate_loss(self, y, x, w):\n",
        "        \"\"\"\n",
        "        calculate mse\n",
        "        \"\"\"\n",
        "        e = y - x.dot(w)\n",
        "        loss = 0.5*np.mean(e**2)\n",
        "        return loss\n",
        "    \n",
        "    def calculate_gradient(self, y, x, w):\n",
        "        \"\"\"\n",
        "        calculating the gradient of mse\n",
        "        \"\"\"\n",
        "        e = y - x.dot(w)\n",
        "        grad = -1 * x.T.dot(e) / len(e)\n",
        "        return grad\n",
        "    \n",
        "    def update(self, y, x, w):\n",
        "        \"\"\"\n",
        "        update step of GD\n",
        "        \"\"\"\n",
        "        n, d = x.shape\n",
        "        grad = self.calculate_gradient(y, x, w)\n",
        "        w_new = w - self.gamma * grad\n",
        "        return w_new\n",
        "        \n",
        "    def train(self, y, x):\n",
        "        \"\"\"\n",
        "        training\n",
        "        returns the vector of all loss values and weigths after training\n",
        "        \"\"\"\n",
        "        n, d = x.shape\n",
        "        w = self.initial_w\n",
        "        ws = []\n",
        "        losses = []\n",
        "        for n_epoch in range(self.max_epochs):\n",
        "            w = self.update(y, x, w)\n",
        "            ws.append(w)\n",
        "            losses.append(self.calculate_loss(y, x, w))\n",
        "        return losses, ws\n"
      ],
      "execution_count": null,
      "outputs": []
    },
    {
      "cell_type": "markdown",
      "metadata": {
        "id": "4MupzAslhRm4"
      },
      "source": [
        "We would need to [standardize](https://towardsdatascience.com/normalization-vs-standardization-quantitative-analysis-a91e8a79cebf) the data before applying GD "
      ]
    },
    {
      "cell_type": "code",
      "metadata": {
        "id": "YssJh71OhRm4"
      },
      "source": [
        "X[:,1] = X[:,1] - np.mean(X[:,1], axis=0)\n",
        "X[:,1] = X[:,1] / np.std(X[:,1], axis=0)\n",
        "#--\n",
        "y = y - np.mean(y, axis=0)\n",
        "y = y / np.std(y, axis=0)"
      ],
      "execution_count": null,
      "outputs": []
    },
    {
      "cell_type": "code",
      "metadata": {
        "id": "VNbAHNHQhRm-",
        "outputId": "f4d2f99c-a692-4055-dd4b-b0cc11e2a936"
      },
      "source": [
        "GD = gradient_decsent(initial_w=np.array([0,0]), gamma=0.2, max_epochs=50)\n",
        "losses, ws = GD.train(y, X)\n",
        "print(ws[-1])"
      ],
      "execution_count": null,
      "outputs": [
        {
          "output_type": "stream",
          "text": [
            "[-2.78013723e-16  7.82213261e-01]\n"
          ],
          "name": "stdout"
        }
      ]
    },
    {
      "cell_type": "code",
      "metadata": {
        "id": "WGzmPB0jhRnB"
      },
      "source": [
        "def GD_vis(losses, ws, w0_range, w1_range, X, y, n_iter=None):\n",
        "    w0, w1 = np.meshgrid(w0_range, w1_range)\n",
        "    grid_losses = np.zeros((len(w0_range), len(w1_range)))\n",
        "    for i in range(len(w0_range)):\n",
        "        for j in range(len(w1_range)):\n",
        "            w = np.array([w0[i,j], w1[i,j]])\n",
        "            grid_losses[i,j] = GD.calculate_loss(y, X, w)\n",
        "    fig = plt.figure(figsize=(10,7))\n",
        "\n",
        "    # plot contourf\n",
        "    ax1 = fig.add_subplot(1, 2, 1)\n",
        "    cp = ax1.contourf(w0, w1, grid_losses, cmap=plt.cm.jet)\n",
        "    fig.colorbar(cp, ax=ax1)\n",
        "    ax1.set_xlabel(r'$w_0$')\n",
        "    ax1.set_ylabel(r'$w_1$')\n",
        "    # put a marker at the minimum\n",
        "    ax1.plot(ws[-1][0], ws[-1][1], marker='*', color='r', markersize=20)\n",
        "\n",
        "    # plot f(x)\n",
        "    ax2 = fig.add_subplot(1, 2, 2)\n",
        "    ax2.scatter(X[:,1], y, marker=\".\", color='r', s=15)\n",
        "    ax2.set_xlabel(\"x\")\n",
        "    ax2.set_ylabel(\"y\")\n",
        "    ax2.grid()\n",
        "    ws_to_plot = np.stack(ws)\n",
        "    if n_iter is not None:\n",
        "        ws_to_plot = ws_to_plot[:n_iter]\n",
        "    ax1.plot(\n",
        "        ws_to_plot[:, 0], ws_to_plot[:, 1],\n",
        "        marker='o', color='w', markersize=10)\n",
        "    x_1 = np.array(ax2.get_xlim())\n",
        "    y_1 = ws_to_plot[-1, 0] + ws_to_plot[-1, 1] * x_1\n",
        "    ax2.plot(x_1, y_1, color='blue', linewidth=2);\n",
        "    return fig"
      ],
      "execution_count": null,
      "outputs": []
    },
    {
      "cell_type": "markdown",
      "metadata": {
        "id": "umu7ZzPPhRnD"
      },
      "source": [
        "Let's see how it progresses through time"
      ]
    },
    {
      "cell_type": "code",
      "metadata": {
        "id": "VhOj-MebhRnE",
        "outputId": "5f3437ce-3d0a-48dd-e518-564bf8e8167e",
        "colab": {
          "referenced_widgets": [
            "a37c4d539fe749659116234d31c00820"
          ]
        }
      },
      "source": [
        "# Time Visualization\n",
        "from ipywidgets import IntSlider, interact\n",
        "def plot_figure(n_iter):\n",
        "    fig = GD_vis(losses, ws, np.linspace(-1e-18, -4e-16, 100), np.linspace(0,1,100), X, y, n_iter)\n",
        "    fig.set_size_inches(10.0, 6.0)\n",
        "\n",
        "interact(plot_figure, n_iter=IntSlider(min=1, max=len(ws)))"
      ],
      "execution_count": null,
      "outputs": [
        {
          "output_type": "display_data",
          "data": {
            "application/vnd.jupyter.widget-view+json": {
              "model_id": "a37c4d539fe749659116234d31c00820",
              "version_major": 2,
              "version_minor": 0
            },
            "text/plain": [
              "interactive(children=(IntSlider(value=1, description='n_iter', max=50, min=1), Output()), _dom_classes=('widge…"
            ]
          },
          "metadata": {
            "tags": []
          }
        },
        {
          "output_type": "execute_result",
          "data": {
            "text/plain": [
              "<function __main__.plot_figure(n_iter)>"
            ]
          },
          "metadata": {
            "tags": []
          },
          "execution_count": 12
        }
      ]
    },
    {
      "cell_type": "markdown",
      "metadata": {
        "id": "C0f1od57hRnH"
      },
      "source": [
        "## 4. Using Sklearn\n",
        "When using sklearn we don't need to add a column of ones to the data in order to have the constant parameter. sklearn takes care of it, you should just pass the `fit_intercept` argument to be True (which is also the default value for this argument)"
      ]
    },
    {
      "cell_type": "code",
      "metadata": {
        "id": "vB_V-I77hRnI"
      },
      "source": [
        "# Use the original data again\n",
        "X = np.array(ad_df[\"TV\"]).reshape((-1, 1))\n",
        "y = np.array(ad_df[\"Sales\"])"
      ],
      "execution_count": null,
      "outputs": []
    },
    {
      "cell_type": "code",
      "metadata": {
        "id": "9_2puawjhRnL",
        "outputId": "03bcf45d-0886-49a3-a889-40a22e720e2a"
      },
      "source": [
        "from sklearn.linear_model import LinearRegression\n",
        "LR = LinearRegression(fit_intercept=True)\n",
        "LR.fit(X, y)"
      ],
      "execution_count": null,
      "outputs": [
        {
          "output_type": "execute_result",
          "data": {
            "text/plain": [
              "LinearRegression(copy_X=True, fit_intercept=True, n_jobs=None, normalize=False)"
            ]
          },
          "metadata": {
            "tags": []
          },
          "execution_count": 14
        }
      ]
    },
    {
      "cell_type": "code",
      "metadata": {
        "id": "IwnahYeLhRnP",
        "outputId": "829d8446-264c-49e6-a880-ee41472b8723"
      },
      "source": [
        "print(\"slope: \", LR.coef_[0])\n",
        "print(\"constant: \", LR.intercept_)\n",
        "print(\"R^2 score: \", LR.score(X, y))"
      ],
      "execution_count": null,
      "outputs": [
        {
          "output_type": "stream",
          "text": [
            "slope:  0.047536640433019764\n",
            "constant:  7.032593549127693\n",
            "R^2 score:  0.611875050850071\n"
          ],
          "name": "stdout"
        }
      ]
    },
    {
      "cell_type": "code",
      "metadata": {
        "id": "SF2zMyTUhRnR",
        "outputId": "21cd5700-683b-4580-8997-f5efe888b937"
      },
      "source": [
        "#predict the Sales of a product with 200 TV advertisments\n",
        "LR.predict(np.array(200).reshape(-1, 1))"
      ],
      "execution_count": null,
      "outputs": [
        {
          "output_type": "execute_result",
          "data": {
            "text/plain": [
              "array([16.53992164])"
            ]
          },
          "metadata": {
            "tags": []
          },
          "execution_count": 19
        }
      ]
    },
    {
      "cell_type": "code",
      "metadata": {
        "id": "HmedCEe0hRnX",
        "outputId": "3b34b567-6fed-4bc2-fc4a-0652446a1927"
      },
      "source": [
        "# Alternative: mean squared error (MSE)\n",
        "from sklearn.metrics import mean_squared_error\n",
        "mean_squared_error(y, LR.predict(X))"
      ],
      "execution_count": null,
      "outputs": [
        {
          "output_type": "execute_result",
          "data": {
            "text/plain": [
              "10.512652915656757"
            ]
          },
          "metadata": {
            "tags": []
          },
          "execution_count": 21
        }
      ]
    },
    {
      "cell_type": "markdown",
      "metadata": {
        "id": "3fG6nE9khRna"
      },
      "source": [
        "## 5.Using more features for prediction\n",
        "Let's try to use more features to predict the sales. For example we can observe the effect of TV and Radio advertisment in the same time.\n"
      ]
    },
    {
      "cell_type": "code",
      "metadata": {
        "id": "k7dBH933hRna",
        "outputId": "5e7491c8-aceb-4921-e57c-f695952eba95"
      },
      "source": [
        "#let's start with 2 features\n",
        "#making the data matrix and outputs\n",
        "X = np.array(ad_df[[\"TV\", \"Radio\"]])\n",
        "y = np.array(ad_df[\"Sales\"])\n",
        "X.shape, y.shape"
      ],
      "execution_count": null,
      "outputs": [
        {
          "output_type": "execute_result",
          "data": {
            "text/plain": [
              "((200, 2), (200,))"
            ]
          },
          "metadata": {
            "tags": []
          },
          "execution_count": 23
        }
      ]
    },
    {
      "cell_type": "code",
      "metadata": {
        "id": "2sdYDWy3hRnd",
        "outputId": "ee399dbf-f5cd-4d39-e99d-7c7d52c21eb4"
      },
      "source": [
        "LR = LinearRegression(fit_intercept=True)\n",
        "LR.fit(X, y)\n",
        "print(\"params: \", LR.coef_)\n",
        "print(\"constant: \", LR.intercept_)\n",
        "print(\"R^2 score: \", LR.score(X, y))"
      ],
      "execution_count": null,
      "outputs": [
        {
          "output_type": "stream",
          "text": [
            "params:  [0.04575482 0.18799423]\n",
            "constant:  2.9210999124051362\n",
            "R^2 score:  0.8971942610828956\n"
          ],
          "name": "stdout"
        }
      ]
    },
    {
      "cell_type": "code",
      "metadata": {
        "id": "PgWBArwrhRng",
        "outputId": "e3afc1fc-5dc1-4487-e091-783d8fb37f48"
      },
      "source": [
        "# predict\n",
        "print(\"TV: \", 200, \"Radio: \", 50, \"Sales: \", LR.predict(np.array([200, 50]).reshape(-1,2)))\n",
        "print(\"TV: \", 200, \"Radio: \", 30, \"Sales: \", LR.predict(np.array([200, 30]).reshape(-1,2)))"
      ],
      "execution_count": null,
      "outputs": [
        {
          "output_type": "stream",
          "text": [
            "TV:  200 Radio:  50 Sales:  [21.47177426]\n",
            "TV:  200 Radio:  30 Sales:  [17.71188973]\n"
          ],
          "name": "stdout"
        }
      ]
    },
    {
      "cell_type": "code",
      "metadata": {
        "id": "WwXUq29ThRnm",
        "outputId": "4a139698-0ae4-4655-c08a-e900f345c78c"
      },
      "source": [
        "# with 3 features\n",
        "X = np.array(ad_df[[\"TV\", \"Radio\", \"Newspaper\"]])\n",
        "y = np.array(ad_df[\"Sales\"])\n",
        "LR.fit(X, y)\n",
        "print(\"params: \", LR.coef_)\n",
        "print(\"constant: \", LR.intercept_)\n",
        "print(\"R^2 score: \", LR.score(X, y))"
      ],
      "execution_count": null,
      "outputs": [
        {
          "output_type": "stream",
          "text": [
            "params:  [ 0.04576465  0.18853002 -0.00103749]\n",
            "constant:  2.9388893694594067\n",
            "R^2 score:  0.8972106381789521\n"
          ],
          "name": "stdout"
        }
      ]
    },
    {
      "cell_type": "markdown",
      "metadata": {
        "id": "CqPaFAbahRnr"
      },
      "source": [
        "## 6.Using polynomial features (polynomial combination of features)\n",
        "Sometimes the data cannot be explained by just a linear model and using a linear model causes a high error. In these cases we can add polynomial features to the data which is equivalent to fitting polynomial functions on the data points."
      ]
    },
    {
      "cell_type": "code",
      "metadata": {
        "id": "FqadN6f-hRns"
      },
      "source": [
        "from sklearn.preprocessing import PolynomialFeatures\n",
        "poly = PolynomialFeatures(2)\n",
        "X = np.array(ad_df[[\"TV\", \"Radio\"]])\n",
        "y = np.array(ad_df[\"Sales\"])\n",
        "X_poly = poly.fit_transform(X)"
      ],
      "execution_count": null,
      "outputs": []
    },
    {
      "cell_type": "code",
      "metadata": {
        "id": "LqJggNQZhRny",
        "outputId": "8a22a4cc-e1c6-49ef-8a2a-7da726affa5a"
      },
      "source": [
        "X_poly.shape"
      ],
      "execution_count": null,
      "outputs": [
        {
          "output_type": "execute_result",
          "data": {
            "text/plain": [
              "(200, 6)"
            ]
          },
          "metadata": {
            "tags": []
          },
          "execution_count": 30
        }
      ]
    },
    {
      "cell_type": "code",
      "metadata": {
        "id": "qgpU4Pl7hRn2",
        "outputId": "c21a87eb-4d95-4bea-d716-b1c5a363365f"
      },
      "source": [
        "LR = LinearRegression(fit_intercept=False) # we don't need fit intercept sice polynomial features function add a column of ones to the data \n",
        "LR.fit(X_poly, y)\n",
        "print(\"params: \", LR.coef_)\n",
        "print(\"R^2 score: \", LR.score(X_poly, y))"
      ],
      "execution_count": null,
      "outputs": [
        {
          "output_type": "stream",
          "text": [
            "params:  [ 5.19444187e+00  5.09930683e-02  2.65400299e-02 -1.09816273e-04\n",
            "  1.07462080e-03  1.86076136e-04]\n",
            "R^2 score:  0.986039101078374\n"
          ],
          "name": "stdout"
        }
      ]
    },
    {
      "cell_type": "markdown",
      "metadata": {
        "id": "vJSIgpiyhRn7"
      },
      "source": [
        "Read about $R^2$ measure and you will be able to compare these models."
      ]
    },
    {
      "cell_type": "markdown",
      "metadata": {
        "id": "M-ZCOsT2hRn7"
      },
      "source": [
        "## 7.Train/Test split and overfitting"
      ]
    },
    {
      "cell_type": "markdown",
      "metadata": {
        "id": "7V9tcU_nhRn8"
      },
      "source": [
        "The standard practice in Machine Learning is to keep the test data out of the training and try to predict the output for the unseen data in the test set. We can also evaluate our model by calculating the MSE for training and test data."
      ]
    },
    {
      "cell_type": "markdown",
      "metadata": {
        "id": "meAdAKkohRn-"
      },
      "source": [
        "Now let's see the effect of adding more polynomial features. Adding too much of these features may cause overfitting. We can check this by looking into the test error."
      ]
    },
    {
      "cell_type": "code",
      "metadata": {
        "id": "bRkiSjC4hRoB"
      },
      "source": [
        "from sklearn.model_selection import train_test_split\n",
        "from sklearn.metrics import mean_squared_error"
      ],
      "execution_count": null,
      "outputs": []
    },
    {
      "cell_type": "code",
      "metadata": {
        "id": "X7pJ4NSFhRoF"
      },
      "source": [
        "# let's only use 2 features\n",
        "X = np.array(ad_df[[\"TV\", \"Radio\"]])\n",
        "y = np.array(ad_df[\"Sales\"])"
      ],
      "execution_count": null,
      "outputs": []
    },
    {
      "cell_type": "code",
      "metadata": {
        "id": "-kLF_v8jhRoJ",
        "outputId": "590e7537-1342-4792-d9c9-052c20f698d8"
      },
      "source": [
        "train_err = []\n",
        "test_err = []\n",
        "# X = X[:,0].reshape(-1,1)\n",
        "for f in range(1,7):\n",
        "    poly = PolynomialFeatures(f)\n",
        "    X_poly = poly.fit_transform(X)\n",
        "    X_train, X_test, y_train, y_test = train_test_split(X_poly, y, test_size=0.2, random_state=10)\n",
        "    LR = LinearRegression(fit_intercept=False)\n",
        "    LR.fit(X_train, y_train)\n",
        "    train_err.append(mean_squared_error(y_train, LR.predict(X_train)))\n",
        "    test_err.append(mean_squared_error(y_test, LR.predict(X_test)))\n",
        "plt.plot(range(1,7), train_err, label=\"train_error\")\n",
        "plt.plot(range(1,7), test_err, label=\"test_error\")\n",
        "plt.legend(fontsize=10)\n",
        "plt.xlabel(\"polynomial degree\")\n",
        "plt.ylabel(\"error\")\n",
        "# plt.ylim([0, 100]);"
      ],
      "execution_count": null,
      "outputs": [
        {
          "output_type": "execute_result",
          "data": {
            "text/plain": [
              "Text(0, 0.5, 'error')"
            ]
          },
          "metadata": {
            "tags": []
          },
          "execution_count": 34
        },
        {
          "output_type": "display_data",
          "data": {
            "image/png": "[encoded data removed]",
            "text/plain": [
              "<Figure size 432x288 with 1 Axes>"
            ]
          },
          "metadata": {
            "tags": [],
            "needs_background": "light"
          }
        }
      ]
    },
    {
      "cell_type": "markdown",
      "metadata": {
        "id": "oAHyKh3nhRoM"
      },
      "source": [
        "To avoid overfitting we can penalize the norm of the weight vector. This is called regularization. We will use linear regression with l2 regularizer. By tuning the regularization parameter $\\alpha$ we can minimize the test error."
      ]
    },
    {
      "cell_type": "code",
      "metadata": {
        "id": "C-EFZrDehRoN"
      },
      "source": [
        "from sklearn.linear_model import Ridge\n",
        "poly = PolynomialFeatures(2)\n",
        "X_poly = poly.fit_transform(X)\n",
        "X_train, X_test, y_train, y_test = train_test_split(X_poly, y, test_size=0.2, random_state=10)\n",
        "test_err = []\n",
        "for alpha in np.linspace(0.1, 1, num=10):\n",
        "    ridge_regression = Ridge(alpha=alpha)\n",
        "    ridge_regression.fit(X_train, y_train)\n",
        "    test_err.append(mean_squared_error(y_test, ridge_regression.predict(X_test)))\n",
        "    "
      ],
      "execution_count": null,
      "outputs": []
    },
    {
      "cell_type": "code",
      "metadata": {
        "id": "zfdGqmiXhRoQ",
        "outputId": "8217cf7d-56cd-434f-dade-85989ad18e4f"
      },
      "source": [
        "plt.plot(np.linspace(0, 1, num=10), test_err)\n",
        "plt.xlabel(\"alpha\")\n",
        "plt.ylabel(\"test error\");"
      ],
      "execution_count": null,
      "outputs": [
        {
          "output_type": "display_data",
          "data": {
            "image/png": "[encoded data removed]",
            "text/plain": [
              "<Figure size 432x288 with 1 Axes>"
            ]
          },
          "metadata": {
            "tags": [],
            "needs_background": "light"
          }
        }
      ]
    },
    {
      "cell_type": "markdown",
      "metadata": {
        "id": "EdQiAgDJhRoT"
      },
      "source": [
        "## 7.Cross validation\n",
        "The standard way to do a hyperparameter tuning is through cross validation. We need to make sure that our model has a has a good generalisation power and performs well on unseen data. Therefore we have to keep 3 different sets of data: training set, validation set and test set."
      ]
    },
    {
      "cell_type": "code",
      "metadata": {
        "id": "pqqLhvZfhRoU",
        "outputId": "888c2f27-3e56-4e28-9480-603f3b3a483a"
      },
      "source": [
        "# we use ridge regression with built in cross validation\n",
        "# by default sklearn does leave-one-out cross validation\n",
        "from sklearn.linear_model import RidgeCV\n",
        "ridge = RidgeCV(fit_intercept=False)\n",
        "ridge.fit(X_train, y_train)"
      ],
      "execution_count": null,
      "outputs": [
        {
          "output_type": "execute_result",
          "data": {
            "text/plain": [
              "RidgeCV(alphas=array([ 0.1,  1. , 10. ]), cv=None, fit_intercept=False,\n",
              "        gcv_mode=None, normalize=False, scoring=None, store_cv_values=False)"
            ]
          },
          "metadata": {
            "tags": []
          },
          "execution_count": 46
        }
      ]
    },
    {
      "cell_type": "code",
      "metadata": {
        "id": "xS6OJjuYhRoV",
        "outputId": "a784dbad-748d-4ef1-e1fd-2558490a66ae"
      },
      "source": [
        "ridge.coef_"
      ],
      "execution_count": null,
      "outputs": [
        {
          "output_type": "execute_result",
          "data": {
            "text/plain": [
              "array([ 5.06529585e+00,  5.01051568e-02,  4.40403046e-02, -1.04156265e-04,\n",
              "        1.01812978e-03,  7.66334643e-05])"
            ]
          },
          "metadata": {
            "tags": []
          },
          "execution_count": 47
        }
      ]
    },
    {
      "cell_type": "code",
      "metadata": {
        "id": "4nsvxMmWhRoX",
        "outputId": "7b389805-84f5-44a2-b28c-da7c82db8430"
      },
      "source": [
        "# best regularizer\n",
        "ridge.alpha_"
      ],
      "execution_count": null,
      "outputs": [
        {
          "output_type": "execute_result",
          "data": {
            "text/plain": [
              "0.1"
            ]
          },
          "metadata": {
            "tags": []
          },
          "execution_count": 48
        }
      ]
    },
    {
      "cell_type": "markdown",
      "metadata": {
        "id": "896_8byphRoa"
      },
      "source": [
        "## Complementary material\n",
        "### General closed form solution to linear regression:\n",
        "\n",
        "In Linear regression we want to find the weights (parameters) that minimize the mean squared error which can be written in the form: $\\frac{1}{n} (X\\omega - y)^{\\top}(X\\omega -y)$, where $X, y, \\omega$ are data matrix, outputs and weights respectively. By taking a derivative w.r.t $\\omega$ we can find the closed form solution: $\\omega = (X^{\\top}X)^{-1}X^{\\top}y$"
      ]
    },
    {
      "cell_type": "code",
      "metadata": {
        "id": "FCQBKFn8hRoa",
        "outputId": "178a9502-eb37-4d9c-8d01-2cf35378ed17"
      },
      "source": [
        "#let's solve the equation to find w\n",
        "A = X.T.dot(X)\n",
        "B = X.T.dot(y)\n",
        "#use numpy to solve a linear system of equations\n",
        "w = np.linalg.solve(A, B)\n",
        "print(w)"
      ],
      "execution_count": null,
      "outputs": [
        {
          "output_type": "stream",
          "text": [
            "[ 260.10635737   78.68320945]\n"
          ],
          "name": "stdout"
        }
      ]
    },
    {
      "cell_type": "code",
      "metadata": {
        "id": "A0-iv3v1hRoc",
        "outputId": "a413e493-2f20-4b41-e3ad-811f0bdf9f34"
      },
      "source": [
        "# compare the result with sklearn\n",
        "LR = LinearRegression(fit_intercept=False)\n",
        "LR.fit(X, y)\n",
        "LR.coef_"
      ],
      "execution_count": null,
      "outputs": [
        {
          "output_type": "execute_result",
          "data": {
            "text/plain": [
              "array([ 260.10635737,   78.68320945])"
            ]
          },
          "metadata": {
            "tags": []
          },
          "execution_count": 520
        }
      ]
    }
  ]
}